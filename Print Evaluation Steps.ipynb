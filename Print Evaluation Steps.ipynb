{
 "cells": [
  {
   "cell_type": "markdown",
   "metadata": {},
   "source": [
    "# Demo - Print Evaluation Steps\n",
    "\n",
    "The macro `@print_eval_steps` can evaluate an expression step-by-step and print out all the intermediate steps."
   ]
  },
  {
   "cell_type": "markdown",
   "metadata": {},
   "source": [
    "## Definition"
   ]
  },
  {
   "cell_type": "code",
   "execution_count": 1,
   "metadata": {},
   "outputs": [
    {
     "data": {
      "text/plain": [
       "@print_eval_steps (macro with 1 method)"
      ]
     },
     "execution_count": 1,
     "metadata": {},
     "output_type": "execute_result"
    }
   ],
   "source": [
    "macro print_eval_steps(expr)\n",
    "    initial_expr = expr\n",
    "    counter = 1\n",
    "    \n",
    "    println(\"Initial: $expr\")\n",
    "    \n",
    "    while typeof(expr) == Expr\n",
    "        expr = eval_next_step(expr)\n",
    "        println(\"Step $counter: $expr\")\n",
    "        counter += 1\n",
    "    end\n",
    "    \n",
    "    println(\"Result: $initial_expr evaluates to $expr\")\n",
    "end"
   ]
  },
  {
   "cell_type": "code",
   "execution_count": 2,
   "metadata": {},
   "outputs": [
    {
     "data": {
      "text/plain": [
       "eval_next_step (generic function with 2 methods)"
      ]
     },
     "execution_count": 2,
     "metadata": {},
     "output_type": "execute_result"
    }
   ],
   "source": [
    "function eval_next_step(expr::Expr)\n",
    "    if expr.head ∈ (:call, :.)\n",
    "        for (i, arg) in enumerate(expr.args)\n",
    "            if typeof(arg) == Expr\n",
    "                return Expr(expr.head, replace_value(expr.args, eval_next_step(arg), i)...)\n",
    "            end\n",
    "        end\n",
    "    end\n",
    "\n",
    "    return eval(expr)\n",
    "end\n",
    "\n",
    "eval_next_step(others) = others"
   ]
  },
  {
   "cell_type": "code",
   "execution_count": 3,
   "metadata": {},
   "outputs": [
    {
     "data": {
      "text/plain": [
       "replace_value (generic function with 1 method)"
      ]
     },
     "execution_count": 3,
     "metadata": {},
     "output_type": "execute_result"
    }
   ],
   "source": [
    "replace_value(v::Vector, value, index::Int) = [(i == index ? value : v[i]) for i in 1:length(v)]"
   ]
  },
  {
   "cell_type": "markdown",
   "metadata": {},
   "source": [
    "## Examples\n",
    "\n",
    "Here are some example expression that the macro can work on."
   ]
  },
  {
   "cell_type": "code",
   "execution_count": 4,
   "metadata": {
    "scrolled": true
   },
   "outputs": [
    {
     "name": "stdout",
     "output_type": "stream",
     "text": [
      "Initial: 4 + 5 * 6 + 2 ÷ 2\n",
      "Step 1: 4 + 30 + 2 ÷ 2\n",
      "Step 2: 4 + 30 + 1\n",
      "Step 3: 35\n",
      "Result: 4 + 5 * 6 + 2 ÷ 2 evaluates to 35\n"
     ]
    }
   ],
   "source": [
    "@print_eval_steps 4 + 5 * 6 + 2 ÷ 2"
   ]
  },
  {
   "cell_type": "code",
   "execution_count": 5,
   "metadata": {},
   "outputs": [
    {
     "name": "stdout",
     "output_type": "stream",
     "text": [
      "Initial: sin((1 + sqrt(5)) / 2)\n",
      "Step 1: sin((1 + 2.23606797749979) / 2)\n",
      "Step 2: sin(3.23606797749979 / 2)\n",
      "Step 3: sin(1.618033988749895)\n",
      "Step 4: 0.9988845090948848\n",
      "Result: sin((1 + sqrt(5)) / 2) evaluates to 0.9988845090948848\n"
     ]
    }
   ],
   "source": [
    "@print_eval_steps sin((1 + sqrt(5)) / 2)"
   ]
  }
 ],
 "metadata": {
  "hide_input": false,
  "kernelspec": {
   "display_name": "Julia 0.6.2",
   "language": "julia",
   "name": "julia-0.6"
  },
  "language_info": {
   "file_extension": ".jl",
   "mimetype": "application/julia",
   "name": "julia",
   "version": "0.6.2"
  },
  "toc": {
   "nav_menu": {},
   "number_sections": true,
   "sideBar": true,
   "skip_h1_title": false,
   "title_cell": "Table of Contents",
   "title_sidebar": "Contents",
   "toc_cell": false,
   "toc_position": {},
   "toc_section_display": true,
   "toc_window_display": false
  }
 },
 "nbformat": 4,
 "nbformat_minor": 2
}
