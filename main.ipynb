{
 "cells": [
  {
   "cell_type": "markdown",
   "metadata": {
    "slideshow": {
     "slide_type": "slide"
    }
   },
   "source": [
    "<div style=\"text-align: center\">\n",
    "    <img style=\"display: inline-block; height:144px; vertical-align:middle\" src=\"img/shaowei.jpeg\" alt=\"ShaoWei\" />\n",
    "    <img style=\"display: inline-block; height:144px; vertical-align:middle\" src=\"img/heart.png\" alt=\"❤️\" />\n",
    "    <img style=\"display: inline-block; height:144px; vertical-align:middle\" src=\"img/julia.png\" alt=\"Julia\" />\n",
    "    <img style=\"display: inline-block; height:144px; vertical-align:middle\" src=\"img/Meme-like-a-boss.jpg\" alt=\"like a bozz\" />\n",
    "</div>"
   ]
  },
  {
   "cell_type": "markdown",
   "metadata": {
    "slideshow": {
     "slide_type": "fragment"
    }
   },
   "source": [
    "<div style=\"font-size:48px; text-align: center\">\n",
    "Walk Like Python; Run Like C\n",
    "</div>"
   ]
  },
  {
   "cell_type": "markdown",
   "metadata": {
    "slideshow": {
     "slide_type": "slide"
    }
   },
   "source": [
    "## Easy to write what I meant"
   ]
  },
  {
   "cell_type": "markdown",
   "metadata": {
    "slideshow": {
     "slide_type": "subslide"
    }
   },
   "source": [
    "Julia expressions are evaluated on-the-fly, like interpreted languages."
   ]
  },
  {
   "cell_type": "code",
   "execution_count": 1,
   "metadata": {
    "scrolled": true,
    "slideshow": {
     "slide_type": "fragment"
    }
   },
   "outputs": [
    {
     "name": "stdout",
     "output_type": "stream",
     "text": [
      "Hello, World!\n"
     ]
    }
   ],
   "source": [
    "println(\"Hello, World!\")"
   ]
  },
  {
   "cell_type": "markdown",
   "metadata": {
    "slideshow": {
     "slide_type": "subslide"
    }
   },
   "source": [
    "String interpolation works."
   ]
  },
  {
   "cell_type": "code",
   "execution_count": 2,
   "metadata": {
    "slideshow": {
     "slide_type": "fragment"
    }
   },
   "outputs": [
    {
     "name": "stdout",
     "output_type": "stream",
     "text": [
      "Hello, we are ESTL!\n"
     ]
    }
   ],
   "source": [
    "who_we_are = \"MOE ESTL\"\n",
    "println(\"Hello, we are $(who_we_are[5:end])!\")"
   ]
  },
  {
   "cell_type": "markdown",
   "metadata": {
    "slideshow": {
     "slide_type": "subslide"
    }
   },
   "source": [
    "Functions are JIT compiled. Typing is optional."
   ]
  },
  {
   "cell_type": "code",
   "execution_count": 3,
   "metadata": {
    "slideshow": {
     "slide_type": "fragment"
    }
   },
   "outputs": [
    {
     "data": {
      "text/plain": [
       "double (generic function with 1 method)"
      ]
     },
     "execution_count": 3,
     "metadata": {},
     "output_type": "execute_result"
    }
   ],
   "source": [
    "function double(x)\n",
    "    return 2x\n",
    "end"
   ]
  },
  {
   "cell_type": "code",
   "execution_count": 4,
   "metadata": {
    "scrolled": true,
    "slideshow": {
     "slide_type": "fragment"
    }
   },
   "outputs": [
    {
     "data": {
      "text/plain": [
       "double (generic function with 1 method)"
      ]
     },
     "execution_count": 4,
     "metadata": {},
     "output_type": "execute_result"
    }
   ],
   "source": [
    "# Equivalently\n",
    "double(x) = 2x"
   ]
  },
  {
   "cell_type": "markdown",
   "metadata": {
    "slideshow": {
     "slide_type": "fragment"
    }
   },
   "source": [
    "Functions can also be overloaded using specialisation."
   ]
  },
  {
   "cell_type": "code",
   "execution_count": 5,
   "metadata": {
    "slideshow": {
     "slide_type": "fragment"
    }
   },
   "outputs": [
    {
     "data": {
      "text/plain": [
       "double (generic function with 2 methods)"
      ]
     },
     "execution_count": 5,
     "metadata": {},
     "output_type": "execute_result"
    }
   ],
   "source": [
    "double(s::Vector) = [s; s]"
   ]
  },
  {
   "cell_type": "code",
   "execution_count": 6,
   "metadata": {
    "slideshow": {
     "slide_type": "fragment"
    }
   },
   "outputs": [
    {
     "name": "stdout",
     "output_type": "stream",
     "text": [
      "double(5) = 10\n",
      "double(5.0) = 10.0\n",
      "double([4, 5, 6]) = [4, 5, 6, 4, 5, 6]\n"
     ]
    },
    {
     "ename": "LoadError",
     "evalue": "\u001b[91mMethodError: no method matching *(::Int64, ::String)\u001b[0m\nClosest candidates are:\n  *(::Any, ::Any, \u001b[91m::Any\u001b[39m, \u001b[91m::Any...\u001b[39m) at operators.jl:424\n  *(::Real, \u001b[91m::Complex{Bool}\u001b[39m) at complex.jl:254\n  *(::Real, \u001b[91m::Complex\u001b[39m) at complex.jl:266\n  ...\u001b[39m",
     "output_type": "error",
     "traceback": [
      "\u001b[91mMethodError: no method matching *(::Int64, ::String)\u001b[0m\nClosest candidates are:\n  *(::Any, ::Any, \u001b[91m::Any\u001b[39m, \u001b[91m::Any...\u001b[39m) at operators.jl:424\n  *(::Real, \u001b[91m::Complex{Bool}\u001b[39m) at complex.jl:254\n  *(::Real, \u001b[91m::Complex\u001b[39m) at complex.jl:266\n  ...\u001b[39m",
      "",
      "Stacktrace:",
      " [1] \u001b[1mdouble\u001b[22m\u001b[22m\u001b[1m(\u001b[22m\u001b[22m::String\u001b[1m)\u001b[22m\u001b[22m at \u001b[1m./In[4]:2\u001b[22m\u001b[22m",
      " [2] \u001b[1minclude_string\u001b[22m\u001b[22m\u001b[1m(\u001b[22m\u001b[22m::String, ::String\u001b[1m)\u001b[22m\u001b[22m at \u001b[1m./loading.jl:522\u001b[22m\u001b[22m"
     ]
    }
   ],
   "source": [
    "@show double(5)\n",
    "@show double(5.0)\n",
    "@show double([4, 5, 6])\n",
    "@show double(\"dragon\")"
   ]
  },
  {
   "cell_type": "markdown",
   "metadata": {
    "slideshow": {
     "slide_type": "subslide"
    }
   },
   "source": [
    "Let's see what happened if we define a function without a catch-all version."
   ]
  },
  {
   "cell_type": "code",
   "execution_count": 7,
   "metadata": {
    "slideshow": {
     "slide_type": "fragment"
    }
   },
   "outputs": [
    {
     "data": {
      "text/plain": [
       "echo (generic function with 1 method)"
      ]
     },
     "execution_count": 7,
     "metadata": {},
     "output_type": "execute_result"
    }
   ],
   "source": [
    "echo(s::String) = (s * \"!\")^3"
   ]
  },
  {
   "cell_type": "code",
   "execution_count": 8,
   "metadata": {
    "scrolled": true,
    "slideshow": {
     "slide_type": "fragment"
    }
   },
   "outputs": [
    {
     "name": "stdout",
     "output_type": "stream",
     "text": [
      "echo(\"slam\") = \"slam!slam!slam!\"\n",
      "echo(\"8\") = \"8!8!8!\"\n"
     ]
    },
    {
     "ename": "LoadError",
     "evalue": "\u001b[91mMethodError: no method matching echo(::Symbol)\u001b[0m\nClosest candidates are:\n  echo(\u001b[91m::String\u001b[39m) at In[7]:1\u001b[39m",
     "output_type": "error",
     "traceback": [
      "\u001b[91mMethodError: no method matching echo(::Symbol)\u001b[0m\nClosest candidates are:\n  echo(\u001b[91m::String\u001b[39m) at In[7]:1\u001b[39m",
      "",
      "Stacktrace:",
      " [1] \u001b[1minclude_string\u001b[22m\u001b[22m\u001b[1m(\u001b[22m\u001b[22m::String, ::String\u001b[1m)\u001b[22m\u001b[22m at \u001b[1m./loading.jl:522\u001b[22m\u001b[22m"
     ]
    }
   ],
   "source": [
    "@show echo(\"slam\")\n",
    "@show echo(\"8\")\n",
    "@show echo(:slam)"
   ]
  },
  {
   "cell_type": "markdown",
   "metadata": {
    "slideshow": {
     "slide_type": "fragment"
    }
   },
   "source": [
    "---"
   ]
  },
  {
   "cell_type": "markdown",
   "metadata": {
    "slideshow": {
     "slide_type": "slide"
    }
   },
   "source": [
    "## Have C and Python binding"
   ]
  },
  {
   "cell_type": "markdown",
   "metadata": {
    "slideshow": {
     "slide_type": "subslide"
    }
   },
   "source": [
    "Interfacing with shared libraries written in C is straightforward. For example, say we have a `libhello.so` created from [hello.c](hello.c)."
   ]
  },
  {
   "cell_type": "code",
   "execution_count": 9,
   "metadata": {
    "slideshow": {
     "slide_type": "fragment"
    }
   },
   "outputs": [
    {
     "name": "stdout",
     "output_type": "stream",
     "text": [
      "Hello, Moto!\n"
     ]
    }
   ],
   "source": [
    "ccall((:hello, \"libhello.so\"), Void, (Cstring,), \"Moto\")"
   ]
  },
  {
   "cell_type": "markdown",
   "metadata": {
    "slideshow": {
     "slide_type": "fragment"
    }
   },
   "source": [
    "Calling Julia functions from C can be done by including `julia.h` that can be found inside the Julia installation (hereby handwaved as it's outside the scope of this sharing)."
   ]
  },
  {
   "cell_type": "markdown",
   "metadata": {
    "slideshow": {
     "slide_type": "subslide"
    }
   },
   "source": [
    "Julia can call Python objects using the `PyCall.jl` library."
   ]
  },
  {
   "cell_type": "code",
   "execution_count": 10,
   "metadata": {
    "collapsed": true,
    "slideshow": {
     "slide_type": "fragment"
    }
   },
   "outputs": [],
   "source": [
    "using PyCall"
   ]
  },
  {
   "cell_type": "code",
   "execution_count": 11,
   "metadata": {
    "scrolled": true,
    "slideshow": {
     "slide_type": "fragment"
    }
   },
   "outputs": [
    {
     "data": {
      "text/plain": [
       "4-element Array{Int64,1}:\n",
       " 2\n",
       " 4\n",
       " 6\n",
       " 8"
      ]
     },
     "execution_count": 11,
     "metadata": {},
     "output_type": "execute_result"
    }
   ],
   "source": [
    "py\"map(lambda x: 2 * x, [1, 2, 3, 4])\""
   ]
  },
  {
   "cell_type": "code",
   "execution_count": 12,
   "metadata": {
    "slideshow": {
     "slide_type": "fragment"
    }
   },
   "outputs": [
    {
     "data": {
      "text/plain": [
       "4-element Array{Int64,1}:\n",
       " 2\n",
       " 4\n",
       " 6\n",
       " 8"
      ]
     },
     "execution_count": 12,
     "metadata": {},
     "output_type": "execute_result"
    }
   ],
   "source": [
    "@pycall PyObject(map)(x -> 2x, [1, 2, 3, 4])::Vector{Int}"
   ]
  },
  {
   "cell_type": "markdown",
   "metadata": {
    "slideshow": {
     "slide_type": "fragment"
    }
   },
   "source": [
    "Calling Julia functions from Python can be done using the Python library `PyJulia` (hereby handwaved again as it's outside the scope of this sharing)."
   ]
  },
  {
   "cell_type": "markdown",
   "metadata": {
    "slideshow": {
     "slide_type": "fragment"
    }
   },
   "source": [
    "---"
   ]
  },
  {
   "cell_type": "markdown",
   "metadata": {
    "slideshow": {
     "slide_type": "slide"
    }
   },
   "source": [
    "## Can pop open the hood"
   ]
  },
  {
   "cell_type": "markdown",
   "metadata": {
    "slideshow": {
     "slide_type": "subslide"
    }
   },
   "source": [
    "Methods introspection - See intermediate and compiled representations."
   ]
  },
  {
   "cell_type": "code",
   "execution_count": 13,
   "metadata": {
    "slideshow": {
     "slide_type": "fragment"
    }
   },
   "outputs": [
    {
     "data": {
      "text/html": [
       "2 methods for generic function <b>double</b>:<ul><li> double(s::<b>Array{T,1} where T</b>) at In[5]:1</li> <li> double(x) at In[4]:2</li> </ul>"
      ],
      "text/plain": [
       "# 2 methods for generic function \"double\":\n",
       "double(s::Array{T,1} where T) in Main at In[5]:1\n",
       "double(x) in Main at In[4]:2"
      ]
     },
     "execution_count": 13,
     "metadata": {},
     "output_type": "execute_result"
    }
   ],
   "source": [
    "methods(double)"
   ]
  },
  {
   "cell_type": "code",
   "execution_count": 14,
   "metadata": {
    "slideshow": {
     "slide_type": "fragment"
    }
   },
   "outputs": [
    {
     "data": {
      "text/plain": [
       "CodeInfo(:(begin \n",
       "        return (Base.mul_int)(2, x)::Int64\n",
       "    end))=>Int64"
      ]
     },
     "execution_count": 14,
     "metadata": {},
     "output_type": "execute_result"
    }
   ],
   "source": [
    "@code_typed double(5)"
   ]
  },
  {
   "cell_type": "code",
   "execution_count": 15,
   "metadata": {
    "slideshow": {
     "slide_type": "fragment"
    }
   },
   "outputs": [
    {
     "data": {
      "text/plain": [
       "CodeInfo(:(begin \n",
       "        return (Base.mul_float)((Base.sitofp)(Float64, 2)::Float64, x)::Float64\n",
       "    end))=>Float64"
      ]
     },
     "execution_count": 15,
     "metadata": {},
     "output_type": "execute_result"
    }
   ],
   "source": [
    "@code_typed double(5.0)"
   ]
  },
  {
   "cell_type": "code",
   "execution_count": 16,
   "metadata": {
    "slideshow": {
     "slide_type": "fragment"
    }
   },
   "outputs": [
    {
     "data": {
      "text/plain": [
       "CodeInfo(:(begin \n",
       "        return $(Expr(:invoke, MethodInstance for vcat(::Array{Int64,1}, ::Array{Int64,1}), :(Main.vcat), :(s), :(s)))\n",
       "    end))=>Array{Int64,1}"
      ]
     },
     "execution_count": 16,
     "metadata": {},
     "output_type": "execute_result"
    }
   ],
   "source": [
    "@code_typed double([4, 5, 6])"
   ]
  },
  {
   "cell_type": "code",
   "execution_count": 17,
   "metadata": {
    "scrolled": false,
    "slideshow": {
     "slide_type": "fragment"
    }
   },
   "outputs": [
    {
     "name": "stdout",
     "output_type": "stream",
     "text": [
      "\t.section\t__TEXT,__text,regular,pure_instructions\n",
      "Filename: In[4]\n",
      "\tpushq\t%rbp\n",
      "\tmovq\t%rsp, %rbp\n",
      "Source line: 2\n",
      "\tleaq\t(%rdi,%rdi), %rax\n",
      "\tpopq\t%rbp\n",
      "\tretq\n",
      "\tnopw\t(%rax,%rax)\n"
     ]
    }
   ],
   "source": [
    "@code_native double(5)"
   ]
  },
  {
   "cell_type": "code",
   "execution_count": 18,
   "metadata": {
    "scrolled": true,
    "slideshow": {
     "slide_type": "fragment"
    }
   },
   "outputs": [
    {
     "name": "stdout",
     "output_type": "stream",
     "text": [
      "\t.section\t__TEXT,__text,regular,pure_instructions\n",
      "Filename: In[4]\n",
      "\tpushq\t%rbp\n",
      "\tmovq\t%rsp, %rbp\n",
      "Source line: 2\n",
      "\taddsd\t%xmm0, %xmm0\n",
      "\tpopq\t%rbp\n",
      "\tretq\n",
      "\tnopw\t(%rax,%rax)\n"
     ]
    }
   ],
   "source": [
    "@code_native double(5.0)"
   ]
  },
  {
   "cell_type": "markdown",
   "metadata": {
    "slideshow": {
     "slide_type": "subslide"
    }
   },
   "source": [
    "Constant function calls in a function definition are run during compilation for speedups."
   ]
  },
  {
   "cell_type": "code",
   "execution_count": 19,
   "metadata": {
    "slideshow": {
     "slide_type": "fragment"
    }
   },
   "outputs": [
    {
     "data": {
      "text/plain": [
       "what (generic function with 1 method)"
      ]
     },
     "execution_count": 19,
     "metadata": {},
     "output_type": "execute_result"
    }
   ],
   "source": [
    "what(x) = double(5) + double(6) + x"
   ]
  },
  {
   "cell_type": "code",
   "execution_count": 20,
   "metadata": {
    "scrolled": true,
    "slideshow": {
     "slide_type": "fragment"
    }
   },
   "outputs": [
    {
     "name": "stdout",
     "output_type": "stream",
     "text": [
      "\t.section\t__TEXT,__text,regular,pure_instructions\n",
      "Filename: In[19]\n",
      "\tpushq\t%rbp\n",
      "\tmovq\t%rsp, %rbp\n",
      "Source line: 1\n",
      "\tleaq\t22(%rdi), %rax\n",
      "\tpopq\t%rbp\n",
      "\tretq\n",
      "\tnopw\t(%rax,%rax)\n"
     ]
    }
   ],
   "source": [
    "@code_native what(5566)"
   ]
  },
  {
   "cell_type": "markdown",
   "metadata": {
    "slideshow": {
     "slide_type": "subslide"
    }
   },
   "source": [
    "Example: Two ways to write the same function..."
   ]
  },
  {
   "cell_type": "code",
   "execution_count": 21,
   "metadata": {
    "cell_style": "split",
    "hide_input": false,
    "slideshow": {
     "slide_type": "fragment"
    }
   },
   "outputs": [
    {
     "data": {
      "text/plain": [
       "task_1 (generic function with 1 method)"
      ]
     },
     "execution_count": 21,
     "metadata": {},
     "output_type": "execute_result"
    }
   ],
   "source": [
    "function task_1()\n",
    "    result = 0\n",
    "    for i in 1:100000\n",
    "        result += 1/(i^2)\n",
    "    end\n",
    "    return result\n",
    "end"
   ]
  },
  {
   "cell_type": "code",
   "execution_count": 22,
   "metadata": {
    "cell_style": "split",
    "slideshow": {
     "slide_type": "-"
    }
   },
   "outputs": [
    {
     "data": {
      "text/plain": [
       "task_2 (generic function with 1 method)"
      ]
     },
     "execution_count": 22,
     "metadata": {},
     "output_type": "execute_result"
    }
   ],
   "source": [
    "function task_2()\n",
    "    result = 0.0\n",
    "    for i in 1:100000\n",
    "        result += 1/(i^2)\n",
    "    end\n",
    "    return result\n",
    "end"
   ]
  },
  {
   "cell_type": "markdown",
   "metadata": {
    "slideshow": {
     "slide_type": "fragment"
    }
   },
   "source": [
    "Let's time it"
   ]
  },
  {
   "cell_type": "code",
   "execution_count": 23,
   "metadata": {
    "cell_style": "split",
    "scrolled": true,
    "slideshow": {
     "slide_type": "-"
    }
   },
   "outputs": [
    {
     "name": "stdout",
     "output_type": "stream",
     "text": [
      "  0.006320 seconds (300.08 k allocations: 4.584 MiB)\n"
     ]
    },
    {
     "data": {
      "text/plain": [
       "1.6449240668982423"
      ]
     },
     "execution_count": 23,
     "metadata": {},
     "output_type": "execute_result"
    }
   ],
   "source": [
    "task_1() #First time is to compile the method once.\n",
    "@time task_1()"
   ]
  },
  {
   "cell_type": "code",
   "execution_count": 24,
   "metadata": {
    "cell_style": "split",
    "scrolled": false,
    "slideshow": {
     "slide_type": "-"
    }
   },
   "outputs": [
    {
     "name": "stdout",
     "output_type": "stream",
     "text": [
      "  0.000415 seconds (5 allocations: 176 bytes)\n"
     ]
    },
    {
     "data": {
      "text/plain": [
       "1.6449240668982423"
      ]
     },
     "execution_count": 24,
     "metadata": {},
     "output_type": "execute_result"
    }
   ],
   "source": [
    "task_2() #First time is to compile the method once.\n",
    "@time task_2()"
   ]
  },
  {
   "cell_type": "markdown",
   "metadata": {
    "slideshow": {
     "slide_type": "fragment"
    }
   },
   "source": [
    "What happened?"
   ]
  },
  {
   "cell_type": "code",
   "execution_count": 25,
   "metadata": {
    "cell_style": "split",
    "scrolled": false,
    "slideshow": {
     "slide_type": "-"
    }
   },
   "outputs": [
    {
     "name": "stdout",
     "output_type": "stream",
     "text": [
      "Variables:\n",
      "  #self# <optimized out>\n",
      "  i::Int64\n",
      "  #temp#@_3::Int64\n",
      "  result\u001b[1m\u001b[91m::Union{Float64, Int64}\u001b[39m\u001b[22m\n",
      "  #temp#@_5::Core.MethodInstance\n",
      "  #temp#@_6::Float64\n",
      "\n",
      "Body:\n",
      "  begin \n",
      "      result\u001b[1m\u001b[91m::Union{Float64, Int64}\u001b[39m\u001b[22m = 0 # line 3:\n",
      "      SSAValue(2) = (Base.select_value)((Base.sle_int)(1, 100000)::Bool, 100000, (Base.sub_int)(1, 1)::Int64)::Int64\n",
      "      #temp#@_3::Int64 = 1\n",
      "      5: \n",
      "      unless (Base.not_int)((#temp#@_3::Int64 === (Base.add_int)(SSAValue(2), 1)::Int64)::Bool)::Bool goto 30\n",
      "      SSAValue(3) = #temp#@_3::Int64\n",
      "      SSAValue(4) = (Base.add_int)(#temp#@_3::Int64, 1)::Int64\n",
      "      i::Int64 = SSAValue(3)\n",
      "      #temp#@_3::Int64 = SSAValue(4) # line 4:\n",
      "      unless (result\u001b[1m\u001b[91m::Union{Float64, Int64}\u001b[39m\u001b[22m isa Int64)::Bool goto 15\n",
      "      #temp#@_5::Core.MethodInstance = MethodInstance for +(::Int64, ::Float64)\n",
      "      goto 24\n",
      "      15: \n",
      "      unless (result\u001b[1m\u001b[91m::Union{Float64, Int64}\u001b[39m\u001b[22m isa Float64)::Bool goto 19\n",
      "      #temp#@_5::Core.MethodInstance = MethodInstance for +(::Float64, ::Float64)\n",
      "      goto 24\n",
      "      19: \n",
      "      goto 21\n",
      "      21: \n",
      "      #temp#@_6::Float64 = (result\u001b[1m\u001b[91m::Union{Float64, Int64}\u001b[39m\u001b[22m + (Base.div_float)((Base.sitofp)(Float64, 1)::Float64, (Base.sitofp)(Float64, (Base.mul_int)(i::Int64, i::Int64)::Int64)::Float64)::Float64)::Float64\n",
      "      goto 26\n",
      "      24: \n",
      "      #temp#@_6::Float64 = $(Expr(:invoke, :(#temp#@_5), :(Main.+), :(result), :((Base.div_float)((Base.sitofp)(Float64, 1)::Float64, (Base.sitofp)(Float64, (Base.mul_int)(i, i)::Int64)::Float64)::Float64)))\n",
      "      26: \n",
      "      result\u001b[1m\u001b[91m::Union{Float64, Int64}\u001b[39m\u001b[22m = #temp#@_6::Float64\n",
      "      28: \n",
      "      goto 5\n",
      "      30:  # line 6:\n",
      "      return result\u001b[1m\u001b[91m::Union{Float64, Int64}\u001b[39m\u001b[22m\n",
      "  end\u001b[1m\u001b[91m::Union{Float64, Int64}\u001b[39m\u001b[22m\n"
     ]
    }
   ],
   "source": [
    "@code_warntype task_1()"
   ]
  },
  {
   "cell_type": "code",
   "execution_count": 26,
   "metadata": {
    "cell_style": "split",
    "slideshow": {
     "slide_type": "-"
    }
   },
   "outputs": [
    {
     "name": "stdout",
     "output_type": "stream",
     "text": [
      "Variables:\n",
      "  #self# <optimized out>\n",
      "  i::Int64\n",
      "  #temp#::Int64\n",
      "  result::Float64\n",
      "\n",
      "Body:\n",
      "  begin \n",
      "      result::Float64 = 0.0 # line 3:\n",
      "      SSAValue(2) = (Base.select_value)((Base.sle_int)(1, 100000)::Bool, 100000, (Base.sub_int)(1, 1)::Int64)::Int64\n",
      "      #temp#::Int64 = 1\n",
      "      5: \n",
      "      unless (Base.not_int)((#temp#::Int64 === (Base.add_int)(SSAValue(2), 1)::Int64)::Bool)::Bool goto 15\n",
      "      SSAValue(3) = #temp#::Int64\n",
      "      SSAValue(4) = (Base.add_int)(#temp#::Int64, 1)::Int64\n",
      "      i::Int64 = SSAValue(3)\n",
      "      #temp#::Int64 = SSAValue(4) # line 4:\n",
      "      result::Float64 = (Base.add_float)(result::Float64, (Base.div_float)((Base.sitofp)(Float64, 1)::Float64, (Base.sitofp)(Float64, (Base.mul_int)(i::Int64, i::Int64)::Int64)::Float64)::Float64)::Float64\n",
      "      13: \n",
      "      goto 5\n",
      "      15:  # line 6:\n",
      "      return result::Float64\n",
      "  end::Float64\n"
     ]
    }
   ],
   "source": [
    "@code_warntype task_2()"
   ]
  },
  {
   "cell_type": "markdown",
   "metadata": {
    "slideshow": {
     "slide_type": "subslide"
    }
   },
   "source": [
    "Type introspection - work with the relationship between types."
   ]
  },
  {
   "cell_type": "code",
   "execution_count": 27,
   "metadata": {
    "slideshow": {
     "slide_type": "fragment"
    }
   },
   "outputs": [
    {
     "data": {
      "text/plain": [
       "Int64"
      ]
     },
     "execution_count": 27,
     "metadata": {},
     "output_type": "execute_result"
    }
   ],
   "source": [
    "typeof(5)"
   ]
  },
  {
   "cell_type": "code",
   "execution_count": 28,
   "metadata": {
    "slideshow": {
     "slide_type": "fragment"
    }
   },
   "outputs": [
    {
     "data": {
      "text/plain": [
       "true"
      ]
     },
     "execution_count": 28,
     "metadata": {},
     "output_type": "execute_result"
    }
   ],
   "source": [
    "Int64 <: Integer"
   ]
  },
  {
   "cell_type": "code",
   "execution_count": 29,
   "metadata": {
    "slideshow": {
     "slide_type": "fragment"
    }
   },
   "outputs": [
    {
     "data": {
      "text/plain": [
       "is_an_integer (generic function with 2 methods)"
      ]
     },
     "execution_count": 29,
     "metadata": {},
     "output_type": "execute_result"
    }
   ],
   "source": [
    "is_an_integer(x::Integer) = true\n",
    "is_an_integer(x) = false"
   ]
  },
  {
   "cell_type": "code",
   "execution_count": 30,
   "metadata": {
    "slideshow": {
     "slide_type": "fragment"
    }
   },
   "outputs": [
    {
     "name": "stdout",
     "output_type": "stream",
     "text": [
      "is_an_integer(5) = true\n",
      "is_an_integer(5.0) = false\n"
     ]
    },
    {
     "data": {
      "text/plain": [
       "false"
      ]
     },
     "execution_count": 30,
     "metadata": {},
     "output_type": "execute_result"
    }
   ],
   "source": [
    "@show is_an_integer(5)\n",
    "@show is_an_integer(5.0)"
   ]
  },
  {
   "cell_type": "markdown",
   "metadata": {
    "slideshow": {
     "slide_type": "subslide"
    }
   },
   "source": [
    "Strong reflection makes it easy and fast to implement much of Julia in Julia."
   ]
  },
  {
   "cell_type": "code",
   "execution_count": 31,
   "metadata": {
    "slideshow": {
     "slide_type": "fragment"
    }
   },
   "outputs": [
    {
     "data": {
      "text/plain": [
       "is_type (generic function with 2 methods)"
      ]
     },
     "execution_count": 31,
     "metadata": {},
     "output_type": "execute_result"
    }
   ],
   "source": [
    "is_type{T}(x::T, t::Type{T}) = true\n",
    "is_type(x, t) = false"
   ]
  },
  {
   "cell_type": "code",
   "execution_count": 32,
   "metadata": {
    "scrolled": true,
    "slideshow": {
     "slide_type": "fragment"
    }
   },
   "outputs": [
    {
     "name": "stdout",
     "output_type": "stream",
     "text": [
      "is_type(5.0, Float64) = true\n",
      "is_type(5, Int) = true\n",
      "is_type(5, String) = false\n",
      "is_type(is_type, Function) = true\n"
     ]
    },
    {
     "data": {
      "text/plain": [
       "true"
      ]
     },
     "execution_count": 32,
     "metadata": {},
     "output_type": "execute_result"
    }
   ],
   "source": [
    "@show is_type(5.0, Float64)\n",
    "@show is_type(5, Int)\n",
    "@show is_type(5, String)\n",
    "@show is_type(is_type, Function)"
   ]
  },
  {
   "cell_type": "markdown",
   "metadata": {
    "slideshow": {
     "slide_type": "subslide"
    }
   },
   "source": [
    "Reflection"
   ]
  },
  {
   "cell_type": "code",
   "execution_count": 33,
   "metadata": {
    "slideshow": {
     "slide_type": "fragment"
    }
   },
   "outputs": [
    {
     "name": "stdout",
     "output_type": "stream",
     "text": [
      "double(6) = 12\n",
      "double(7.5) = 15.0\n"
     ]
    },
    {
     "data": {
      "text/plain": [
       "15.0"
      ]
     },
     "execution_count": 33,
     "metadata": {},
     "output_type": "execute_result"
    }
   ],
   "source": [
    "@show double(6)\n",
    "@show double(7.5)"
   ]
  },
  {
   "cell_type": "code",
   "execution_count": 34,
   "metadata": {
    "scrolled": true,
    "slideshow": {
     "slide_type": "fragment"
    }
   },
   "outputs": [
    {
     "name": "stdout",
     "output_type": "stream",
     "text": [
      "Function to run: STDIN> double\n",
      "what's the numerical value: STDIN> 6\n",
      "what's the value's type: STDIN> Int64\n"
     ]
    },
    {
     "data": {
      "text/plain": [
       "12"
      ]
     },
     "execution_count": 34,
     "metadata": {},
     "output_type": "execute_result"
    }
   ],
   "source": [
    "input(text::String) = (print(\"$(text): \"); return readline())\n",
    "\n",
    "function run_function_on_demand()\n",
    "    f = Symbol(input(\"Function to run\"))\n",
    "    v = input(\"what's the numerical value\")\n",
    "    t = Symbol(input(\"what's the value's type\"))\n",
    "    eval(:($f(parse($t, $v))))\n",
    "end\n",
    "\n",
    "run_function_on_demand()"
   ]
  },
  {
   "cell_type": "markdown",
   "metadata": {
    "slideshow": {
     "slide_type": "fragment"
    }
   },
   "source": [
    "---"
   ]
  },
  {
   "cell_type": "markdown",
   "metadata": {
    "slideshow": {
     "slide_type": "slide"
    }
   },
   "source": [
    "## Malleable and expressive"
   ]
  },
  {
   "cell_type": "markdown",
   "metadata": {
    "slideshow": {
     "slide_type": "subslide"
    }
   },
   "source": [
    "Here's an integer that keep track of it's derivation, otherwise known as Big Shaq Integer (`BSInt`)."
   ]
  },
  {
   "cell_type": "code",
   "execution_count": 35,
   "metadata": {
    "collapsed": true,
    "slideshow": {
     "slide_type": "fragment"
    }
   },
   "outputs": [],
   "source": [
    "struct BSInt\n",
    "    value::Int\n",
    "    history::String\n",
    "end"
   ]
  },
  {
   "cell_type": "code",
   "execution_count": 36,
   "metadata": {
    "collapsed": true,
    "hide_input": false,
    "slideshow": {
     "slide_type": "fragment"
    }
   },
   "outputs": [],
   "source": [
    "BSInt(value::Int) = BSInt(value, \"$value\")\n",
    "\n",
    "Base.:+(x::BSInt, y::BSInt) = Base.:+(x, y.value)\n",
    "function Base.:+(x::BSInt, y::Int)\n",
    "    value = x.value + y\n",
    "    history = \"$(x.history) plus $y is $value\"\n",
    "    return BSInt(value, history)\n",
    "end\n",
    "\n",
    "Base.:-(x::BSInt, y::BSInt) = Base.:-(x, y.value)\n",
    "function Base.:-(x::BSInt, y::Int)\n",
    "    value = x.value - y\n",
    "    history = \"$(x.history) minus $y that's $value\"\n",
    "    return BSInt(value, history)\n",
    "end\n",
    "\n",
    "Base.show(io::IO, x::BSInt) = show(io, \"$(x.history), quick maffs.\")"
   ]
  },
  {
   "cell_type": "code",
   "execution_count": 37,
   "metadata": {
    "slideshow": {
     "slide_type": "fragment"
    }
   },
   "outputs": [
    {
     "data": {
      "text/plain": [
       "\"2 plus 2 is 4 minus 1 that's 3, quick maffs.\""
      ]
     },
     "execution_count": 37,
     "metadata": {},
     "output_type": "execute_result"
    }
   ],
   "source": [
    "two = BSInt(2)\n",
    "two + two - 1"
   ]
  },
  {
   "cell_type": "code",
   "execution_count": 38,
   "metadata": {
    "slideshow": {
     "slide_type": "subslide"
    }
   },
   "outputs": [
    {
     "name": "stdout",
     "output_type": "stream",
     "text": [
      "v[1] = 2\n",
      "v[2] = 4\n",
      "v = [2, 100, 6, 8, 10]\n"
     ]
    }
   ],
   "source": [
    "v = [2, 4, 6, 8, 10]\n",
    "@show v[1]\n",
    "@show v[2]\n",
    "v[2] = 100\n",
    "@show v;"
   ]
  },
  {
   "cell_type": "markdown",
   "metadata": {
    "slideshow": {
     "slide_type": "fragment"
    }
   },
   "source": [
    "Don't like Julia's 1-indexing? Create and use your own vector."
   ]
  },
  {
   "cell_type": "code",
   "execution_count": 39,
   "metadata": {
    "collapsed": true,
    "slideshow": {
     "slide_type": "fragment"
    }
   },
   "outputs": [],
   "source": [
    "struct MyVector{T}\n",
    "    data::Vector{T}\n",
    "end\n",
    "function Base.setindex!(v::MyVector, x, i)\n",
    "    v.data[i + 1] = x\n",
    "end\n",
    "\n",
    "Base.getindex(v::MyVector, i) = v.data[i + 1]"
   ]
  },
  {
   "cell_type": "code",
   "execution_count": 40,
   "metadata": {
    "slideshow": {
     "slide_type": "fragment"
    }
   },
   "outputs": [
    {
     "data": {
      "text/plain": [
       "MyVector{Int64}([2, 4, 6, 8, 10])"
      ]
     },
     "execution_count": 40,
     "metadata": {},
     "output_type": "execute_result"
    }
   ],
   "source": [
    "v = MyVector([2, 4, 6, 8, 10])"
   ]
  },
  {
   "cell_type": "code",
   "execution_count": 41,
   "metadata": {
    "slideshow": {
     "slide_type": "fragment"
    }
   },
   "outputs": [
    {
     "name": "stdout",
     "output_type": "stream",
     "text": [
      "v[1] = 4\n",
      "v[2] = 6\n",
      "v = MyVector{Int64}([2, 4, 100, 8, 10])\n"
     ]
    }
   ],
   "source": [
    "@show v[1]\n",
    "@show v[2]\n",
    "v[2] = 100\n",
    "@show v;"
   ]
  },
  {
   "cell_type": "markdown",
   "metadata": {
    "slideshow": {
     "slide_type": "fragment"
    }
   },
   "source": [
    "Don't like for-loops from the front? Do from the back!"
   ]
  },
  {
   "cell_type": "code",
   "execution_count": 42,
   "metadata": {
    "collapsed": true,
    "slideshow": {
     "slide_type": "fragment"
    }
   },
   "outputs": [],
   "source": [
    "Base.start(v::MyVector) = length(v.data) - 1\n",
    "Base.done(v::MyVector, state) = state < 0\n",
    "Base.next(v::MyVector, state) = (v[state], state - 1)"
   ]
  },
  {
   "cell_type": "code",
   "execution_count": 43,
   "metadata": {
    "slideshow": {
     "slide_type": "fragment"
    }
   },
   "outputs": [
    {
     "name": "stdout",
     "output_type": "stream",
     "text": [
      "10\n",
      "8\n",
      "100\n",
      "4\n",
      "2\n"
     ]
    }
   ],
   "source": [
    "for elem in v\n",
    "    println(elem)\n",
    "end"
   ]
  },
  {
   "cell_type": "code",
   "execution_count": 44,
   "metadata": {
    "slideshow": {
     "slide_type": "fragment"
    }
   },
   "outputs": [
    {
     "data": {
      "text/plain": [
       "124"
      ]
     },
     "execution_count": 44,
     "metadata": {},
     "output_type": "execute_result"
    }
   ],
   "source": [
    "sum(v)"
   ]
  },
  {
   "cell_type": "markdown",
   "metadata": {},
   "source": [
    "Is it possible to return `true` for the following expression?\n",
    "```julia\n",
    "(1 == a) && (2 == a) && (3 == a)\n",
    "```"
   ]
  },
  {
   "cell_type": "code",
   "execution_count": 45,
   "metadata": {},
   "outputs": [
    {
     "data": {
      "text/plain": [
       "Ditto()"
      ]
     },
     "execution_count": 45,
     "metadata": {},
     "output_type": "execute_result"
    }
   ],
   "source": [
    "struct Ditto end\n",
    "Base.:(==)(lhs, ::Ditto) = true\n",
    "a = Ditto()"
   ]
  },
  {
   "cell_type": "code",
   "execution_count": 46,
   "metadata": {
    "slideshow": {
     "slide_type": "subslide"
    }
   },
   "outputs": [
    {
     "data": {
      "text/plain": [
       "true"
      ]
     },
     "execution_count": 46,
     "metadata": {},
     "output_type": "execute_result"
    }
   ],
   "source": [
    "(1 == a) && (2 == a) && (3 == a)"
   ]
  },
  {
   "cell_type": "code",
   "execution_count": 47,
   "metadata": {
    "slideshow": {
     "slide_type": "fragment"
    }
   },
   "outputs": [
    {
     "data": {
      "text/plain": [
       "UpInt(0)"
      ]
     },
     "execution_count": 47,
     "metadata": {},
     "output_type": "execute_result"
    }
   ],
   "source": [
    "mutable struct UpInt\n",
    "    value::Int\n",
    "end\n",
    "function Base.:(==)(lhs, i::UpInt)\n",
    "    i.value += 1\n",
    "    return lhs == i.value\n",
    "end\n",
    "a = UpInt(0)"
   ]
  },
  {
   "cell_type": "code",
   "execution_count": 48,
   "metadata": {
    "slideshow": {
     "slide_type": "subslide"
    }
   },
   "outputs": [
    {
     "data": {
      "text/plain": [
       "true"
      ]
     },
     "execution_count": 48,
     "metadata": {},
     "output_type": "execute_result"
    }
   ],
   "source": [
    "(1 == a) && (2 == a) && (3 == a)"
   ]
  },
  {
   "cell_type": "markdown",
   "metadata": {
    "slideshow": {
     "slide_type": "fragment"
    }
   },
   "source": [
    "---"
   ]
  },
  {
   "cell_type": "markdown",
   "metadata": {
    "slideshow": {
     "slide_type": "slide"
    }
   },
   "source": [
    "## Supports Unicode operators"
   ]
  },
  {
   "cell_type": "code",
   "execution_count": 49,
   "metadata": {
    "slideshow": {
     "slide_type": "subslide"
    }
   },
   "outputs": [
    {
     "data": {
      "text/plain": [
       "1.3333333333333333"
      ]
     },
     "execution_count": 49,
     "metadata": {},
     "output_type": "execute_result"
    }
   ],
   "source": [
    "4 / 3"
   ]
  },
  {
   "cell_type": "code",
   "execution_count": 50,
   "metadata": {
    "slideshow": {
     "slide_type": "fragment"
    }
   },
   "outputs": [
    {
     "data": {
      "text/plain": [
       "4//3"
      ]
     },
     "execution_count": 50,
     "metadata": {},
     "output_type": "execute_result"
    }
   ],
   "source": [
    "4 // 3"
   ]
  },
  {
   "cell_type": "code",
   "execution_count": 51,
   "metadata": {
    "slideshow": {
     "slide_type": "fragment"
    }
   },
   "outputs": [
    {
     "data": {
      "text/plain": [
       "1"
      ]
     },
     "execution_count": 51,
     "metadata": {},
     "output_type": "execute_result"
    }
   ],
   "source": [
    "div(4, 3)"
   ]
  },
  {
   "cell_type": "code",
   "execution_count": 52,
   "metadata": {
    "slideshow": {
     "slide_type": "fragment"
    }
   },
   "outputs": [
    {
     "data": {
      "text/plain": [
       "1"
      ]
     },
     "execution_count": 52,
     "metadata": {},
     "output_type": "execute_result"
    }
   ],
   "source": [
    "4 ÷ 3"
   ]
  },
  {
   "cell_type": "markdown",
   "metadata": {
    "slideshow": {
     "slide_type": "fragment"
    }
   },
   "source": [
    "Operators are not special constructs. They are just syntactic sugar for the corresponding function."
   ]
  },
  {
   "cell_type": "code",
   "execution_count": 53,
   "metadata": {
    "slideshow": {
     "slide_type": "fragment"
    }
   },
   "outputs": [
    {
     "data": {
      "text/plain": [
       "1"
      ]
     },
     "execution_count": 53,
     "metadata": {},
     "output_type": "execute_result"
    }
   ],
   "source": [
    "÷(4, 3)"
   ]
  },
  {
   "cell_type": "code",
   "execution_count": 54,
   "metadata": {
    "slideshow": {
     "slide_type": "fragment"
    }
   },
   "outputs": [
    {
     "data": {
      "text/plain": [
       "1"
      ]
     },
     "execution_count": 54,
     "metadata": {},
     "output_type": "execute_result"
    }
   ],
   "source": [
    "Base.:÷(4, 3)"
   ]
  },
  {
   "cell_type": "code",
   "execution_count": 55,
   "metadata": {
    "slideshow": {
     "slide_type": "fragment"
    }
   },
   "outputs": [
    {
     "data": {
      "text/plain": [
       "Symbol"
      ]
     },
     "execution_count": 55,
     "metadata": {},
     "output_type": "execute_result"
    }
   ],
   "source": [
    "typeof(:÷)"
   ]
  },
  {
   "cell_type": "code",
   "execution_count": 56,
   "metadata": {
    "scrolled": true,
    "slideshow": {
     "slide_type": "subslide"
    }
   },
   "outputs": [
    {
     "data": {
      "text/plain": [
       "π = 3.1415926535897..."
      ]
     },
     "execution_count": 56,
     "metadata": {},
     "output_type": "execute_result"
    }
   ],
   "source": [
    "π"
   ]
  },
  {
   "cell_type": "code",
   "execution_count": 57,
   "metadata": {
    "slideshow": {
     "slide_type": "fragment"
    }
   },
   "outputs": [
    {
     "data": {
      "text/plain": [
       "5.0"
      ]
     },
     "execution_count": 57,
     "metadata": {},
     "output_type": "execute_result"
    }
   ],
   "source": [
    "α₁ = 3.0; α₂ = 4.0\n",
    "√(α₁^2 + α₂^2)"
   ]
  },
  {
   "cell_type": "code",
   "execution_count": 58,
   "metadata": {
    "slideshow": {
     "slide_type": "fragment"
    }
   },
   "outputs": [
    {
     "data": {
      "text/plain": [
       "fib (generic function with 1 method)"
      ]
     },
     "execution_count": 58,
     "metadata": {},
     "output_type": "execute_result"
    }
   ],
   "source": [
    "fib(n) = (n ≤ 1) ? n : fib(n - 1) + fib(n - 2)"
   ]
  },
  {
   "cell_type": "code",
   "execution_count": 59,
   "metadata": {
    "slideshow": {
     "slide_type": "fragment"
    }
   },
   "outputs": [
    {
     "name": "stdout",
     "output_type": "stream",
     "text": [
      "  0.717460 seconds (505 allocations: 28.762 KiB)\n",
      "  0.703402 seconds (5 allocations: 176 bytes)\n",
      "  0.691830 seconds (5 allocations: 176 bytes)\n"
     ]
    },
    {
     "data": {
      "text/plain": [
       "102334155"
      ]
     },
     "execution_count": 59,
     "metadata": {},
     "output_type": "execute_result"
    }
   ],
   "source": [
    "@time fib(40)\n",
    "@time fib(40)\n",
    "@time fib(40)"
   ]
  },
  {
   "cell_type": "markdown",
   "metadata": {
    "slideshow": {
     "slide_type": "fragment"
    }
   },
   "source": [
    "---"
   ]
  },
  {
   "cell_type": "markdown",
   "metadata": {
    "slideshow": {
     "slide_type": "slide"
    }
   },
   "source": [
    "## Good for data processing"
   ]
  },
  {
   "cell_type": "markdown",
   "metadata": {
    "slideshow": {
     "slide_type": "subslide"
    }
   },
   "source": [
    "Julia has Vector that are specialised to the type, implemented as efficiently as possible."
   ]
  },
  {
   "cell_type": "code",
   "execution_count": 60,
   "metadata": {
    "hide_input": false,
    "slideshow": {
     "slide_type": "fragment"
    }
   },
   "outputs": [
    {
     "data": {
      "text/plain": [
       "4-element Array{Int64,1}:\n",
       " 5\n",
       " 5\n",
       " 6\n",
       " 6"
      ]
     },
     "execution_count": 60,
     "metadata": {},
     "output_type": "execute_result"
    }
   ],
   "source": [
    "like_a_c_array = [5, 5, 6, 6]"
   ]
  },
  {
   "cell_type": "code",
   "execution_count": 61,
   "metadata": {
    "slideshow": {
     "slide_type": "fragment"
    }
   },
   "outputs": [
    {
     "data": {
      "text/plain": [
       "4-element Array{Any,1}:\n",
       " 1        \n",
       "  \"is\"    \n",
       "  sum     \n",
       "  \"number\""
      ]
     },
     "execution_count": 61,
     "metadata": {},
     "output_type": "execute_result"
    }
   ],
   "source": [
    "a = [1, \"is\", sum, \"number\"]"
   ]
  },
  {
   "cell_type": "code",
   "execution_count": 62,
   "metadata": {
    "slideshow": {
     "slide_type": "fragment"
    }
   },
   "outputs": [
    {
     "data": {
      "text/plain": [
       "4-element Array{String,1}:\n",
       " \"Pasta\"      \n",
       " \"茶そば\"        \n",
       " \"Chicken Pea\"\n",
       " \"Starbucks\"  "
      ]
     },
     "execution_count": 62,
     "metadata": {},
     "output_type": "execute_result"
    }
   ],
   "source": [
    "foods_i_like = [\"Pasta\", \"茶そば\", \"Chicken Pea\", \"Starbucks\"]"
   ]
  },
  {
   "cell_type": "markdown",
   "metadata": {
    "slideshow": {
     "slide_type": "subslide"
    }
   },
   "source": [
    "Vector is just a 1-D array (`Vector{T}` is alias for `Array{T, 1}`). Julia talks naturally in n-D."
   ]
  },
  {
   "cell_type": "code",
   "execution_count": 63,
   "metadata": {
    "slideshow": {
     "slide_type": "fragment"
    }
   },
   "outputs": [
    {
     "data": {
      "text/plain": [
       "4×3 Array{Any,2}:\n",
       " 5  1          \"Pasta\"      \n",
       " 5   \"is\"      \"茶そば\"        \n",
       " 6   sum       \"Chicken Pea\"\n",
       " 6   \"number\"  \"Starbucks\"  "
      ]
     },
     "execution_count": 63,
     "metadata": {},
     "output_type": "execute_result"
    }
   ],
   "source": [
    "hcat(like_a_c_array, a, foods_i_like)"
   ]
  },
  {
   "cell_type": "markdown",
   "metadata": {
    "slideshow": {
     "slide_type": "subslide"
    }
   },
   "source": [
    "Common to compiled languages, there is quick for-loop, and so there is not a need to vectorise for performance."
   ]
  },
  {
   "cell_type": "code",
   "execution_count": 64,
   "metadata": {
    "slideshow": {
     "slide_type": "fragment"
    }
   },
   "outputs": [
    {
     "name": "stdout",
     "output_type": "stream",
     "text": [
      "I like pasta oh yeah~~\n",
      "I like 茶そば oh yeah~~\n",
      "I like chicken pea oh yeah~~\n",
      "I like starbucks oh yeah~~\n"
     ]
    }
   ],
   "source": [
    "for food in foods_i_like\n",
    "    println(\"I like $(lowercase(food)) oh yeah~~\")\n",
    "end"
   ]
  },
  {
   "cell_type": "markdown",
   "metadata": {
    "slideshow": {
     "slide_type": "fragment"
    }
   },
   "source": [
    "Common to interpreted languages, functions are first class object. So we have a powerful `do` construct."
   ]
  },
  {
   "cell_type": "code",
   "execution_count": 65,
   "metadata": {
    "slideshow": {
     "slide_type": "fragment"
    }
   },
   "outputs": [
    {
     "name": "stdout",
     "output_type": "stream",
     "text": [
      "I like pasta oh yeah~~\n",
      "I like 茶そば oh yeah~~\n",
      "I like chicken pea oh yeah~~\n",
      "I like starbucks oh yeah~~\n"
     ]
    }
   ],
   "source": [
    "foreach(foods_i_like) do food\n",
    "    println(\"I like $(lowercase(food)) oh yeah~~\")\n",
    "end"
   ]
  },
  {
   "cell_type": "code",
   "execution_count": 66,
   "metadata": {
    "scrolled": false,
    "slideshow": {
     "slide_type": "fragment"
    }
   },
   "outputs": [
    {
     "name": "stdout",
     "output_type": "stream",
     "text": [
      "I like pasta oh yeah~~\n",
      "I like 茶そば oh yeah~~\n",
      "I like chicken pea oh yeah~~\n",
      "I like starbucks oh yeah~~\n"
     ]
    }
   ],
   "source": [
    "foreach(food -> println(\"I like $(lowercase(food)) oh yeah~~\"), foods_i_like)"
   ]
  },
  {
   "cell_type": "markdown",
   "metadata": {
    "slideshow": {
     "slide_type": "subslide"
    }
   },
   "source": [
    "Many representation of common data processing constructs."
   ]
  },
  {
   "cell_type": "code",
   "execution_count": 67,
   "metadata": {
    "collapsed": true,
    "slideshow": {
     "slide_type": "fragment"
    }
   },
   "outputs": [],
   "source": [
    "foods = [\"Prata\", \"油条\", \"Chicken Rice\", \"Starbucks\"];"
   ]
  },
  {
   "cell_type": "code",
   "execution_count": 68,
   "metadata": {
    "cell_style": "center",
    "slideshow": {
     "slide_type": "fragment"
    }
   },
   "outputs": [
    {
     "data": {
      "text/plain": [
       "4-element Array{Bool,1}:\n",
       " false\n",
       " false\n",
       " false\n",
       "  true"
      ]
     },
     "execution_count": 68,
     "metadata": {},
     "output_type": "execute_result"
    }
   ],
   "source": [
    "map(food -> food ∈ foods_i_like, foods)"
   ]
  },
  {
   "cell_type": "code",
   "execution_count": 69,
   "metadata": {
    "cell_style": "center",
    "slideshow": {
     "slide_type": "-"
    }
   },
   "outputs": [
    {
     "data": {
      "text/plain": [
       "1-element Array{String,1}:\n",
       " \"Starbucks\""
      ]
     },
     "execution_count": 69,
     "metadata": {},
     "output_type": "execute_result"
    }
   ],
   "source": [
    "filter(food -> food ∈ foods_i_like, foods)"
   ]
  },
  {
   "cell_type": "code",
   "execution_count": 70,
   "metadata": {
    "cell_style": "center",
    "slideshow": {
     "slide_type": "fragment"
    }
   },
   "outputs": [
    {
     "data": {
      "text/plain": [
       "4-element Array{Bool,1}:\n",
       " false\n",
       " false\n",
       " false\n",
       "  true"
      ]
     },
     "execution_count": 70,
     "metadata": {},
     "output_type": "execute_result"
    }
   ],
   "source": [
    "map(foods) do food\n",
    "    return food ∈ foods_i_like\n",
    "end"
   ]
  },
  {
   "cell_type": "code",
   "execution_count": 71,
   "metadata": {
    "cell_style": "center",
    "slideshow": {
     "slide_type": "-"
    }
   },
   "outputs": [
    {
     "data": {
      "text/plain": [
       "1-element Array{String,1}:\n",
       " \"Starbucks\""
      ]
     },
     "execution_count": 71,
     "metadata": {},
     "output_type": "execute_result"
    }
   ],
   "source": [
    "filter(foods) do food\n",
    "    return food ∈ foods_i_like\n",
    "end"
   ]
  },
  {
   "cell_type": "code",
   "execution_count": 72,
   "metadata": {
    "slideshow": {
     "slide_type": "fragment"
    }
   },
   "outputs": [
    {
     "data": {
      "text/plain": [
       "4-element Array{Bool,1}:\n",
       " false\n",
       " false\n",
       " false\n",
       "  true"
      ]
     },
     "execution_count": 72,
     "metadata": {},
     "output_type": "execute_result"
    }
   ],
   "source": [
    "[food ∈ foods_i_like for food in foods]"
   ]
  },
  {
   "cell_type": "code",
   "execution_count": 73,
   "metadata": {
    "slideshow": {
     "slide_type": "-"
    }
   },
   "outputs": [
    {
     "data": {
      "text/plain": [
       "1-element Array{String,1}:\n",
       " \"Starbucks\""
      ]
     },
     "execution_count": 73,
     "metadata": {},
     "output_type": "execute_result"
    }
   ],
   "source": [
    "[food for food in foods if food ∈ foods_i_like]"
   ]
  },
  {
   "cell_type": "markdown",
   "metadata": {
    "slideshow": {
     "slide_type": "subslide"
    }
   },
   "source": [
    "A reason to do vectorisation is for code clarity at the expense of speed. Julia has a speedy way (both to code and to run) to do that, using syntactic loop fusion."
   ]
  },
  {
   "cell_type": "markdown",
   "metadata": {
    "slideshow": {
     "slide_type": "fragment"
    }
   },
   "source": [
    "Say $f(x) = 3x^2 + 5x + 2$, we want to compute $f(2x^2 + 6x^3 - \\sqrt{x})$ for all $x \\in X$."
   ]
  },
  {
   "cell_type": "code",
   "execution_count": 74,
   "metadata": {
    "scrolled": true,
    "slideshow": {
     "slide_type": "fragment"
    }
   },
   "outputs": [
    {
     "data": {
      "text/plain": [
       "f (generic function with 1 method)"
      ]
     },
     "execution_count": 74,
     "metadata": {},
     "output_type": "execute_result"
    }
   ],
   "source": [
    "f(x) = 3x^2 + 5x + 2"
   ]
  },
  {
   "cell_type": "code",
   "execution_count": 75,
   "metadata": {
    "scrolled": true,
    "slideshow": {
     "slide_type": "fragment"
    }
   },
   "outputs": [
    {
     "name": "stdout",
     "output_type": "stream",
     "text": [
      "  0.000005 seconds (4 allocations: 160 bytes)\n"
     ]
    },
    {
     "data": {
      "text/plain": [
       "2.7665013801459013"
      ]
     },
     "execution_count": 75,
     "metadata": {},
     "output_type": "execute_result"
    }
   ],
   "source": [
    "X = collect(0.001:0.002:1.0)\n",
    "function manual_map!(X)\n",
    "    for i in eachindex(X)\n",
    "        X[i] = f(2X[i]^2 + 6X[i]^3 - sqrt(X[i]))\n",
    "    end\n",
    "end\n",
    "manual_map!(X) # First run to compile the function.\n",
    "@time manual_map!(X)\n",
    "sum(1 ./ X)"
   ]
  },
  {
   "cell_type": "code",
   "execution_count": 76,
   "metadata": {
    "scrolled": false,
    "slideshow": {
     "slide_type": "fragment"
    }
   },
   "outputs": [
    {
     "name": "stdout",
     "output_type": "stream",
     "text": [
      "  0.000004 seconds (4 allocations: 160 bytes)\n"
     ]
    },
    {
     "data": {
      "text/plain": [
       "2.7665013801459013"
      ]
     },
     "execution_count": 76,
     "metadata": {},
     "output_type": "execute_result"
    }
   ],
   "source": [
    "X = collect(0.001:0.002:1.0)\n",
    "function vec_map_1!(X)\n",
    "    X .= f.(2 .* X.^2 .+ 6 .* X.^3 .- sqrt.(X))\n",
    "    return\n",
    "end\n",
    "vec_map_1!(X) # First run to compile the function.\n",
    "@time vec_map_1!(X)\n",
    "sum(1 ./ X)"
   ]
  },
  {
   "cell_type": "code",
   "execution_count": 77,
   "metadata": {
    "slideshow": {
     "slide_type": "fragment"
    }
   },
   "outputs": [
    {
     "name": "stdout",
     "output_type": "stream",
     "text": [
      "  0.000005 seconds (4 allocations: 160 bytes)\n"
     ]
    },
    {
     "data": {
      "text/plain": [
       "2.7665013801459013"
      ]
     },
     "execution_count": 77,
     "metadata": {},
     "output_type": "execute_result"
    }
   ],
   "source": [
    "X = collect(0.001:0.002:1.0)\n",
    "function vec_map_2!(X)\n",
    "    @. X = f(2X^2 + 6X^3 - sqrt(X))\n",
    "    return\n",
    "end\n",
    "vec_map_2!(X) # First run to compile the function.\n",
    "@time vec_map_2!(X)\n",
    "sum(1 ./ X)"
   ]
  },
  {
   "cell_type": "code",
   "execution_count": 78,
   "metadata": {
    "slideshow": {
     "slide_type": "fragment"
    }
   },
   "outputs": [
    {
     "name": "stdout",
     "output_type": "stream",
     "text": [
      "  0.000005 seconds (4 allocations: 160 bytes)\n"
     ]
    },
    {
     "data": {
      "text/plain": [
       "2.7665013801459013"
      ]
     },
     "execution_count": 78,
     "metadata": {},
     "output_type": "execute_result"
    }
   ],
   "source": [
    "X = collect(0.001:0.002:1.0)\n",
    "h(x) = 2x^2 + 6x^3 - √x\n",
    "function vec_map_3!(X)\n",
    "    X .= ((f ∘ h).(X))\n",
    "    return\n",
    "end\n",
    "vec_map_3!(X) # First run to compile the function.\n",
    "@time vec_map_3!(X)\n",
    "sum(1 ./ X)"
   ]
  },
  {
   "cell_type": "markdown",
   "metadata": {
    "slideshow": {
     "slide_type": "subslide"
    }
   },
   "source": [
    "Plotting is straightforward using [PLots.jl](https://github.com/JuliaPlots/Plots.jl). We can choose which plotting backend (e.g. matplotlib, GR, PlotlyJS) to use due to Julia's reflection."
   ]
  },
  {
   "cell_type": "code",
   "execution_count": 79,
   "metadata": {
    "collapsed": true,
    "slideshow": {
     "slide_type": "fragment"
    }
   },
   "outputs": [],
   "source": [
    "data = readcsv(\"ex1data1.txt\");"
   ]
  },
  {
   "cell_type": "code",
   "execution_count": 80,
   "metadata": {},
   "outputs": [
    {
     "data": {
      "text/plain": [
       "plot_data (generic function with 1 method)"
      ]
     },
     "execution_count": 80,
     "metadata": {},
     "output_type": "execute_result"
    }
   ],
   "source": [
    "using Plots\n",
    "gr() # Use the GR plotting library instead\n",
    "\n",
    "function plot_data(X, y)\n",
    "    scatter(X, y, marker = (:cross, :red))\n",
    "end"
   ]
  },
  {
   "cell_type": "code",
   "execution_count": 81,
   "metadata": {
    "slideshow": {
     "slide_type": "fragment"
    }
   },
   "outputs": [
    {
     "data": {
      "text/html": [
       "<?xml version=\"1.0\" encoding=\"utf-8\"?>\n",
       "<svg xmlns=\"http://www.w3.org/2000/svg\" xmlns:xlink=\"http://www.w3.org/1999/xlink\" width=\"600\" height=\"400\" viewBox=\"0 0 600 400\">\n",
       "<defs>\n",
       "  <clipPath id=\"clip6000\">\n",
       "    <rect x=\"0\" y=\"0\" width=\"600\" height=\"400\"/>\n",
       "  </clipPath>\n",
       "</defs>\n",
       "<polygon clip-path=\"url(#clip6000)\" points=\"\n",
       "0,400 600,400 600,0 0,0 \n",
       "  \" fill=\"#ffffff\" fill-opacity=\"1\"/>\n",
       "<defs>\n",
       "  <clipPath id=\"clip6001\">\n",
       "    <rect x=\"120\" y=\"0\" width=\"421\" height=\"400\"/>\n",
       "  </clipPath>\n",
       "</defs>\n",
       "<polygon clip-path=\"url(#clip6000)\" points=\"\n",
       "28.9273,375.813 580.315,375.813 580.315,11.811 28.9273,11.811 \n",
       "  \" fill=\"#ffffff\" fill-opacity=\"1\"/>\n",
       "<defs>\n",
       "  <clipPath id=\"clip6002\">\n",
       "    <rect x=\"28\" y=\"11\" width=\"552\" height=\"365\"/>\n",
       "  </clipPath>\n",
       "</defs>\n",
       "<polyline clip-path=\"url(#clip6002)\" style=\"stroke:#000000; stroke-width:0.5; stroke-opacity:0.1; fill:none\" points=\"\n",
       "  43.7179,375.813 43.7179,11.811 \n",
       "  \"/>\n",
       "<polyline clip-path=\"url(#clip6002)\" style=\"stroke:#000000; stroke-width:0.5; stroke-opacity:0.1; fill:none\" points=\"\n",
       "  195.143,375.813 195.143,11.811 \n",
       "  \"/>\n",
       "<polyline clip-path=\"url(#clip6002)\" style=\"stroke:#000000; stroke-width:0.5; stroke-opacity:0.1; fill:none\" points=\"\n",
       "  346.567,375.813 346.567,11.811 \n",
       "  \"/>\n",
       "<polyline clip-path=\"url(#clip6002)\" style=\"stroke:#000000; stroke-width:0.5; stroke-opacity:0.1; fill:none\" points=\"\n",
       "  497.992,375.813 497.992,11.811 \n",
       "  \"/>\n",
       "<polyline clip-path=\"url(#clip6002)\" style=\"stroke:#000000; stroke-width:0.5; stroke-opacity:0.1; fill:none\" points=\"\n",
       "  28.9273,331.198 580.315,331.198 \n",
       "  \"/>\n",
       "<polyline clip-path=\"url(#clip6002)\" style=\"stroke:#000000; stroke-width:0.5; stroke-opacity:0.1; fill:none\" points=\"\n",
       "  28.9273,267.197 580.315,267.197 \n",
       "  \"/>\n",
       "<polyline clip-path=\"url(#clip6002)\" style=\"stroke:#000000; stroke-width:0.5; stroke-opacity:0.1; fill:none\" points=\"\n",
       "  28.9273,203.197 580.315,203.197 \n",
       "  \"/>\n",
       "<polyline clip-path=\"url(#clip6002)\" style=\"stroke:#000000; stroke-width:0.5; stroke-opacity:0.1; fill:none\" points=\"\n",
       "  28.9273,139.196 580.315,139.196 \n",
       "  \"/>\n",
       "<polyline clip-path=\"url(#clip6002)\" style=\"stroke:#000000; stroke-width:0.5; stroke-opacity:0.1; fill:none\" points=\"\n",
       "  28.9273,75.1952 580.315,75.1952 \n",
       "  \"/>\n",
       "<polyline clip-path=\"url(#clip6000)\" style=\"stroke:#000000; stroke-width:1; stroke-opacity:1; fill:none\" points=\"\n",
       "  28.9273,375.813 580.315,375.813 \n",
       "  \"/>\n",
       "<polyline clip-path=\"url(#clip6000)\" style=\"stroke:#000000; stroke-width:1; stroke-opacity:1; fill:none\" points=\"\n",
       "  28.9273,375.813 28.9273,11.811 \n",
       "  \"/>\n",
       "<polyline clip-path=\"url(#clip6000)\" style=\"stroke:#000000; stroke-width:1; stroke-opacity:1; fill:none\" points=\"\n",
       "  43.7179,375.813 43.7179,370.353 \n",
       "  \"/>\n",
       "<polyline clip-path=\"url(#clip6000)\" style=\"stroke:#000000; stroke-width:1; stroke-opacity:1; fill:none\" points=\"\n",
       "  195.143,375.813 195.143,370.353 \n",
       "  \"/>\n",
       "<polyline clip-path=\"url(#clip6000)\" style=\"stroke:#000000; stroke-width:1; stroke-opacity:1; fill:none\" points=\"\n",
       "  346.567,375.813 346.567,370.353 \n",
       "  \"/>\n",
       "<polyline clip-path=\"url(#clip6000)\" style=\"stroke:#000000; stroke-width:1; stroke-opacity:1; fill:none\" points=\"\n",
       "  497.992,375.813 497.992,370.353 \n",
       "  \"/>\n",
       "<polyline clip-path=\"url(#clip6000)\" style=\"stroke:#000000; stroke-width:1; stroke-opacity:1; fill:none\" points=\"\n",
       "  28.9273,331.198 37.1981,331.198 \n",
       "  \"/>\n",
       "<polyline clip-path=\"url(#clip6000)\" style=\"stroke:#000000; stroke-width:1; stroke-opacity:1; fill:none\" points=\"\n",
       "  28.9273,267.197 37.1981,267.197 \n",
       "  \"/>\n",
       "<polyline clip-path=\"url(#clip6000)\" style=\"stroke:#000000; stroke-width:1; stroke-opacity:1; fill:none\" points=\"\n",
       "  28.9273,203.197 37.1981,203.197 \n",
       "  \"/>\n",
       "<polyline clip-path=\"url(#clip6000)\" style=\"stroke:#000000; stroke-width:1; stroke-opacity:1; fill:none\" points=\"\n",
       "  28.9273,139.196 37.1981,139.196 \n",
       "  \"/>\n",
       "<polyline clip-path=\"url(#clip6000)\" style=\"stroke:#000000; stroke-width:1; stroke-opacity:1; fill:none\" points=\"\n",
       "  28.9273,75.1952 37.1981,75.1952 \n",
       "  \"/>\n",
       "<g clip-path=\"url(#clip6000)\">\n",
       "<text style=\"fill:#000000; fill-opacity:1; font-family:Arial,Helvetica Neue,Helvetica,sans-serif; font-size:12; text-anchor:middle;\" transform=\"rotate(0, 43.7179, 389.613)\" x=\"43.7179\" y=\"389.613\">5</text>\n",
       "</g>\n",
       "<g clip-path=\"url(#clip6000)\">\n",
       "<text style=\"fill:#000000; fill-opacity:1; font-family:Arial,Helvetica Neue,Helvetica,sans-serif; font-size:12; text-anchor:middle;\" transform=\"rotate(0, 195.143, 389.613)\" x=\"195.143\" y=\"389.613\">10</text>\n",
       "</g>\n",
       "<g clip-path=\"url(#clip6000)\">\n",
       "<text style=\"fill:#000000; fill-opacity:1; font-family:Arial,Helvetica Neue,Helvetica,sans-serif; font-size:12; text-anchor:middle;\" transform=\"rotate(0, 346.567, 389.613)\" x=\"346.567\" y=\"389.613\">15</text>\n",
       "</g>\n",
       "<g clip-path=\"url(#clip6000)\">\n",
       "<text style=\"fill:#000000; fill-opacity:1; font-family:Arial,Helvetica Neue,Helvetica,sans-serif; font-size:12; text-anchor:middle;\" transform=\"rotate(0, 497.992, 389.613)\" x=\"497.992\" y=\"389.613\">20</text>\n",
       "</g>\n",
       "<g clip-path=\"url(#clip6000)\">\n",
       "<text style=\"fill:#000000; fill-opacity:1; font-family:Arial,Helvetica Neue,Helvetica,sans-serif; font-size:12; text-anchor:end;\" transform=\"rotate(0, 22.9273, 335.698)\" x=\"22.9273\" y=\"335.698\">0</text>\n",
       "</g>\n",
       "<g clip-path=\"url(#clip6000)\">\n",
       "<text style=\"fill:#000000; fill-opacity:1; font-family:Arial,Helvetica Neue,Helvetica,sans-serif; font-size:12; text-anchor:end;\" transform=\"rotate(0, 22.9273, 271.697)\" x=\"22.9273\" y=\"271.697\">5</text>\n",
       "</g>\n",
       "<g clip-path=\"url(#clip6000)\">\n",
       "<text style=\"fill:#000000; fill-opacity:1; font-family:Arial,Helvetica Neue,Helvetica,sans-serif; font-size:12; text-anchor:end;\" transform=\"rotate(0, 22.9273, 207.697)\" x=\"22.9273\" y=\"207.697\">10</text>\n",
       "</g>\n",
       "<g clip-path=\"url(#clip6000)\">\n",
       "<text style=\"fill:#000000; fill-opacity:1; font-family:Arial,Helvetica Neue,Helvetica,sans-serif; font-size:12; text-anchor:end;\" transform=\"rotate(0, 22.9273, 143.696)\" x=\"22.9273\" y=\"143.696\">15</text>\n",
       "</g>\n",
       "<g clip-path=\"url(#clip6000)\">\n",
       "<text style=\"fill:#000000; fill-opacity:1; font-family:Arial,Helvetica Neue,Helvetica,sans-serif; font-size:12; text-anchor:end;\" transform=\"rotate(0, 22.9273, 79.6952)\" x=\"22.9273\" y=\"79.6952\">20</text>\n",
       "</g>\n",
       "<line clip-path=\"url(#clip6002)\" x1=\"77.3372\" y1=\"106.018\" x2=\"77.3372\" y2=\"111.018\" style=\"stroke:#000000; stroke-opacity:1\"/>\n",
       "<line clip-path=\"url(#clip6002)\" x1=\"77.3372\" y1=\"106.018\" x2=\"72.3372\" y2=\"106.018\" style=\"stroke:#000000; stroke-opacity:1\"/>\n",
       "<line clip-path=\"url(#clip6002)\" x1=\"77.3372\" y1=\"106.018\" x2=\"77.3372\" y2=\"101.018\" style=\"stroke:#000000; stroke-opacity:1\"/>\n",
       "<line clip-path=\"url(#clip6002)\" x1=\"77.3372\" y1=\"106.018\" x2=\"82.3372\" y2=\"106.018\" style=\"stroke:#000000; stroke-opacity:1\"/>\n",
       "<line clip-path=\"url(#clip6002)\" x1=\"77.3372\" y1=\"106.018\" x2=\"77.3372\" y2=\"110.018\" style=\"stroke:#ff0000; stroke-opacity:1\"/>\n",
       "<line clip-path=\"url(#clip6002)\" x1=\"77.3372\" y1=\"106.018\" x2=\"73.3372\" y2=\"106.018\" style=\"stroke:#ff0000; stroke-opacity:1\"/>\n",
       "<line clip-path=\"url(#clip6002)\" x1=\"77.3372\" y1=\"106.018\" x2=\"77.3372\" y2=\"102.018\" style=\"stroke:#ff0000; stroke-opacity:1\"/>\n",
       "<line clip-path=\"url(#clip6002)\" x1=\"77.3372\" y1=\"106.018\" x2=\"81.3372\" y2=\"106.018\" style=\"stroke:#ff0000; stroke-opacity:1\"/>\n",
       "<line clip-path=\"url(#clip6002)\" x1=\"59.6993\" y1=\"214.33\" x2=\"59.6993\" y2=\"219.33\" style=\"stroke:#000000; stroke-opacity:1\"/>\n",
       "<line clip-path=\"url(#clip6002)\" x1=\"59.6993\" y1=\"214.33\" x2=\"54.6993\" y2=\"214.33\" style=\"stroke:#000000; stroke-opacity:1\"/>\n",
       "<line clip-path=\"url(#clip6002)\" x1=\"59.6993\" y1=\"214.33\" x2=\"59.6993\" y2=\"209.33\" style=\"stroke:#000000; stroke-opacity:1\"/>\n",
       "<line clip-path=\"url(#clip6002)\" x1=\"59.6993\" y1=\"214.33\" x2=\"64.6993\" y2=\"214.33\" style=\"stroke:#000000; stroke-opacity:1\"/>\n",
       "<line clip-path=\"url(#clip6002)\" x1=\"59.6993\" y1=\"214.33\" x2=\"59.6993\" y2=\"218.33\" style=\"stroke:#ff0000; stroke-opacity:1\"/>\n",
       "<line clip-path=\"url(#clip6002)\" x1=\"59.6993\" y1=\"214.33\" x2=\"55.6993\" y2=\"214.33\" style=\"stroke:#ff0000; stroke-opacity:1\"/>\n",
       "<line clip-path=\"url(#clip6002)\" x1=\"59.6993\" y1=\"214.33\" x2=\"59.6993\" y2=\"210.33\" style=\"stroke:#ff0000; stroke-opacity:1\"/>\n",
       "<line clip-path=\"url(#clip6002)\" x1=\"59.6993\" y1=\"214.33\" x2=\"63.6993\" y2=\"214.33\" style=\"stroke:#ff0000; stroke-opacity:1\"/>\n",
       "<line clip-path=\"url(#clip6002)\" x1=\"150.279\" y1=\"156.323\" x2=\"150.279\" y2=\"161.323\" style=\"stroke:#000000; stroke-opacity:1\"/>\n",
       "<line clip-path=\"url(#clip6002)\" x1=\"150.279\" y1=\"156.323\" x2=\"145.279\" y2=\"156.323\" style=\"stroke:#000000; stroke-opacity:1\"/>\n",
       "<line clip-path=\"url(#clip6002)\" x1=\"150.279\" y1=\"156.323\" x2=\"150.279\" y2=\"151.323\" style=\"stroke:#000000; stroke-opacity:1\"/>\n",
       "<line clip-path=\"url(#clip6002)\" x1=\"150.279\" y1=\"156.323\" x2=\"155.279\" y2=\"156.323\" style=\"stroke:#000000; stroke-opacity:1\"/>\n",
       "<line clip-path=\"url(#clip6002)\" x1=\"150.279\" y1=\"156.323\" x2=\"150.279\" y2=\"160.323\" style=\"stroke:#ff0000; stroke-opacity:1\"/>\n",
       "<line clip-path=\"url(#clip6002)\" x1=\"150.279\" y1=\"156.323\" x2=\"146.279\" y2=\"156.323\" style=\"stroke:#ff0000; stroke-opacity:1\"/>\n",
       "<line clip-path=\"url(#clip6002)\" x1=\"150.279\" y1=\"156.323\" x2=\"150.279\" y2=\"152.323\" style=\"stroke:#ff0000; stroke-opacity:1\"/>\n",
       "<line clip-path=\"url(#clip6002)\" x1=\"150.279\" y1=\"156.323\" x2=\"154.279\" y2=\"156.323\" style=\"stroke:#ff0000; stroke-opacity:1\"/>\n",
       "<line clip-path=\"url(#clip6002)\" x1=\"104.385\" y1=\"179.465\" x2=\"104.385\" y2=\"184.465\" style=\"stroke:#000000; stroke-opacity:1\"/>\n",
       "<line clip-path=\"url(#clip6002)\" x1=\"104.385\" y1=\"179.465\" x2=\"99.3847\" y2=\"179.465\" style=\"stroke:#000000; stroke-opacity:1\"/>\n",
       "<line clip-path=\"url(#clip6002)\" x1=\"104.385\" y1=\"179.465\" x2=\"104.385\" y2=\"174.465\" style=\"stroke:#000000; stroke-opacity:1\"/>\n",
       "<line clip-path=\"url(#clip6002)\" x1=\"104.385\" y1=\"179.465\" x2=\"109.385\" y2=\"179.465\" style=\"stroke:#000000; stroke-opacity:1\"/>\n",
       "<line clip-path=\"url(#clip6002)\" x1=\"104.385\" y1=\"179.465\" x2=\"104.385\" y2=\"183.465\" style=\"stroke:#ff0000; stroke-opacity:1\"/>\n",
       "<line clip-path=\"url(#clip6002)\" x1=\"104.385\" y1=\"179.465\" x2=\"100.385\" y2=\"179.465\" style=\"stroke:#ff0000; stroke-opacity:1\"/>\n",
       "<line clip-path=\"url(#clip6002)\" x1=\"104.385\" y1=\"179.465\" x2=\"104.385\" y2=\"175.465\" style=\"stroke:#ff0000; stroke-opacity:1\"/>\n",
       "<line clip-path=\"url(#clip6002)\" x1=\"104.385\" y1=\"179.465\" x2=\"108.385\" y2=\"179.465\" style=\"stroke:#ff0000; stroke-opacity:1\"/>\n",
       "<line clip-path=\"url(#clip6002)\" x1=\"69.7569\" y1=\"243.859\" x2=\"69.7569\" y2=\"248.859\" style=\"stroke:#000000; stroke-opacity:1\"/>\n",
       "<line clip-path=\"url(#clip6002)\" x1=\"69.7569\" y1=\"243.859\" x2=\"64.7569\" y2=\"243.859\" style=\"stroke:#000000; stroke-opacity:1\"/>\n",
       "<line clip-path=\"url(#clip6002)\" x1=\"69.7569\" y1=\"243.859\" x2=\"69.7569\" y2=\"238.859\" style=\"stroke:#000000; stroke-opacity:1\"/>\n",
       "<line clip-path=\"url(#clip6002)\" x1=\"69.7569\" y1=\"243.859\" x2=\"74.7569\" y2=\"243.859\" style=\"stroke:#000000; stroke-opacity:1\"/>\n",
       "<line clip-path=\"url(#clip6002)\" x1=\"69.7569\" y1=\"243.859\" x2=\"69.7569\" y2=\"247.859\" style=\"stroke:#ff0000; stroke-opacity:1\"/>\n",
       "<line clip-path=\"url(#clip6002)\" x1=\"69.7569\" y1=\"243.859\" x2=\"65.7569\" y2=\"243.859\" style=\"stroke:#ff0000; stroke-opacity:1\"/>\n",
       "<line clip-path=\"url(#clip6002)\" x1=\"69.7569\" y1=\"243.859\" x2=\"69.7569\" y2=\"239.859\" style=\"stroke:#ff0000; stroke-opacity:1\"/>\n",
       "<line clip-path=\"url(#clip6002)\" x1=\"69.7569\" y1=\"243.859\" x2=\"73.7569\" y2=\"243.859\" style=\"stroke:#ff0000; stroke-opacity:1\"/>\n",
       "<line clip-path=\"url(#clip6002)\" x1=\"146.169\" y1=\"179.056\" x2=\"146.169\" y2=\"184.056\" style=\"stroke:#000000; stroke-opacity:1\"/>\n",
       "<line clip-path=\"url(#clip6002)\" x1=\"146.169\" y1=\"179.056\" x2=\"141.169\" y2=\"179.056\" style=\"stroke:#000000; stroke-opacity:1\"/>\n",
       "<line clip-path=\"url(#clip6002)\" x1=\"146.169\" y1=\"179.056\" x2=\"146.169\" y2=\"174.056\" style=\"stroke:#000000; stroke-opacity:1\"/>\n",
       "<line clip-path=\"url(#clip6002)\" x1=\"146.169\" y1=\"179.056\" x2=\"151.169\" y2=\"179.056\" style=\"stroke:#000000; stroke-opacity:1\"/>\n",
       "<line clip-path=\"url(#clip6002)\" x1=\"146.169\" y1=\"179.056\" x2=\"146.169\" y2=\"183.056\" style=\"stroke:#ff0000; stroke-opacity:1\"/>\n",
       "<line clip-path=\"url(#clip6002)\" x1=\"146.169\" y1=\"179.056\" x2=\"142.169\" y2=\"179.056\" style=\"stroke:#ff0000; stroke-opacity:1\"/>\n",
       "<line clip-path=\"url(#clip6002)\" x1=\"146.169\" y1=\"179.056\" x2=\"146.169\" y2=\"175.056\" style=\"stroke:#ff0000; stroke-opacity:1\"/>\n",
       "<line clip-path=\"url(#clip6002)\" x1=\"146.169\" y1=\"179.056\" x2=\"150.169\" y2=\"179.056\" style=\"stroke:#ff0000; stroke-opacity:1\"/>\n",
       "<line clip-path=\"url(#clip6002)\" x1=\"118.716\" y1=\"275.539\" x2=\"118.716\" y2=\"280.539\" style=\"stroke:#000000; stroke-opacity:1\"/>\n",
       "<line clip-path=\"url(#clip6002)\" x1=\"118.716\" y1=\"275.539\" x2=\"113.716\" y2=\"275.539\" style=\"stroke:#000000; stroke-opacity:1\"/>\n",
       "<line clip-path=\"url(#clip6002)\" x1=\"118.716\" y1=\"275.539\" x2=\"118.716\" y2=\"270.539\" style=\"stroke:#000000; stroke-opacity:1\"/>\n",
       "<line clip-path=\"url(#clip6002)\" x1=\"118.716\" y1=\"275.539\" x2=\"123.716\" y2=\"275.539\" style=\"stroke:#000000; stroke-opacity:1\"/>\n",
       "<line clip-path=\"url(#clip6002)\" x1=\"118.716\" y1=\"275.539\" x2=\"118.716\" y2=\"279.539\" style=\"stroke:#ff0000; stroke-opacity:1\"/>\n",
       "<line clip-path=\"url(#clip6002)\" x1=\"118.716\" y1=\"275.539\" x2=\"114.716\" y2=\"275.539\" style=\"stroke:#ff0000; stroke-opacity:1\"/>\n",
       "<line clip-path=\"url(#clip6002)\" x1=\"118.716\" y1=\"275.539\" x2=\"118.716\" y2=\"271.539\" style=\"stroke:#ff0000; stroke-opacity:1\"/>\n",
       "<line clip-path=\"url(#clip6002)\" x1=\"118.716\" y1=\"275.539\" x2=\"122.716\" y2=\"275.539\" style=\"stroke:#ff0000; stroke-opacity:1\"/>\n",
       "<line clip-path=\"url(#clip6002)\" x1=\"152.08\" y1=\"177.596\" x2=\"152.08\" y2=\"182.596\" style=\"stroke:#000000; stroke-opacity:1\"/>\n",
       "<line clip-path=\"url(#clip6002)\" x1=\"152.08\" y1=\"177.596\" x2=\"147.08\" y2=\"177.596\" style=\"stroke:#000000; stroke-opacity:1\"/>\n",
       "<line clip-path=\"url(#clip6002)\" x1=\"152.08\" y1=\"177.596\" x2=\"152.08\" y2=\"172.596\" style=\"stroke:#000000; stroke-opacity:1\"/>\n",
       "<line clip-path=\"url(#clip6002)\" x1=\"152.08\" y1=\"177.596\" x2=\"157.08\" y2=\"177.596\" style=\"stroke:#000000; stroke-opacity:1\"/>\n",
       "<line clip-path=\"url(#clip6002)\" x1=\"152.08\" y1=\"177.596\" x2=\"152.08\" y2=\"181.596\" style=\"stroke:#ff0000; stroke-opacity:1\"/>\n",
       "<line clip-path=\"url(#clip6002)\" x1=\"152.08\" y1=\"177.596\" x2=\"148.08\" y2=\"177.596\" style=\"stroke:#ff0000; stroke-opacity:1\"/>\n",
       "<line clip-path=\"url(#clip6002)\" x1=\"152.08\" y1=\"177.596\" x2=\"152.08\" y2=\"173.596\" style=\"stroke:#ff0000; stroke-opacity:1\"/>\n",
       "<line clip-path=\"url(#clip6002)\" x1=\"152.08\" y1=\"177.596\" x2=\"156.08\" y2=\"177.596\" style=\"stroke:#ff0000; stroke-opacity:1\"/>\n",
       "<line clip-path=\"url(#clip6002)\" x1=\"88.7274\" y1=\"246.734\" x2=\"88.7274\" y2=\"251.734\" style=\"stroke:#000000; stroke-opacity:1\"/>\n",
       "<line clip-path=\"url(#clip6002)\" x1=\"88.7274\" y1=\"246.734\" x2=\"83.7274\" y2=\"246.734\" style=\"stroke:#000000; stroke-opacity:1\"/>\n",
       "<line clip-path=\"url(#clip6002)\" x1=\"88.7274\" y1=\"246.734\" x2=\"88.7274\" y2=\"241.734\" style=\"stroke:#000000; stroke-opacity:1\"/>\n",
       "<line clip-path=\"url(#clip6002)\" x1=\"88.7274\" y1=\"246.734\" x2=\"93.7274\" y2=\"246.734\" style=\"stroke:#000000; stroke-opacity:1\"/>\n",
       "<line clip-path=\"url(#clip6002)\" x1=\"88.7274\" y1=\"246.734\" x2=\"88.7274\" y2=\"250.734\" style=\"stroke:#ff0000; stroke-opacity:1\"/>\n",
       "<line clip-path=\"url(#clip6002)\" x1=\"88.7274\" y1=\"246.734\" x2=\"84.7274\" y2=\"246.734\" style=\"stroke:#ff0000; stroke-opacity:1\"/>\n",
       "<line clip-path=\"url(#clip6002)\" x1=\"88.7274\" y1=\"246.734\" x2=\"88.7274\" y2=\"242.734\" style=\"stroke:#ff0000; stroke-opacity:1\"/>\n",
       "<line clip-path=\"url(#clip6002)\" x1=\"88.7274\" y1=\"246.734\" x2=\"92.7274\" y2=\"246.734\" style=\"stroke:#ff0000; stroke-opacity:1\"/>\n",
       "<line clip-path=\"url(#clip6002)\" x1=\"45.3715\" y1=\"282.345\" x2=\"45.3715\" y2=\"287.345\" style=\"stroke:#000000; stroke-opacity:1\"/>\n",
       "<line clip-path=\"url(#clip6002)\" x1=\"45.3715\" y1=\"282.345\" x2=\"40.3715\" y2=\"282.345\" style=\"stroke:#000000; stroke-opacity:1\"/>\n",
       "<line clip-path=\"url(#clip6002)\" x1=\"45.3715\" y1=\"282.345\" x2=\"45.3715\" y2=\"277.345\" style=\"stroke:#000000; stroke-opacity:1\"/>\n",
       "<line clip-path=\"url(#clip6002)\" x1=\"45.3715\" y1=\"282.345\" x2=\"50.3715\" y2=\"282.345\" style=\"stroke:#000000; stroke-opacity:1\"/>\n",
       "<line clip-path=\"url(#clip6002)\" x1=\"45.3715\" y1=\"282.345\" x2=\"45.3715\" y2=\"286.345\" style=\"stroke:#ff0000; stroke-opacity:1\"/>\n",
       "<line clip-path=\"url(#clip6002)\" x1=\"45.3715\" y1=\"282.345\" x2=\"41.3715\" y2=\"282.345\" style=\"stroke:#ff0000; stroke-opacity:1\"/>\n",
       "<line clip-path=\"url(#clip6002)\" x1=\"45.3715\" y1=\"282.345\" x2=\"45.3715\" y2=\"278.345\" style=\"stroke:#ff0000; stroke-opacity:1\"/>\n",
       "<line clip-path=\"url(#clip6002)\" x1=\"45.3715\" y1=\"282.345\" x2=\"49.3715\" y2=\"282.345\" style=\"stroke:#ff0000; stroke-opacity:1\"/>\n",
       "<line clip-path=\"url(#clip6002)\" x1=\"65.2414\" y1=\"289.569\" x2=\"65.2414\" y2=\"294.569\" style=\"stroke:#000000; stroke-opacity:1\"/>\n",
       "<line clip-path=\"url(#clip6002)\" x1=\"65.2414\" y1=\"289.569\" x2=\"60.2414\" y2=\"289.569\" style=\"stroke:#000000; stroke-opacity:1\"/>\n",
       "<line clip-path=\"url(#clip6002)\" x1=\"65.2414\" y1=\"289.569\" x2=\"65.2414\" y2=\"284.569\" style=\"stroke:#000000; stroke-opacity:1\"/>\n",
       "<line clip-path=\"url(#clip6002)\" x1=\"65.2414\" y1=\"289.569\" x2=\"70.2414\" y2=\"289.569\" style=\"stroke:#000000; stroke-opacity:1\"/>\n",
       "<line clip-path=\"url(#clip6002)\" x1=\"65.2414\" y1=\"289.569\" x2=\"65.2414\" y2=\"293.569\" style=\"stroke:#ff0000; stroke-opacity:1\"/>\n",
       "<line clip-path=\"url(#clip6002)\" x1=\"65.2414\" y1=\"289.569\" x2=\"61.2414\" y2=\"289.569\" style=\"stroke:#ff0000; stroke-opacity:1\"/>\n",
       "<line clip-path=\"url(#clip6002)\" x1=\"65.2414\" y1=\"289.569\" x2=\"65.2414\" y2=\"285.569\" style=\"stroke:#ff0000; stroke-opacity:1\"/>\n",
       "<line clip-path=\"url(#clip6002)\" x1=\"65.2414\" y1=\"289.569\" x2=\"69.2414\" y2=\"289.569\" style=\"stroke:#ff0000; stroke-opacity:1\"/>\n",
       "<line clip-path=\"url(#clip6002)\" x1=\"321.249\" y1=\"132.732\" x2=\"321.249\" y2=\"137.732\" style=\"stroke:#000000; stroke-opacity:1\"/>\n",
       "<line clip-path=\"url(#clip6002)\" x1=\"321.249\" y1=\"132.732\" x2=\"316.249\" y2=\"132.732\" style=\"stroke:#000000; stroke-opacity:1\"/>\n",
       "<line clip-path=\"url(#clip6002)\" x1=\"321.249\" y1=\"132.732\" x2=\"321.249\" y2=\"127.732\" style=\"stroke:#000000; stroke-opacity:1\"/>\n",
       "<line clip-path=\"url(#clip6002)\" x1=\"321.249\" y1=\"132.732\" x2=\"326.249\" y2=\"132.732\" style=\"stroke:#000000; stroke-opacity:1\"/>\n",
       "<line clip-path=\"url(#clip6002)\" x1=\"321.249\" y1=\"132.732\" x2=\"321.249\" y2=\"136.732\" style=\"stroke:#ff0000; stroke-opacity:1\"/>\n",
       "<line clip-path=\"url(#clip6002)\" x1=\"321.249\" y1=\"132.732\" x2=\"317.249\" y2=\"132.732\" style=\"stroke:#ff0000; stroke-opacity:1\"/>\n",
       "<line clip-path=\"url(#clip6002)\" x1=\"321.249\" y1=\"132.732\" x2=\"321.249\" y2=\"128.732\" style=\"stroke:#ff0000; stroke-opacity:1\"/>\n",
       "<line clip-path=\"url(#clip6002)\" x1=\"321.249\" y1=\"132.732\" x2=\"325.249\" y2=\"132.732\" style=\"stroke:#ff0000; stroke-opacity:1\"/>\n",
       "<line clip-path=\"url(#clip6002)\" x1=\"65.9471\" y1=\"290.812\" x2=\"65.9471\" y2=\"295.812\" style=\"stroke:#000000; stroke-opacity:1\"/>\n",
       "<line clip-path=\"url(#clip6002)\" x1=\"65.9471\" y1=\"290.812\" x2=\"60.9471\" y2=\"290.812\" style=\"stroke:#000000; stroke-opacity:1\"/>\n",
       "<line clip-path=\"url(#clip6002)\" x1=\"65.9471\" y1=\"290.812\" x2=\"65.9471\" y2=\"285.812\" style=\"stroke:#000000; stroke-opacity:1\"/>\n",
       "<line clip-path=\"url(#clip6002)\" x1=\"65.9471\" y1=\"290.812\" x2=\"70.9471\" y2=\"290.812\" style=\"stroke:#000000; stroke-opacity:1\"/>\n",
       "<line clip-path=\"url(#clip6002)\" x1=\"65.9471\" y1=\"290.812\" x2=\"65.9471\" y2=\"294.812\" style=\"stroke:#ff0000; stroke-opacity:1\"/>\n",
       "<line clip-path=\"url(#clip6002)\" x1=\"65.9471\" y1=\"290.812\" x2=\"61.9471\" y2=\"290.812\" style=\"stroke:#ff0000; stroke-opacity:1\"/>\n",
       "<line clip-path=\"url(#clip6002)\" x1=\"65.9471\" y1=\"290.812\" x2=\"65.9471\" y2=\"286.812\" style=\"stroke:#ff0000; stroke-opacity:1\"/>\n",
       "<line clip-path=\"url(#clip6002)\" x1=\"65.9471\" y1=\"290.812\" x2=\"69.9471\" y2=\"290.812\" style=\"stroke:#ff0000; stroke-opacity:1\"/>\n",
       "<line clip-path=\"url(#clip6002)\" x1=\"146.941\" y1=\"238.707\" x2=\"146.941\" y2=\"243.707\" style=\"stroke:#000000; stroke-opacity:1\"/>\n",
       "<line clip-path=\"url(#clip6002)\" x1=\"146.941\" y1=\"238.707\" x2=\"141.941\" y2=\"238.707\" style=\"stroke:#000000; stroke-opacity:1\"/>\n",
       "<line clip-path=\"url(#clip6002)\" x1=\"146.941\" y1=\"238.707\" x2=\"146.941\" y2=\"233.707\" style=\"stroke:#000000; stroke-opacity:1\"/>\n",
       "<line clip-path=\"url(#clip6002)\" x1=\"146.941\" y1=\"238.707\" x2=\"151.941\" y2=\"238.707\" style=\"stroke:#000000; stroke-opacity:1\"/>\n",
       "<line clip-path=\"url(#clip6002)\" x1=\"146.941\" y1=\"238.707\" x2=\"146.941\" y2=\"242.707\" style=\"stroke:#ff0000; stroke-opacity:1\"/>\n",
       "<line clip-path=\"url(#clip6002)\" x1=\"146.941\" y1=\"238.707\" x2=\"142.941\" y2=\"238.707\" style=\"stroke:#ff0000; stroke-opacity:1\"/>\n",
       "<line clip-path=\"url(#clip6002)\" x1=\"146.941\" y1=\"238.707\" x2=\"146.941\" y2=\"234.707\" style=\"stroke:#ff0000; stroke-opacity:1\"/>\n",
       "<line clip-path=\"url(#clip6002)\" x1=\"146.941\" y1=\"238.707\" x2=\"150.941\" y2=\"238.707\" style=\"stroke:#ff0000; stroke-opacity:1\"/>\n",
       "<line clip-path=\"url(#clip6002)\" x1=\"63.1215\" y1=\"322.031\" x2=\"63.1215\" y2=\"327.031\" style=\"stroke:#000000; stroke-opacity:1\"/>\n",
       "<line clip-path=\"url(#clip6002)\" x1=\"63.1215\" y1=\"322.031\" x2=\"58.1215\" y2=\"322.031\" style=\"stroke:#000000; stroke-opacity:1\"/>\n",
       "<line clip-path=\"url(#clip6002)\" x1=\"63.1215\" y1=\"322.031\" x2=\"63.1215\" y2=\"317.031\" style=\"stroke:#000000; stroke-opacity:1\"/>\n",
       "<line clip-path=\"url(#clip6002)\" x1=\"63.1215\" y1=\"322.031\" x2=\"68.1215\" y2=\"322.031\" style=\"stroke:#000000; stroke-opacity:1\"/>\n",
       "<line clip-path=\"url(#clip6002)\" x1=\"63.1215\" y1=\"322.031\" x2=\"63.1215\" y2=\"326.031\" style=\"stroke:#ff0000; stroke-opacity:1\"/>\n",
       "<line clip-path=\"url(#clip6002)\" x1=\"63.1215\" y1=\"322.031\" x2=\"59.1215\" y2=\"322.031\" style=\"stroke:#ff0000; stroke-opacity:1\"/>\n",
       "<line clip-path=\"url(#clip6002)\" x1=\"63.1215\" y1=\"322.031\" x2=\"63.1215\" y2=\"318.031\" style=\"stroke:#ff0000; stroke-opacity:1\"/>\n",
       "<line clip-path=\"url(#clip6002)\" x1=\"63.1215\" y1=\"322.031\" x2=\"67.1215\" y2=\"322.031\" style=\"stroke:#ff0000; stroke-opacity:1\"/>\n",
       "<line clip-path=\"url(#clip6002)\" x1=\"55.208\" y1=\"286.233\" x2=\"55.208\" y2=\"291.233\" style=\"stroke:#000000; stroke-opacity:1\"/>\n",
       "<line clip-path=\"url(#clip6002)\" x1=\"55.208\" y1=\"286.233\" x2=\"50.208\" y2=\"286.233\" style=\"stroke:#000000; stroke-opacity:1\"/>\n",
       "<line clip-path=\"url(#clip6002)\" x1=\"55.208\" y1=\"286.233\" x2=\"55.208\" y2=\"281.233\" style=\"stroke:#000000; stroke-opacity:1\"/>\n",
       "<line clip-path=\"url(#clip6002)\" x1=\"55.208\" y1=\"286.233\" x2=\"60.208\" y2=\"286.233\" style=\"stroke:#000000; stroke-opacity:1\"/>\n",
       "<line clip-path=\"url(#clip6002)\" x1=\"55.208\" y1=\"286.233\" x2=\"55.208\" y2=\"290.233\" style=\"stroke:#ff0000; stroke-opacity:1\"/>\n",
       "<line clip-path=\"url(#clip6002)\" x1=\"55.208\" y1=\"286.233\" x2=\"51.208\" y2=\"286.233\" style=\"stroke:#ff0000; stroke-opacity:1\"/>\n",
       "<line clip-path=\"url(#clip6002)\" x1=\"55.208\" y1=\"286.233\" x2=\"55.208\" y2=\"282.233\" style=\"stroke:#ff0000; stroke-opacity:1\"/>\n",
       "<line clip-path=\"url(#clip6002)\" x1=\"55.208\" y1=\"286.233\" x2=\"59.208\" y2=\"286.233\" style=\"stroke:#ff0000; stroke-opacity:1\"/>\n",
       "<line clip-path=\"url(#clip6002)\" x1=\"85.069\" y1=\"263.296\" x2=\"85.069\" y2=\"268.296\" style=\"stroke:#000000; stroke-opacity:1\"/>\n",
       "<line clip-path=\"url(#clip6002)\" x1=\"85.069\" y1=\"263.296\" x2=\"80.069\" y2=\"263.296\" style=\"stroke:#000000; stroke-opacity:1\"/>\n",
       "<line clip-path=\"url(#clip6002)\" x1=\"85.069\" y1=\"263.296\" x2=\"85.069\" y2=\"258.296\" style=\"stroke:#000000; stroke-opacity:1\"/>\n",
       "<line clip-path=\"url(#clip6002)\" x1=\"85.069\" y1=\"263.296\" x2=\"90.069\" y2=\"263.296\" style=\"stroke:#000000; stroke-opacity:1\"/>\n",
       "<line clip-path=\"url(#clip6002)\" x1=\"85.069\" y1=\"263.296\" x2=\"85.069\" y2=\"267.296\" style=\"stroke:#ff0000; stroke-opacity:1\"/>\n",
       "<line clip-path=\"url(#clip6002)\" x1=\"85.069\" y1=\"263.296\" x2=\"81.069\" y2=\"263.296\" style=\"stroke:#ff0000; stroke-opacity:1\"/>\n",
       "<line clip-path=\"url(#clip6002)\" x1=\"85.069\" y1=\"263.296\" x2=\"85.069\" y2=\"259.296\" style=\"stroke:#ff0000; stroke-opacity:1\"/>\n",
       "<line clip-path=\"url(#clip6002)\" x1=\"85.069\" y1=\"263.296\" x2=\"89.069\" y2=\"263.296\" style=\"stroke:#ff0000; stroke-opacity:1\"/>\n",
       "<line clip-path=\"url(#clip6002)\" x1=\"47.658\" y1=\"324.02\" x2=\"47.658\" y2=\"329.02\" style=\"stroke:#000000; stroke-opacity:1\"/>\n",
       "<line clip-path=\"url(#clip6002)\" x1=\"47.658\" y1=\"324.02\" x2=\"42.658\" y2=\"324.02\" style=\"stroke:#000000; stroke-opacity:1\"/>\n",
       "<line clip-path=\"url(#clip6002)\" x1=\"47.658\" y1=\"324.02\" x2=\"47.658\" y2=\"319.02\" style=\"stroke:#000000; stroke-opacity:1\"/>\n",
       "<line clip-path=\"url(#clip6002)\" x1=\"47.658\" y1=\"324.02\" x2=\"52.658\" y2=\"324.02\" style=\"stroke:#000000; stroke-opacity:1\"/>\n",
       "<line clip-path=\"url(#clip6002)\" x1=\"47.658\" y1=\"324.02\" x2=\"47.658\" y2=\"328.02\" style=\"stroke:#ff0000; stroke-opacity:1\"/>\n",
       "<line clip-path=\"url(#clip6002)\" x1=\"47.658\" y1=\"324.02\" x2=\"43.658\" y2=\"324.02\" style=\"stroke:#ff0000; stroke-opacity:1\"/>\n",
       "<line clip-path=\"url(#clip6002)\" x1=\"47.658\" y1=\"324.02\" x2=\"47.658\" y2=\"320.02\" style=\"stroke:#ff0000; stroke-opacity:1\"/>\n",
       "<line clip-path=\"url(#clip6002)\" x1=\"47.658\" y1=\"324.02\" x2=\"51.658\" y2=\"324.02\" style=\"stroke:#ff0000; stroke-opacity:1\"/>\n",
       "<line clip-path=\"url(#clip6002)\" x1=\"87.0133\" y1=\"284.455\" x2=\"87.0133\" y2=\"289.455\" style=\"stroke:#000000; stroke-opacity:1\"/>\n",
       "<line clip-path=\"url(#clip6002)\" x1=\"87.0133\" y1=\"284.455\" x2=\"82.0133\" y2=\"284.455\" style=\"stroke:#000000; stroke-opacity:1\"/>\n",
       "<line clip-path=\"url(#clip6002)\" x1=\"87.0133\" y1=\"284.455\" x2=\"87.0133\" y2=\"279.455\" style=\"stroke:#000000; stroke-opacity:1\"/>\n",
       "<line clip-path=\"url(#clip6002)\" x1=\"87.0133\" y1=\"284.455\" x2=\"92.0133\" y2=\"284.455\" style=\"stroke:#000000; stroke-opacity:1\"/>\n",
       "<line clip-path=\"url(#clip6002)\" x1=\"87.0133\" y1=\"284.455\" x2=\"87.0133\" y2=\"288.455\" style=\"stroke:#ff0000; stroke-opacity:1\"/>\n",
       "<line clip-path=\"url(#clip6002)\" x1=\"87.0133\" y1=\"284.455\" x2=\"83.0133\" y2=\"284.455\" style=\"stroke:#ff0000; stroke-opacity:1\"/>\n",
       "<line clip-path=\"url(#clip6002)\" x1=\"87.0133\" y1=\"284.455\" x2=\"87.0133\" y2=\"280.455\" style=\"stroke:#ff0000; stroke-opacity:1\"/>\n",
       "<line clip-path=\"url(#clip6002)\" x1=\"87.0133\" y1=\"284.455\" x2=\"91.0133\" y2=\"284.455\" style=\"stroke:#ff0000; stroke-opacity:1\"/>\n",
       "<line clip-path=\"url(#clip6002)\" x1=\"106.432\" y1=\"262.214\" x2=\"106.432\" y2=\"267.214\" style=\"stroke:#000000; stroke-opacity:1\"/>\n",
       "<line clip-path=\"url(#clip6002)\" x1=\"106.432\" y1=\"262.214\" x2=\"101.432\" y2=\"262.214\" style=\"stroke:#000000; stroke-opacity:1\"/>\n",
       "<line clip-path=\"url(#clip6002)\" x1=\"106.432\" y1=\"262.214\" x2=\"106.432\" y2=\"257.214\" style=\"stroke:#000000; stroke-opacity:1\"/>\n",
       "<line clip-path=\"url(#clip6002)\" x1=\"106.432\" y1=\"262.214\" x2=\"111.432\" y2=\"262.214\" style=\"stroke:#000000; stroke-opacity:1\"/>\n",
       "<line clip-path=\"url(#clip6002)\" x1=\"106.432\" y1=\"262.214\" x2=\"106.432\" y2=\"266.214\" style=\"stroke:#ff0000; stroke-opacity:1\"/>\n",
       "<line clip-path=\"url(#clip6002)\" x1=\"106.432\" y1=\"262.214\" x2=\"102.432\" y2=\"262.214\" style=\"stroke:#ff0000; stroke-opacity:1\"/>\n",
       "<line clip-path=\"url(#clip6002)\" x1=\"106.432\" y1=\"262.214\" x2=\"106.432\" y2=\"258.214\" style=\"stroke:#ff0000; stroke-opacity:1\"/>\n",
       "<line clip-path=\"url(#clip6002)\" x1=\"106.432\" y1=\"262.214\" x2=\"110.432\" y2=\"262.214\" style=\"stroke:#ff0000; stroke-opacity:1\"/>\n",
       "<line clip-path=\"url(#clip6002)\" x1=\"79.7298\" y1=\"291.024\" x2=\"79.7298\" y2=\"296.024\" style=\"stroke:#000000; stroke-opacity:1\"/>\n",
       "<line clip-path=\"url(#clip6002)\" x1=\"79.7298\" y1=\"291.024\" x2=\"74.7298\" y2=\"291.024\" style=\"stroke:#000000; stroke-opacity:1\"/>\n",
       "<line clip-path=\"url(#clip6002)\" x1=\"79.7298\" y1=\"291.024\" x2=\"79.7298\" y2=\"286.024\" style=\"stroke:#000000; stroke-opacity:1\"/>\n",
       "<line clip-path=\"url(#clip6002)\" x1=\"79.7298\" y1=\"291.024\" x2=\"84.7298\" y2=\"291.024\" style=\"stroke:#000000; stroke-opacity:1\"/>\n",
       "<line clip-path=\"url(#clip6002)\" x1=\"79.7298\" y1=\"291.024\" x2=\"79.7298\" y2=\"295.024\" style=\"stroke:#ff0000; stroke-opacity:1\"/>\n",
       "<line clip-path=\"url(#clip6002)\" x1=\"79.7298\" y1=\"291.024\" x2=\"75.7298\" y2=\"291.024\" style=\"stroke:#ff0000; stroke-opacity:1\"/>\n",
       "<line clip-path=\"url(#clip6002)\" x1=\"79.7298\" y1=\"291.024\" x2=\"79.7298\" y2=\"287.024\" style=\"stroke:#ff0000; stroke-opacity:1\"/>\n",
       "<line clip-path=\"url(#clip6002)\" x1=\"79.7298\" y1=\"291.024\" x2=\"83.7298\" y2=\"291.024\" style=\"stroke:#ff0000; stroke-opacity:1\"/>\n",
       "<line clip-path=\"url(#clip6002)\" x1=\"506.169\" y1=\"52.5773\" x2=\"506.169\" y2=\"57.5773\" style=\"stroke:#000000; stroke-opacity:1\"/>\n",
       "<line clip-path=\"url(#clip6002)\" x1=\"506.169\" y1=\"52.5773\" x2=\"501.169\" y2=\"52.5773\" style=\"stroke:#000000; stroke-opacity:1\"/>\n",
       "<line clip-path=\"url(#clip6002)\" x1=\"506.169\" y1=\"52.5773\" x2=\"506.169\" y2=\"47.5773\" style=\"stroke:#000000; stroke-opacity:1\"/>\n",
       "<line clip-path=\"url(#clip6002)\" x1=\"506.169\" y1=\"52.5773\" x2=\"511.169\" y2=\"52.5773\" style=\"stroke:#000000; stroke-opacity:1\"/>\n",
       "<line clip-path=\"url(#clip6002)\" x1=\"506.169\" y1=\"52.5773\" x2=\"506.169\" y2=\"56.5773\" style=\"stroke:#ff0000; stroke-opacity:1\"/>\n",
       "<line clip-path=\"url(#clip6002)\" x1=\"506.169\" y1=\"52.5773\" x2=\"502.169\" y2=\"52.5773\" style=\"stroke:#ff0000; stroke-opacity:1\"/>\n",
       "<line clip-path=\"url(#clip6002)\" x1=\"506.169\" y1=\"52.5773\" x2=\"506.169\" y2=\"48.5773\" style=\"stroke:#ff0000; stroke-opacity:1\"/>\n",
       "<line clip-path=\"url(#clip6002)\" x1=\"506.169\" y1=\"52.5773\" x2=\"510.169\" y2=\"52.5773\" style=\"stroke:#ff0000; stroke-opacity:1\"/>\n",
       "<line clip-path=\"url(#clip6002)\" x1=\"58.5606\" y1=\"276.631\" x2=\"58.5606\" y2=\"281.631\" style=\"stroke:#000000; stroke-opacity:1\"/>\n",
       "<line clip-path=\"url(#clip6002)\" x1=\"58.5606\" y1=\"276.631\" x2=\"53.5606\" y2=\"276.631\" style=\"stroke:#000000; stroke-opacity:1\"/>\n",
       "<line clip-path=\"url(#clip6002)\" x1=\"58.5606\" y1=\"276.631\" x2=\"58.5606\" y2=\"271.631\" style=\"stroke:#000000; stroke-opacity:1\"/>\n",
       "<line clip-path=\"url(#clip6002)\" x1=\"58.5606\" y1=\"276.631\" x2=\"63.5606\" y2=\"276.631\" style=\"stroke:#000000; stroke-opacity:1\"/>\n",
       "<line clip-path=\"url(#clip6002)\" x1=\"58.5606\" y1=\"276.631\" x2=\"58.5606\" y2=\"280.631\" style=\"stroke:#ff0000; stroke-opacity:1\"/>\n",
       "<line clip-path=\"url(#clip6002)\" x1=\"58.5606\" y1=\"276.631\" x2=\"54.5606\" y2=\"276.631\" style=\"stroke:#ff0000; stroke-opacity:1\"/>\n",
       "<line clip-path=\"url(#clip6002)\" x1=\"58.5606\" y1=\"276.631\" x2=\"58.5606\" y2=\"272.631\" style=\"stroke:#ff0000; stroke-opacity:1\"/>\n",
       "<line clip-path=\"url(#clip6002)\" x1=\"58.5606\" y1=\"276.631\" x2=\"62.5606\" y2=\"276.631\" style=\"stroke:#ff0000; stroke-opacity:1\"/>\n",
       "<line clip-path=\"url(#clip6002)\" x1=\"83.8788\" y1=\"264.797\" x2=\"83.8788\" y2=\"269.797\" style=\"stroke:#000000; stroke-opacity:1\"/>\n",
       "<line clip-path=\"url(#clip6002)\" x1=\"83.8788\" y1=\"264.797\" x2=\"78.8788\" y2=\"264.797\" style=\"stroke:#000000; stroke-opacity:1\"/>\n",
       "<line clip-path=\"url(#clip6002)\" x1=\"83.8788\" y1=\"264.797\" x2=\"83.8788\" y2=\"259.797\" style=\"stroke:#000000; stroke-opacity:1\"/>\n",
       "<line clip-path=\"url(#clip6002)\" x1=\"83.8788\" y1=\"264.797\" x2=\"88.8788\" y2=\"264.797\" style=\"stroke:#000000; stroke-opacity:1\"/>\n",
       "<line clip-path=\"url(#clip6002)\" x1=\"83.8788\" y1=\"264.797\" x2=\"83.8788\" y2=\"268.797\" style=\"stroke:#ff0000; stroke-opacity:1\"/>\n",
       "<line clip-path=\"url(#clip6002)\" x1=\"83.8788\" y1=\"264.797\" x2=\"79.8788\" y2=\"264.797\" style=\"stroke:#ff0000; stroke-opacity:1\"/>\n",
       "<line clip-path=\"url(#clip6002)\" x1=\"83.8788\" y1=\"264.797\" x2=\"83.8788\" y2=\"260.797\" style=\"stroke:#ff0000; stroke-opacity:1\"/>\n",
       "<line clip-path=\"url(#clip6002)\" x1=\"83.8788\" y1=\"264.797\" x2=\"87.8788\" y2=\"264.797\" style=\"stroke:#ff0000; stroke-opacity:1\"/>\n",
       "<line clip-path=\"url(#clip6002)\" x1=\"60.8259\" y1=\"291.742\" x2=\"60.8259\" y2=\"296.742\" style=\"stroke:#000000; stroke-opacity:1\"/>\n",
       "<line clip-path=\"url(#clip6002)\" x1=\"60.8259\" y1=\"291.742\" x2=\"55.8259\" y2=\"291.742\" style=\"stroke:#000000; stroke-opacity:1\"/>\n",
       "<line clip-path=\"url(#clip6002)\" x1=\"60.8259\" y1=\"291.742\" x2=\"60.8259\" y2=\"286.742\" style=\"stroke:#000000; stroke-opacity:1\"/>\n",
       "<line clip-path=\"url(#clip6002)\" x1=\"60.8259\" y1=\"291.742\" x2=\"65.8259\" y2=\"291.742\" style=\"stroke:#000000; stroke-opacity:1\"/>\n",
       "<line clip-path=\"url(#clip6002)\" x1=\"60.8259\" y1=\"291.742\" x2=\"60.8259\" y2=\"295.742\" style=\"stroke:#ff0000; stroke-opacity:1\"/>\n",
       "<line clip-path=\"url(#clip6002)\" x1=\"60.8259\" y1=\"291.742\" x2=\"56.8259\" y2=\"291.742\" style=\"stroke:#ff0000; stroke-opacity:1\"/>\n",
       "<line clip-path=\"url(#clip6002)\" x1=\"60.8259\" y1=\"291.742\" x2=\"60.8259\" y2=\"287.742\" style=\"stroke:#ff0000; stroke-opacity:1\"/>\n",
       "<line clip-path=\"url(#clip6002)\" x1=\"60.8259\" y1=\"291.742\" x2=\"64.8259\" y2=\"291.742\" style=\"stroke:#ff0000; stroke-opacity:1\"/>\n",
       "<line clip-path=\"url(#clip6002)\" x1=\"466.041\" y1=\"41.4284\" x2=\"466.041\" y2=\"46.4284\" style=\"stroke:#000000; stroke-opacity:1\"/>\n",
       "<line clip-path=\"url(#clip6002)\" x1=\"466.041\" y1=\"41.4284\" x2=\"461.041\" y2=\"41.4284\" style=\"stroke:#000000; stroke-opacity:1\"/>\n",
       "<line clip-path=\"url(#clip6002)\" x1=\"466.041\" y1=\"41.4284\" x2=\"466.041\" y2=\"36.4284\" style=\"stroke:#000000; stroke-opacity:1\"/>\n",
       "<line clip-path=\"url(#clip6002)\" x1=\"466.041\" y1=\"41.4284\" x2=\"471.041\" y2=\"41.4284\" style=\"stroke:#000000; stroke-opacity:1\"/>\n",
       "<line clip-path=\"url(#clip6002)\" x1=\"466.041\" y1=\"41.4284\" x2=\"466.041\" y2=\"45.4284\" style=\"stroke:#ff0000; stroke-opacity:1\"/>\n",
       "<line clip-path=\"url(#clip6002)\" x1=\"466.041\" y1=\"41.4284\" x2=\"462.041\" y2=\"41.4284\" style=\"stroke:#ff0000; stroke-opacity:1\"/>\n",
       "<line clip-path=\"url(#clip6002)\" x1=\"466.041\" y1=\"41.4284\" x2=\"466.041\" y2=\"37.4284\" style=\"stroke:#ff0000; stroke-opacity:1\"/>\n",
       "<line clip-path=\"url(#clip6002)\" x1=\"466.041\" y1=\"41.4284\" x2=\"470.041\" y2=\"41.4284\" style=\"stroke:#ff0000; stroke-opacity:1\"/>\n",
       "<line clip-path=\"url(#clip6002)\" x1=\"280.788\" y1=\"158.383\" x2=\"280.788\" y2=\"163.383\" style=\"stroke:#000000; stroke-opacity:1\"/>\n",
       "<line clip-path=\"url(#clip6002)\" x1=\"280.788\" y1=\"158.383\" x2=\"275.788\" y2=\"158.383\" style=\"stroke:#000000; stroke-opacity:1\"/>\n",
       "<line clip-path=\"url(#clip6002)\" x1=\"280.788\" y1=\"158.383\" x2=\"280.788\" y2=\"153.383\" style=\"stroke:#000000; stroke-opacity:1\"/>\n",
       "<line clip-path=\"url(#clip6002)\" x1=\"280.788\" y1=\"158.383\" x2=\"285.788\" y2=\"158.383\" style=\"stroke:#000000; stroke-opacity:1\"/>\n",
       "<line clip-path=\"url(#clip6002)\" x1=\"280.788\" y1=\"158.383\" x2=\"280.788\" y2=\"162.383\" style=\"stroke:#ff0000; stroke-opacity:1\"/>\n",
       "<line clip-path=\"url(#clip6002)\" x1=\"280.788\" y1=\"158.383\" x2=\"276.788\" y2=\"158.383\" style=\"stroke:#ff0000; stroke-opacity:1\"/>\n",
       "<line clip-path=\"url(#clip6002)\" x1=\"280.788\" y1=\"158.383\" x2=\"280.788\" y2=\"154.383\" style=\"stroke:#ff0000; stroke-opacity:1\"/>\n",
       "<line clip-path=\"url(#clip6002)\" x1=\"280.788\" y1=\"158.383\" x2=\"284.788\" y2=\"158.383\" style=\"stroke:#ff0000; stroke-opacity:1\"/>\n",
       "<line clip-path=\"url(#clip6002)\" x1=\"224.125\" y1=\"240.999\" x2=\"224.125\" y2=\"245.999\" style=\"stroke:#000000; stroke-opacity:1\"/>\n",
       "<line clip-path=\"url(#clip6002)\" x1=\"224.125\" y1=\"240.999\" x2=\"219.125\" y2=\"240.999\" style=\"stroke:#000000; stroke-opacity:1\"/>\n",
       "<line clip-path=\"url(#clip6002)\" x1=\"224.125\" y1=\"240.999\" x2=\"224.125\" y2=\"235.999\" style=\"stroke:#000000; stroke-opacity:1\"/>\n",
       "<line clip-path=\"url(#clip6002)\" x1=\"224.125\" y1=\"240.999\" x2=\"229.125\" y2=\"240.999\" style=\"stroke:#000000; stroke-opacity:1\"/>\n",
       "<line clip-path=\"url(#clip6002)\" x1=\"224.125\" y1=\"240.999\" x2=\"224.125\" y2=\"244.999\" style=\"stroke:#ff0000; stroke-opacity:1\"/>\n",
       "<line clip-path=\"url(#clip6002)\" x1=\"224.125\" y1=\"240.999\" x2=\"220.125\" y2=\"240.999\" style=\"stroke:#ff0000; stroke-opacity:1\"/>\n",
       "<line clip-path=\"url(#clip6002)\" x1=\"224.125\" y1=\"240.999\" x2=\"224.125\" y2=\"236.999\" style=\"stroke:#ff0000; stroke-opacity:1\"/>\n",
       "<line clip-path=\"url(#clip6002)\" x1=\"224.125\" y1=\"240.999\" x2=\"228.125\" y2=\"240.999\" style=\"stroke:#ff0000; stroke-opacity:1\"/>\n",
       "<line clip-path=\"url(#clip6002)\" x1=\"291.328\" y1=\"143.138\" x2=\"291.328\" y2=\"148.138\" style=\"stroke:#000000; stroke-opacity:1\"/>\n",
       "<line clip-path=\"url(#clip6002)\" x1=\"291.328\" y1=\"143.138\" x2=\"286.328\" y2=\"143.138\" style=\"stroke:#000000; stroke-opacity:1\"/>\n",
       "<line clip-path=\"url(#clip6002)\" x1=\"291.328\" y1=\"143.138\" x2=\"291.328\" y2=\"138.138\" style=\"stroke:#000000; stroke-opacity:1\"/>\n",
       "<line clip-path=\"url(#clip6002)\" x1=\"291.328\" y1=\"143.138\" x2=\"296.328\" y2=\"143.138\" style=\"stroke:#000000; stroke-opacity:1\"/>\n",
       "<line clip-path=\"url(#clip6002)\" x1=\"291.328\" y1=\"143.138\" x2=\"291.328\" y2=\"147.138\" style=\"stroke:#ff0000; stroke-opacity:1\"/>\n",
       "<line clip-path=\"url(#clip6002)\" x1=\"291.328\" y1=\"143.138\" x2=\"287.328\" y2=\"143.138\" style=\"stroke:#ff0000; stroke-opacity:1\"/>\n",
       "<line clip-path=\"url(#clip6002)\" x1=\"291.328\" y1=\"143.138\" x2=\"291.328\" y2=\"139.138\" style=\"stroke:#ff0000; stroke-opacity:1\"/>\n",
       "<line clip-path=\"url(#clip6002)\" x1=\"291.328\" y1=\"143.138\" x2=\"295.328\" y2=\"143.138\" style=\"stroke:#ff0000; stroke-opacity:1\"/>\n",
       "<line clip-path=\"url(#clip6002)\" x1=\"564.71\" y1=\"22.113\" x2=\"564.71\" y2=\"27.113\" style=\"stroke:#000000; stroke-opacity:1\"/>\n",
       "<line clip-path=\"url(#clip6002)\" x1=\"564.71\" y1=\"22.113\" x2=\"559.71\" y2=\"22.113\" style=\"stroke:#000000; stroke-opacity:1\"/>\n",
       "<line clip-path=\"url(#clip6002)\" x1=\"564.71\" y1=\"22.113\" x2=\"564.71\" y2=\"17.113\" style=\"stroke:#000000; stroke-opacity:1\"/>\n",
       "<line clip-path=\"url(#clip6002)\" x1=\"564.71\" y1=\"22.113\" x2=\"569.71\" y2=\"22.113\" style=\"stroke:#000000; stroke-opacity:1\"/>\n",
       "<line clip-path=\"url(#clip6002)\" x1=\"564.71\" y1=\"22.113\" x2=\"564.71\" y2=\"26.113\" style=\"stroke:#ff0000; stroke-opacity:1\"/>\n",
       "<line clip-path=\"url(#clip6002)\" x1=\"564.71\" y1=\"22.113\" x2=\"560.71\" y2=\"22.113\" style=\"stroke:#ff0000; stroke-opacity:1\"/>\n",
       "<line clip-path=\"url(#clip6002)\" x1=\"564.71\" y1=\"22.113\" x2=\"564.71\" y2=\"18.113\" style=\"stroke:#ff0000; stroke-opacity:1\"/>\n",
       "<line clip-path=\"url(#clip6002)\" x1=\"564.71\" y1=\"22.113\" x2=\"568.71\" y2=\"22.113\" style=\"stroke:#ff0000; stroke-opacity:1\"/>\n",
       "<line clip-path=\"url(#clip6002)\" x1=\"51.3619\" y1=\"346.814\" x2=\"51.3619\" y2=\"351.814\" style=\"stroke:#000000; stroke-opacity:1\"/>\n",
       "<line clip-path=\"url(#clip6002)\" x1=\"51.3619\" y1=\"346.814\" x2=\"46.3619\" y2=\"346.814\" style=\"stroke:#000000; stroke-opacity:1\"/>\n",
       "<line clip-path=\"url(#clip6002)\" x1=\"51.3619\" y1=\"346.814\" x2=\"51.3619\" y2=\"341.814\" style=\"stroke:#000000; stroke-opacity:1\"/>\n",
       "<line clip-path=\"url(#clip6002)\" x1=\"51.3619\" y1=\"346.814\" x2=\"56.3619\" y2=\"346.814\" style=\"stroke:#000000; stroke-opacity:1\"/>\n",
       "<line clip-path=\"url(#clip6002)\" x1=\"51.3619\" y1=\"346.814\" x2=\"51.3619\" y2=\"350.814\" style=\"stroke:#ff0000; stroke-opacity:1\"/>\n",
       "<line clip-path=\"url(#clip6002)\" x1=\"51.3619\" y1=\"346.814\" x2=\"47.3619\" y2=\"346.814\" style=\"stroke:#ff0000; stroke-opacity:1\"/>\n",
       "<line clip-path=\"url(#clip6002)\" x1=\"51.3619\" y1=\"346.814\" x2=\"51.3619\" y2=\"342.814\" style=\"stroke:#ff0000; stroke-opacity:1\"/>\n",
       "<line clip-path=\"url(#clip6002)\" x1=\"51.3619\" y1=\"346.814\" x2=\"55.3619\" y2=\"346.814\" style=\"stroke:#ff0000; stroke-opacity:1\"/>\n",
       "<line clip-path=\"url(#clip6002)\" x1=\"91.8528\" y1=\"254.441\" x2=\"91.8528\" y2=\"259.441\" style=\"stroke:#000000; stroke-opacity:1\"/>\n",
       "<line clip-path=\"url(#clip6002)\" x1=\"91.8528\" y1=\"254.441\" x2=\"86.8528\" y2=\"254.441\" style=\"stroke:#000000; stroke-opacity:1\"/>\n",
       "<line clip-path=\"url(#clip6002)\" x1=\"91.8528\" y1=\"254.441\" x2=\"91.8528\" y2=\"249.441\" style=\"stroke:#000000; stroke-opacity:1\"/>\n",
       "<line clip-path=\"url(#clip6002)\" x1=\"91.8528\" y1=\"254.441\" x2=\"96.8528\" y2=\"254.441\" style=\"stroke:#000000; stroke-opacity:1\"/>\n",
       "<line clip-path=\"url(#clip6002)\" x1=\"91.8528\" y1=\"254.441\" x2=\"91.8528\" y2=\"258.441\" style=\"stroke:#ff0000; stroke-opacity:1\"/>\n",
       "<line clip-path=\"url(#clip6002)\" x1=\"91.8528\" y1=\"254.441\" x2=\"87.8528\" y2=\"254.441\" style=\"stroke:#ff0000; stroke-opacity:1\"/>\n",
       "<line clip-path=\"url(#clip6002)\" x1=\"91.8528\" y1=\"254.441\" x2=\"91.8528\" y2=\"250.441\" style=\"stroke:#ff0000; stroke-opacity:1\"/>\n",
       "<line clip-path=\"url(#clip6002)\" x1=\"91.8528\" y1=\"254.441\" x2=\"95.8528\" y2=\"254.441\" style=\"stroke:#ff0000; stroke-opacity:1\"/>\n",
       "<line clip-path=\"url(#clip6002)\" x1=\"172.374\" y1=\"175.881\" x2=\"172.374\" y2=\"180.881\" style=\"stroke:#000000; stroke-opacity:1\"/>\n",
       "<line clip-path=\"url(#clip6002)\" x1=\"172.374\" y1=\"175.881\" x2=\"167.374\" y2=\"175.881\" style=\"stroke:#000000; stroke-opacity:1\"/>\n",
       "<line clip-path=\"url(#clip6002)\" x1=\"172.374\" y1=\"175.881\" x2=\"172.374\" y2=\"170.881\" style=\"stroke:#000000; stroke-opacity:1\"/>\n",
       "<line clip-path=\"url(#clip6002)\" x1=\"172.374\" y1=\"175.881\" x2=\"177.374\" y2=\"175.881\" style=\"stroke:#000000; stroke-opacity:1\"/>\n",
       "<line clip-path=\"url(#clip6002)\" x1=\"172.374\" y1=\"175.881\" x2=\"172.374\" y2=\"179.881\" style=\"stroke:#ff0000; stroke-opacity:1\"/>\n",
       "<line clip-path=\"url(#clip6002)\" x1=\"172.374\" y1=\"175.881\" x2=\"168.374\" y2=\"175.881\" style=\"stroke:#ff0000; stroke-opacity:1\"/>\n",
       "<line clip-path=\"url(#clip6002)\" x1=\"172.374\" y1=\"175.881\" x2=\"172.374\" y2=\"171.881\" style=\"stroke:#ff0000; stroke-opacity:1\"/>\n",
       "<line clip-path=\"url(#clip6002)\" x1=\"172.374\" y1=\"175.881\" x2=\"176.374\" y2=\"175.881\" style=\"stroke:#ff0000; stroke-opacity:1\"/>\n",
       "<line clip-path=\"url(#clip6002)\" x1=\"70.726\" y1=\"307.524\" x2=\"70.726\" y2=\"312.524\" style=\"stroke:#000000; stroke-opacity:1\"/>\n",
       "<line clip-path=\"url(#clip6002)\" x1=\"70.726\" y1=\"307.524\" x2=\"65.726\" y2=\"307.524\" style=\"stroke:#000000; stroke-opacity:1\"/>\n",
       "<line clip-path=\"url(#clip6002)\" x1=\"70.726\" y1=\"307.524\" x2=\"70.726\" y2=\"302.524\" style=\"stroke:#000000; stroke-opacity:1\"/>\n",
       "<line clip-path=\"url(#clip6002)\" x1=\"70.726\" y1=\"307.524\" x2=\"75.726\" y2=\"307.524\" style=\"stroke:#000000; stroke-opacity:1\"/>\n",
       "<line clip-path=\"url(#clip6002)\" x1=\"70.726\" y1=\"307.524\" x2=\"70.726\" y2=\"311.524\" style=\"stroke:#ff0000; stroke-opacity:1\"/>\n",
       "<line clip-path=\"url(#clip6002)\" x1=\"70.726\" y1=\"307.524\" x2=\"66.726\" y2=\"307.524\" style=\"stroke:#ff0000; stroke-opacity:1\"/>\n",
       "<line clip-path=\"url(#clip6002)\" x1=\"70.726\" y1=\"307.524\" x2=\"70.726\" y2=\"303.524\" style=\"stroke:#ff0000; stroke-opacity:1\"/>\n",
       "<line clip-path=\"url(#clip6002)\" x1=\"70.726\" y1=\"307.524\" x2=\"74.726\" y2=\"307.524\" style=\"stroke:#ff0000; stroke-opacity:1\"/>\n",
       "<line clip-path=\"url(#clip6002)\" x1=\"140.966\" y1=\"247.452\" x2=\"140.966\" y2=\"252.452\" style=\"stroke:#000000; stroke-opacity:1\"/>\n",
       "<line clip-path=\"url(#clip6002)\" x1=\"140.966\" y1=\"247.452\" x2=\"135.966\" y2=\"247.452\" style=\"stroke:#000000; stroke-opacity:1\"/>\n",
       "<line clip-path=\"url(#clip6002)\" x1=\"140.966\" y1=\"247.452\" x2=\"140.966\" y2=\"242.452\" style=\"stroke:#000000; stroke-opacity:1\"/>\n",
       "<line clip-path=\"url(#clip6002)\" x1=\"140.966\" y1=\"247.452\" x2=\"145.966\" y2=\"247.452\" style=\"stroke:#000000; stroke-opacity:1\"/>\n",
       "<line clip-path=\"url(#clip6002)\" x1=\"140.966\" y1=\"247.452\" x2=\"140.966\" y2=\"251.452\" style=\"stroke:#ff0000; stroke-opacity:1\"/>\n",
       "<line clip-path=\"url(#clip6002)\" x1=\"140.966\" y1=\"247.452\" x2=\"136.966\" y2=\"247.452\" style=\"stroke:#ff0000; stroke-opacity:1\"/>\n",
       "<line clip-path=\"url(#clip6002)\" x1=\"140.966\" y1=\"247.452\" x2=\"140.966\" y2=\"243.452\" style=\"stroke:#ff0000; stroke-opacity:1\"/>\n",
       "<line clip-path=\"url(#clip6002)\" x1=\"140.966\" y1=\"247.452\" x2=\"144.966\" y2=\"247.452\" style=\"stroke:#ff0000; stroke-opacity:1\"/>\n",
       "<line clip-path=\"url(#clip6002)\" x1=\"132.556\" y1=\"272.8\" x2=\"132.556\" y2=\"277.8\" style=\"stroke:#000000; stroke-opacity:1\"/>\n",
       "<line clip-path=\"url(#clip6002)\" x1=\"132.556\" y1=\"272.8\" x2=\"127.556\" y2=\"272.8\" style=\"stroke:#000000; stroke-opacity:1\"/>\n",
       "<line clip-path=\"url(#clip6002)\" x1=\"132.556\" y1=\"272.8\" x2=\"132.556\" y2=\"267.8\" style=\"stroke:#000000; stroke-opacity:1\"/>\n",
       "<line clip-path=\"url(#clip6002)\" x1=\"132.556\" y1=\"272.8\" x2=\"137.556\" y2=\"272.8\" style=\"stroke:#000000; stroke-opacity:1\"/>\n",
       "<line clip-path=\"url(#clip6002)\" x1=\"132.556\" y1=\"272.8\" x2=\"132.556\" y2=\"276.8\" style=\"stroke:#ff0000; stroke-opacity:1\"/>\n",
       "<line clip-path=\"url(#clip6002)\" x1=\"132.556\" y1=\"272.8\" x2=\"128.556\" y2=\"272.8\" style=\"stroke:#ff0000; stroke-opacity:1\"/>\n",
       "<line clip-path=\"url(#clip6002)\" x1=\"132.556\" y1=\"272.8\" x2=\"132.556\" y2=\"268.8\" style=\"stroke:#ff0000; stroke-opacity:1\"/>\n",
       "<line clip-path=\"url(#clip6002)\" x1=\"132.556\" y1=\"272.8\" x2=\"136.556\" y2=\"272.8\" style=\"stroke:#ff0000; stroke-opacity:1\"/>\n",
       "<line clip-path=\"url(#clip6002)\" x1=\"137.477\" y1=\"278.508\" x2=\"137.477\" y2=\"283.508\" style=\"stroke:#000000; stroke-opacity:1\"/>\n",
       "<line clip-path=\"url(#clip6002)\" x1=\"137.477\" y1=\"278.508\" x2=\"132.477\" y2=\"278.508\" style=\"stroke:#000000; stroke-opacity:1\"/>\n",
       "<line clip-path=\"url(#clip6002)\" x1=\"137.477\" y1=\"278.508\" x2=\"137.477\" y2=\"273.508\" style=\"stroke:#000000; stroke-opacity:1\"/>\n",
       "<line clip-path=\"url(#clip6002)\" x1=\"137.477\" y1=\"278.508\" x2=\"142.477\" y2=\"278.508\" style=\"stroke:#000000; stroke-opacity:1\"/>\n",
       "<line clip-path=\"url(#clip6002)\" x1=\"137.477\" y1=\"278.508\" x2=\"137.477\" y2=\"282.508\" style=\"stroke:#ff0000; stroke-opacity:1\"/>\n",
       "<line clip-path=\"url(#clip6002)\" x1=\"137.477\" y1=\"278.508\" x2=\"133.477\" y2=\"278.508\" style=\"stroke:#ff0000; stroke-opacity:1\"/>\n",
       "<line clip-path=\"url(#clip6002)\" x1=\"137.477\" y1=\"278.508\" x2=\"137.477\" y2=\"274.508\" style=\"stroke:#ff0000; stroke-opacity:1\"/>\n",
       "<line clip-path=\"url(#clip6002)\" x1=\"137.477\" y1=\"278.508\" x2=\"141.477\" y2=\"278.508\" style=\"stroke:#ff0000; stroke-opacity:1\"/>\n",
       "<line clip-path=\"url(#clip6002)\" x1=\"62.0797\" y1=\"287.77\" x2=\"62.0797\" y2=\"292.77\" style=\"stroke:#000000; stroke-opacity:1\"/>\n",
       "<line clip-path=\"url(#clip6002)\" x1=\"62.0797\" y1=\"287.77\" x2=\"57.0797\" y2=\"287.77\" style=\"stroke:#000000; stroke-opacity:1\"/>\n",
       "<line clip-path=\"url(#clip6002)\" x1=\"62.0797\" y1=\"287.77\" x2=\"62.0797\" y2=\"282.77\" style=\"stroke:#000000; stroke-opacity:1\"/>\n",
       "<line clip-path=\"url(#clip6002)\" x1=\"62.0797\" y1=\"287.77\" x2=\"67.0797\" y2=\"287.77\" style=\"stroke:#000000; stroke-opacity:1\"/>\n",
       "<line clip-path=\"url(#clip6002)\" x1=\"62.0797\" y1=\"287.77\" x2=\"62.0797\" y2=\"291.77\" style=\"stroke:#ff0000; stroke-opacity:1\"/>\n",
       "<line clip-path=\"url(#clip6002)\" x1=\"62.0797\" y1=\"287.77\" x2=\"58.0797\" y2=\"287.77\" style=\"stroke:#ff0000; stroke-opacity:1\"/>\n",
       "<line clip-path=\"url(#clip6002)\" x1=\"62.0797\" y1=\"287.77\" x2=\"62.0797\" y2=\"283.77\" style=\"stroke:#ff0000; stroke-opacity:1\"/>\n",
       "<line clip-path=\"url(#clip6002)\" x1=\"62.0797\" y1=\"287.77\" x2=\"66.0797\" y2=\"287.77\" style=\"stroke:#ff0000; stroke-opacity:1\"/>\n",
       "<line clip-path=\"url(#clip6002)\" x1=\"281.031\" y1=\"201.699\" x2=\"281.031\" y2=\"206.699\" style=\"stroke:#000000; stroke-opacity:1\"/>\n",
       "<line clip-path=\"url(#clip6002)\" x1=\"281.031\" y1=\"201.699\" x2=\"276.031\" y2=\"201.699\" style=\"stroke:#000000; stroke-opacity:1\"/>\n",
       "<line clip-path=\"url(#clip6002)\" x1=\"281.031\" y1=\"201.699\" x2=\"281.031\" y2=\"196.699\" style=\"stroke:#000000; stroke-opacity:1\"/>\n",
       "<line clip-path=\"url(#clip6002)\" x1=\"281.031\" y1=\"201.699\" x2=\"286.031\" y2=\"201.699\" style=\"stroke:#000000; stroke-opacity:1\"/>\n",
       "<line clip-path=\"url(#clip6002)\" x1=\"281.031\" y1=\"201.699\" x2=\"281.031\" y2=\"205.699\" style=\"stroke:#ff0000; stroke-opacity:1\"/>\n",
       "<line clip-path=\"url(#clip6002)\" x1=\"281.031\" y1=\"201.699\" x2=\"277.031\" y2=\"201.699\" style=\"stroke:#ff0000; stroke-opacity:1\"/>\n",
       "<line clip-path=\"url(#clip6002)\" x1=\"281.031\" y1=\"201.699\" x2=\"281.031\" y2=\"197.699\" style=\"stroke:#ff0000; stroke-opacity:1\"/>\n",
       "<line clip-path=\"url(#clip6002)\" x1=\"281.031\" y1=\"201.699\" x2=\"285.031\" y2=\"201.699\" style=\"stroke:#ff0000; stroke-opacity:1\"/>\n",
       "<line clip-path=\"url(#clip6002)\" x1=\"84.7056\" y1=\"260.831\" x2=\"84.7056\" y2=\"265.831\" style=\"stroke:#000000; stroke-opacity:1\"/>\n",
       "<line clip-path=\"url(#clip6002)\" x1=\"84.7056\" y1=\"260.831\" x2=\"79.7056\" y2=\"260.831\" style=\"stroke:#000000; stroke-opacity:1\"/>\n",
       "<line clip-path=\"url(#clip6002)\" x1=\"84.7056\" y1=\"260.831\" x2=\"84.7056\" y2=\"255.831\" style=\"stroke:#000000; stroke-opacity:1\"/>\n",
       "<line clip-path=\"url(#clip6002)\" x1=\"84.7056\" y1=\"260.831\" x2=\"89.7056\" y2=\"260.831\" style=\"stroke:#000000; stroke-opacity:1\"/>\n",
       "<line clip-path=\"url(#clip6002)\" x1=\"84.7056\" y1=\"260.831\" x2=\"84.7056\" y2=\"264.831\" style=\"stroke:#ff0000; stroke-opacity:1\"/>\n",
       "<line clip-path=\"url(#clip6002)\" x1=\"84.7056\" y1=\"260.831\" x2=\"80.7056\" y2=\"260.831\" style=\"stroke:#ff0000; stroke-opacity:1\"/>\n",
       "<line clip-path=\"url(#clip6002)\" x1=\"84.7056\" y1=\"260.831\" x2=\"84.7056\" y2=\"256.831\" style=\"stroke:#ff0000; stroke-opacity:1\"/>\n",
       "<line clip-path=\"url(#clip6002)\" x1=\"84.7056\" y1=\"260.831\" x2=\"88.7056\" y2=\"260.831\" style=\"stroke:#ff0000; stroke-opacity:1\"/>\n",
       "<line clip-path=\"url(#clip6002)\" x1=\"56.0409\" y1=\"324.074\" x2=\"56.0409\" y2=\"329.074\" style=\"stroke:#000000; stroke-opacity:1\"/>\n",
       "<line clip-path=\"url(#clip6002)\" x1=\"56.0409\" y1=\"324.074\" x2=\"51.0409\" y2=\"324.074\" style=\"stroke:#000000; stroke-opacity:1\"/>\n",
       "<line clip-path=\"url(#clip6002)\" x1=\"56.0409\" y1=\"324.074\" x2=\"56.0409\" y2=\"319.074\" style=\"stroke:#000000; stroke-opacity:1\"/>\n",
       "<line clip-path=\"url(#clip6002)\" x1=\"56.0409\" y1=\"324.074\" x2=\"61.0409\" y2=\"324.074\" style=\"stroke:#000000; stroke-opacity:1\"/>\n",
       "<line clip-path=\"url(#clip6002)\" x1=\"56.0409\" y1=\"324.074\" x2=\"56.0409\" y2=\"328.074\" style=\"stroke:#ff0000; stroke-opacity:1\"/>\n",
       "<line clip-path=\"url(#clip6002)\" x1=\"56.0409\" y1=\"324.074\" x2=\"52.0409\" y2=\"324.074\" style=\"stroke:#ff0000; stroke-opacity:1\"/>\n",
       "<line clip-path=\"url(#clip6002)\" x1=\"56.0409\" y1=\"324.074\" x2=\"56.0409\" y2=\"320.074\" style=\"stroke:#ff0000; stroke-opacity:1\"/>\n",
       "<line clip-path=\"url(#clip6002)\" x1=\"56.0409\" y1=\"324.074\" x2=\"60.0409\" y2=\"324.074\" style=\"stroke:#ff0000; stroke-opacity:1\"/>\n",
       "<line clip-path=\"url(#clip6002)\" x1=\"100.729\" y1=\"281.13\" x2=\"100.729\" y2=\"286.13\" style=\"stroke:#000000; stroke-opacity:1\"/>\n",
       "<line clip-path=\"url(#clip6002)\" x1=\"100.729\" y1=\"281.13\" x2=\"95.7293\" y2=\"281.13\" style=\"stroke:#000000; stroke-opacity:1\"/>\n",
       "<line clip-path=\"url(#clip6002)\" x1=\"100.729\" y1=\"281.13\" x2=\"100.729\" y2=\"276.13\" style=\"stroke:#000000; stroke-opacity:1\"/>\n",
       "<line clip-path=\"url(#clip6002)\" x1=\"100.729\" y1=\"281.13\" x2=\"105.729\" y2=\"281.13\" style=\"stroke:#000000; stroke-opacity:1\"/>\n",
       "<line clip-path=\"url(#clip6002)\" x1=\"100.729\" y1=\"281.13\" x2=\"100.729\" y2=\"285.13\" style=\"stroke:#ff0000; stroke-opacity:1\"/>\n",
       "<line clip-path=\"url(#clip6002)\" x1=\"100.729\" y1=\"281.13\" x2=\"96.7293\" y2=\"281.13\" style=\"stroke:#ff0000; stroke-opacity:1\"/>\n",
       "<line clip-path=\"url(#clip6002)\" x1=\"100.729\" y1=\"281.13\" x2=\"100.729\" y2=\"277.13\" style=\"stroke:#ff0000; stroke-opacity:1\"/>\n",
       "<line clip-path=\"url(#clip6002)\" x1=\"100.729\" y1=\"281.13\" x2=\"104.729\" y2=\"281.13\" style=\"stroke:#ff0000; stroke-opacity:1\"/>\n",
       "<line clip-path=\"url(#clip6002)\" x1=\"246.869\" y1=\"262.264\" x2=\"246.869\" y2=\"267.264\" style=\"stroke:#000000; stroke-opacity:1\"/>\n",
       "<line clip-path=\"url(#clip6002)\" x1=\"246.869\" y1=\"262.264\" x2=\"241.869\" y2=\"262.264\" style=\"stroke:#000000; stroke-opacity:1\"/>\n",
       "<line clip-path=\"url(#clip6002)\" x1=\"246.869\" y1=\"262.264\" x2=\"246.869\" y2=\"257.264\" style=\"stroke:#000000; stroke-opacity:1\"/>\n",
       "<line clip-path=\"url(#clip6002)\" x1=\"246.869\" y1=\"262.264\" x2=\"251.869\" y2=\"262.264\" style=\"stroke:#000000; stroke-opacity:1\"/>\n",
       "<line clip-path=\"url(#clip6002)\" x1=\"246.869\" y1=\"262.264\" x2=\"246.869\" y2=\"266.264\" style=\"stroke:#ff0000; stroke-opacity:1\"/>\n",
       "<line clip-path=\"url(#clip6002)\" x1=\"246.869\" y1=\"262.264\" x2=\"242.869\" y2=\"262.264\" style=\"stroke:#ff0000; stroke-opacity:1\"/>\n",
       "<line clip-path=\"url(#clip6002)\" x1=\"246.869\" y1=\"262.264\" x2=\"246.869\" y2=\"258.264\" style=\"stroke:#ff0000; stroke-opacity:1\"/>\n",
       "<line clip-path=\"url(#clip6002)\" x1=\"246.869\" y1=\"262.264\" x2=\"250.869\" y2=\"262.264\" style=\"stroke:#ff0000; stroke-opacity:1\"/>\n",
       "<line clip-path=\"url(#clip6002)\" x1=\"67.1494\" y1=\"299.958\" x2=\"67.1494\" y2=\"304.958\" style=\"stroke:#000000; stroke-opacity:1\"/>\n",
       "<line clip-path=\"url(#clip6002)\" x1=\"67.1494\" y1=\"299.958\" x2=\"62.1494\" y2=\"299.958\" style=\"stroke:#000000; stroke-opacity:1\"/>\n",
       "<line clip-path=\"url(#clip6002)\" x1=\"67.1494\" y1=\"299.958\" x2=\"67.1494\" y2=\"294.958\" style=\"stroke:#000000; stroke-opacity:1\"/>\n",
       "<line clip-path=\"url(#clip6002)\" x1=\"67.1494\" y1=\"299.958\" x2=\"72.1494\" y2=\"299.958\" style=\"stroke:#000000; stroke-opacity:1\"/>\n",
       "<line clip-path=\"url(#clip6002)\" x1=\"67.1494\" y1=\"299.958\" x2=\"67.1494\" y2=\"303.958\" style=\"stroke:#ff0000; stroke-opacity:1\"/>\n",
       "<line clip-path=\"url(#clip6002)\" x1=\"67.1494\" y1=\"299.958\" x2=\"63.1494\" y2=\"299.958\" style=\"stroke:#ff0000; stroke-opacity:1\"/>\n",
       "<line clip-path=\"url(#clip6002)\" x1=\"67.1494\" y1=\"299.958\" x2=\"67.1494\" y2=\"295.958\" style=\"stroke:#ff0000; stroke-opacity:1\"/>\n",
       "<line clip-path=\"url(#clip6002)\" x1=\"67.1494\" y1=\"299.958\" x2=\"71.1494\" y2=\"299.958\" style=\"stroke:#ff0000; stroke-opacity:1\"/>\n",
       "<line clip-path=\"url(#clip6002)\" x1=\"129.264\" y1=\"245.03\" x2=\"129.264\" y2=\"250.03\" style=\"stroke:#000000; stroke-opacity:1\"/>\n",
       "<line clip-path=\"url(#clip6002)\" x1=\"129.264\" y1=\"245.03\" x2=\"124.264\" y2=\"245.03\" style=\"stroke:#000000; stroke-opacity:1\"/>\n",
       "<line clip-path=\"url(#clip6002)\" x1=\"129.264\" y1=\"245.03\" x2=\"129.264\" y2=\"240.03\" style=\"stroke:#000000; stroke-opacity:1\"/>\n",
       "<line clip-path=\"url(#clip6002)\" x1=\"129.264\" y1=\"245.03\" x2=\"134.264\" y2=\"245.03\" style=\"stroke:#000000; stroke-opacity:1\"/>\n",
       "<line clip-path=\"url(#clip6002)\" x1=\"129.264\" y1=\"245.03\" x2=\"129.264\" y2=\"249.03\" style=\"stroke:#ff0000; stroke-opacity:1\"/>\n",
       "<line clip-path=\"url(#clip6002)\" x1=\"129.264\" y1=\"245.03\" x2=\"125.264\" y2=\"245.03\" style=\"stroke:#ff0000; stroke-opacity:1\"/>\n",
       "<line clip-path=\"url(#clip6002)\" x1=\"129.264\" y1=\"245.03\" x2=\"129.264\" y2=\"241.03\" style=\"stroke:#ff0000; stroke-opacity:1\"/>\n",
       "<line clip-path=\"url(#clip6002)\" x1=\"129.264\" y1=\"245.03\" x2=\"133.264\" y2=\"245.03\" style=\"stroke:#ff0000; stroke-opacity:1\"/>\n",
       "<line clip-path=\"url(#clip6002)\" x1=\"107.107\" y1=\"317.805\" x2=\"107.107\" y2=\"322.805\" style=\"stroke:#000000; stroke-opacity:1\"/>\n",
       "<line clip-path=\"url(#clip6002)\" x1=\"107.107\" y1=\"317.805\" x2=\"102.107\" y2=\"317.805\" style=\"stroke:#000000; stroke-opacity:1\"/>\n",
       "<line clip-path=\"url(#clip6002)\" x1=\"107.107\" y1=\"317.805\" x2=\"107.107\" y2=\"312.805\" style=\"stroke:#000000; stroke-opacity:1\"/>\n",
       "<line clip-path=\"url(#clip6002)\" x1=\"107.107\" y1=\"317.805\" x2=\"112.107\" y2=\"317.805\" style=\"stroke:#000000; stroke-opacity:1\"/>\n",
       "<line clip-path=\"url(#clip6002)\" x1=\"107.107\" y1=\"317.805\" x2=\"107.107\" y2=\"321.805\" style=\"stroke:#ff0000; stroke-opacity:1\"/>\n",
       "<line clip-path=\"url(#clip6002)\" x1=\"107.107\" y1=\"317.805\" x2=\"103.107\" y2=\"317.805\" style=\"stroke:#ff0000; stroke-opacity:1\"/>\n",
       "<line clip-path=\"url(#clip6002)\" x1=\"107.107\" y1=\"317.805\" x2=\"107.107\" y2=\"313.805\" style=\"stroke:#ff0000; stroke-opacity:1\"/>\n",
       "<line clip-path=\"url(#clip6002)\" x1=\"107.107\" y1=\"317.805\" x2=\"111.107\" y2=\"317.805\" style=\"stroke:#ff0000; stroke-opacity:1\"/>\n",
       "<line clip-path=\"url(#clip6002)\" x1=\"45.8439\" y1=\"265.486\" x2=\"45.8439\" y2=\"270.486\" style=\"stroke:#000000; stroke-opacity:1\"/>\n",
       "<line clip-path=\"url(#clip6002)\" x1=\"45.8439\" y1=\"265.486\" x2=\"40.8439\" y2=\"265.486\" style=\"stroke:#000000; stroke-opacity:1\"/>\n",
       "<line clip-path=\"url(#clip6002)\" x1=\"45.8439\" y1=\"265.486\" x2=\"45.8439\" y2=\"260.486\" style=\"stroke:#000000; stroke-opacity:1\"/>\n",
       "<line clip-path=\"url(#clip6002)\" x1=\"45.8439\" y1=\"265.486\" x2=\"50.8439\" y2=\"265.486\" style=\"stroke:#000000; stroke-opacity:1\"/>\n",
       "<line clip-path=\"url(#clip6002)\" x1=\"45.8439\" y1=\"265.486\" x2=\"45.8439\" y2=\"269.486\" style=\"stroke:#ff0000; stroke-opacity:1\"/>\n",
       "<line clip-path=\"url(#clip6002)\" x1=\"45.8439\" y1=\"265.486\" x2=\"41.8439\" y2=\"265.486\" style=\"stroke:#ff0000; stroke-opacity:1\"/>\n",
       "<line clip-path=\"url(#clip6002)\" x1=\"45.8439\" y1=\"265.486\" x2=\"45.8439\" y2=\"261.486\" style=\"stroke:#ff0000; stroke-opacity:1\"/>\n",
       "<line clip-path=\"url(#clip6002)\" x1=\"45.8439\" y1=\"265.486\" x2=\"49.8439\" y2=\"265.486\" style=\"stroke:#ff0000; stroke-opacity:1\"/>\n",
       "<line clip-path=\"url(#clip6002)\" x1=\"67.9883\" y1=\"307.595\" x2=\"67.9883\" y2=\"312.595\" style=\"stroke:#000000; stroke-opacity:1\"/>\n",
       "<line clip-path=\"url(#clip6002)\" x1=\"67.9883\" y1=\"307.595\" x2=\"62.9883\" y2=\"307.595\" style=\"stroke:#000000; stroke-opacity:1\"/>\n",
       "<line clip-path=\"url(#clip6002)\" x1=\"67.9883\" y1=\"307.595\" x2=\"67.9883\" y2=\"302.595\" style=\"stroke:#000000; stroke-opacity:1\"/>\n",
       "<line clip-path=\"url(#clip6002)\" x1=\"67.9883\" y1=\"307.595\" x2=\"72.9883\" y2=\"307.595\" style=\"stroke:#000000; stroke-opacity:1\"/>\n",
       "<line clip-path=\"url(#clip6002)\" x1=\"67.9883\" y1=\"307.595\" x2=\"67.9883\" y2=\"311.595\" style=\"stroke:#ff0000; stroke-opacity:1\"/>\n",
       "<line clip-path=\"url(#clip6002)\" x1=\"67.9883\" y1=\"307.595\" x2=\"63.9883\" y2=\"307.595\" style=\"stroke:#ff0000; stroke-opacity:1\"/>\n",
       "<line clip-path=\"url(#clip6002)\" x1=\"67.9883\" y1=\"307.595\" x2=\"67.9883\" y2=\"303.595\" style=\"stroke:#ff0000; stroke-opacity:1\"/>\n",
       "<line clip-path=\"url(#clip6002)\" x1=\"67.9883\" y1=\"307.595\" x2=\"71.9883\" y2=\"307.595\" style=\"stroke:#ff0000; stroke-opacity:1\"/>\n",
       "<line clip-path=\"url(#clip6002)\" x1=\"246.627\" y1=\"228.742\" x2=\"246.627\" y2=\"233.742\" style=\"stroke:#000000; stroke-opacity:1\"/>\n",
       "<line clip-path=\"url(#clip6002)\" x1=\"246.627\" y1=\"228.742\" x2=\"241.627\" y2=\"228.742\" style=\"stroke:#000000; stroke-opacity:1\"/>\n",
       "<line clip-path=\"url(#clip6002)\" x1=\"246.627\" y1=\"228.742\" x2=\"246.627\" y2=\"223.742\" style=\"stroke:#000000; stroke-opacity:1\"/>\n",
       "<line clip-path=\"url(#clip6002)\" x1=\"246.627\" y1=\"228.742\" x2=\"251.627\" y2=\"228.742\" style=\"stroke:#000000; stroke-opacity:1\"/>\n",
       "<line clip-path=\"url(#clip6002)\" x1=\"246.627\" y1=\"228.742\" x2=\"246.627\" y2=\"232.742\" style=\"stroke:#ff0000; stroke-opacity:1\"/>\n",
       "<line clip-path=\"url(#clip6002)\" x1=\"246.627\" y1=\"228.742\" x2=\"242.627\" y2=\"228.742\" style=\"stroke:#ff0000; stroke-opacity:1\"/>\n",
       "<line clip-path=\"url(#clip6002)\" x1=\"246.627\" y1=\"228.742\" x2=\"246.627\" y2=\"224.742\" style=\"stroke:#ff0000; stroke-opacity:1\"/>\n",
       "<line clip-path=\"url(#clip6002)\" x1=\"246.627\" y1=\"228.742\" x2=\"250.627\" y2=\"228.742\" style=\"stroke:#ff0000; stroke-opacity:1\"/>\n",
       "<line clip-path=\"url(#clip6002)\" x1=\"60.1203\" y1=\"318.169\" x2=\"60.1203\" y2=\"323.169\" style=\"stroke:#000000; stroke-opacity:1\"/>\n",
       "<line clip-path=\"url(#clip6002)\" x1=\"60.1203\" y1=\"318.169\" x2=\"55.1203\" y2=\"318.169\" style=\"stroke:#000000; stroke-opacity:1\"/>\n",
       "<line clip-path=\"url(#clip6002)\" x1=\"60.1203\" y1=\"318.169\" x2=\"60.1203\" y2=\"313.169\" style=\"stroke:#000000; stroke-opacity:1\"/>\n",
       "<line clip-path=\"url(#clip6002)\" x1=\"60.1203\" y1=\"318.169\" x2=\"65.1203\" y2=\"318.169\" style=\"stroke:#000000; stroke-opacity:1\"/>\n",
       "<line clip-path=\"url(#clip6002)\" x1=\"60.1203\" y1=\"318.169\" x2=\"60.1203\" y2=\"322.169\" style=\"stroke:#ff0000; stroke-opacity:1\"/>\n",
       "<line clip-path=\"url(#clip6002)\" x1=\"60.1203\" y1=\"318.169\" x2=\"56.1203\" y2=\"318.169\" style=\"stroke:#ff0000; stroke-opacity:1\"/>\n",
       "<line clip-path=\"url(#clip6002)\" x1=\"60.1203\" y1=\"318.169\" x2=\"60.1203\" y2=\"314.169\" style=\"stroke:#ff0000; stroke-opacity:1\"/>\n",
       "<line clip-path=\"url(#clip6002)\" x1=\"60.1203\" y1=\"318.169\" x2=\"64.1203\" y2=\"318.169\" style=\"stroke:#ff0000; stroke-opacity:1\"/>\n",
       "<line clip-path=\"url(#clip6002)\" x1=\"120.648\" y1=\"244.792\" x2=\"120.648\" y2=\"249.792\" style=\"stroke:#000000; stroke-opacity:1\"/>\n",
       "<line clip-path=\"url(#clip6002)\" x1=\"120.648\" y1=\"244.792\" x2=\"115.648\" y2=\"244.792\" style=\"stroke:#000000; stroke-opacity:1\"/>\n",
       "<line clip-path=\"url(#clip6002)\" x1=\"120.648\" y1=\"244.792\" x2=\"120.648\" y2=\"239.792\" style=\"stroke:#000000; stroke-opacity:1\"/>\n",
       "<line clip-path=\"url(#clip6002)\" x1=\"120.648\" y1=\"244.792\" x2=\"125.648\" y2=\"244.792\" style=\"stroke:#000000; stroke-opacity:1\"/>\n",
       "<line clip-path=\"url(#clip6002)\" x1=\"120.648\" y1=\"244.792\" x2=\"120.648\" y2=\"248.792\" style=\"stroke:#ff0000; stroke-opacity:1\"/>\n",
       "<line clip-path=\"url(#clip6002)\" x1=\"120.648\" y1=\"244.792\" x2=\"116.648\" y2=\"244.792\" style=\"stroke:#ff0000; stroke-opacity:1\"/>\n",
       "<line clip-path=\"url(#clip6002)\" x1=\"120.648\" y1=\"244.792\" x2=\"120.648\" y2=\"240.792\" style=\"stroke:#ff0000; stroke-opacity:1\"/>\n",
       "<line clip-path=\"url(#clip6002)\" x1=\"120.648\" y1=\"244.792\" x2=\"124.648\" y2=\"244.792\" style=\"stroke:#ff0000; stroke-opacity:1\"/>\n",
       "<line clip-path=\"url(#clip6002)\" x1=\"53.0366\" y1=\"307.651\" x2=\"53.0366\" y2=\"312.651\" style=\"stroke:#000000; stroke-opacity:1\"/>\n",
       "<line clip-path=\"url(#clip6002)\" x1=\"53.0366\" y1=\"307.651\" x2=\"48.0366\" y2=\"307.651\" style=\"stroke:#000000; stroke-opacity:1\"/>\n",
       "<line clip-path=\"url(#clip6002)\" x1=\"53.0366\" y1=\"307.651\" x2=\"53.0366\" y2=\"302.651\" style=\"stroke:#000000; stroke-opacity:1\"/>\n",
       "<line clip-path=\"url(#clip6002)\" x1=\"53.0366\" y1=\"307.651\" x2=\"58.0366\" y2=\"307.651\" style=\"stroke:#000000; stroke-opacity:1\"/>\n",
       "<line clip-path=\"url(#clip6002)\" x1=\"53.0366\" y1=\"307.651\" x2=\"53.0366\" y2=\"311.651\" style=\"stroke:#ff0000; stroke-opacity:1\"/>\n",
       "<line clip-path=\"url(#clip6002)\" x1=\"53.0366\" y1=\"307.651\" x2=\"49.0366\" y2=\"307.651\" style=\"stroke:#ff0000; stroke-opacity:1\"/>\n",
       "<line clip-path=\"url(#clip6002)\" x1=\"53.0366\" y1=\"307.651\" x2=\"53.0366\" y2=\"303.651\" style=\"stroke:#ff0000; stroke-opacity:1\"/>\n",
       "<line clip-path=\"url(#clip6002)\" x1=\"53.0366\" y1=\"307.651\" x2=\"57.0366\" y2=\"307.651\" style=\"stroke:#ff0000; stroke-opacity:1\"/>\n",
       "<line clip-path=\"url(#clip6002)\" x1=\"117.126\" y1=\"276.305\" x2=\"117.126\" y2=\"281.305\" style=\"stroke:#000000; stroke-opacity:1\"/>\n",
       "<line clip-path=\"url(#clip6002)\" x1=\"117.126\" y1=\"276.305\" x2=\"112.126\" y2=\"276.305\" style=\"stroke:#000000; stroke-opacity:1\"/>\n",
       "<line clip-path=\"url(#clip6002)\" x1=\"117.126\" y1=\"276.305\" x2=\"117.126\" y2=\"271.305\" style=\"stroke:#000000; stroke-opacity:1\"/>\n",
       "<line clip-path=\"url(#clip6002)\" x1=\"117.126\" y1=\"276.305\" x2=\"122.126\" y2=\"276.305\" style=\"stroke:#000000; stroke-opacity:1\"/>\n",
       "<line clip-path=\"url(#clip6002)\" x1=\"117.126\" y1=\"276.305\" x2=\"117.126\" y2=\"280.305\" style=\"stroke:#ff0000; stroke-opacity:1\"/>\n",
       "<line clip-path=\"url(#clip6002)\" x1=\"117.126\" y1=\"276.305\" x2=\"113.126\" y2=\"276.305\" style=\"stroke:#ff0000; stroke-opacity:1\"/>\n",
       "<line clip-path=\"url(#clip6002)\" x1=\"117.126\" y1=\"276.305\" x2=\"117.126\" y2=\"272.305\" style=\"stroke:#ff0000; stroke-opacity:1\"/>\n",
       "<line clip-path=\"url(#clip6002)\" x1=\"117.126\" y1=\"276.305\" x2=\"121.126\" y2=\"276.305\" style=\"stroke:#ff0000; stroke-opacity:1\"/>\n",
       "<line clip-path=\"url(#clip6002)\" x1=\"122.553\" y1=\"267.222\" x2=\"122.553\" y2=\"272.222\" style=\"stroke:#000000; stroke-opacity:1\"/>\n",
       "<line clip-path=\"url(#clip6002)\" x1=\"122.553\" y1=\"267.222\" x2=\"117.553\" y2=\"267.222\" style=\"stroke:#000000; stroke-opacity:1\"/>\n",
       "<line clip-path=\"url(#clip6002)\" x1=\"122.553\" y1=\"267.222\" x2=\"122.553\" y2=\"262.222\" style=\"stroke:#000000; stroke-opacity:1\"/>\n",
       "<line clip-path=\"url(#clip6002)\" x1=\"122.553\" y1=\"267.222\" x2=\"127.553\" y2=\"267.222\" style=\"stroke:#000000; stroke-opacity:1\"/>\n",
       "<line clip-path=\"url(#clip6002)\" x1=\"122.553\" y1=\"267.222\" x2=\"122.553\" y2=\"271.222\" style=\"stroke:#ff0000; stroke-opacity:1\"/>\n",
       "<line clip-path=\"url(#clip6002)\" x1=\"122.553\" y1=\"267.222\" x2=\"118.553\" y2=\"267.222\" style=\"stroke:#ff0000; stroke-opacity:1\"/>\n",
       "<line clip-path=\"url(#clip6002)\" x1=\"122.553\" y1=\"267.222\" x2=\"122.553\" y2=\"263.222\" style=\"stroke:#ff0000; stroke-opacity:1\"/>\n",
       "<line clip-path=\"url(#clip6002)\" x1=\"122.553\" y1=\"267.222\" x2=\"126.553\" y2=\"267.222\" style=\"stroke:#ff0000; stroke-opacity:1\"/>\n",
       "<line clip-path=\"url(#clip6002)\" x1=\"84.0817\" y1=\"312.98\" x2=\"84.0817\" y2=\"317.98\" style=\"stroke:#000000; stroke-opacity:1\"/>\n",
       "<line clip-path=\"url(#clip6002)\" x1=\"84.0817\" y1=\"312.98\" x2=\"79.0817\" y2=\"312.98\" style=\"stroke:#000000; stroke-opacity:1\"/>\n",
       "<line clip-path=\"url(#clip6002)\" x1=\"84.0817\" y1=\"312.98\" x2=\"84.0817\" y2=\"307.98\" style=\"stroke:#000000; stroke-opacity:1\"/>\n",
       "<line clip-path=\"url(#clip6002)\" x1=\"84.0817\" y1=\"312.98\" x2=\"89.0817\" y2=\"312.98\" style=\"stroke:#000000; stroke-opacity:1\"/>\n",
       "<line clip-path=\"url(#clip6002)\" x1=\"84.0817\" y1=\"312.98\" x2=\"84.0817\" y2=\"316.98\" style=\"stroke:#ff0000; stroke-opacity:1\"/>\n",
       "<line clip-path=\"url(#clip6002)\" x1=\"84.0817\" y1=\"312.98\" x2=\"80.0817\" y2=\"312.98\" style=\"stroke:#ff0000; stroke-opacity:1\"/>\n",
       "<line clip-path=\"url(#clip6002)\" x1=\"84.0817\" y1=\"312.98\" x2=\"84.0817\" y2=\"308.98\" style=\"stroke:#ff0000; stroke-opacity:1\"/>\n",
       "<line clip-path=\"url(#clip6002)\" x1=\"84.0817\" y1=\"312.98\" x2=\"88.0817\" y2=\"312.98\" style=\"stroke:#ff0000; stroke-opacity:1\"/>\n",
       "<line clip-path=\"url(#clip6002)\" x1=\"84.8721\" y1=\"349.388\" x2=\"84.8721\" y2=\"354.388\" style=\"stroke:#000000; stroke-opacity:1\"/>\n",
       "<line clip-path=\"url(#clip6002)\" x1=\"84.8721\" y1=\"349.388\" x2=\"79.8721\" y2=\"349.388\" style=\"stroke:#000000; stroke-opacity:1\"/>\n",
       "<line clip-path=\"url(#clip6002)\" x1=\"84.8721\" y1=\"349.388\" x2=\"84.8721\" y2=\"344.388\" style=\"stroke:#000000; stroke-opacity:1\"/>\n",
       "<line clip-path=\"url(#clip6002)\" x1=\"84.8721\" y1=\"349.388\" x2=\"89.8721\" y2=\"349.388\" style=\"stroke:#000000; stroke-opacity:1\"/>\n",
       "<line clip-path=\"url(#clip6002)\" x1=\"84.8721\" y1=\"349.388\" x2=\"84.8721\" y2=\"353.388\" style=\"stroke:#ff0000; stroke-opacity:1\"/>\n",
       "<line clip-path=\"url(#clip6002)\" x1=\"84.8721\" y1=\"349.388\" x2=\"80.8721\" y2=\"349.388\" style=\"stroke:#ff0000; stroke-opacity:1\"/>\n",
       "<line clip-path=\"url(#clip6002)\" x1=\"84.8721\" y1=\"349.388\" x2=\"84.8721\" y2=\"345.388\" style=\"stroke:#ff0000; stroke-opacity:1\"/>\n",
       "<line clip-path=\"url(#clip6002)\" x1=\"84.8721\" y1=\"349.388\" x2=\"88.8721\" y2=\"349.388\" style=\"stroke:#ff0000; stroke-opacity:1\"/>\n",
       "<line clip-path=\"url(#clip6002)\" x1=\"82.307\" y1=\"299.51\" x2=\"82.307\" y2=\"304.51\" style=\"stroke:#000000; stroke-opacity:1\"/>\n",
       "<line clip-path=\"url(#clip6002)\" x1=\"82.307\" y1=\"299.51\" x2=\"77.307\" y2=\"299.51\" style=\"stroke:#000000; stroke-opacity:1\"/>\n",
       "<line clip-path=\"url(#clip6002)\" x1=\"82.307\" y1=\"299.51\" x2=\"82.307\" y2=\"294.51\" style=\"stroke:#000000; stroke-opacity:1\"/>\n",
       "<line clip-path=\"url(#clip6002)\" x1=\"82.307\" y1=\"299.51\" x2=\"87.307\" y2=\"299.51\" style=\"stroke:#000000; stroke-opacity:1\"/>\n",
       "<line clip-path=\"url(#clip6002)\" x1=\"82.307\" y1=\"299.51\" x2=\"82.307\" y2=\"303.51\" style=\"stroke:#ff0000; stroke-opacity:1\"/>\n",
       "<line clip-path=\"url(#clip6002)\" x1=\"82.307\" y1=\"299.51\" x2=\"78.307\" y2=\"299.51\" style=\"stroke:#ff0000; stroke-opacity:1\"/>\n",
       "<line clip-path=\"url(#clip6002)\" x1=\"82.307\" y1=\"299.51\" x2=\"82.307\" y2=\"295.51\" style=\"stroke:#ff0000; stroke-opacity:1\"/>\n",
       "<line clip-path=\"url(#clip6002)\" x1=\"82.307\" y1=\"299.51\" x2=\"86.307\" y2=\"299.51\" style=\"stroke:#ff0000; stroke-opacity:1\"/>\n",
       "<line clip-path=\"url(#clip6002)\" x1=\"63.0912\" y1=\"272.264\" x2=\"63.0912\" y2=\"277.264\" style=\"stroke:#000000; stroke-opacity:1\"/>\n",
       "<line clip-path=\"url(#clip6002)\" x1=\"63.0912\" y1=\"272.264\" x2=\"58.0912\" y2=\"272.264\" style=\"stroke:#000000; stroke-opacity:1\"/>\n",
       "<line clip-path=\"url(#clip6002)\" x1=\"63.0912\" y1=\"272.264\" x2=\"63.0912\" y2=\"267.264\" style=\"stroke:#000000; stroke-opacity:1\"/>\n",
       "<line clip-path=\"url(#clip6002)\" x1=\"63.0912\" y1=\"272.264\" x2=\"68.0912\" y2=\"272.264\" style=\"stroke:#000000; stroke-opacity:1\"/>\n",
       "<line clip-path=\"url(#clip6002)\" x1=\"63.0912\" y1=\"272.264\" x2=\"63.0912\" y2=\"276.264\" style=\"stroke:#ff0000; stroke-opacity:1\"/>\n",
       "<line clip-path=\"url(#clip6002)\" x1=\"63.0912\" y1=\"272.264\" x2=\"59.0912\" y2=\"272.264\" style=\"stroke:#ff0000; stroke-opacity:1\"/>\n",
       "<line clip-path=\"url(#clip6002)\" x1=\"63.0912\" y1=\"272.264\" x2=\"63.0912\" y2=\"268.264\" style=\"stroke:#ff0000; stroke-opacity:1\"/>\n",
       "<line clip-path=\"url(#clip6002)\" x1=\"63.0912\" y1=\"272.264\" x2=\"67.0912\" y2=\"272.264\" style=\"stroke:#ff0000; stroke-opacity:1\"/>\n",
       "<line clip-path=\"url(#clip6002)\" x1=\"174.252\" y1=\"280.479\" x2=\"174.252\" y2=\"285.479\" style=\"stroke:#000000; stroke-opacity:1\"/>\n",
       "<line clip-path=\"url(#clip6002)\" x1=\"174.252\" y1=\"280.479\" x2=\"169.252\" y2=\"280.479\" style=\"stroke:#000000; stroke-opacity:1\"/>\n",
       "<line clip-path=\"url(#clip6002)\" x1=\"174.252\" y1=\"280.479\" x2=\"174.252\" y2=\"275.479\" style=\"stroke:#000000; stroke-opacity:1\"/>\n",
       "<line clip-path=\"url(#clip6002)\" x1=\"174.252\" y1=\"280.479\" x2=\"179.252\" y2=\"280.479\" style=\"stroke:#000000; stroke-opacity:1\"/>\n",
       "<line clip-path=\"url(#clip6002)\" x1=\"174.252\" y1=\"280.479\" x2=\"174.252\" y2=\"284.479\" style=\"stroke:#ff0000; stroke-opacity:1\"/>\n",
       "<line clip-path=\"url(#clip6002)\" x1=\"174.252\" y1=\"280.479\" x2=\"170.252\" y2=\"280.479\" style=\"stroke:#ff0000; stroke-opacity:1\"/>\n",
       "<line clip-path=\"url(#clip6002)\" x1=\"174.252\" y1=\"280.479\" x2=\"174.252\" y2=\"276.479\" style=\"stroke:#ff0000; stroke-opacity:1\"/>\n",
       "<line clip-path=\"url(#clip6002)\" x1=\"174.252\" y1=\"280.479\" x2=\"178.252\" y2=\"280.479\" style=\"stroke:#ff0000; stroke-opacity:1\"/>\n",
       "<line clip-path=\"url(#clip6002)\" x1=\"178.595\" y1=\"261.897\" x2=\"178.595\" y2=\"266.897\" style=\"stroke:#000000; stroke-opacity:1\"/>\n",
       "<line clip-path=\"url(#clip6002)\" x1=\"178.595\" y1=\"261.897\" x2=\"173.595\" y2=\"261.897\" style=\"stroke:#000000; stroke-opacity:1\"/>\n",
       "<line clip-path=\"url(#clip6002)\" x1=\"178.595\" y1=\"261.897\" x2=\"178.595\" y2=\"256.897\" style=\"stroke:#000000; stroke-opacity:1\"/>\n",
       "<line clip-path=\"url(#clip6002)\" x1=\"178.595\" y1=\"261.897\" x2=\"183.595\" y2=\"261.897\" style=\"stroke:#000000; stroke-opacity:1\"/>\n",
       "<line clip-path=\"url(#clip6002)\" x1=\"178.595\" y1=\"261.897\" x2=\"178.595\" y2=\"265.897\" style=\"stroke:#ff0000; stroke-opacity:1\"/>\n",
       "<line clip-path=\"url(#clip6002)\" x1=\"178.595\" y1=\"261.897\" x2=\"174.595\" y2=\"261.897\" style=\"stroke:#ff0000; stroke-opacity:1\"/>\n",
       "<line clip-path=\"url(#clip6002)\" x1=\"178.595\" y1=\"261.897\" x2=\"178.595\" y2=\"257.897\" style=\"stroke:#ff0000; stroke-opacity:1\"/>\n",
       "<line clip-path=\"url(#clip6002)\" x1=\"178.595\" y1=\"261.897\" x2=\"182.595\" y2=\"261.897\" style=\"stroke:#ff0000; stroke-opacity:1\"/>\n",
       "<line clip-path=\"url(#clip6002)\" x1=\"159.57\" y1=\"265.029\" x2=\"159.57\" y2=\"270.029\" style=\"stroke:#000000; stroke-opacity:1\"/>\n",
       "<line clip-path=\"url(#clip6002)\" x1=\"159.57\" y1=\"265.029\" x2=\"154.57\" y2=\"265.029\" style=\"stroke:#000000; stroke-opacity:1\"/>\n",
       "<line clip-path=\"url(#clip6002)\" x1=\"159.57\" y1=\"265.029\" x2=\"159.57\" y2=\"260.029\" style=\"stroke:#000000; stroke-opacity:1\"/>\n",
       "<line clip-path=\"url(#clip6002)\" x1=\"159.57\" y1=\"265.029\" x2=\"164.57\" y2=\"265.029\" style=\"stroke:#000000; stroke-opacity:1\"/>\n",
       "<line clip-path=\"url(#clip6002)\" x1=\"159.57\" y1=\"265.029\" x2=\"159.57\" y2=\"269.029\" style=\"stroke:#ff0000; stroke-opacity:1\"/>\n",
       "<line clip-path=\"url(#clip6002)\" x1=\"159.57\" y1=\"265.029\" x2=\"155.57\" y2=\"265.029\" style=\"stroke:#ff0000; stroke-opacity:1\"/>\n",
       "<line clip-path=\"url(#clip6002)\" x1=\"159.57\" y1=\"265.029\" x2=\"159.57\" y2=\"261.029\" style=\"stroke:#ff0000; stroke-opacity:1\"/>\n",
       "<line clip-path=\"url(#clip6002)\" x1=\"159.57\" y1=\"265.029\" x2=\"163.57\" y2=\"265.029\" style=\"stroke:#ff0000; stroke-opacity:1\"/>\n",
       "<line clip-path=\"url(#clip6002)\" x1=\"49.148\" y1=\"340.706\" x2=\"49.148\" y2=\"345.706\" style=\"stroke:#000000; stroke-opacity:1\"/>\n",
       "<line clip-path=\"url(#clip6002)\" x1=\"49.148\" y1=\"340.706\" x2=\"44.148\" y2=\"340.706\" style=\"stroke:#000000; stroke-opacity:1\"/>\n",
       "<line clip-path=\"url(#clip6002)\" x1=\"49.148\" y1=\"340.706\" x2=\"49.148\" y2=\"335.706\" style=\"stroke:#000000; stroke-opacity:1\"/>\n",
       "<line clip-path=\"url(#clip6002)\" x1=\"49.148\" y1=\"340.706\" x2=\"54.148\" y2=\"340.706\" style=\"stroke:#000000; stroke-opacity:1\"/>\n",
       "<line clip-path=\"url(#clip6002)\" x1=\"49.148\" y1=\"340.706\" x2=\"49.148\" y2=\"344.706\" style=\"stroke:#ff0000; stroke-opacity:1\"/>\n",
       "<line clip-path=\"url(#clip6002)\" x1=\"49.148\" y1=\"340.706\" x2=\"45.148\" y2=\"340.706\" style=\"stroke:#ff0000; stroke-opacity:1\"/>\n",
       "<line clip-path=\"url(#clip6002)\" x1=\"49.148\" y1=\"340.706\" x2=\"49.148\" y2=\"336.706\" style=\"stroke:#ff0000; stroke-opacity:1\"/>\n",
       "<line clip-path=\"url(#clip6002)\" x1=\"49.148\" y1=\"340.706\" x2=\"53.148\" y2=\"340.706\" style=\"stroke:#ff0000; stroke-opacity:1\"/>\n",
       "<line clip-path=\"url(#clip6002)\" x1=\"536.726\" y1=\"101.704\" x2=\"536.726\" y2=\"106.704\" style=\"stroke:#000000; stroke-opacity:1\"/>\n",
       "<line clip-path=\"url(#clip6002)\" x1=\"536.726\" y1=\"101.704\" x2=\"531.726\" y2=\"101.704\" style=\"stroke:#000000; stroke-opacity:1\"/>\n",
       "<line clip-path=\"url(#clip6002)\" x1=\"536.726\" y1=\"101.704\" x2=\"536.726\" y2=\"96.7043\" style=\"stroke:#000000; stroke-opacity:1\"/>\n",
       "<line clip-path=\"url(#clip6002)\" x1=\"536.726\" y1=\"101.704\" x2=\"541.726\" y2=\"101.704\" style=\"stroke:#000000; stroke-opacity:1\"/>\n",
       "<line clip-path=\"url(#clip6002)\" x1=\"536.726\" y1=\"101.704\" x2=\"536.726\" y2=\"105.704\" style=\"stroke:#ff0000; stroke-opacity:1\"/>\n",
       "<line clip-path=\"url(#clip6002)\" x1=\"536.726\" y1=\"101.704\" x2=\"532.726\" y2=\"101.704\" style=\"stroke:#ff0000; stroke-opacity:1\"/>\n",
       "<line clip-path=\"url(#clip6002)\" x1=\"536.726\" y1=\"101.704\" x2=\"536.726\" y2=\"97.7043\" style=\"stroke:#ff0000; stroke-opacity:1\"/>\n",
       "<line clip-path=\"url(#clip6002)\" x1=\"536.726\" y1=\"101.704\" x2=\"540.726\" y2=\"101.704\" style=\"stroke:#ff0000; stroke-opacity:1\"/>\n",
       "<line clip-path=\"url(#clip6002)\" x1=\"343.781\" y1=\"176.905\" x2=\"343.781\" y2=\"181.905\" style=\"stroke:#000000; stroke-opacity:1\"/>\n",
       "<line clip-path=\"url(#clip6002)\" x1=\"343.781\" y1=\"176.905\" x2=\"338.781\" y2=\"176.905\" style=\"stroke:#000000; stroke-opacity:1\"/>\n",
       "<line clip-path=\"url(#clip6002)\" x1=\"343.781\" y1=\"176.905\" x2=\"343.781\" y2=\"171.905\" style=\"stroke:#000000; stroke-opacity:1\"/>\n",
       "<line clip-path=\"url(#clip6002)\" x1=\"343.781\" y1=\"176.905\" x2=\"348.781\" y2=\"176.905\" style=\"stroke:#000000; stroke-opacity:1\"/>\n",
       "<line clip-path=\"url(#clip6002)\" x1=\"343.781\" y1=\"176.905\" x2=\"343.781\" y2=\"180.905\" style=\"stroke:#ff0000; stroke-opacity:1\"/>\n",
       "<line clip-path=\"url(#clip6002)\" x1=\"343.781\" y1=\"176.905\" x2=\"339.781\" y2=\"176.905\" style=\"stroke:#ff0000; stroke-opacity:1\"/>\n",
       "<line clip-path=\"url(#clip6002)\" x1=\"343.781\" y1=\"176.905\" x2=\"343.781\" y2=\"172.905\" style=\"stroke:#ff0000; stroke-opacity:1\"/>\n",
       "<line clip-path=\"url(#clip6002)\" x1=\"343.781\" y1=\"176.905\" x2=\"347.781\" y2=\"176.905\" style=\"stroke:#ff0000; stroke-opacity:1\"/>\n",
       "<line clip-path=\"url(#clip6002)\" x1=\"466.465\" y1=\"112.904\" x2=\"466.465\" y2=\"117.904\" style=\"stroke:#000000; stroke-opacity:1\"/>\n",
       "<line clip-path=\"url(#clip6002)\" x1=\"466.465\" y1=\"112.904\" x2=\"461.465\" y2=\"112.904\" style=\"stroke:#000000; stroke-opacity:1\"/>\n",
       "<line clip-path=\"url(#clip6002)\" x1=\"466.465\" y1=\"112.904\" x2=\"466.465\" y2=\"107.904\" style=\"stroke:#000000; stroke-opacity:1\"/>\n",
       "<line clip-path=\"url(#clip6002)\" x1=\"466.465\" y1=\"112.904\" x2=\"471.465\" y2=\"112.904\" style=\"stroke:#000000; stroke-opacity:1\"/>\n",
       "<line clip-path=\"url(#clip6002)\" x1=\"466.465\" y1=\"112.904\" x2=\"466.465\" y2=\"116.904\" style=\"stroke:#ff0000; stroke-opacity:1\"/>\n",
       "<line clip-path=\"url(#clip6002)\" x1=\"466.465\" y1=\"112.904\" x2=\"462.465\" y2=\"112.904\" style=\"stroke:#ff0000; stroke-opacity:1\"/>\n",
       "<line clip-path=\"url(#clip6002)\" x1=\"466.465\" y1=\"112.904\" x2=\"466.465\" y2=\"108.904\" style=\"stroke:#ff0000; stroke-opacity:1\"/>\n",
       "<line clip-path=\"url(#clip6002)\" x1=\"466.465\" y1=\"112.904\" x2=\"470.465\" y2=\"112.904\" style=\"stroke:#ff0000; stroke-opacity:1\"/>\n",
       "<line clip-path=\"url(#clip6002)\" x1=\"110.896\" y1=\"268.667\" x2=\"110.896\" y2=\"273.667\" style=\"stroke:#000000; stroke-opacity:1\"/>\n",
       "<line clip-path=\"url(#clip6002)\" x1=\"110.896\" y1=\"268.667\" x2=\"105.896\" y2=\"268.667\" style=\"stroke:#000000; stroke-opacity:1\"/>\n",
       "<line clip-path=\"url(#clip6002)\" x1=\"110.896\" y1=\"268.667\" x2=\"110.896\" y2=\"263.667\" style=\"stroke:#000000; stroke-opacity:1\"/>\n",
       "<line clip-path=\"url(#clip6002)\" x1=\"110.896\" y1=\"268.667\" x2=\"115.896\" y2=\"268.667\" style=\"stroke:#000000; stroke-opacity:1\"/>\n",
       "<line clip-path=\"url(#clip6002)\" x1=\"110.896\" y1=\"268.667\" x2=\"110.896\" y2=\"272.667\" style=\"stroke:#ff0000; stroke-opacity:1\"/>\n",
       "<line clip-path=\"url(#clip6002)\" x1=\"110.896\" y1=\"268.667\" x2=\"106.896\" y2=\"268.667\" style=\"stroke:#ff0000; stroke-opacity:1\"/>\n",
       "<line clip-path=\"url(#clip6002)\" x1=\"110.896\" y1=\"268.667\" x2=\"110.896\" y2=\"264.667\" style=\"stroke:#ff0000; stroke-opacity:1\"/>\n",
       "<line clip-path=\"url(#clip6002)\" x1=\"110.896\" y1=\"268.667\" x2=\"114.896\" y2=\"268.667\" style=\"stroke:#ff0000; stroke-opacity:1\"/>\n",
       "<line clip-path=\"url(#clip6002)\" x1=\"143.51\" y1=\"257.672\" x2=\"143.51\" y2=\"262.672\" style=\"stroke:#000000; stroke-opacity:1\"/>\n",
       "<line clip-path=\"url(#clip6002)\" x1=\"143.51\" y1=\"257.672\" x2=\"138.51\" y2=\"257.672\" style=\"stroke:#000000; stroke-opacity:1\"/>\n",
       "<line clip-path=\"url(#clip6002)\" x1=\"143.51\" y1=\"257.672\" x2=\"143.51\" y2=\"252.672\" style=\"stroke:#000000; stroke-opacity:1\"/>\n",
       "<line clip-path=\"url(#clip6002)\" x1=\"143.51\" y1=\"257.672\" x2=\"148.51\" y2=\"257.672\" style=\"stroke:#000000; stroke-opacity:1\"/>\n",
       "<line clip-path=\"url(#clip6002)\" x1=\"143.51\" y1=\"257.672\" x2=\"143.51\" y2=\"261.672\" style=\"stroke:#ff0000; stroke-opacity:1\"/>\n",
       "<line clip-path=\"url(#clip6002)\" x1=\"143.51\" y1=\"257.672\" x2=\"139.51\" y2=\"257.672\" style=\"stroke:#ff0000; stroke-opacity:1\"/>\n",
       "<line clip-path=\"url(#clip6002)\" x1=\"143.51\" y1=\"257.672\" x2=\"143.51\" y2=\"253.672\" style=\"stroke:#ff0000; stroke-opacity:1\"/>\n",
       "<line clip-path=\"url(#clip6002)\" x1=\"143.51\" y1=\"257.672\" x2=\"147.51\" y2=\"257.672\" style=\"stroke:#ff0000; stroke-opacity:1\"/>\n",
       "<line clip-path=\"url(#clip6002)\" x1=\"202.29\" y1=\"231.672\" x2=\"202.29\" y2=\"236.672\" style=\"stroke:#000000; stroke-opacity:1\"/>\n",
       "<line clip-path=\"url(#clip6002)\" x1=\"202.29\" y1=\"231.672\" x2=\"197.29\" y2=\"231.672\" style=\"stroke:#000000; stroke-opacity:1\"/>\n",
       "<line clip-path=\"url(#clip6002)\" x1=\"202.29\" y1=\"231.672\" x2=\"202.29\" y2=\"226.672\" style=\"stroke:#000000; stroke-opacity:1\"/>\n",
       "<line clip-path=\"url(#clip6002)\" x1=\"202.29\" y1=\"231.672\" x2=\"207.29\" y2=\"231.672\" style=\"stroke:#000000; stroke-opacity:1\"/>\n",
       "<line clip-path=\"url(#clip6002)\" x1=\"202.29\" y1=\"231.672\" x2=\"202.29\" y2=\"235.672\" style=\"stroke:#ff0000; stroke-opacity:1\"/>\n",
       "<line clip-path=\"url(#clip6002)\" x1=\"202.29\" y1=\"231.672\" x2=\"198.29\" y2=\"231.672\" style=\"stroke:#ff0000; stroke-opacity:1\"/>\n",
       "<line clip-path=\"url(#clip6002)\" x1=\"202.29\" y1=\"231.672\" x2=\"202.29\" y2=\"227.672\" style=\"stroke:#ff0000; stroke-opacity:1\"/>\n",
       "<line clip-path=\"url(#clip6002)\" x1=\"202.29\" y1=\"231.672\" x2=\"206.29\" y2=\"231.672\" style=\"stroke:#ff0000; stroke-opacity:1\"/>\n",
       "<line clip-path=\"url(#clip6002)\" x1=\"58.8422\" y1=\"318.177\" x2=\"58.8422\" y2=\"323.177\" style=\"stroke:#000000; stroke-opacity:1\"/>\n",
       "<line clip-path=\"url(#clip6002)\" x1=\"58.8422\" y1=\"318.177\" x2=\"53.8422\" y2=\"318.177\" style=\"stroke:#000000; stroke-opacity:1\"/>\n",
       "<line clip-path=\"url(#clip6002)\" x1=\"58.8422\" y1=\"318.177\" x2=\"58.8422\" y2=\"313.177\" style=\"stroke:#000000; stroke-opacity:1\"/>\n",
       "<line clip-path=\"url(#clip6002)\" x1=\"58.8422\" y1=\"318.177\" x2=\"63.8422\" y2=\"318.177\" style=\"stroke:#000000; stroke-opacity:1\"/>\n",
       "<line clip-path=\"url(#clip6002)\" x1=\"58.8422\" y1=\"318.177\" x2=\"58.8422\" y2=\"322.177\" style=\"stroke:#ff0000; stroke-opacity:1\"/>\n",
       "<line clip-path=\"url(#clip6002)\" x1=\"58.8422\" y1=\"318.177\" x2=\"54.8422\" y2=\"318.177\" style=\"stroke:#ff0000; stroke-opacity:1\"/>\n",
       "<line clip-path=\"url(#clip6002)\" x1=\"58.8422\" y1=\"318.177\" x2=\"58.8422\" y2=\"314.177\" style=\"stroke:#ff0000; stroke-opacity:1\"/>\n",
       "<line clip-path=\"url(#clip6002)\" x1=\"58.8422\" y1=\"318.177\" x2=\"62.8422\" y2=\"318.177\" style=\"stroke:#ff0000; stroke-opacity:1\"/>\n",
       "<line clip-path=\"url(#clip6002)\" x1=\"508.319\" y1=\"62.4974\" x2=\"508.319\" y2=\"67.4974\" style=\"stroke:#000000; stroke-opacity:1\"/>\n",
       "<line clip-path=\"url(#clip6002)\" x1=\"508.319\" y1=\"62.4974\" x2=\"503.319\" y2=\"62.4974\" style=\"stroke:#000000; stroke-opacity:1\"/>\n",
       "<line clip-path=\"url(#clip6002)\" x1=\"508.319\" y1=\"62.4974\" x2=\"508.319\" y2=\"57.4974\" style=\"stroke:#000000; stroke-opacity:1\"/>\n",
       "<line clip-path=\"url(#clip6002)\" x1=\"508.319\" y1=\"62.4974\" x2=\"513.319\" y2=\"62.4974\" style=\"stroke:#000000; stroke-opacity:1\"/>\n",
       "<line clip-path=\"url(#clip6002)\" x1=\"508.319\" y1=\"62.4974\" x2=\"508.319\" y2=\"66.4974\" style=\"stroke:#ff0000; stroke-opacity:1\"/>\n",
       "<line clip-path=\"url(#clip6002)\" x1=\"508.319\" y1=\"62.4974\" x2=\"504.319\" y2=\"62.4974\" style=\"stroke:#ff0000; stroke-opacity:1\"/>\n",
       "<line clip-path=\"url(#clip6002)\" x1=\"508.319\" y1=\"62.4974\" x2=\"508.319\" y2=\"58.4974\" style=\"stroke:#ff0000; stroke-opacity:1\"/>\n",
       "<line clip-path=\"url(#clip6002)\" x1=\"508.319\" y1=\"62.4974\" x2=\"512.319\" y2=\"62.4974\" style=\"stroke:#ff0000; stroke-opacity:1\"/>\n",
       "<line clip-path=\"url(#clip6002)\" x1=\"199.261\" y1=\"245.694\" x2=\"199.261\" y2=\"250.694\" style=\"stroke:#000000; stroke-opacity:1\"/>\n",
       "<line clip-path=\"url(#clip6002)\" x1=\"199.261\" y1=\"245.694\" x2=\"194.261\" y2=\"245.694\" style=\"stroke:#000000; stroke-opacity:1\"/>\n",
       "<line clip-path=\"url(#clip6002)\" x1=\"199.261\" y1=\"245.694\" x2=\"199.261\" y2=\"240.694\" style=\"stroke:#000000; stroke-opacity:1\"/>\n",
       "<line clip-path=\"url(#clip6002)\" x1=\"199.261\" y1=\"245.694\" x2=\"204.261\" y2=\"245.694\" style=\"stroke:#000000; stroke-opacity:1\"/>\n",
       "<line clip-path=\"url(#clip6002)\" x1=\"199.261\" y1=\"245.694\" x2=\"199.261\" y2=\"249.694\" style=\"stroke:#ff0000; stroke-opacity:1\"/>\n",
       "<line clip-path=\"url(#clip6002)\" x1=\"199.261\" y1=\"245.694\" x2=\"195.261\" y2=\"245.694\" style=\"stroke:#ff0000; stroke-opacity:1\"/>\n",
       "<line clip-path=\"url(#clip6002)\" x1=\"199.261\" y1=\"245.694\" x2=\"199.261\" y2=\"241.694\" style=\"stroke:#ff0000; stroke-opacity:1\"/>\n",
       "<line clip-path=\"url(#clip6002)\" x1=\"199.261\" y1=\"245.694\" x2=\"203.261\" y2=\"245.694\" style=\"stroke:#ff0000; stroke-opacity:1\"/>\n",
       "<line clip-path=\"url(#clip6002)\" x1=\"114.418\" y1=\"279.666\" x2=\"114.418\" y2=\"284.666\" style=\"stroke:#000000; stroke-opacity:1\"/>\n",
       "<line clip-path=\"url(#clip6002)\" x1=\"114.418\" y1=\"279.666\" x2=\"109.418\" y2=\"279.666\" style=\"stroke:#000000; stroke-opacity:1\"/>\n",
       "<line clip-path=\"url(#clip6002)\" x1=\"114.418\" y1=\"279.666\" x2=\"114.418\" y2=\"274.666\" style=\"stroke:#000000; stroke-opacity:1\"/>\n",
       "<line clip-path=\"url(#clip6002)\" x1=\"114.418\" y1=\"279.666\" x2=\"119.418\" y2=\"279.666\" style=\"stroke:#000000; stroke-opacity:1\"/>\n",
       "<line clip-path=\"url(#clip6002)\" x1=\"114.418\" y1=\"279.666\" x2=\"114.418\" y2=\"283.666\" style=\"stroke:#ff0000; stroke-opacity:1\"/>\n",
       "<line clip-path=\"url(#clip6002)\" x1=\"114.418\" y1=\"279.666\" x2=\"110.418\" y2=\"279.666\" style=\"stroke:#ff0000; stroke-opacity:1\"/>\n",
       "<line clip-path=\"url(#clip6002)\" x1=\"114.418\" y1=\"279.666\" x2=\"114.418\" y2=\"275.666\" style=\"stroke:#ff0000; stroke-opacity:1\"/>\n",
       "<line clip-path=\"url(#clip6002)\" x1=\"114.418\" y1=\"279.666\" x2=\"118.418\" y2=\"279.666\" style=\"stroke:#ff0000; stroke-opacity:1\"/>\n",
       "<line clip-path=\"url(#clip6002)\" x1=\"74.1906\" y1=\"314.834\" x2=\"74.1906\" y2=\"319.834\" style=\"stroke:#000000; stroke-opacity:1\"/>\n",
       "<line clip-path=\"url(#clip6002)\" x1=\"74.1906\" y1=\"314.834\" x2=\"69.1906\" y2=\"314.834\" style=\"stroke:#000000; stroke-opacity:1\"/>\n",
       "<line clip-path=\"url(#clip6002)\" x1=\"74.1906\" y1=\"314.834\" x2=\"74.1906\" y2=\"309.834\" style=\"stroke:#000000; stroke-opacity:1\"/>\n",
       "<line clip-path=\"url(#clip6002)\" x1=\"74.1906\" y1=\"314.834\" x2=\"79.1906\" y2=\"314.834\" style=\"stroke:#000000; stroke-opacity:1\"/>\n",
       "<line clip-path=\"url(#clip6002)\" x1=\"74.1906\" y1=\"314.834\" x2=\"74.1906\" y2=\"318.834\" style=\"stroke:#ff0000; stroke-opacity:1\"/>\n",
       "<line clip-path=\"url(#clip6002)\" x1=\"74.1906\" y1=\"314.834\" x2=\"70.1906\" y2=\"314.834\" style=\"stroke:#ff0000; stroke-opacity:1\"/>\n",
       "<line clip-path=\"url(#clip6002)\" x1=\"74.1906\" y1=\"314.834\" x2=\"74.1906\" y2=\"310.834\" style=\"stroke:#ff0000; stroke-opacity:1\"/>\n",
       "<line clip-path=\"url(#clip6002)\" x1=\"74.1906\" y1=\"314.834\" x2=\"78.1906\" y2=\"314.834\" style=\"stroke:#ff0000; stroke-opacity:1\"/>\n",
       "<line clip-path=\"url(#clip6002)\" x1=\"111.129\" y1=\"288.432\" x2=\"111.129\" y2=\"293.432\" style=\"stroke:#000000; stroke-opacity:1\"/>\n",
       "<line clip-path=\"url(#clip6002)\" x1=\"111.129\" y1=\"288.432\" x2=\"106.129\" y2=\"288.432\" style=\"stroke:#000000; stroke-opacity:1\"/>\n",
       "<line clip-path=\"url(#clip6002)\" x1=\"111.129\" y1=\"288.432\" x2=\"111.129\" y2=\"283.432\" style=\"stroke:#000000; stroke-opacity:1\"/>\n",
       "<line clip-path=\"url(#clip6002)\" x1=\"111.129\" y1=\"288.432\" x2=\"116.129\" y2=\"288.432\" style=\"stroke:#000000; stroke-opacity:1\"/>\n",
       "<line clip-path=\"url(#clip6002)\" x1=\"111.129\" y1=\"288.432\" x2=\"111.129\" y2=\"292.432\" style=\"stroke:#ff0000; stroke-opacity:1\"/>\n",
       "<line clip-path=\"url(#clip6002)\" x1=\"111.129\" y1=\"288.432\" x2=\"107.129\" y2=\"288.432\" style=\"stroke:#ff0000; stroke-opacity:1\"/>\n",
       "<line clip-path=\"url(#clip6002)\" x1=\"111.129\" y1=\"288.432\" x2=\"111.129\" y2=\"284.432\" style=\"stroke:#ff0000; stroke-opacity:1\"/>\n",
       "<line clip-path=\"url(#clip6002)\" x1=\"111.129\" y1=\"288.432\" x2=\"115.129\" y2=\"288.432\" style=\"stroke:#ff0000; stroke-opacity:1\"/>\n",
       "<line clip-path=\"url(#clip6002)\" x1=\"44.5326\" y1=\"365.511\" x2=\"44.5326\" y2=\"370.511\" style=\"stroke:#000000; stroke-opacity:1\"/>\n",
       "<line clip-path=\"url(#clip6002)\" x1=\"44.5326\" y1=\"365.511\" x2=\"39.5326\" y2=\"365.511\" style=\"stroke:#000000; stroke-opacity:1\"/>\n",
       "<line clip-path=\"url(#clip6002)\" x1=\"44.5326\" y1=\"365.511\" x2=\"44.5326\" y2=\"360.511\" style=\"stroke:#000000; stroke-opacity:1\"/>\n",
       "<line clip-path=\"url(#clip6002)\" x1=\"44.5326\" y1=\"365.511\" x2=\"49.5326\" y2=\"365.511\" style=\"stroke:#000000; stroke-opacity:1\"/>\n",
       "<line clip-path=\"url(#clip6002)\" x1=\"44.5326\" y1=\"365.511\" x2=\"44.5326\" y2=\"369.511\" style=\"stroke:#ff0000; stroke-opacity:1\"/>\n",
       "<line clip-path=\"url(#clip6002)\" x1=\"44.5326\" y1=\"365.511\" x2=\"40.5326\" y2=\"365.511\" style=\"stroke:#ff0000; stroke-opacity:1\"/>\n",
       "<line clip-path=\"url(#clip6002)\" x1=\"44.5326\" y1=\"365.511\" x2=\"44.5326\" y2=\"361.511\" style=\"stroke:#ff0000; stroke-opacity:1\"/>\n",
       "<line clip-path=\"url(#clip6002)\" x1=\"44.5326\" y1=\"365.511\" x2=\"48.5326\" y2=\"365.511\" style=\"stroke:#ff0000; stroke-opacity:1\"/>\n",
       "<line clip-path=\"url(#clip6002)\" x1=\"90.596\" y1=\"327.399\" x2=\"90.596\" y2=\"332.399\" style=\"stroke:#000000; stroke-opacity:1\"/>\n",
       "<line clip-path=\"url(#clip6002)\" x1=\"90.596\" y1=\"327.399\" x2=\"85.596\" y2=\"327.399\" style=\"stroke:#000000; stroke-opacity:1\"/>\n",
       "<line clip-path=\"url(#clip6002)\" x1=\"90.596\" y1=\"327.399\" x2=\"90.596\" y2=\"322.399\" style=\"stroke:#000000; stroke-opacity:1\"/>\n",
       "<line clip-path=\"url(#clip6002)\" x1=\"90.596\" y1=\"327.399\" x2=\"95.596\" y2=\"327.399\" style=\"stroke:#000000; stroke-opacity:1\"/>\n",
       "<line clip-path=\"url(#clip6002)\" x1=\"90.596\" y1=\"327.399\" x2=\"90.596\" y2=\"331.399\" style=\"stroke:#ff0000; stroke-opacity:1\"/>\n",
       "<line clip-path=\"url(#clip6002)\" x1=\"90.596\" y1=\"327.399\" x2=\"86.596\" y2=\"327.399\" style=\"stroke:#ff0000; stroke-opacity:1\"/>\n",
       "<line clip-path=\"url(#clip6002)\" x1=\"90.596\" y1=\"327.399\" x2=\"90.596\" y2=\"323.399\" style=\"stroke:#ff0000; stroke-opacity:1\"/>\n",
       "<line clip-path=\"url(#clip6002)\" x1=\"90.596\" y1=\"327.399\" x2=\"94.596\" y2=\"327.399\" style=\"stroke:#ff0000; stroke-opacity:1\"/>\n",
       "<line clip-path=\"url(#clip6002)\" x1=\"120.599\" y1=\"281.476\" x2=\"120.599\" y2=\"286.476\" style=\"stroke:#000000; stroke-opacity:1\"/>\n",
       "<line clip-path=\"url(#clip6002)\" x1=\"120.599\" y1=\"281.476\" x2=\"115.599\" y2=\"281.476\" style=\"stroke:#000000; stroke-opacity:1\"/>\n",
       "<line clip-path=\"url(#clip6002)\" x1=\"120.599\" y1=\"281.476\" x2=\"120.599\" y2=\"276.476\" style=\"stroke:#000000; stroke-opacity:1\"/>\n",
       "<line clip-path=\"url(#clip6002)\" x1=\"120.599\" y1=\"281.476\" x2=\"125.599\" y2=\"281.476\" style=\"stroke:#000000; stroke-opacity:1\"/>\n",
       "<line clip-path=\"url(#clip6002)\" x1=\"120.599\" y1=\"281.476\" x2=\"120.599\" y2=\"285.476\" style=\"stroke:#ff0000; stroke-opacity:1\"/>\n",
       "<line clip-path=\"url(#clip6002)\" x1=\"120.599\" y1=\"281.476\" x2=\"116.599\" y2=\"281.476\" style=\"stroke:#ff0000; stroke-opacity:1\"/>\n",
       "<line clip-path=\"url(#clip6002)\" x1=\"120.599\" y1=\"281.476\" x2=\"120.599\" y2=\"277.476\" style=\"stroke:#ff0000; stroke-opacity:1\"/>\n",
       "<line clip-path=\"url(#clip6002)\" x1=\"120.599\" y1=\"281.476\" x2=\"124.599\" y2=\"281.476\" style=\"stroke:#ff0000; stroke-opacity:1\"/>\n",
       "<line clip-path=\"url(#clip6002)\" x1=\"44.8233\" y1=\"258.219\" x2=\"44.8233\" y2=\"263.219\" style=\"stroke:#000000; stroke-opacity:1\"/>\n",
       "<line clip-path=\"url(#clip6002)\" x1=\"44.8233\" y1=\"258.219\" x2=\"39.8233\" y2=\"258.219\" style=\"stroke:#000000; stroke-opacity:1\"/>\n",
       "<line clip-path=\"url(#clip6002)\" x1=\"44.8233\" y1=\"258.219\" x2=\"44.8233\" y2=\"253.219\" style=\"stroke:#000000; stroke-opacity:1\"/>\n",
       "<line clip-path=\"url(#clip6002)\" x1=\"44.8233\" y1=\"258.219\" x2=\"49.8233\" y2=\"258.219\" style=\"stroke:#000000; stroke-opacity:1\"/>\n",
       "<line clip-path=\"url(#clip6002)\" x1=\"44.8233\" y1=\"258.219\" x2=\"44.8233\" y2=\"262.219\" style=\"stroke:#ff0000; stroke-opacity:1\"/>\n",
       "<line clip-path=\"url(#clip6002)\" x1=\"44.8233\" y1=\"258.219\" x2=\"40.8233\" y2=\"258.219\" style=\"stroke:#ff0000; stroke-opacity:1\"/>\n",
       "<line clip-path=\"url(#clip6002)\" x1=\"44.8233\" y1=\"258.219\" x2=\"44.8233\" y2=\"254.219\" style=\"stroke:#ff0000; stroke-opacity:1\"/>\n",
       "<line clip-path=\"url(#clip6002)\" x1=\"44.8233\" y1=\"258.219\" x2=\"48.8233\" y2=\"258.219\" style=\"stroke:#ff0000; stroke-opacity:1\"/>\n",
       "<line clip-path=\"url(#clip6002)\" x1=\"203.441\" y1=\"244.764\" x2=\"203.441\" y2=\"249.764\" style=\"stroke:#000000; stroke-opacity:1\"/>\n",
       "<line clip-path=\"url(#clip6002)\" x1=\"203.441\" y1=\"244.764\" x2=\"198.441\" y2=\"244.764\" style=\"stroke:#000000; stroke-opacity:1\"/>\n",
       "<line clip-path=\"url(#clip6002)\" x1=\"203.441\" y1=\"244.764\" x2=\"203.441\" y2=\"239.764\" style=\"stroke:#000000; stroke-opacity:1\"/>\n",
       "<line clip-path=\"url(#clip6002)\" x1=\"203.441\" y1=\"244.764\" x2=\"208.441\" y2=\"244.764\" style=\"stroke:#000000; stroke-opacity:1\"/>\n",
       "<line clip-path=\"url(#clip6002)\" x1=\"203.441\" y1=\"244.764\" x2=\"203.441\" y2=\"248.764\" style=\"stroke:#ff0000; stroke-opacity:1\"/>\n",
       "<line clip-path=\"url(#clip6002)\" x1=\"203.441\" y1=\"244.764\" x2=\"199.441\" y2=\"244.764\" style=\"stroke:#ff0000; stroke-opacity:1\"/>\n",
       "<line clip-path=\"url(#clip6002)\" x1=\"203.441\" y1=\"244.764\" x2=\"203.441\" y2=\"240.764\" style=\"stroke:#ff0000; stroke-opacity:1\"/>\n",
       "<line clip-path=\"url(#clip6002)\" x1=\"203.441\" y1=\"244.764\" x2=\"207.441\" y2=\"244.764\" style=\"stroke:#ff0000; stroke-opacity:1\"/>\n",
       "<line clip-path=\"url(#clip6002)\" x1=\"46.9796\" y1=\"304.861\" x2=\"46.9796\" y2=\"309.861\" style=\"stroke:#000000; stroke-opacity:1\"/>\n",
       "<line clip-path=\"url(#clip6002)\" x1=\"46.9796\" y1=\"304.861\" x2=\"41.9796\" y2=\"304.861\" style=\"stroke:#000000; stroke-opacity:1\"/>\n",
       "<line clip-path=\"url(#clip6002)\" x1=\"46.9796\" y1=\"304.861\" x2=\"46.9796\" y2=\"299.861\" style=\"stroke:#000000; stroke-opacity:1\"/>\n",
       "<line clip-path=\"url(#clip6002)\" x1=\"46.9796\" y1=\"304.861\" x2=\"51.9796\" y2=\"304.861\" style=\"stroke:#000000; stroke-opacity:1\"/>\n",
       "<line clip-path=\"url(#clip6002)\" x1=\"46.9796\" y1=\"304.861\" x2=\"46.9796\" y2=\"308.861\" style=\"stroke:#ff0000; stroke-opacity:1\"/>\n",
       "<line clip-path=\"url(#clip6002)\" x1=\"46.9796\" y1=\"304.861\" x2=\"42.9796\" y2=\"304.861\" style=\"stroke:#ff0000; stroke-opacity:1\"/>\n",
       "<line clip-path=\"url(#clip6002)\" x1=\"46.9796\" y1=\"304.861\" x2=\"46.9796\" y2=\"300.861\" style=\"stroke:#ff0000; stroke-opacity:1\"/>\n",
       "<line clip-path=\"url(#clip6002)\" x1=\"46.9796\" y1=\"304.861\" x2=\"50.9796\" y2=\"304.861\" style=\"stroke:#ff0000; stroke-opacity:1\"/>\n",
       "<line clip-path=\"url(#clip6002)\" x1=\"65.8017\" y1=\"325.06\" x2=\"65.8017\" y2=\"330.06\" style=\"stroke:#000000; stroke-opacity:1\"/>\n",
       "<line clip-path=\"url(#clip6002)\" x1=\"65.8017\" y1=\"325.06\" x2=\"60.8017\" y2=\"325.06\" style=\"stroke:#000000; stroke-opacity:1\"/>\n",
       "<line clip-path=\"url(#clip6002)\" x1=\"65.8017\" y1=\"325.06\" x2=\"65.8017\" y2=\"320.06\" style=\"stroke:#000000; stroke-opacity:1\"/>\n",
       "<line clip-path=\"url(#clip6002)\" x1=\"65.8017\" y1=\"325.06\" x2=\"70.8017\" y2=\"325.06\" style=\"stroke:#000000; stroke-opacity:1\"/>\n",
       "<line clip-path=\"url(#clip6002)\" x1=\"65.8017\" y1=\"325.06\" x2=\"65.8017\" y2=\"329.06\" style=\"stroke:#ff0000; stroke-opacity:1\"/>\n",
       "<line clip-path=\"url(#clip6002)\" x1=\"65.8017\" y1=\"325.06\" x2=\"61.8017\" y2=\"325.06\" style=\"stroke:#ff0000; stroke-opacity:1\"/>\n",
       "<line clip-path=\"url(#clip6002)\" x1=\"65.8017\" y1=\"325.06\" x2=\"65.8017\" y2=\"321.06\" style=\"stroke:#ff0000; stroke-opacity:1\"/>\n",
       "<line clip-path=\"url(#clip6002)\" x1=\"65.8017\" y1=\"325.06\" x2=\"69.8017\" y2=\"325.06\" style=\"stroke:#ff0000; stroke-opacity:1\"/>\n",
       "<line clip-path=\"url(#clip6002)\" x1=\"49.4236\" y1=\"328.584\" x2=\"49.4236\" y2=\"333.584\" style=\"stroke:#000000; stroke-opacity:1\"/>\n",
       "<line clip-path=\"url(#clip6002)\" x1=\"49.4236\" y1=\"328.584\" x2=\"44.4236\" y2=\"328.584\" style=\"stroke:#000000; stroke-opacity:1\"/>\n",
       "<line clip-path=\"url(#clip6002)\" x1=\"49.4236\" y1=\"328.584\" x2=\"49.4236\" y2=\"323.584\" style=\"stroke:#000000; stroke-opacity:1\"/>\n",
       "<line clip-path=\"url(#clip6002)\" x1=\"49.4236\" y1=\"328.584\" x2=\"54.4236\" y2=\"328.584\" style=\"stroke:#000000; stroke-opacity:1\"/>\n",
       "<line clip-path=\"url(#clip6002)\" x1=\"49.4236\" y1=\"328.584\" x2=\"49.4236\" y2=\"332.584\" style=\"stroke:#ff0000; stroke-opacity:1\"/>\n",
       "<line clip-path=\"url(#clip6002)\" x1=\"49.4236\" y1=\"328.584\" x2=\"45.4236\" y2=\"328.584\" style=\"stroke:#ff0000; stroke-opacity:1\"/>\n",
       "<line clip-path=\"url(#clip6002)\" x1=\"49.4236\" y1=\"328.584\" x2=\"49.4236\" y2=\"324.584\" style=\"stroke:#ff0000; stroke-opacity:1\"/>\n",
       "<line clip-path=\"url(#clip6002)\" x1=\"49.4236\" y1=\"328.584\" x2=\"53.4236\" y2=\"328.584\" style=\"stroke:#ff0000; stroke-opacity:1\"/>\n",
       "<line clip-path=\"url(#clip6002)\" x1=\"84.7752\" y1=\"322.512\" x2=\"84.7752\" y2=\"327.512\" style=\"stroke:#000000; stroke-opacity:1\"/>\n",
       "<line clip-path=\"url(#clip6002)\" x1=\"84.7752\" y1=\"322.512\" x2=\"79.7752\" y2=\"322.512\" style=\"stroke:#000000; stroke-opacity:1\"/>\n",
       "<line clip-path=\"url(#clip6002)\" x1=\"84.7752\" y1=\"322.512\" x2=\"84.7752\" y2=\"317.512\" style=\"stroke:#000000; stroke-opacity:1\"/>\n",
       "<line clip-path=\"url(#clip6002)\" x1=\"84.7752\" y1=\"322.512\" x2=\"89.7752\" y2=\"322.512\" style=\"stroke:#000000; stroke-opacity:1\"/>\n",
       "<line clip-path=\"url(#clip6002)\" x1=\"84.7752\" y1=\"322.512\" x2=\"84.7752\" y2=\"326.512\" style=\"stroke:#ff0000; stroke-opacity:1\"/>\n",
       "<line clip-path=\"url(#clip6002)\" x1=\"84.7752\" y1=\"322.512\" x2=\"80.7752\" y2=\"322.512\" style=\"stroke:#ff0000; stroke-opacity:1\"/>\n",
       "<line clip-path=\"url(#clip6002)\" x1=\"84.7752\" y1=\"322.512\" x2=\"84.7752\" y2=\"318.512\" style=\"stroke:#ff0000; stroke-opacity:1\"/>\n",
       "<line clip-path=\"url(#clip6002)\" x1=\"84.7752\" y1=\"322.512\" x2=\"88.7752\" y2=\"322.512\" style=\"stroke:#ff0000; stroke-opacity:1\"/>\n",
       "<line clip-path=\"url(#clip6002)\" x1=\"188.138\" y1=\"234.64\" x2=\"188.138\" y2=\"239.64\" style=\"stroke:#000000; stroke-opacity:1\"/>\n",
       "<line clip-path=\"url(#clip6002)\" x1=\"188.138\" y1=\"234.64\" x2=\"183.138\" y2=\"234.64\" style=\"stroke:#000000; stroke-opacity:1\"/>\n",
       "<line clip-path=\"url(#clip6002)\" x1=\"188.138\" y1=\"234.64\" x2=\"188.138\" y2=\"229.64\" style=\"stroke:#000000; stroke-opacity:1\"/>\n",
       "<line clip-path=\"url(#clip6002)\" x1=\"188.138\" y1=\"234.64\" x2=\"193.138\" y2=\"234.64\" style=\"stroke:#000000; stroke-opacity:1\"/>\n",
       "<line clip-path=\"url(#clip6002)\" x1=\"188.138\" y1=\"234.64\" x2=\"188.138\" y2=\"238.64\" style=\"stroke:#ff0000; stroke-opacity:1\"/>\n",
       "<line clip-path=\"url(#clip6002)\" x1=\"188.138\" y1=\"234.64\" x2=\"184.138\" y2=\"234.64\" style=\"stroke:#ff0000; stroke-opacity:1\"/>\n",
       "<line clip-path=\"url(#clip6002)\" x1=\"188.138\" y1=\"234.64\" x2=\"188.138\" y2=\"230.64\" style=\"stroke:#ff0000; stroke-opacity:1\"/>\n",
       "<line clip-path=\"url(#clip6002)\" x1=\"188.138\" y1=\"234.64\" x2=\"192.138\" y2=\"234.64\" style=\"stroke:#ff0000; stroke-opacity:1\"/>\n",
       "<line clip-path=\"url(#clip6002)\" x1=\"89.6269\" y1=\"262.799\" x2=\"89.6269\" y2=\"267.799\" style=\"stroke:#000000; stroke-opacity:1\"/>\n",
       "<line clip-path=\"url(#clip6002)\" x1=\"89.6269\" y1=\"262.799\" x2=\"84.6269\" y2=\"262.799\" style=\"stroke:#000000; stroke-opacity:1\"/>\n",
       "<line clip-path=\"url(#clip6002)\" x1=\"89.6269\" y1=\"262.799\" x2=\"89.6269\" y2=\"257.799\" style=\"stroke:#000000; stroke-opacity:1\"/>\n",
       "<line clip-path=\"url(#clip6002)\" x1=\"89.6269\" y1=\"262.799\" x2=\"94.6269\" y2=\"262.799\" style=\"stroke:#000000; stroke-opacity:1\"/>\n",
       "<line clip-path=\"url(#clip6002)\" x1=\"89.6269\" y1=\"262.799\" x2=\"89.6269\" y2=\"266.799\" style=\"stroke:#ff0000; stroke-opacity:1\"/>\n",
       "<line clip-path=\"url(#clip6002)\" x1=\"89.6269\" y1=\"262.799\" x2=\"85.6269\" y2=\"262.799\" style=\"stroke:#ff0000; stroke-opacity:1\"/>\n",
       "<line clip-path=\"url(#clip6002)\" x1=\"89.6269\" y1=\"262.799\" x2=\"89.6269\" y2=\"258.799\" style=\"stroke:#ff0000; stroke-opacity:1\"/>\n",
       "<line clip-path=\"url(#clip6002)\" x1=\"89.6269\" y1=\"262.799\" x2=\"93.6269\" y2=\"262.799\" style=\"stroke:#ff0000; stroke-opacity:1\"/>\n",
       "<line clip-path=\"url(#clip6002)\" x1=\"150.236\" y1=\"276.906\" x2=\"150.236\" y2=\"281.906\" style=\"stroke:#000000; stroke-opacity:1\"/>\n",
       "<line clip-path=\"url(#clip6002)\" x1=\"150.236\" y1=\"276.906\" x2=\"145.236\" y2=\"276.906\" style=\"stroke:#000000; stroke-opacity:1\"/>\n",
       "<line clip-path=\"url(#clip6002)\" x1=\"150.236\" y1=\"276.906\" x2=\"150.236\" y2=\"271.906\" style=\"stroke:#000000; stroke-opacity:1\"/>\n",
       "<line clip-path=\"url(#clip6002)\" x1=\"150.236\" y1=\"276.906\" x2=\"155.236\" y2=\"276.906\" style=\"stroke:#000000; stroke-opacity:1\"/>\n",
       "<line clip-path=\"url(#clip6002)\" x1=\"150.236\" y1=\"276.906\" x2=\"150.236\" y2=\"280.906\" style=\"stroke:#ff0000; stroke-opacity:1\"/>\n",
       "<line clip-path=\"url(#clip6002)\" x1=\"150.236\" y1=\"276.906\" x2=\"146.236\" y2=\"276.906\" style=\"stroke:#ff0000; stroke-opacity:1\"/>\n",
       "<line clip-path=\"url(#clip6002)\" x1=\"150.236\" y1=\"276.906\" x2=\"150.236\" y2=\"272.906\" style=\"stroke:#ff0000; stroke-opacity:1\"/>\n",
       "<line clip-path=\"url(#clip6002)\" x1=\"150.236\" y1=\"276.906\" x2=\"154.236\" y2=\"276.906\" style=\"stroke:#ff0000; stroke-opacity:1\"/>\n",
       "<line clip-path=\"url(#clip6002)\" x1=\"170.315\" y1=\"244.181\" x2=\"170.315\" y2=\"249.181\" style=\"stroke:#000000; stroke-opacity:1\"/>\n",
       "<line clip-path=\"url(#clip6002)\" x1=\"170.315\" y1=\"244.181\" x2=\"165.315\" y2=\"244.181\" style=\"stroke:#000000; stroke-opacity:1\"/>\n",
       "<line clip-path=\"url(#clip6002)\" x1=\"170.315\" y1=\"244.181\" x2=\"170.315\" y2=\"239.181\" style=\"stroke:#000000; stroke-opacity:1\"/>\n",
       "<line clip-path=\"url(#clip6002)\" x1=\"170.315\" y1=\"244.181\" x2=\"175.315\" y2=\"244.181\" style=\"stroke:#000000; stroke-opacity:1\"/>\n",
       "<line clip-path=\"url(#clip6002)\" x1=\"170.315\" y1=\"244.181\" x2=\"170.315\" y2=\"248.181\" style=\"stroke:#ff0000; stroke-opacity:1\"/>\n",
       "<line clip-path=\"url(#clip6002)\" x1=\"170.315\" y1=\"244.181\" x2=\"166.315\" y2=\"244.181\" style=\"stroke:#ff0000; stroke-opacity:1\"/>\n",
       "<line clip-path=\"url(#clip6002)\" x1=\"170.315\" y1=\"244.181\" x2=\"170.315\" y2=\"240.181\" style=\"stroke:#ff0000; stroke-opacity:1\"/>\n",
       "<line clip-path=\"url(#clip6002)\" x1=\"170.315\" y1=\"244.181\" x2=\"174.315\" y2=\"244.181\" style=\"stroke:#ff0000; stroke-opacity:1\"/>\n",
       "<line clip-path=\"url(#clip6002)\" x1=\"74.0634\" y1=\"319.333\" x2=\"74.0634\" y2=\"324.333\" style=\"stroke:#000000; stroke-opacity:1\"/>\n",
       "<line clip-path=\"url(#clip6002)\" x1=\"74.0634\" y1=\"319.333\" x2=\"69.0634\" y2=\"319.333\" style=\"stroke:#000000; stroke-opacity:1\"/>\n",
       "<line clip-path=\"url(#clip6002)\" x1=\"74.0634\" y1=\"319.333\" x2=\"74.0634\" y2=\"314.333\" style=\"stroke:#000000; stroke-opacity:1\"/>\n",
       "<line clip-path=\"url(#clip6002)\" x1=\"74.0634\" y1=\"319.333\" x2=\"79.0634\" y2=\"319.333\" style=\"stroke:#000000; stroke-opacity:1\"/>\n",
       "<line clip-path=\"url(#clip6002)\" x1=\"74.0634\" y1=\"319.333\" x2=\"74.0634\" y2=\"323.333\" style=\"stroke:#ff0000; stroke-opacity:1\"/>\n",
       "<line clip-path=\"url(#clip6002)\" x1=\"74.0634\" y1=\"319.333\" x2=\"70.0634\" y2=\"319.333\" style=\"stroke:#ff0000; stroke-opacity:1\"/>\n",
       "<line clip-path=\"url(#clip6002)\" x1=\"74.0634\" y1=\"319.333\" x2=\"74.0634\" y2=\"315.333\" style=\"stroke:#ff0000; stroke-opacity:1\"/>\n",
       "<line clip-path=\"url(#clip6002)\" x1=\"74.0634\" y1=\"319.333\" x2=\"78.0634\" y2=\"319.333\" style=\"stroke:#ff0000; stroke-opacity:1\"/>\n",
       "<line clip-path=\"url(#clip6002)\" x1=\"59.4782\" y1=\"329.253\" x2=\"59.4782\" y2=\"334.253\" style=\"stroke:#000000; stroke-opacity:1\"/>\n",
       "<line clip-path=\"url(#clip6002)\" x1=\"59.4782\" y1=\"329.253\" x2=\"54.4782\" y2=\"329.253\" style=\"stroke:#000000; stroke-opacity:1\"/>\n",
       "<line clip-path=\"url(#clip6002)\" x1=\"59.4782\" y1=\"329.253\" x2=\"59.4782\" y2=\"324.253\" style=\"stroke:#000000; stroke-opacity:1\"/>\n",
       "<line clip-path=\"url(#clip6002)\" x1=\"59.4782\" y1=\"329.253\" x2=\"64.4782\" y2=\"329.253\" style=\"stroke:#000000; stroke-opacity:1\"/>\n",
       "<line clip-path=\"url(#clip6002)\" x1=\"59.4782\" y1=\"329.253\" x2=\"59.4782\" y2=\"333.253\" style=\"stroke:#ff0000; stroke-opacity:1\"/>\n",
       "<line clip-path=\"url(#clip6002)\" x1=\"59.4782\" y1=\"329.253\" x2=\"55.4782\" y2=\"329.253\" style=\"stroke:#ff0000; stroke-opacity:1\"/>\n",
       "<line clip-path=\"url(#clip6002)\" x1=\"59.4782\" y1=\"329.253\" x2=\"59.4782\" y2=\"325.253\" style=\"stroke:#ff0000; stroke-opacity:1\"/>\n",
       "<line clip-path=\"url(#clip6002)\" x1=\"59.4782\" y1=\"329.253\" x2=\"63.4782\" y2=\"329.253\" style=\"stroke:#ff0000; stroke-opacity:1\"/>\n",
       "<line clip-path=\"url(#clip6002)\" x1=\"45.5169\" y1=\"295.084\" x2=\"45.5169\" y2=\"300.084\" style=\"stroke:#000000; stroke-opacity:1\"/>\n",
       "<line clip-path=\"url(#clip6002)\" x1=\"45.5169\" y1=\"295.084\" x2=\"40.5169\" y2=\"295.084\" style=\"stroke:#000000; stroke-opacity:1\"/>\n",
       "<line clip-path=\"url(#clip6002)\" x1=\"45.5169\" y1=\"295.084\" x2=\"45.5169\" y2=\"290.084\" style=\"stroke:#000000; stroke-opacity:1\"/>\n",
       "<line clip-path=\"url(#clip6002)\" x1=\"45.5169\" y1=\"295.084\" x2=\"50.5169\" y2=\"295.084\" style=\"stroke:#000000; stroke-opacity:1\"/>\n",
       "<line clip-path=\"url(#clip6002)\" x1=\"45.5169\" y1=\"295.084\" x2=\"45.5169\" y2=\"299.084\" style=\"stroke:#ff0000; stroke-opacity:1\"/>\n",
       "<line clip-path=\"url(#clip6002)\" x1=\"45.5169\" y1=\"295.084\" x2=\"41.5169\" y2=\"295.084\" style=\"stroke:#ff0000; stroke-opacity:1\"/>\n",
       "<line clip-path=\"url(#clip6002)\" x1=\"45.5169\" y1=\"295.084\" x2=\"45.5169\" y2=\"291.084\" style=\"stroke:#ff0000; stroke-opacity:1\"/>\n",
       "<line clip-path=\"url(#clip6002)\" x1=\"45.5169\" y1=\"295.084\" x2=\"49.5169\" y2=\"295.084\" style=\"stroke:#ff0000; stroke-opacity:1\"/>\n",
       "<line clip-path=\"url(#clip6002)\" x1=\"65.1506\" y1=\"307.581\" x2=\"65.1506\" y2=\"312.581\" style=\"stroke:#000000; stroke-opacity:1\"/>\n",
       "<line clip-path=\"url(#clip6002)\" x1=\"65.1506\" y1=\"307.581\" x2=\"60.1506\" y2=\"307.581\" style=\"stroke:#000000; stroke-opacity:1\"/>\n",
       "<line clip-path=\"url(#clip6002)\" x1=\"65.1506\" y1=\"307.581\" x2=\"65.1506\" y2=\"302.581\" style=\"stroke:#000000; stroke-opacity:1\"/>\n",
       "<line clip-path=\"url(#clip6002)\" x1=\"65.1506\" y1=\"307.581\" x2=\"70.1506\" y2=\"307.581\" style=\"stroke:#000000; stroke-opacity:1\"/>\n",
       "<line clip-path=\"url(#clip6002)\" x1=\"65.1506\" y1=\"307.581\" x2=\"65.1506\" y2=\"311.581\" style=\"stroke:#ff0000; stroke-opacity:1\"/>\n",
       "<line clip-path=\"url(#clip6002)\" x1=\"65.1506\" y1=\"307.581\" x2=\"61.1506\" y2=\"307.581\" style=\"stroke:#ff0000; stroke-opacity:1\"/>\n",
       "<line clip-path=\"url(#clip6002)\" x1=\"65.1506\" y1=\"307.581\" x2=\"65.1506\" y2=\"303.581\" style=\"stroke:#ff0000; stroke-opacity:1\"/>\n",
       "<line clip-path=\"url(#clip6002)\" x1=\"65.1506\" y1=\"307.581\" x2=\"69.1506\" y2=\"307.581\" style=\"stroke:#ff0000; stroke-opacity:1\"/>\n",
       "<line clip-path=\"url(#clip6002)\" x1=\"123.567\" y1=\"276.21\" x2=\"123.567\" y2=\"281.21\" style=\"stroke:#000000; stroke-opacity:1\"/>\n",
       "<line clip-path=\"url(#clip6002)\" x1=\"123.567\" y1=\"276.21\" x2=\"118.567\" y2=\"276.21\" style=\"stroke:#000000; stroke-opacity:1\"/>\n",
       "<line clip-path=\"url(#clip6002)\" x1=\"123.567\" y1=\"276.21\" x2=\"123.567\" y2=\"271.21\" style=\"stroke:#000000; stroke-opacity:1\"/>\n",
       "<line clip-path=\"url(#clip6002)\" x1=\"123.567\" y1=\"276.21\" x2=\"128.567\" y2=\"276.21\" style=\"stroke:#000000; stroke-opacity:1\"/>\n",
       "<line clip-path=\"url(#clip6002)\" x1=\"123.567\" y1=\"276.21\" x2=\"123.567\" y2=\"280.21\" style=\"stroke:#ff0000; stroke-opacity:1\"/>\n",
       "<line clip-path=\"url(#clip6002)\" x1=\"123.567\" y1=\"276.21\" x2=\"119.567\" y2=\"276.21\" style=\"stroke:#ff0000; stroke-opacity:1\"/>\n",
       "<line clip-path=\"url(#clip6002)\" x1=\"123.567\" y1=\"276.21\" x2=\"123.567\" y2=\"272.21\" style=\"stroke:#ff0000; stroke-opacity:1\"/>\n",
       "<line clip-path=\"url(#clip6002)\" x1=\"123.567\" y1=\"276.21\" x2=\"127.567\" y2=\"276.21\" style=\"stroke:#ff0000; stroke-opacity:1\"/>\n",
       "<line clip-path=\"url(#clip6002)\" x1=\"70.087\" y1=\"239\" x2=\"70.087\" y2=\"244\" style=\"stroke:#000000; stroke-opacity:1\"/>\n",
       "<line clip-path=\"url(#clip6002)\" x1=\"70.087\" y1=\"239\" x2=\"65.087\" y2=\"239\" style=\"stroke:#000000; stroke-opacity:1\"/>\n",
       "<line clip-path=\"url(#clip6002)\" x1=\"70.087\" y1=\"239\" x2=\"70.087\" y2=\"234\" style=\"stroke:#000000; stroke-opacity:1\"/>\n",
       "<line clip-path=\"url(#clip6002)\" x1=\"70.087\" y1=\"239\" x2=\"75.087\" y2=\"239\" style=\"stroke:#000000; stroke-opacity:1\"/>\n",
       "<line clip-path=\"url(#clip6002)\" x1=\"70.087\" y1=\"239\" x2=\"70.087\" y2=\"243\" style=\"stroke:#ff0000; stroke-opacity:1\"/>\n",
       "<line clip-path=\"url(#clip6002)\" x1=\"70.087\" y1=\"239\" x2=\"66.087\" y2=\"239\" style=\"stroke:#ff0000; stroke-opacity:1\"/>\n",
       "<line clip-path=\"url(#clip6002)\" x1=\"70.087\" y1=\"239\" x2=\"70.087\" y2=\"235\" style=\"stroke:#ff0000; stroke-opacity:1\"/>\n",
       "<line clip-path=\"url(#clip6002)\" x1=\"70.087\" y1=\"239\" x2=\"74.087\" y2=\"239\" style=\"stroke:#ff0000; stroke-opacity:1\"/>\n",
       "<line clip-path=\"url(#clip6002)\" x1=\"52.967\" y1=\"305.766\" x2=\"52.967\" y2=\"310.766\" style=\"stroke:#000000; stroke-opacity:1\"/>\n",
       "<line clip-path=\"url(#clip6002)\" x1=\"52.967\" y1=\"305.766\" x2=\"47.967\" y2=\"305.766\" style=\"stroke:#000000; stroke-opacity:1\"/>\n",
       "<line clip-path=\"url(#clip6002)\" x1=\"52.967\" y1=\"305.766\" x2=\"52.967\" y2=\"300.766\" style=\"stroke:#000000; stroke-opacity:1\"/>\n",
       "<line clip-path=\"url(#clip6002)\" x1=\"52.967\" y1=\"305.766\" x2=\"57.967\" y2=\"305.766\" style=\"stroke:#000000; stroke-opacity:1\"/>\n",
       "<line clip-path=\"url(#clip6002)\" x1=\"52.967\" y1=\"305.766\" x2=\"52.967\" y2=\"309.766\" style=\"stroke:#ff0000; stroke-opacity:1\"/>\n",
       "<line clip-path=\"url(#clip6002)\" x1=\"52.967\" y1=\"305.766\" x2=\"48.967\" y2=\"305.766\" style=\"stroke:#ff0000; stroke-opacity:1\"/>\n",
       "<line clip-path=\"url(#clip6002)\" x1=\"52.967\" y1=\"305.766\" x2=\"52.967\" y2=\"301.766\" style=\"stroke:#ff0000; stroke-opacity:1\"/>\n",
       "<line clip-path=\"url(#clip6002)\" x1=\"52.967\" y1=\"305.766\" x2=\"56.967\" y2=\"305.766\" style=\"stroke:#ff0000; stroke-opacity:1\"/>\n",
       "<line clip-path=\"url(#clip6002)\" x1=\"143.458\" y1=\"329.348\" x2=\"143.458\" y2=\"334.348\" style=\"stroke:#000000; stroke-opacity:1\"/>\n",
       "<line clip-path=\"url(#clip6002)\" x1=\"143.458\" y1=\"329.348\" x2=\"138.458\" y2=\"329.348\" style=\"stroke:#000000; stroke-opacity:1\"/>\n",
       "<line clip-path=\"url(#clip6002)\" x1=\"143.458\" y1=\"329.348\" x2=\"143.458\" y2=\"324.348\" style=\"stroke:#000000; stroke-opacity:1\"/>\n",
       "<line clip-path=\"url(#clip6002)\" x1=\"143.458\" y1=\"329.348\" x2=\"148.458\" y2=\"329.348\" style=\"stroke:#000000; stroke-opacity:1\"/>\n",
       "<line clip-path=\"url(#clip6002)\" x1=\"143.458\" y1=\"329.348\" x2=\"143.458\" y2=\"333.348\" style=\"stroke:#ff0000; stroke-opacity:1\"/>\n",
       "<line clip-path=\"url(#clip6002)\" x1=\"143.458\" y1=\"329.348\" x2=\"139.458\" y2=\"329.348\" style=\"stroke:#ff0000; stroke-opacity:1\"/>\n",
       "<line clip-path=\"url(#clip6002)\" x1=\"143.458\" y1=\"329.348\" x2=\"143.458\" y2=\"325.348\" style=\"stroke:#ff0000; stroke-opacity:1\"/>\n",
       "<line clip-path=\"url(#clip6002)\" x1=\"143.458\" y1=\"329.348\" x2=\"147.458\" y2=\"329.348\" style=\"stroke:#ff0000; stroke-opacity:1\"/>\n",
       "<line clip-path=\"url(#clip6002)\" x1=\"297.93\" y1=\"215.292\" x2=\"297.93\" y2=\"220.292\" style=\"stroke:#000000; stroke-opacity:1\"/>\n",
       "<line clip-path=\"url(#clip6002)\" x1=\"297.93\" y1=\"215.292\" x2=\"292.93\" y2=\"215.292\" style=\"stroke:#000000; stroke-opacity:1\"/>\n",
       "<line clip-path=\"url(#clip6002)\" x1=\"297.93\" y1=\"215.292\" x2=\"297.93\" y2=\"210.292\" style=\"stroke:#000000; stroke-opacity:1\"/>\n",
       "<line clip-path=\"url(#clip6002)\" x1=\"297.93\" y1=\"215.292\" x2=\"302.93\" y2=\"215.292\" style=\"stroke:#000000; stroke-opacity:1\"/>\n",
       "<line clip-path=\"url(#clip6002)\" x1=\"297.93\" y1=\"215.292\" x2=\"297.93\" y2=\"219.292\" style=\"stroke:#ff0000; stroke-opacity:1\"/>\n",
       "<line clip-path=\"url(#clip6002)\" x1=\"297.93\" y1=\"215.292\" x2=\"293.93\" y2=\"215.292\" style=\"stroke:#ff0000; stroke-opacity:1\"/>\n",
       "<line clip-path=\"url(#clip6002)\" x1=\"297.93\" y1=\"215.292\" x2=\"297.93\" y2=\"211.292\" style=\"stroke:#ff0000; stroke-opacity:1\"/>\n",
       "<line clip-path=\"url(#clip6002)\" x1=\"297.93\" y1=\"215.292\" x2=\"301.93\" y2=\"215.292\" style=\"stroke:#ff0000; stroke-opacity:1\"/>\n",
       "<line clip-path=\"url(#clip6002)\" x1=\"56.9494\" y1=\"323.3\" x2=\"56.9494\" y2=\"328.3\" style=\"stroke:#000000; stroke-opacity:1\"/>\n",
       "<line clip-path=\"url(#clip6002)\" x1=\"56.9494\" y1=\"323.3\" x2=\"51.9494\" y2=\"323.3\" style=\"stroke:#000000; stroke-opacity:1\"/>\n",
       "<line clip-path=\"url(#clip6002)\" x1=\"56.9494\" y1=\"323.3\" x2=\"56.9494\" y2=\"318.3\" style=\"stroke:#000000; stroke-opacity:1\"/>\n",
       "<line clip-path=\"url(#clip6002)\" x1=\"56.9494\" y1=\"323.3\" x2=\"61.9494\" y2=\"323.3\" style=\"stroke:#000000; stroke-opacity:1\"/>\n",
       "<line clip-path=\"url(#clip6002)\" x1=\"56.9494\" y1=\"323.3\" x2=\"56.9494\" y2=\"327.3\" style=\"stroke:#ff0000; stroke-opacity:1\"/>\n",
       "<line clip-path=\"url(#clip6002)\" x1=\"56.9494\" y1=\"323.3\" x2=\"52.9494\" y2=\"323.3\" style=\"stroke:#ff0000; stroke-opacity:1\"/>\n",
       "<line clip-path=\"url(#clip6002)\" x1=\"56.9494\" y1=\"323.3\" x2=\"56.9494\" y2=\"319.3\" style=\"stroke:#ff0000; stroke-opacity:1\"/>\n",
       "<line clip-path=\"url(#clip6002)\" x1=\"56.9494\" y1=\"323.3\" x2=\"60.9494\" y2=\"323.3\" style=\"stroke:#ff0000; stroke-opacity:1\"/>\n",
       "<polygon clip-path=\"url(#clip6000)\" points=\"\n",
       "489.799,62.931 562.315,62.931 562.315,32.691 489.799,32.691 \n",
       "  \" fill=\"#ffffff\" fill-opacity=\"1\"/>\n",
       "<polyline clip-path=\"url(#clip6000)\" style=\"stroke:#000000; stroke-width:1; stroke-opacity:1; fill:none\" points=\"\n",
       "  489.799,62.931 562.315,62.931 562.315,32.691 489.799,32.691 489.799,62.931 \n",
       "  \"/>\n",
       "<line clip-path=\"url(#clip6000)\" x1=\"516.799\" y1=\"47.811\" x2=\"516.799\" y2=\"54.811\" style=\"stroke:#000000; stroke-opacity:1\"/>\n",
       "<line clip-path=\"url(#clip6000)\" x1=\"516.799\" y1=\"47.811\" x2=\"509.799\" y2=\"47.811\" style=\"stroke:#000000; stroke-opacity:1\"/>\n",
       "<line clip-path=\"url(#clip6000)\" x1=\"516.799\" y1=\"47.811\" x2=\"516.799\" y2=\"40.811\" style=\"stroke:#000000; stroke-opacity:1\"/>\n",
       "<line clip-path=\"url(#clip6000)\" x1=\"516.799\" y1=\"47.811\" x2=\"523.799\" y2=\"47.811\" style=\"stroke:#000000; stroke-opacity:1\"/>\n",
       "<line clip-path=\"url(#clip6000)\" x1=\"516.799\" y1=\"47.811\" x2=\"516.799\" y2=\"53.811\" style=\"stroke:#ff0000; stroke-opacity:1\"/>\n",
       "<line clip-path=\"url(#clip6000)\" x1=\"516.799\" y1=\"47.811\" x2=\"510.799\" y2=\"47.811\" style=\"stroke:#ff0000; stroke-opacity:1\"/>\n",
       "<line clip-path=\"url(#clip6000)\" x1=\"516.799\" y1=\"47.811\" x2=\"516.799\" y2=\"41.811\" style=\"stroke:#ff0000; stroke-opacity:1\"/>\n",
       "<line clip-path=\"url(#clip6000)\" x1=\"516.799\" y1=\"47.811\" x2=\"522.799\" y2=\"47.811\" style=\"stroke:#ff0000; stroke-opacity:1\"/>\n",
       "<g clip-path=\"url(#clip6000)\">\n",
       "<text style=\"fill:#000000; fill-opacity:1; font-family:Arial,Helvetica Neue,Helvetica,sans-serif; font-size:12; text-anchor:start;\" transform=\"rotate(0, 537.799, 52.311)\" x=\"537.799\" y=\"52.311\">y1</text>\n",
       "</g>\n",
       "</svg>\n"
      ]
     },
     "execution_count": 81,
     "metadata": {},
     "output_type": "execute_result"
    }
   ],
   "source": [
    "X = data[:, 1]; y = data[:, 2];\n",
    "m = length(y);\n",
    "plot_data(X, y)"
   ]
  },
  {
   "cell_type": "markdown",
   "metadata": {
    "slideshow": {
     "slide_type": "subslide"
    }
   },
   "source": [
    "We can easily convert mathematical equations into code, which is a daily challenge for data scientist."
   ]
  },
  {
   "cell_type": "markdown",
   "metadata": {
    "slideshow": {
     "slide_type": "fragment"
    }
   },
   "source": [
    "Say, we have $y \\in \\mathbb{R}_m$, $X \\in \\mathbb{R}_{m, n}$\n",
    "\n",
    "Firstly, prepend the intercept column to $X$, i.e. $X \\rightarrow [1_m \\ X]$\n",
    "\n",
    "Cost function: $J_{X, y}(\\theta) = \\dfrac{1}{2m} (X \\theta - y)^T (X \\theta - y) = \\dfrac{1}{2m} (X \\theta - y) \\cdot (X \\theta - y)$\n",
    "\n",
    "Cost gradient: $\\partial J_{X, y} (\\theta) = \\dfrac{1}{m} X^T (X \\theta - y)$\n",
    "\n",
    "For a given $\\alpha$ and $\\theta$, run $\\theta \\rightarrow \\theta - \\alpha \\ \\partial J_{X, y}(\\theta) = \\theta - \\dfrac{\\alpha}{m} X^T (X \\theta - y)$ for given number of iterations to approach optimal $\\theta$."
   ]
  },
  {
   "cell_type": "code",
   "execution_count": 82,
   "metadata": {
    "slideshow": {
     "slide_type": "fragment"
    }
   },
   "outputs": [
    {
     "data": {
      "text/plain": [
       "prepend_intercept (generic function with 1 method)"
      ]
     },
     "execution_count": 82,
     "metadata": {},
     "output_type": "execute_result"
    }
   ],
   "source": [
    "prepend_intercept(A) = [ones(eltype(A), size(A, 1)) A]"
   ]
  },
  {
   "cell_type": "code",
   "execution_count": 83,
   "metadata": {
    "slideshow": {
     "slide_type": "fragment"
    }
   },
   "outputs": [
    {
     "data": {
      "text/plain": [
       "make_cost_functions (generic function with 1 method)"
      ]
     },
     "execution_count": 83,
     "metadata": {},
     "output_type": "execute_result"
    }
   ],
   "source": [
    "function make_cost_functions(X, y)\n",
    "    m = length(y)\n",
    "    \n",
    "    function J(θ)\n",
    "        δ = X * θ .- y\n",
    "        return (δ ⋅ δ) / (2m)\n",
    "    end\n",
    "    \n",
    "    function ∂J(θ)\n",
    "        δ = X * θ .- y\n",
    "        return (X' * δ) / m\n",
    "    end\n",
    "    return J, ∂J\n",
    "end"
   ]
  },
  {
   "cell_type": "code",
   "execution_count": 84,
   "metadata": {
    "slideshow": {
     "slide_type": "fragment"
    }
   },
   "outputs": [
    {
     "data": {
      "text/plain": [
       "run_gradient_descent (generic function with 1 method)"
      ]
     },
     "execution_count": 84,
     "metadata": {},
     "output_type": "execute_result"
    }
   ],
   "source": [
    "function run_gradient_descent(X, y, θ, α, iterations)\n",
    "    X = prepend_intercept(X)\n",
    "\n",
    "    J, ∂J = make_cost_functions(X, y)\n",
    "    \n",
    "    println(\"Initial: θ = $θ; Cost == $(J(θ))\")\n",
    "    for i in 1:iterations\n",
    "        θ = θ - α * ∂J(θ)\n",
    "        (i % 100 == 0) && println(\"Iteration $i: θ = $θ; Cost == $(J(θ)).\")\n",
    "    end\n",
    "    \n",
    "    return θ\n",
    "end"
   ]
  },
  {
   "cell_type": "code",
   "execution_count": 85,
   "metadata": {
    "scrolled": true,
    "slideshow": {
     "slide_type": "fragment"
    }
   },
   "outputs": [
    {
     "name": "stdout",
     "output_type": "stream",
     "text": [
      "Initial: θ = [0, 0]; Cost == 32.072733877455676\n",
      "Iteration 100: θ = [-0.576556, 0.859582]; Cost == 5.479975580535112.\n",
      "Iteration 200: θ = [-1.1245, 0.914629]; Cost == 5.176152962891967.\n",
      "Iteration 300: θ = [-1.58199, 0.960588]; Cost == 4.964362046184744.\n",
      "Iteration 400: θ = [-1.96396, 0.998961]; Cost == 4.816725268028978.\n",
      "Iteration 500: θ = [-2.28287, 1.031]; Cost == 4.713809531116866.\n",
      "Iteration 600: θ = [-2.54913, 1.05775]; Cost == 4.642068268292856.\n",
      "Iteration 700: θ = [-2.77144, 1.08008]; Cost == 4.592058338363686.\n",
      "Iteration 800: θ = [-2.95705, 1.09873]; Cost == 4.557197046645756.\n",
      "Iteration 900: θ = [-3.11202, 1.1143]; Cost == 4.532895679657961.\n",
      "Iteration 1000: θ = [-3.2414, 1.12729]; Cost == 4.515955503078913.\n",
      "Iteration 1100: θ = [-3.34943, 1.13815]; Cost == 4.504146719537086.\n",
      "Iteration 1200: θ = [-3.43962, 1.14721]; Cost == 4.495914965394088.\n",
      "Iteration 1300: θ = [-3.51493, 1.15477]; Cost == 4.490176713352229.\n",
      "Iteration 1400: θ = [-3.5778, 1.16109]; Cost == 4.48617665019146.\n",
      "Iteration 1500: θ = [-3.63029, 1.16636]; Cost == 4.483388256587726.\n",
      "θ = [-3.63029, 1.16636]\n"
     ]
    }
   ],
   "source": [
    "α = 0.01\n",
    "θ = [0, 0]\n",
    "iterations = 1500\n",
    "θ = run_gradient_descent(X, y, θ, α, iterations)\n",
    "\n",
    "@show θ; # Expected θ ≈ [-3.6303, 1.1664]"
   ]
  },
  {
   "cell_type": "markdown",
   "metadata": {
    "slideshow": {
     "slide_type": "subslide"
    }
   },
   "source": [
    "Ending this section, a new v0.7 feature that I find interesting and further simplify representation for data science."
   ]
  },
  {
   "cell_type": "code",
   "execution_count": null,
   "metadata": {
    "collapsed": true,
    "slideshow": {
     "slide_type": "fragment"
    }
   },
   "outputs": [],
   "source": [
    "# Coming in v0.7\n",
    "distance((x₁, y₁), (x₂, y₂)) = √((y₂ - y₁)^2 + (x₂, x₁)^2)\n",
    "\n",
    "distance((0, 3), (4, 0)) # will returns 5.0"
   ]
  },
  {
   "cell_type": "code",
   "execution_count": 86,
   "metadata": {
    "slideshow": {
     "slide_type": "fragment"
    }
   },
   "outputs": [
    {
     "data": {
      "text/plain": [
       "Tuple{Int64,Int64,String}"
      ]
     },
     "execution_count": 86,
     "metadata": {},
     "output_type": "execute_result"
    }
   ],
   "source": [
    "typeof((1, 2, \"3\"))"
   ]
  },
  {
   "cell_type": "markdown",
   "metadata": {
    "slideshow": {
     "slide_type": "fragment"
    }
   },
   "source": [
    "---"
   ]
  },
  {
   "cell_type": "markdown",
   "metadata": {
    "slideshow": {
     "slide_type": "slide"
    }
   },
   "source": [
    "## Meta-programming"
   ]
  },
  {
   "cell_type": "markdown",
   "metadata": {
    "cell_style": "center",
    "slideshow": {
     "slide_type": "subslide"
    }
   },
   "source": [
    "Like Lisp, we can write macros like functions, which takes in S-expressions as arguments instead."
   ]
  },
  {
   "cell_type": "code",
   "execution_count": 87,
   "metadata": {
    "slideshow": {
     "slide_type": "fragment"
    }
   },
   "outputs": [
    {
     "data": {
      "text/plain": [
       ":(2 + 3 == 4 + 1)"
      ]
     },
     "execution_count": 87,
     "metadata": {},
     "output_type": "execute_result"
    }
   ],
   "source": [
    "ex = :(2 + 3 == 4 + 1)"
   ]
  },
  {
   "cell_type": "code",
   "execution_count": 88,
   "metadata": {
    "slideshow": {
     "slide_type": "fragment"
    }
   },
   "outputs": [
    {
     "name": "stdout",
     "output_type": "stream",
     "text": [
      "typeof(ex) = Expr\n",
      "ex.head = :call\n",
      "ex.args = Any[:(==), :(2 + 3), :(4 + 1)]\n"
     ]
    }
   ],
   "source": [
    "@show typeof(ex) ex.head ex.args;"
   ]
  },
  {
   "cell_type": "markdown",
   "metadata": {
    "slideshow": {
     "slide_type": "subslide"
    }
   },
   "source": [
    "The syntax for creating our own macro is straightforward."
   ]
  },
  {
   "cell_type": "code",
   "execution_count": 89,
   "metadata": {
    "slideshow": {
     "slide_type": "fragment"
    }
   },
   "outputs": [
    {
     "data": {
      "text/plain": [
       "@myassert (macro with 1 method)"
      ]
     },
     "execution_count": 89,
     "metadata": {},
     "output_type": "execute_result"
    }
   ],
   "source": [
    "macro myassert(expr)\n",
    "    if typeof(expr) == Expr && expr.head == :call && expr.args[1] == :(==)\n",
    "        return :(println(\"$($(string(expr))) is $($(expr))\"))\n",
    "    else\n",
    "        return :(println(\"mai la\"))\n",
    "    end\n",
    "end"
   ]
  },
  {
   "cell_type": "code",
   "execution_count": 90,
   "metadata": {
    "slideshow": {
     "slide_type": "fragment"
    }
   },
   "outputs": [
    {
     "name": "stdout",
     "output_type": "stream",
     "text": [
      "2 + 3 == 1 + 4 is true\n"
     ]
    }
   ],
   "source": [
    "@myassert 2 + 3 == 1 + 4"
   ]
  },
  {
   "cell_type": "code",
   "execution_count": 91,
   "metadata": {
    "slideshow": {
     "slide_type": "fragment"
    }
   },
   "outputs": [
    {
     "name": "stdout",
     "output_type": "stream",
     "text": [
      "mai la\n"
     ]
    }
   ],
   "source": [
    "@myassert \"I luv prata\""
   ]
  },
  {
   "cell_type": "code",
   "execution_count": 92,
   "metadata": {
    "slideshow": {
     "slide_type": "fragment"
    }
   },
   "outputs": [
    {
     "name": "stdout",
     "output_type": "stream",
     "text": [
      "mai la\n"
     ]
    }
   ],
   "source": [
    "@myassert 4 < 5"
   ]
  },
  {
   "cell_type": "markdown",
   "metadata": {
    "slideshow": {
     "slide_type": "fragment"
    }
   },
   "source": [
    "---"
   ]
  },
  {
   "cell_type": "markdown",
   "metadata": {
    "slideshow": {
     "slide_type": "slide"
    }
   },
   "source": [
    "## Straightforward concurrency and parallelism"
   ]
  },
  {
   "cell_type": "markdown",
   "metadata": {
    "slideshow": {
     "slide_type": "subslide"
    }
   },
   "source": [
    "What's better to show existence of concurrency than sleep sort?"
   ]
  },
  {
   "cell_type": "code",
   "execution_count": 93,
   "metadata": {
    "collapsed": true,
    "slideshow": {
     "slide_type": "fragment"
    }
   },
   "outputs": [],
   "source": [
    "array = [2, 4, 3, 2, 3, 1, 1, 4];"
   ]
  },
  {
   "cell_type": "code",
   "execution_count": 94,
   "metadata": {
    "slideshow": {
     "slide_type": "fragment"
    }
   },
   "outputs": [
    {
     "data": {
      "text/plain": [
       "8-element Array{Int64,1}:\n",
       " 1\n",
       " 1\n",
       " 2\n",
       " 2\n",
       " 3\n",
       " 3\n",
       " 4\n",
       " 4"
      ]
     },
     "execution_count": 94,
     "metadata": {},
     "output_type": "execute_result"
    }
   ],
   "source": [
    "c = Channel{Int}(0)\n",
    "\n",
    "for value in array\n",
    "    @schedule (sleep(value * 0.1); put!(c, value))\n",
    "end\n",
    "\n",
    "[take!(c) for _ in array]"
   ]
  },
  {
   "cell_type": "markdown",
   "metadata": {
    "slideshow": {
     "slide_type": "subslide"
    }
   },
   "source": [
    "Also for the bigger parallelizable problems there is true parallelization."
   ]
  },
  {
   "cell_type": "code",
   "execution_count": 95,
   "metadata": {
    "slideshow": {
     "slide_type": "fragment"
    }
   },
   "outputs": [
    {
     "name": "stdout",
     "output_type": "stream",
     "text": [
      "nprocs() = 1\n",
      "nworkers() = 1\n",
      "nprocs() = 3\n",
      "nworkers() = 2\n"
     ]
    }
   ],
   "source": [
    "@show nprocs() nworkers();\n",
    "addprocs(2)\n",
    "@show nprocs() nworkers();"
   ]
  },
  {
   "cell_type": "code",
   "execution_count": 96,
   "metadata": {
    "collapsed": true,
    "scrolled": true,
    "slideshow": {
     "slide_type": "fragment"
    }
   },
   "outputs": [],
   "source": [
    "@everywhere using Primes"
   ]
  },
  {
   "cell_type": "code",
   "execution_count": 97,
   "metadata": {
    "scrolled": true,
    "slideshow": {
     "slide_type": "fragment"
    }
   },
   "outputs": [
    {
     "name": "stdout",
     "output_type": "stream",
     "text": [
      "  4.256737 seconds (5.92 M allocations: 90.339 MiB, 0.20% gc time)\n"
     ]
    },
    {
     "data": {
      "text/plain": [
       "38645211"
      ]
     },
     "execution_count": 97,
     "metadata": {},
     "output_type": "execute_result"
    }
   ],
   "source": [
    "sum_prime_1() = sum(prime(i) for i in 1:3000)\n",
    "\n",
    "sum_prime_1()\n",
    "@time sum_prime_1()"
   ]
  },
  {
   "cell_type": "code",
   "execution_count": 98,
   "metadata": {
    "slideshow": {
     "slide_type": "-"
    }
   },
   "outputs": [
    {
     "name": "stdout",
     "output_type": "stream",
     "text": [
      "  3.406933 seconds (332 allocations: 20.109 KiB)\n"
     ]
    },
    {
     "data": {
      "text/plain": [
       "38645211"
      ]
     },
     "execution_count": 98,
     "metadata": {},
     "output_type": "execute_result"
    }
   ],
   "source": [
    "function sum_prime_2()\n",
    "    @parallel (+) for i in 1:3000\n",
    "        prime(i)\n",
    "    end\n",
    "end\n",
    "\n",
    "sum_prime_2()\n",
    "@time sum_prime_2()"
   ]
  },
  {
   "cell_type": "markdown",
   "metadata": {
    "slideshow": {
     "slide_type": "fragment"
    }
   },
   "source": [
    "---"
   ]
  },
  {
   "cell_type": "markdown",
   "metadata": {
    "slideshow": {
     "slide_type": "slide"
    }
   },
   "source": [
    "## Demo"
   ]
  },
  {
   "cell_type": "markdown",
   "metadata": {
    "slideshow": {
     "slide_type": "subslide"
    }
   },
   "source": [
    "Did this little program one afternoon by the pool brogramming with wife =P\n",
    "\n",
    "It converts between various bitstrings of various bitsizes as fast as possible for crypto use. To achieve that, I will have to write many almost-repetitive functions (if I have $n$ bitsizes, I will write $O(n^2)$ functions).\n",
    "\n",
    "Compile languages aims to be slim and seldom have the reflection required to reduce written functions. Dynamic languages tend to lack type consciousness to generate efficient functions from the reflection done.\n",
    "\n",
    "Let's see how Julia deals with the struggles."
   ]
  },
  {
   "cell_type": "code",
   "execution_count": 99,
   "metadata": {
    "slideshow": {
     "slide_type": "fragment"
    }
   },
   "outputs": [
    {
     "data": {
      "text/plain": [
       "Union{UInt16, UInt32, UInt64, UInt8}"
      ]
     },
     "execution_count": 99,
     "metadata": {},
     "output_type": "execute_result"
    }
   ],
   "source": [
    "Word = Union{UInt8, UInt16, UInt32, UInt64}"
   ]
  },
  {
   "cell_type": "markdown",
   "metadata": {
    "slideshow": {
     "slide_type": "fragment"
    }
   },
   "source": [
    "I want an easy way to read in a word(which is a hexadecimal strings). It will be nice if I can do something as simple as\n",
    "\n",
    "```\n",
    "value = 0x0123456789abcdef0011223344556677\n",
    "# cannot read in directly if system is not at least 128-bit\n",
    "```\n",
    "\n",
    "compared to the natural way to read\n",
    "\n",
    "```\n",
    "value = [0x01, 0x23, 0x45, 0x67,\n",
    "         0x89, 0xab, 0xcd, 0xef,\n",
    "         0x00, 0x11, 0x22, 0x33,\n",
    "         0x44, 0x55, 0x66, 0x77]\n",
    "```\n",
    "\n",
    "so that the crypto test vectors (usually 256-bit, 512-bit, or even longer) can be easily read in code."
   ]
  },
  {
   "cell_type": "code",
   "execution_count": 100,
   "metadata": {
    "scrolled": false,
    "slideshow": {
     "slide_type": "fragment"
    }
   },
   "outputs": [
    {
     "data": {
      "text/plain": [
       "16-element Array{UInt8,1}:\n",
       " 0x01\n",
       " 0x23\n",
       " 0x45\n",
       " 0x67\n",
       " 0x89\n",
       " 0xab\n",
       " 0xcd\n",
       " 0xef\n",
       " 0x00\n",
       " 0x11\n",
       " 0x22\n",
       " 0x33\n",
       " 0x44\n",
       " 0x55\n",
       " 0x66\n",
       " 0x77"
      ]
     },
     "execution_count": 100,
     "metadata": {},
     "output_type": "execute_result"
    }
   ],
   "source": [
    "hex2bytes(\"0123456789abcdef0011223344556677\")"
   ]
  },
  {
   "cell_type": "code",
   "execution_count": 101,
   "metadata": {
    "slideshow": {
     "slide_type": "fragment"
    }
   },
   "outputs": [
    {
     "data": {
      "text/plain": [
       "@x_str (macro with 1 method)"
      ]
     },
     "execution_count": 101,
     "metadata": {},
     "output_type": "execute_result"
    }
   ],
   "source": [
    "macro x_str(str)\n",
    "    return hex2bytes(str)\n",
    "end"
   ]
  },
  {
   "cell_type": "code",
   "execution_count": 102,
   "metadata": {
    "scrolled": true,
    "slideshow": {
     "slide_type": "fragment"
    }
   },
   "outputs": [
    {
     "data": {
      "text/plain": [
       "16-element Array{UInt8,1}:\n",
       " 0x01\n",
       " 0x23\n",
       " 0x45\n",
       " 0x67\n",
       " 0x89\n",
       " 0xab\n",
       " 0xcd\n",
       " 0xef\n",
       " 0x00\n",
       " 0x11\n",
       " 0x22\n",
       " 0x33\n",
       " 0x44\n",
       " 0x55\n",
       " 0x66\n",
       " 0x77"
      ]
     },
     "execution_count": 102,
     "metadata": {},
     "output_type": "execute_result"
    }
   ],
   "source": [
    "x\"0123456789abcdef0011223344556677\""
   ]
  },
  {
   "cell_type": "code",
   "execution_count": 103,
   "metadata": {
    "slideshow": {
     "slide_type": "fragment"
    }
   },
   "outputs": [
    {
     "data": {
      "text/plain": [
       "num_bits (generic function with 4 methods)"
      ]
     },
     "execution_count": 103,
     "metadata": {},
     "output_type": "execute_result"
    }
   ],
   "source": [
    "num_bits(::Type{UInt8}) = 8\n",
    "num_bits(::Type{UInt16}) = 16\n",
    "num_bits(::Type{UInt32}) = 32\n",
    "num_bits(::Type{UInt64}) = 64"
   ]
  },
  {
   "cell_type": "code",
   "execution_count": 104,
   "metadata": {
    "slideshow": {
     "slide_type": "fragment"
    }
   },
   "outputs": [
    {
     "data": {
      "text/plain": [
       "mask (generic function with 1 method)"
      ]
     },
     "execution_count": 104,
     "metadata": {},
     "output_type": "execute_result"
    }
   ],
   "source": [
    "num_bytes{T <: Word}(::Type{T}) = num_bits(T) ÷ 8\n",
    "\n",
    "mask{T <: Word}(::Type{T}) = -one(T)"
   ]
  },
  {
   "cell_type": "code",
   "execution_count": 105,
   "metadata": {
    "slideshow": {
     "slide_type": "fragment"
    }
   },
   "outputs": [
    {
     "data": {
      "text/plain": [
       "unpack (generic function with 1 method)"
      ]
     },
     "execution_count": 105,
     "metadata": {},
     "output_type": "execute_result"
    }
   ],
   "source": [
    "function Base.convert(::Type{Vector{T1}}, v::Vector{T2}) where T1 <: Word where T2 <: Word\n",
    "    if num_bytes(T1) > num_bytes(T2)\n",
    "        return pack(Vector{T1}, v)\n",
    "    elseif num_bytes(T1) < num_bytes(T2)\n",
    "        return unpack(Vector{T1}, v)\n",
    "    else\n",
    "        return v\n",
    "    end\n",
    "end\n",
    "\n",
    "\n",
    "function pack(::Type{Vector{T1}}, v::Vector{T2}) where T1 <: Word where T2 <: Word\n",
    "    width_result = num_bytes(T1) ÷ num_bytes(T2)\n",
    "    length_result = length(v) ÷ width_result\n",
    "\n",
    "    result = zeros(T1, length_result)\n",
    "\n",
    "    k = 1\n",
    "    for i in 1:length_result\n",
    "        value = zero(T1)\n",
    "        for j in 1:width_result\n",
    "            value <<= num_bits(T2)\n",
    "            value |= v[k]\n",
    "            k += 1\n",
    "        end\n",
    "        result[i] = value\n",
    "    end\n",
    "\n",
    "    return result\n",
    "end\n",
    "\n",
    "function unpack(::Type{Vector{T1}}, v::Vector{T2}) where T1 <: Word where T2 <: Word\n",
    "    width_source = num_bytes(T2) ÷ num_bytes(T1)\n",
    "    length_result = length(v) * width_source\n",
    "\n",
    "    result = zeros(T1, length_result)\n",
    "\n",
    "    i = length_result\n",
    "    k = length(v)\n",
    "    while i > 0\n",
    "        value = v[k]\n",
    "        for j in 1:width_source\n",
    "            result[i] = value & mask(T1)\n",
    "            value >>= num_bits(T1)\n",
    "            i -= 1\n",
    "        end\n",
    "        k -= 1\n",
    "    end\n",
    "\n",
    "    return result\n",
    "end"
   ]
  },
  {
   "cell_type": "code",
   "execution_count": 106,
   "metadata": {
    "scrolled": true,
    "slideshow": {
     "slide_type": "fragment"
    }
   },
   "outputs": [
    {
     "data": {
      "text/plain": [
       "4-element Array{UInt32,1}:\n",
       " 0x01234567\n",
       " 0x89abcdef\n",
       " 0x00112233\n",
       " 0x44556677"
      ]
     },
     "execution_count": 106,
     "metadata": {},
     "output_type": "execute_result"
    }
   ],
   "source": [
    "s = convert(Vector{UInt32}, x\"0123456789abcdef0011223344556677\")"
   ]
  },
  {
   "cell_type": "code",
   "execution_count": 107,
   "metadata": {
    "slideshow": {
     "slide_type": "fragment"
    }
   },
   "outputs": [
    {
     "data": {
      "text/plain": [
       "16-element Array{UInt8,1}:\n",
       " 0x01\n",
       " 0x23\n",
       " 0x45\n",
       " 0x67\n",
       " 0x89\n",
       " 0xab\n",
       " 0xcd\n",
       " 0xef\n",
       " 0x00\n",
       " 0x11\n",
       " 0x22\n",
       " 0x33\n",
       " 0x44\n",
       " 0x55\n",
       " 0x66\n",
       " 0x77"
      ]
     },
     "execution_count": 107,
     "metadata": {},
     "output_type": "execute_result"
    }
   ],
   "source": [
    "convert(Vector{UInt8}, s)"
   ]
  },
  {
   "cell_type": "code",
   "execution_count": 108,
   "metadata": {
    "slideshow": {
     "slide_type": "fragment"
    }
   },
   "outputs": [
    {
     "name": "stdout",
     "output_type": "stream",
     "text": [
      "\n",
      "define i8** @julia_convert_65919(i8**, i8** dereferenceable(40)) #0 !dbg !5 {\n",
      "L13:\n",
      "  ret i8** %1\n",
      "}\n"
     ]
    }
   ],
   "source": [
    "@code_llvm convert(Vector{UInt8}, x\"0123456789abcdef\")"
   ]
  },
  {
   "cell_type": "code",
   "execution_count": 109,
   "metadata": {
    "scrolled": true,
    "slideshow": {
     "slide_type": "-"
    }
   },
   "outputs": [
    {
     "name": "stdout",
     "output_type": "stream",
     "text": [
      "\n",
      "define i8** @julia_convert_65863(i8**, i8** dereferenceable(40)) #0 !dbg !5 {\n",
      "if:\n",
      "  %2 = call i8** @julia_pack_65864(i8** inttoptr (i64 4436047088 to i8**), i8** nonnull %1)\n",
      "  ret i8** %2\n",
      "}\n"
     ]
    }
   ],
   "source": [
    "@code_llvm convert(Vector{UInt32}, x\"0123456789abcdef\")"
   ]
  },
  {
   "cell_type": "markdown",
   "metadata": {
    "slideshow": {
     "slide_type": "fragment"
    }
   },
   "source": [
    "---"
   ]
  },
  {
   "cell_type": "markdown",
   "metadata": {
    "slideshow": {
     "slide_type": "slide"
    }
   },
   "source": [
    "<div style=\"font-size:48px; text-align: center\">\n",
    "Thank you! =)\n",
    "</div>"
   ]
  }
 ],
 "metadata": {
  "celltoolbar": "Slideshow",
  "hide_input": false,
  "kernelspec": {
   "display_name": "Julia 0.6.2",
   "language": "julia",
   "name": "julia-0.6"
  },
  "language_info": {
   "file_extension": ".jl",
   "mimetype": "application/julia",
   "name": "julia",
   "version": "0.6.2"
  },
  "livereveal": {
   "auto_select": "code",
   "auto_select_fragment": true,
   "autolaunch": false,
   "scroll": true,
   "transition": "zoom"
  },
  "toc": {
   "nav_menu": {},
   "number_sections": true,
   "sideBar": true,
   "skip_h1_title": false,
   "title_cell": "Table of Contents",
   "title_sidebar": "Contents",
   "toc_cell": false,
   "toc_position": {},
   "toc_section_display": true,
   "toc_window_display": false
  }
 },
 "nbformat": 4,
 "nbformat_minor": 2
}
