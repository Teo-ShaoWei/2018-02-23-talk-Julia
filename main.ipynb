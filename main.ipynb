{
 "cells": [
  {
   "cell_type": "markdown",
   "metadata": {
    "slideshow": {
     "slide_type": "slide"
    }
   },
   "source": [
    "<div style=\"text-align: center\">\n",
    "    <img style=\"display: inline-block; height:144px; vertical-align:middle\" src=\"img/shaowei.jpeg\" alt=\"ShaoWei\" />\n",
    "    <img style=\"display: inline-block; height:144px; vertical-align:middle\" src=\"img/heart.png\" alt=\"❤️\" />\n",
    "    <img style=\"display: inline-block; height:144px; vertical-align:middle\" src=\"img/julia.png\" alt=\"Julia\" />\n",
    "    <img style=\"display: inline-block; height:144px; vertical-align:middle\" src=\"img/Meme-like-a-boss.jpg\" alt=\"like a bozz\" />\n",
    "</div>"
   ]
  },
  {
   "cell_type": "markdown",
   "metadata": {
    "slideshow": {
     "slide_type": "fragment"
    }
   },
   "source": [
    "<div style=\"font-size:48px; text-align: center\">\n",
    "Walk Like Python; Run Like C\n",
    "</div>"
   ]
  },
  {
   "cell_type": "markdown",
   "metadata": {
    "slideshow": {
     "slide_type": "slide"
    }
   },
   "source": [
    "## Easy to write what I meant"
   ]
  },
  {
   "cell_type": "markdown",
   "metadata": {
    "slideshow": {
     "slide_type": "subslide"
    }
   },
   "source": [
    "Julia expressions are evaluated on-the-fly, like interpreted languages."
   ]
  },
  {
   "cell_type": "code",
   "execution_count": 1,
   "metadata": {
    "scrolled": true,
    "slideshow": {
     "slide_type": "fragment"
    }
   },
   "outputs": [
    {
     "name": "stdout",
     "output_type": "stream",
     "text": [
      "Hello, World!\n"
     ]
    }
   ],
   "source": [
    "println(\"Hello, World!\")"
   ]
  },
  {
   "cell_type": "markdown",
   "metadata": {
    "slideshow": {
     "slide_type": "subslide"
    }
   },
   "source": [
    "String interpolation works."
   ]
  },
  {
   "cell_type": "code",
   "execution_count": 2,
   "metadata": {
    "slideshow": {
     "slide_type": "fragment"
    }
   },
   "outputs": [
    {
     "name": "stdout",
     "output_type": "stream",
     "text": [
      "Hello, we are ESTL!\n"
     ]
    }
   ],
   "source": [
    "who_we_are = \"MOE ESTL\"\n",
    "println(\"Hello, we are $(who_we_are[5:end])!\")"
   ]
  },
  {
   "cell_type": "markdown",
   "metadata": {
    "slideshow": {
     "slide_type": "subslide"
    }
   },
   "source": [
    "Functions are JIT compiled. Typing is optional."
   ]
  },
  {
   "cell_type": "code",
   "execution_count": 109,
   "metadata": {
    "slideshow": {
     "slide_type": "fragment"
    }
   },
   "outputs": [
    {
     "data": {
      "text/plain": [
       "double (generic function with 2 methods)"
      ]
     },
     "execution_count": 109,
     "metadata": {},
     "output_type": "execute_result"
    }
   ],
   "source": [
    "function double(x)\n",
    "    return 2x\n",
    "end"
   ]
  },
  {
   "cell_type": "code",
   "execution_count": 110,
   "metadata": {
    "scrolled": true,
    "slideshow": {
     "slide_type": "fragment"
    }
   },
   "outputs": [
    {
     "data": {
      "text/plain": [
       "double (generic function with 2 methods)"
      ]
     },
     "execution_count": 110,
     "metadata": {},
     "output_type": "execute_result"
    }
   ],
   "source": [
    "# Equivalently\n",
    "double(x) = 2x"
   ]
  },
  {
   "cell_type": "markdown",
   "metadata": {
    "slideshow": {
     "slide_type": "fragment"
    }
   },
   "source": [
    "Functions can also be overloaded using specialisation."
   ]
  },
  {
   "cell_type": "code",
   "execution_count": 111,
   "metadata": {
    "slideshow": {
     "slide_type": "fragment"
    }
   },
   "outputs": [
    {
     "data": {
      "text/plain": [
       "double (generic function with 2 methods)"
      ]
     },
     "execution_count": 111,
     "metadata": {},
     "output_type": "execute_result"
    }
   ],
   "source": [
    "double(s::Vector) = [s; s]"
   ]
  },
  {
   "cell_type": "code",
   "execution_count": 6,
   "metadata": {
    "slideshow": {
     "slide_type": "fragment"
    }
   },
   "outputs": [
    {
     "name": "stdout",
     "output_type": "stream",
     "text": [
      "double(5) = 10\n",
      "double(5.0) = 10.0\n",
      "double([4, 5, 6]) = [4, 5, 6, 4, 5, 6]\n"
     ]
    },
    {
     "ename": "LoadError",
     "evalue": "\u001b[91mMethodError: no method matching *(::Int64, ::String)\u001b[0m\nClosest candidates are:\n  *(::Any, ::Any, \u001b[91m::Any\u001b[39m, \u001b[91m::Any...\u001b[39m) at operators.jl:424\n  *(::Real, \u001b[91m::Complex{Bool}\u001b[39m) at complex.jl:254\n  *(::Real, \u001b[91m::Complex\u001b[39m) at complex.jl:266\n  ...\u001b[39m",
     "output_type": "error",
     "traceback": [
      "\u001b[91mMethodError: no method matching *(::Int64, ::String)\u001b[0m\nClosest candidates are:\n  *(::Any, ::Any, \u001b[91m::Any\u001b[39m, \u001b[91m::Any...\u001b[39m) at operators.jl:424\n  *(::Real, \u001b[91m::Complex{Bool}\u001b[39m) at complex.jl:254\n  *(::Real, \u001b[91m::Complex\u001b[39m) at complex.jl:266\n  ...\u001b[39m",
      "",
      "Stacktrace:",
      " [1] \u001b[1mdouble\u001b[22m\u001b[22m\u001b[1m(\u001b[22m\u001b[22m::String\u001b[1m)\u001b[22m\u001b[22m at \u001b[1m./In[4]:2\u001b[22m\u001b[22m",
      " [2] \u001b[1minclude_string\u001b[22m\u001b[22m\u001b[1m(\u001b[22m\u001b[22m::String, ::String\u001b[1m)\u001b[22m\u001b[22m at \u001b[1m./loading.jl:522\u001b[22m\u001b[22m"
     ]
    }
   ],
   "source": [
    "@show double(5)\n",
    "@show double(5.0)\n",
    "@show double([4, 5, 6])\n",
    "@show double(\"dragon\")"
   ]
  },
  {
   "cell_type": "markdown",
   "metadata": {
    "slideshow": {
     "slide_type": "subslide"
    }
   },
   "source": [
    "Let's see what happened if we define a function without a catch-all version."
   ]
  },
  {
   "cell_type": "code",
   "execution_count": 7,
   "metadata": {
    "slideshow": {
     "slide_type": "fragment"
    }
   },
   "outputs": [
    {
     "data": {
      "text/plain": [
       "echo (generic function with 1 method)"
      ]
     },
     "execution_count": 7,
     "metadata": {},
     "output_type": "execute_result"
    }
   ],
   "source": [
    "echo(s::String) = (s * \"!\")^3"
   ]
  },
  {
   "cell_type": "code",
   "execution_count": 8,
   "metadata": {
    "slideshow": {
     "slide_type": "fragment"
    }
   },
   "outputs": [
    {
     "name": "stdout",
     "output_type": "stream",
     "text": [
      "echo(\"slam\") = \"slam!slam!slam!\"\n",
      "echo(\"8\") = \"8!8!8!\"\n"
     ]
    },
    {
     "ename": "LoadError",
     "evalue": "\u001b[91mMethodError: no method matching echo(::Symbol)\u001b[0m\nClosest candidates are:\n  echo(\u001b[91m::String\u001b[39m) at In[7]:1\u001b[39m",
     "output_type": "error",
     "traceback": [
      "\u001b[91mMethodError: no method matching echo(::Symbol)\u001b[0m\nClosest candidates are:\n  echo(\u001b[91m::String\u001b[39m) at In[7]:1\u001b[39m",
      "",
      "Stacktrace:",
      " [1] \u001b[1minclude_string\u001b[22m\u001b[22m\u001b[1m(\u001b[22m\u001b[22m::String, ::String\u001b[1m)\u001b[22m\u001b[22m at \u001b[1m./loading.jl:522\u001b[22m\u001b[22m"
     ]
    }
   ],
   "source": [
    "@show echo(\"slam\")\n",
    "@show echo(\"8\")\n",
    "@show echo(:slam)"
   ]
  },
  {
   "cell_type": "markdown",
   "metadata": {
    "slideshow": {
     "slide_type": "slide"
    }
   },
   "source": [
    "## Have C and Python binding"
   ]
  },
  {
   "cell_type": "markdown",
   "metadata": {
    "slideshow": {
     "slide_type": "subslide"
    }
   },
   "source": [
    "Interfacing with shared libraries written in C is straightforward. For example, say we have a `libhello.so` created from [hello.c](hello.c)."
   ]
  },
  {
   "cell_type": "code",
   "execution_count": 112,
   "metadata": {
    "slideshow": {
     "slide_type": "fragment"
    }
   },
   "outputs": [
    {
     "name": "stdout",
     "output_type": "stream",
     "text": [
      "Hello, Moto!\n"
     ]
    }
   ],
   "source": [
    "ccall((:hello, \"libhello.so\"), Void, (Cstring,), \"Moto\")"
   ]
  },
  {
   "cell_type": "markdown",
   "metadata": {
    "slideshow": {
     "slide_type": "fragment"
    }
   },
   "source": [
    "Calling Julia functions from C can be done by including `julia.h` that can be found inside the Julia installation (hereby handwaved as it's outside the scope of this sharing)."
   ]
  },
  {
   "cell_type": "markdown",
   "metadata": {
    "slideshow": {
     "slide_type": "subslide"
    }
   },
   "source": [
    "Julia can call Python objects using the `PyCall.jl` library."
   ]
  },
  {
   "cell_type": "code",
   "execution_count": 10,
   "metadata": {
    "collapsed": true,
    "slideshow": {
     "slide_type": "fragment"
    }
   },
   "outputs": [],
   "source": [
    "using PyCall"
   ]
  },
  {
   "cell_type": "code",
   "execution_count": 11,
   "metadata": {
    "scrolled": true,
    "slideshow": {
     "slide_type": "fragment"
    }
   },
   "outputs": [
    {
     "data": {
      "text/plain": [
       "4-element Array{Int64,1}:\n",
       " 2\n",
       " 4\n",
       " 6\n",
       " 8"
      ]
     },
     "execution_count": 11,
     "metadata": {},
     "output_type": "execute_result"
    }
   ],
   "source": [
    "py\"map(lambda x: 2 * x, [1, 2, 3, 4])\""
   ]
  },
  {
   "cell_type": "code",
   "execution_count": 12,
   "metadata": {
    "slideshow": {
     "slide_type": "fragment"
    }
   },
   "outputs": [
    {
     "data": {
      "text/plain": [
       "4-element Array{Int64,1}:\n",
       " 2\n",
       " 4\n",
       " 6\n",
       " 8"
      ]
     },
     "execution_count": 12,
     "metadata": {},
     "output_type": "execute_result"
    }
   ],
   "source": [
    "@pycall PyObject(map)(x -> 2x, [1, 2, 3, 4])::Vector{Int}"
   ]
  },
  {
   "cell_type": "markdown",
   "metadata": {
    "slideshow": {
     "slide_type": "fragment"
    }
   },
   "source": [
    "Calling Julia functions from Python can be done using the Python library `PyJulia` (hereby handwaved again as it's outside the scope of this sharing)."
   ]
  },
  {
   "cell_type": "markdown",
   "metadata": {
    "slideshow": {
     "slide_type": "slide"
    }
   },
   "source": [
    "## Can pop open the hood"
   ]
  },
  {
   "cell_type": "markdown",
   "metadata": {
    "slideshow": {
     "slide_type": "subslide"
    }
   },
   "source": [
    "Methods introspection - See intermediate and compiled representations."
   ]
  },
  {
   "cell_type": "code",
   "execution_count": 13,
   "metadata": {
    "slideshow": {
     "slide_type": "fragment"
    }
   },
   "outputs": [
    {
     "data": {
      "text/html": [
       "2 methods for generic function <b>double</b>:<ul><li> double(s::<b>Array{T,1} where T</b>) at In[5]:1</li> <li> double(x) at In[4]:2</li> </ul>"
      ],
      "text/plain": [
       "# 2 methods for generic function \"double\":\n",
       "double(s::Array{T,1} where T) in Main at In[5]:1\n",
       "double(x) in Main at In[4]:2"
      ]
     },
     "execution_count": 13,
     "metadata": {},
     "output_type": "execute_result"
    }
   ],
   "source": [
    "methods(double)"
   ]
  },
  {
   "cell_type": "code",
   "execution_count": 14,
   "metadata": {
    "slideshow": {
     "slide_type": "fragment"
    }
   },
   "outputs": [
    {
     "data": {
      "text/plain": [
       "CodeInfo(:(begin \n",
       "        return (Base.mul_int)(2, x)::Int64\n",
       "    end))=>Int64"
      ]
     },
     "execution_count": 14,
     "metadata": {},
     "output_type": "execute_result"
    }
   ],
   "source": [
    "@code_typed double(5)"
   ]
  },
  {
   "cell_type": "code",
   "execution_count": 15,
   "metadata": {
    "slideshow": {
     "slide_type": "fragment"
    }
   },
   "outputs": [
    {
     "data": {
      "text/plain": [
       "CodeInfo(:(begin \n",
       "        return (Base.mul_float)((Base.sitofp)(Float64, 2)::Float64, x)::Float64\n",
       "    end))=>Float64"
      ]
     },
     "execution_count": 15,
     "metadata": {},
     "output_type": "execute_result"
    }
   ],
   "source": [
    "@code_typed double(5.0)"
   ]
  },
  {
   "cell_type": "code",
   "execution_count": 16,
   "metadata": {
    "slideshow": {
     "slide_type": "fragment"
    }
   },
   "outputs": [
    {
     "data": {
      "text/plain": [
       "CodeInfo(:(begin \n",
       "        return $(Expr(:invoke, MethodInstance for vcat(::Array{Int64,1}, ::Array{Int64,1}), :(Main.vcat), :(s), :(s)))\n",
       "    end))=>Array{Int64,1}"
      ]
     },
     "execution_count": 16,
     "metadata": {},
     "output_type": "execute_result"
    }
   ],
   "source": [
    "@code_typed double([4, 5, 6])"
   ]
  },
  {
   "cell_type": "code",
   "execution_count": 17,
   "metadata": {
    "slideshow": {
     "slide_type": "fragment"
    }
   },
   "outputs": [
    {
     "name": "stdout",
     "output_type": "stream",
     "text": [
      "\t.section\t__TEXT,__text,regular,pure_instructions\n",
      "Filename: In[4]\n",
      "\tpushq\t%rbp\n",
      "\tmovq\t%rsp, %rbp\n",
      "Source line: 2\n",
      "\tleaq\t(%rdi,%rdi), %rax\n",
      "\tpopq\t%rbp\n",
      "\tretq\n",
      "\tnopw\t(%rax,%rax)\n"
     ]
    }
   ],
   "source": [
    "@code_native double(5)"
   ]
  },
  {
   "cell_type": "code",
   "execution_count": 18,
   "metadata": {
    "scrolled": false,
    "slideshow": {
     "slide_type": "fragment"
    }
   },
   "outputs": [
    {
     "name": "stdout",
     "output_type": "stream",
     "text": [
      "\t.section\t__TEXT,__text,regular,pure_instructions\n",
      "Filename: In[4]\n",
      "\tpushq\t%rbp\n",
      "\tmovq\t%rsp, %rbp\n",
      "Source line: 2\n",
      "\taddsd\t%xmm0, %xmm0\n",
      "\tpopq\t%rbp\n",
      "\tretq\n",
      "\tnopw\t(%rax,%rax)\n"
     ]
    }
   ],
   "source": [
    "@code_native double(5.0)"
   ]
  },
  {
   "cell_type": "markdown",
   "metadata": {
    "slideshow": {
     "slide_type": "subslide"
    }
   },
   "source": [
    "Constant function calls in a function definition are run during compilation for speedups."
   ]
  },
  {
   "cell_type": "code",
   "execution_count": 113,
   "metadata": {
    "slideshow": {
     "slide_type": "fragment"
    }
   },
   "outputs": [
    {
     "data": {
      "text/plain": [
       "boyband_song (generic function with 1 method)"
      ]
     },
     "execution_count": 113,
     "metadata": {},
     "output_type": "execute_result"
    }
   ],
   "source": [
    "boyband_song(x) = double(5) + double(6) + x"
   ]
  },
  {
   "cell_type": "code",
   "execution_count": 114,
   "metadata": {
    "scrolled": true,
    "slideshow": {
     "slide_type": "fragment"
    }
   },
   "outputs": [
    {
     "name": "stdout",
     "output_type": "stream",
     "text": [
      "\t.section\t__TEXT,__text,regular,pure_instructions\n",
      "Filename: In[113]\n",
      "\tpushq\t%rbp\n",
      "\tmovq\t%rsp, %rbp\n",
      "Source line: 1\n",
      "\tleaq\t22(%rdi), %rax\n",
      "\tpopq\t%rbp\n",
      "\tretq\n",
      "\tnopw\t(%rax,%rax)\n"
     ]
    }
   ],
   "source": [
    "@code_native boyband_song(5566)"
   ]
  },
  {
   "cell_type": "markdown",
   "metadata": {
    "slideshow": {
     "slide_type": "subslide"
    }
   },
   "source": [
    "Example: Two ways to write the same function..."
   ]
  },
  {
   "cell_type": "code",
   "execution_count": 19,
   "metadata": {
    "cell_style": "split",
    "hide_input": false,
    "slideshow": {
     "slide_type": "fragment"
    }
   },
   "outputs": [
    {
     "data": {
      "text/plain": [
       "task_1 (generic function with 1 method)"
      ]
     },
     "execution_count": 19,
     "metadata": {},
     "output_type": "execute_result"
    }
   ],
   "source": [
    "function task_1()\n",
    "    result = 0\n",
    "    for i in 1:100000\n",
    "        result += 1/(i^2)\n",
    "    end\n",
    "    return result\n",
    "end"
   ]
  },
  {
   "cell_type": "code",
   "execution_count": 20,
   "metadata": {
    "cell_style": "split",
    "slideshow": {
     "slide_type": "-"
    }
   },
   "outputs": [
    {
     "data": {
      "text/plain": [
       "task_2 (generic function with 1 method)"
      ]
     },
     "execution_count": 20,
     "metadata": {},
     "output_type": "execute_result"
    }
   ],
   "source": [
    "function task_2()\n",
    "    result = 0.0\n",
    "    for i in 1:100000\n",
    "        result += 1/(i^2)\n",
    "    end\n",
    "    return result\n",
    "end"
   ]
  },
  {
   "cell_type": "markdown",
   "metadata": {
    "slideshow": {
     "slide_type": "fragment"
    }
   },
   "source": [
    "Let's time it"
   ]
  },
  {
   "cell_type": "code",
   "execution_count": 21,
   "metadata": {
    "cell_style": "split",
    "scrolled": true,
    "slideshow": {
     "slide_type": "-"
    }
   },
   "outputs": [
    {
     "name": "stdout",
     "output_type": "stream",
     "text": [
      "  0.004609 seconds (300.08 k allocations: 4.584 MiB)\n"
     ]
    },
    {
     "data": {
      "text/plain": [
       "1.6449240668982423"
      ]
     },
     "execution_count": 21,
     "metadata": {},
     "output_type": "execute_result"
    }
   ],
   "source": [
    "task_1() #First time is to compile the method once.\n",
    "@time task_1()"
   ]
  },
  {
   "cell_type": "code",
   "execution_count": 22,
   "metadata": {
    "cell_style": "split",
    "scrolled": false,
    "slideshow": {
     "slide_type": "-"
    }
   },
   "outputs": [
    {
     "name": "stdout",
     "output_type": "stream",
     "text": [
      "  0.000459 seconds (5 allocations: 176 bytes)\n"
     ]
    },
    {
     "data": {
      "text/plain": [
       "1.6449240668982423"
      ]
     },
     "execution_count": 22,
     "metadata": {},
     "output_type": "execute_result"
    }
   ],
   "source": [
    "task_2() #First time is to compile the method once.\n",
    "@time task_2()"
   ]
  },
  {
   "cell_type": "markdown",
   "metadata": {
    "slideshow": {
     "slide_type": "fragment"
    }
   },
   "source": [
    "What happened?"
   ]
  },
  {
   "cell_type": "code",
   "execution_count": 23,
   "metadata": {
    "cell_style": "split",
    "scrolled": false,
    "slideshow": {
     "slide_type": "-"
    }
   },
   "outputs": [
    {
     "name": "stdout",
     "output_type": "stream",
     "text": [
      "Variables:\n",
      "  #self# <optimized out>\n",
      "  i::Int64\n",
      "  #temp#@_3::Int64\n",
      "  result\u001b[1m\u001b[91m::Union{Float64, Int64}\u001b[39m\u001b[22m\n",
      "  #temp#@_5::Core.MethodInstance\n",
      "  #temp#@_6::Float64\n",
      "\n",
      "Body:\n",
      "  begin \n",
      "      result\u001b[1m\u001b[91m::Union{Float64, Int64}\u001b[39m\u001b[22m = 0 # line 3:\n",
      "      SSAValue(2) = (Base.select_value)((Base.sle_int)(1, 100000)::Bool, 100000, (Base.sub_int)(1, 1)::Int64)::Int64\n",
      "      #temp#@_3::Int64 = 1\n",
      "      5: \n",
      "      unless (Base.not_int)((#temp#@_3::Int64 === (Base.add_int)(SSAValue(2), 1)::Int64)::Bool)::Bool goto 30\n",
      "      SSAValue(3) = #temp#@_3::Int64\n",
      "      SSAValue(4) = (Base.add_int)(#temp#@_3::Int64, 1)::Int64\n",
      "      i::Int64 = SSAValue(3)\n",
      "      #temp#@_3::Int64 = SSAValue(4) # line 4:\n",
      "      unless (result\u001b[1m\u001b[91m::Union{Float64, Int64}\u001b[39m\u001b[22m isa Int64)::Bool goto 15\n",
      "      #temp#@_5::Core.MethodInstance = MethodInstance for +(::Int64, ::Float64)\n",
      "      goto 24\n",
      "      15: \n",
      "      unless (result\u001b[1m\u001b[91m::Union{Float64, Int64}\u001b[39m\u001b[22m isa Float64)::Bool goto 19\n",
      "      #temp#@_5::Core.MethodInstance = MethodInstance for +(::Float64, ::Float64)\n",
      "      goto 24\n",
      "      19: \n",
      "      goto 21\n",
      "      21: \n",
      "      #temp#@_6::Float64 = (result\u001b[1m\u001b[91m::Union{Float64, Int64}\u001b[39m\u001b[22m + (Base.div_float)((Base.sitofp)(Float64, 1)::Float64, (Base.sitofp)(Float64, (Base.mul_int)(i::Int64, i::Int64)::Int64)::Float64)::Float64)::Float64\n",
      "      goto 26\n",
      "      24: \n",
      "      #temp#@_6::Float64 = $(Expr(:invoke, :(#temp#@_5), :(Main.+), :(result), :((Base.div_float)((Base.sitofp)(Float64, 1)::Float64, (Base.sitofp)(Float64, (Base.mul_int)(i, i)::Int64)::Float64)::Float64)))\n",
      "      26: \n",
      "      result\u001b[1m\u001b[91m::Union{Float64, Int64}\u001b[39m\u001b[22m = #temp#@_6::Float64\n",
      "      28: \n",
      "      goto 5\n",
      "      30:  # line 6:\n",
      "      return result\u001b[1m\u001b[91m::Union{Float64, Int64}\u001b[39m\u001b[22m\n",
      "  end\u001b[1m\u001b[91m::Union{Float64, Int64}\u001b[39m\u001b[22m\n"
     ]
    }
   ],
   "source": [
    "@code_warntype task_1()"
   ]
  },
  {
   "cell_type": "code",
   "execution_count": 24,
   "metadata": {
    "cell_style": "split",
    "slideshow": {
     "slide_type": "-"
    }
   },
   "outputs": [
    {
     "name": "stdout",
     "output_type": "stream",
     "text": [
      "Variables:\n",
      "  #self# <optimized out>\n",
      "  i::Int64\n",
      "  #temp#::Int64\n",
      "  result::Float64\n",
      "\n",
      "Body:\n",
      "  begin \n",
      "      result::Float64 = 0.0 # line 3:\n",
      "      SSAValue(2) = (Base.select_value)((Base.sle_int)(1, 100000)::Bool, 100000, (Base.sub_int)(1, 1)::Int64)::Int64\n",
      "      #temp#::Int64 = 1\n",
      "      5: \n",
      "      unless (Base.not_int)((#temp#::Int64 === (Base.add_int)(SSAValue(2), 1)::Int64)::Bool)::Bool goto 15\n",
      "      SSAValue(3) = #temp#::Int64\n",
      "      SSAValue(4) = (Base.add_int)(#temp#::Int64, 1)::Int64\n",
      "      i::Int64 = SSAValue(3)\n",
      "      #temp#::Int64 = SSAValue(4) # line 4:\n",
      "      result::Float64 = (Base.add_float)(result::Float64, (Base.div_float)((Base.sitofp)(Float64, 1)::Float64, (Base.sitofp)(Float64, (Base.mul_int)(i::Int64, i::Int64)::Int64)::Float64)::Float64)::Float64\n",
      "      13: \n",
      "      goto 5\n",
      "      15:  # line 6:\n",
      "      return result::Float64\n",
      "  end::Float64\n"
     ]
    }
   ],
   "source": [
    "@code_warntype task_2()"
   ]
  },
  {
   "cell_type": "markdown",
   "metadata": {
    "slideshow": {
     "slide_type": "subslide"
    }
   },
   "source": [
    "Type introspection - work with the relationship between types."
   ]
  },
  {
   "cell_type": "code",
   "execution_count": 25,
   "metadata": {
    "slideshow": {
     "slide_type": "fragment"
    }
   },
   "outputs": [
    {
     "data": {
      "text/plain": [
       "Int64"
      ]
     },
     "execution_count": 25,
     "metadata": {},
     "output_type": "execute_result"
    }
   ],
   "source": [
    "typeof(5)"
   ]
  },
  {
   "cell_type": "code",
   "execution_count": 26,
   "metadata": {
    "slideshow": {
     "slide_type": "fragment"
    }
   },
   "outputs": [
    {
     "data": {
      "text/plain": [
       "true"
      ]
     },
     "execution_count": 26,
     "metadata": {},
     "output_type": "execute_result"
    }
   ],
   "source": [
    "Int64 <: Integer"
   ]
  },
  {
   "cell_type": "code",
   "execution_count": 27,
   "metadata": {
    "slideshow": {
     "slide_type": "fragment"
    }
   },
   "outputs": [
    {
     "data": {
      "text/plain": [
       "is_an_integer (generic function with 2 methods)"
      ]
     },
     "execution_count": 27,
     "metadata": {},
     "output_type": "execute_result"
    }
   ],
   "source": [
    "is_an_integer(x::Integer) = true\n",
    "is_an_integer(x) = false"
   ]
  },
  {
   "cell_type": "code",
   "execution_count": 28,
   "metadata": {
    "slideshow": {
     "slide_type": "fragment"
    }
   },
   "outputs": [
    {
     "name": "stdout",
     "output_type": "stream",
     "text": [
      "is_an_integer(5) = true\n",
      "is_an_integer(5.0) = false\n"
     ]
    },
    {
     "data": {
      "text/plain": [
       "false"
      ]
     },
     "execution_count": 28,
     "metadata": {},
     "output_type": "execute_result"
    }
   ],
   "source": [
    "@show is_an_integer(5)\n",
    "@show is_an_integer(5.0)"
   ]
  },
  {
   "cell_type": "markdown",
   "metadata": {
    "slideshow": {
     "slide_type": "subslide"
    }
   },
   "source": [
    "Strong reflection makes it easy and fast to implement much of Julia in Julia."
   ]
  },
  {
   "cell_type": "code",
   "execution_count": 29,
   "metadata": {
    "slideshow": {
     "slide_type": "fragment"
    }
   },
   "outputs": [
    {
     "data": {
      "text/plain": [
       "is_type (generic function with 2 methods)"
      ]
     },
     "execution_count": 29,
     "metadata": {},
     "output_type": "execute_result"
    }
   ],
   "source": [
    "is_type{T}(x::T, t::Type{T}) = true\n",
    "is_type(x, t) = false"
   ]
  },
  {
   "cell_type": "code",
   "execution_count": 30,
   "metadata": {
    "scrolled": true,
    "slideshow": {
     "slide_type": "fragment"
    }
   },
   "outputs": [
    {
     "name": "stdout",
     "output_type": "stream",
     "text": [
      "is_type(5.0, Float64) = true\n",
      "is_type(5, Int) = true\n",
      "is_type(5, String) = false\n",
      "is_type(is_type, Function) = true\n"
     ]
    },
    {
     "data": {
      "text/plain": [
       "true"
      ]
     },
     "execution_count": 30,
     "metadata": {},
     "output_type": "execute_result"
    }
   ],
   "source": [
    "@show is_type(5.0, Float64)\n",
    "@show is_type(5, Int)\n",
    "@show is_type(5, String)\n",
    "@show is_type(is_type, Function)"
   ]
  },
  {
   "cell_type": "markdown",
   "metadata": {
    "slideshow": {
     "slide_type": "subslide"
    }
   },
   "source": [
    "Reflection"
   ]
  },
  {
   "cell_type": "code",
   "execution_count": 128,
   "metadata": {
    "slideshow": {
     "slide_type": "fragment"
    }
   },
   "outputs": [
    {
     "name": "stdout",
     "output_type": "stream",
     "text": [
      "double(6) = 12\n",
      "double(7.5) = 15.0\n"
     ]
    },
    {
     "data": {
      "text/plain": [
       "15.0"
      ]
     },
     "execution_count": 128,
     "metadata": {},
     "output_type": "execute_result"
    }
   ],
   "source": [
    "@show double(6)\n",
    "@show double(7.5)"
   ]
  },
  {
   "cell_type": "code",
   "execution_count": 135,
   "metadata": {
    "scrolled": true,
    "slideshow": {
     "slide_type": "fragment"
    }
   },
   "outputs": [
    {
     "name": "stdout",
     "output_type": "stream",
     "text": [
      "Function to run: STDIN> double\n",
      "what's the numerical value: STDIN> 6\n",
      "what's the value's type: STDIN> Float64\n"
     ]
    },
    {
     "data": {
      "text/plain": [
       "12.0"
      ]
     },
     "execution_count": 135,
     "metadata": {},
     "output_type": "execute_result"
    }
   ],
   "source": [
    "input(text::String) = (print(\"$(text): \"); return readline())\n",
    "\n",
    "function run_function_on_demand()\n",
    "    f = Symbol(input(\"Function to run\"))\n",
    "    v = input(\"what's the numerical value\")\n",
    "    t = Symbol(input(\"what's the value's type\"))\n",
    "    eval(:($f(parse($t, $v))))\n",
    "end\n",
    "\n",
    "run_function_on_demand()"
   ]
  },
  {
   "cell_type": "code",
   "execution_count": 33,
   "metadata": {
    "collapsed": true,
    "slideshow": {
     "slide_type": "subslide"
    }
   },
   "outputs": [],
   "source": [
    "struct QMInt\n",
    "    value::Int\n",
    "end"
   ]
  },
  {
   "cell_type": "code",
   "execution_count": 34,
   "metadata": {
    "collapsed": true,
    "hide_input": false,
    "slideshow": {
     "slide_type": "fragment"
    }
   },
   "outputs": [],
   "source": [
    "Base.:+(x::QMInt, y::QMInt) = QMInt(x.value + y.value)\n",
    "Base.:-(x::QMInt, y::QMInt) = QMInt(x.value - y.value)\n",
    "function Base.show(io::IO, x::QMInt)\n",
    "    text = x.value == 3 ? \"3, quick maffs\" : \"$(x.value)\"\n",
    "    show(io, text)\n",
    "end"
   ]
  },
  {
   "cell_type": "code",
   "execution_count": 35,
   "metadata": {
    "slideshow": {
     "slide_type": "fragment"
    }
   },
   "outputs": [
    {
     "name": "stdout",
     "output_type": "stream",
     "text": [
      "what = two + two = \"4\"\n",
      "what - one = \"3, quick maffs\"\n"
     ]
    }
   ],
   "source": [
    "two = QMInt(2); one = QMInt(1)\n",
    "@show what = two + two;\n",
    "@show what - one;"
   ]
  },
  {
   "cell_type": "markdown",
   "metadata": {
    "slideshow": {
     "slide_type": "slide"
    }
   },
   "source": [
    "## Malleable and expressive"
   ]
  },
  {
   "cell_type": "code",
   "execution_count": 136,
   "metadata": {
    "slideshow": {
     "slide_type": "subslide"
    }
   },
   "outputs": [
    {
     "name": "stdout",
     "output_type": "stream",
     "text": [
      "v[1] = 2\n",
      "v[2] = 4\n",
      "v = [2, 100, 6, 8, 10]\n"
     ]
    },
    {
     "data": {
      "text/plain": [
       "5-element Array{Int64,1}:\n",
       "   2\n",
       " 100\n",
       "   6\n",
       "   8\n",
       "  10"
      ]
     },
     "execution_count": 136,
     "metadata": {},
     "output_type": "execute_result"
    }
   ],
   "source": [
    "v = [2, 4, 6, 8, 10]\n",
    "@show v[1]\n",
    "@show v[2]\n",
    "v[2] = 100\n",
    "@show v;"
   ]
  },
  {
   "cell_type": "markdown",
   "metadata": {
    "slideshow": {
     "slide_type": "fragment"
    }
   },
   "source": [
    "Another example of reflection. Don't like Julia's 1-indexing? Create and use your own vector."
   ]
  },
  {
   "cell_type": "code",
   "execution_count": 36,
   "metadata": {
    "collapsed": true,
    "slideshow": {
     "slide_type": "fragment"
    }
   },
   "outputs": [],
   "source": [
    "struct MyVector{T}\n",
    "    data::Vector{T}\n",
    "end\n",
    "function Base.setindex!(v::MyVector, x, i)\n",
    "    v.data[i + 1] = x\n",
    "end\n",
    "\n",
    "Base.getindex(v::MyVector, i) = v.data[i + 1]"
   ]
  },
  {
   "cell_type": "code",
   "execution_count": 37,
   "metadata": {
    "slideshow": {
     "slide_type": "fragment"
    }
   },
   "outputs": [
    {
     "data": {
      "text/plain": [
       "MyVector{Int64}([2, 4, 6, 8, 10])"
      ]
     },
     "execution_count": 37,
     "metadata": {},
     "output_type": "execute_result"
    }
   ],
   "source": [
    "v = MyVector([2, 4, 6, 8, 10])"
   ]
  },
  {
   "cell_type": "code",
   "execution_count": 38,
   "metadata": {
    "slideshow": {
     "slide_type": "fragment"
    }
   },
   "outputs": [
    {
     "name": "stdout",
     "output_type": "stream",
     "text": [
      "v[1] = 4\n",
      "v[2] = 6\n",
      "v = MyVector{Int64}([2, 4, 100, 8, 10])\n"
     ]
    },
    {
     "data": {
      "text/plain": [
       "MyVector{Int64}([2, 4, 100, 8, 10])"
      ]
     },
     "execution_count": 38,
     "metadata": {},
     "output_type": "execute_result"
    }
   ],
   "source": [
    "@show v[1]\n",
    "@show v[2]\n",
    "v[2] = 100\n",
    "@show v;"
   ]
  },
  {
   "cell_type": "markdown",
   "metadata": {
    "slideshow": {
     "slide_type": "fragment"
    }
   },
   "source": [
    "It can perform for-loops correctly too!"
   ]
  },
  {
   "cell_type": "code",
   "execution_count": 39,
   "metadata": {
    "collapsed": true,
    "slideshow": {
     "slide_type": "fragment"
    }
   },
   "outputs": [],
   "source": [
    "Base.start(v::MyVector) = length(v.data) - 1\n",
    "Base.done(v::MyVector, state) = state < 0\n",
    "Base.next(v::MyVector, state) = (v[state], state - 1)"
   ]
  },
  {
   "cell_type": "code",
   "execution_count": 40,
   "metadata": {
    "slideshow": {
     "slide_type": "fragment"
    }
   },
   "outputs": [
    {
     "name": "stdout",
     "output_type": "stream",
     "text": [
      "10\n",
      "8\n",
      "100\n",
      "4\n",
      "2\n"
     ]
    }
   ],
   "source": [
    "for elem in v\n",
    "    println(elem)\n",
    "end"
   ]
  },
  {
   "cell_type": "code",
   "execution_count": 41,
   "metadata": {
    "slideshow": {
     "slide_type": "fragment"
    }
   },
   "outputs": [
    {
     "data": {
      "text/plain": [
       "124"
      ]
     },
     "execution_count": 41,
     "metadata": {},
     "output_type": "execute_result"
    }
   ],
   "source": [
    "sum(v)"
   ]
  },
  {
   "cell_type": "code",
   "execution_count": 140,
   "metadata": {
    "slideshow": {
     "slide_type": "subslide"
    }
   },
   "outputs": [
    {
     "data": {
      "text/plain": [
       "true"
      ]
     },
     "execution_count": 140,
     "metadata": {},
     "output_type": "execute_result"
    }
   ],
   "source": [
    "(a == 1) && (a == 2) && (a == 3)"
   ]
  },
  {
   "cell_type": "code",
   "execution_count": 139,
   "metadata": {
    "slideshow": {
     "slide_type": "fragment"
    }
   },
   "outputs": [
    {
     "data": {
      "text/plain": [
       "IncrementalInt(0)"
      ]
     },
     "execution_count": 139,
     "metadata": {},
     "output_type": "execute_result"
    }
   ],
   "source": [
    "type IncrementalInt\n",
    "    value::Int\n",
    "end\n",
    "function Base.:(==)(i::IncrementalInt, rhs)\n",
    "    i.value += 1\n",
    "    return i.value == rhs\n",
    "end\n",
    "a = IncrementalInt(0)"
   ]
  },
  {
   "cell_type": "markdown",
   "metadata": {
    "slideshow": {
     "slide_type": "slide"
    }
   },
   "source": [
    "## Supports Unicode operators"
   ]
  },
  {
   "cell_type": "code",
   "execution_count": 44,
   "metadata": {
    "slideshow": {
     "slide_type": "subslide"
    }
   },
   "outputs": [
    {
     "data": {
      "text/plain": [
       "1.3333333333333333"
      ]
     },
     "execution_count": 44,
     "metadata": {},
     "output_type": "execute_result"
    }
   ],
   "source": [
    "4 / 3"
   ]
  },
  {
   "cell_type": "code",
   "execution_count": 45,
   "metadata": {
    "slideshow": {
     "slide_type": "fragment"
    }
   },
   "outputs": [
    {
     "data": {
      "text/plain": [
       "4//3"
      ]
     },
     "execution_count": 45,
     "metadata": {},
     "output_type": "execute_result"
    }
   ],
   "source": [
    "4 // 3"
   ]
  },
  {
   "cell_type": "code",
   "execution_count": 46,
   "metadata": {
    "slideshow": {
     "slide_type": "fragment"
    }
   },
   "outputs": [
    {
     "data": {
      "text/plain": [
       "1"
      ]
     },
     "execution_count": 46,
     "metadata": {},
     "output_type": "execute_result"
    }
   ],
   "source": [
    "div(4, 3)"
   ]
  },
  {
   "cell_type": "code",
   "execution_count": 47,
   "metadata": {
    "slideshow": {
     "slide_type": "fragment"
    }
   },
   "outputs": [
    {
     "data": {
      "text/plain": [
       "1"
      ]
     },
     "execution_count": 47,
     "metadata": {},
     "output_type": "execute_result"
    }
   ],
   "source": [
    "4 ÷ 3"
   ]
  },
  {
   "cell_type": "markdown",
   "metadata": {
    "slideshow": {
     "slide_type": "fragment"
    }
   },
   "source": [
    "Operators are not special constructs. They are just syntactic sugar for the corresponding function."
   ]
  },
  {
   "cell_type": "code",
   "execution_count": 48,
   "metadata": {
    "slideshow": {
     "slide_type": "fragment"
    }
   },
   "outputs": [
    {
     "data": {
      "text/plain": [
       "1"
      ]
     },
     "execution_count": 48,
     "metadata": {},
     "output_type": "execute_result"
    }
   ],
   "source": [
    "÷(4, 3)"
   ]
  },
  {
   "cell_type": "code",
   "execution_count": 49,
   "metadata": {
    "slideshow": {
     "slide_type": "fragment"
    }
   },
   "outputs": [
    {
     "data": {
      "text/plain": [
       "1"
      ]
     },
     "execution_count": 49,
     "metadata": {},
     "output_type": "execute_result"
    }
   ],
   "source": [
    "Base.:÷(4, 3)"
   ]
  },
  {
   "cell_type": "code",
   "execution_count": 50,
   "metadata": {
    "slideshow": {
     "slide_type": "fragment"
    }
   },
   "outputs": [
    {
     "data": {
      "text/plain": [
       "Symbol"
      ]
     },
     "execution_count": 50,
     "metadata": {},
     "output_type": "execute_result"
    }
   ],
   "source": [
    "typeof(:÷)"
   ]
  },
  {
   "cell_type": "code",
   "execution_count": 51,
   "metadata": {
    "scrolled": true,
    "slideshow": {
     "slide_type": "subslide"
    }
   },
   "outputs": [
    {
     "data": {
      "text/plain": [
       "π = 3.1415926535897..."
      ]
     },
     "execution_count": 51,
     "metadata": {},
     "output_type": "execute_result"
    }
   ],
   "source": [
    "π"
   ]
  },
  {
   "cell_type": "code",
   "execution_count": 52,
   "metadata": {
    "slideshow": {
     "slide_type": "fragment"
    }
   },
   "outputs": [
    {
     "data": {
      "text/plain": [
       "5.0"
      ]
     },
     "execution_count": 52,
     "metadata": {},
     "output_type": "execute_result"
    }
   ],
   "source": [
    "α₁ = 3.0; α₂ = 4.0\n",
    "√(α₁^2 + α₂^2)"
   ]
  },
  {
   "cell_type": "code",
   "execution_count": 53,
   "metadata": {
    "slideshow": {
     "slide_type": "fragment"
    }
   },
   "outputs": [
    {
     "data": {
      "text/plain": [
       "fib (generic function with 1 method)"
      ]
     },
     "execution_count": 53,
     "metadata": {},
     "output_type": "execute_result"
    }
   ],
   "source": [
    "fib(n) = (n ≤ 1) ? n : fib(n - 1) + fib(n - 2)"
   ]
  },
  {
   "cell_type": "code",
   "execution_count": 54,
   "metadata": {
    "slideshow": {
     "slide_type": "fragment"
    }
   },
   "outputs": [
    {
     "name": "stdout",
     "output_type": "stream",
     "text": [
      "  0.697451 seconds (505 allocations: 28.762 KiB)\n",
      "  0.681746 seconds (5 allocations: 176 bytes)\n",
      "  0.675590 seconds (5 allocations: 176 bytes)\n"
     ]
    },
    {
     "data": {
      "text/plain": [
       "102334155"
      ]
     },
     "execution_count": 54,
     "metadata": {},
     "output_type": "execute_result"
    }
   ],
   "source": [
    "@time fib(40)\n",
    "@time fib(40)\n",
    "@time fib(40)"
   ]
  },
  {
   "cell_type": "markdown",
   "metadata": {
    "slideshow": {
     "slide_type": "slide"
    }
   },
   "source": [
    "## Good for data processing"
   ]
  },
  {
   "cell_type": "markdown",
   "metadata": {
    "slideshow": {
     "slide_type": "subslide"
    }
   },
   "source": [
    "Julia has Vector that are specialised to the type, implemented as efficiently as possible."
   ]
  },
  {
   "cell_type": "code",
   "execution_count": 57,
   "metadata": {
    "hide_input": false,
    "slideshow": {
     "slide_type": "fragment"
    }
   },
   "outputs": [
    {
     "data": {
      "text/plain": [
       "4-element Array{Int64,1}:\n",
       " 5\n",
       " 5\n",
       " 6\n",
       " 6"
      ]
     },
     "execution_count": 57,
     "metadata": {},
     "output_type": "execute_result"
    }
   ],
   "source": [
    "like_a_c_array = [5, 5, 6, 6]"
   ]
  },
  {
   "cell_type": "code",
   "execution_count": 56,
   "metadata": {
    "slideshow": {
     "slide_type": "fragment"
    }
   },
   "outputs": [
    {
     "data": {
      "text/plain": [
       "4-element Array{Any,1}:\n",
       " 1        \n",
       "  \"is\"    \n",
       "  sum     \n",
       "  \"number\""
      ]
     },
     "execution_count": 56,
     "metadata": {},
     "output_type": "execute_result"
    }
   ],
   "source": [
    "a = [1, \"is\", sum, \"number\"]"
   ]
  },
  {
   "cell_type": "code",
   "execution_count": 55,
   "metadata": {
    "slideshow": {
     "slide_type": "fragment"
    }
   },
   "outputs": [
    {
     "data": {
      "text/plain": [
       "4-element Array{String,1}:\n",
       " \"Pasta\"      \n",
       " \"茶そば\"        \n",
       " \"Chicken Pea\"\n",
       " \"Starbucks\"  "
      ]
     },
     "execution_count": 55,
     "metadata": {},
     "output_type": "execute_result"
    }
   ],
   "source": [
    "foods_i_like = [\"Pasta\", \"茶そば\", \"Chicken Pea\", \"Starbucks\"]"
   ]
  },
  {
   "cell_type": "markdown",
   "metadata": {
    "slideshow": {
     "slide_type": "subslide"
    }
   },
   "source": [
    "Vector is just a 1-D array (`Vector{T}` is alias for `Array{T, 1}`). Julia talks naturally in n-D."
   ]
  },
  {
   "cell_type": "code",
   "execution_count": 58,
   "metadata": {
    "slideshow": {
     "slide_type": "fragment"
    }
   },
   "outputs": [
    {
     "data": {
      "text/plain": [
       "4×3 Array{Any,2}:\n",
       " 5  1          \"Pasta\"      \n",
       " 5   \"is\"      \"茶そば\"        \n",
       " 6   sum       \"Chicken Pea\"\n",
       " 6   \"number\"  \"Starbucks\"  "
      ]
     },
     "execution_count": 58,
     "metadata": {},
     "output_type": "execute_result"
    }
   ],
   "source": [
    "hcat(like_a_c_array, a, foods_i_like)"
   ]
  },
  {
   "cell_type": "markdown",
   "metadata": {
    "slideshow": {
     "slide_type": "subslide"
    }
   },
   "source": [
    "Common to compiled languages, there is quick for-loop, and so there is not a need to vectorise for performance."
   ]
  },
  {
   "cell_type": "code",
   "execution_count": 59,
   "metadata": {
    "slideshow": {
     "slide_type": "fragment"
    }
   },
   "outputs": [
    {
     "name": "stdout",
     "output_type": "stream",
     "text": [
      "I like pasta oh yeah~~\n",
      "I like 茶そば oh yeah~~\n",
      "I like chicken pea oh yeah~~\n",
      "I like starbucks oh yeah~~\n"
     ]
    }
   ],
   "source": [
    "for food in foods_i_like\n",
    "    println(\"I like $(lowercase(food)) oh yeah~~\")\n",
    "end"
   ]
  },
  {
   "cell_type": "markdown",
   "metadata": {
    "slideshow": {
     "slide_type": "fragment"
    }
   },
   "source": [
    "Common to interpreted languages, functions are first class object. So we have a powerful `do` construct."
   ]
  },
  {
   "cell_type": "code",
   "execution_count": 60,
   "metadata": {
    "slideshow": {
     "slide_type": "fragment"
    }
   },
   "outputs": [
    {
     "name": "stdout",
     "output_type": "stream",
     "text": [
      "I like pasta oh yeah~~\n",
      "I like 茶そば oh yeah~~\n",
      "I like chicken pea oh yeah~~\n",
      "I like starbucks oh yeah~~\n"
     ]
    }
   ],
   "source": [
    "foreach(foods_i_like) do food\n",
    "    println(\"I like $(lowercase(food)) oh yeah~~\")\n",
    "end"
   ]
  },
  {
   "cell_type": "code",
   "execution_count": 61,
   "metadata": {
    "scrolled": false,
    "slideshow": {
     "slide_type": "fragment"
    }
   },
   "outputs": [
    {
     "name": "stdout",
     "output_type": "stream",
     "text": [
      "I like pasta oh yeah~~\n",
      "I like 茶そば oh yeah~~\n",
      "I like chicken pea oh yeah~~\n",
      "I like starbucks oh yeah~~\n"
     ]
    }
   ],
   "source": [
    "foreach(food -> println(\"I like $(lowercase(food)) oh yeah~~\"), foods_i_like)"
   ]
  },
  {
   "cell_type": "markdown",
   "metadata": {
    "slideshow": {
     "slide_type": "subslide"
    }
   },
   "source": [
    "Many approach to data processing."
   ]
  },
  {
   "cell_type": "code",
   "execution_count": 62,
   "metadata": {
    "collapsed": true,
    "slideshow": {
     "slide_type": "fragment"
    }
   },
   "outputs": [],
   "source": [
    "foods = [\"Prata\", \"油条\", \"Chicken Rice\", \"Starbucks\"];"
   ]
  },
  {
   "cell_type": "code",
   "execution_count": 63,
   "metadata": {
    "cell_style": "center",
    "slideshow": {
     "slide_type": "fragment"
    }
   },
   "outputs": [
    {
     "data": {
      "text/plain": [
       "4-element Array{Bool,1}:\n",
       " false\n",
       " false\n",
       " false\n",
       "  true"
      ]
     },
     "execution_count": 63,
     "metadata": {},
     "output_type": "execute_result"
    }
   ],
   "source": [
    "map(food -> food ∈ foods_i_like, foods)"
   ]
  },
  {
   "cell_type": "code",
   "execution_count": 64,
   "metadata": {
    "cell_style": "center",
    "slideshow": {
     "slide_type": "-"
    }
   },
   "outputs": [
    {
     "data": {
      "text/plain": [
       "1-element Array{String,1}:\n",
       " \"Starbucks\""
      ]
     },
     "execution_count": 64,
     "metadata": {},
     "output_type": "execute_result"
    }
   ],
   "source": [
    "filter(food -> food ∈ foods_i_like, foods)"
   ]
  },
  {
   "cell_type": "code",
   "execution_count": 65,
   "metadata": {
    "cell_style": "center",
    "slideshow": {
     "slide_type": "fragment"
    }
   },
   "outputs": [
    {
     "data": {
      "text/plain": [
       "4-element Array{Bool,1}:\n",
       " false\n",
       " false\n",
       " false\n",
       "  true"
      ]
     },
     "execution_count": 65,
     "metadata": {},
     "output_type": "execute_result"
    }
   ],
   "source": [
    "map(foods) do food\n",
    "    return food ∈ foods_i_like\n",
    "end"
   ]
  },
  {
   "cell_type": "code",
   "execution_count": 66,
   "metadata": {
    "cell_style": "center",
    "slideshow": {
     "slide_type": "-"
    }
   },
   "outputs": [
    {
     "data": {
      "text/plain": [
       "1-element Array{String,1}:\n",
       " \"Starbucks\""
      ]
     },
     "execution_count": 66,
     "metadata": {},
     "output_type": "execute_result"
    }
   ],
   "source": [
    "filter(foods) do food\n",
    "    return food ∈ foods_i_like\n",
    "end"
   ]
  },
  {
   "cell_type": "code",
   "execution_count": 67,
   "metadata": {
    "slideshow": {
     "slide_type": "fragment"
    }
   },
   "outputs": [
    {
     "data": {
      "text/plain": [
       "4-element Array{Bool,1}:\n",
       " false\n",
       " false\n",
       " false\n",
       "  true"
      ]
     },
     "execution_count": 67,
     "metadata": {},
     "output_type": "execute_result"
    }
   ],
   "source": [
    "[food ∈ foods_i_like for food in foods]"
   ]
  },
  {
   "cell_type": "code",
   "execution_count": 68,
   "metadata": {
    "slideshow": {
     "slide_type": "-"
    }
   },
   "outputs": [
    {
     "data": {
      "text/plain": [
       "1-element Array{String,1}:\n",
       " \"Starbucks\""
      ]
     },
     "execution_count": 68,
     "metadata": {},
     "output_type": "execute_result"
    }
   ],
   "source": [
    "[food for food in foods if food ∈ foods_i_like]"
   ]
  },
  {
   "cell_type": "markdown",
   "metadata": {
    "slideshow": {
     "slide_type": "subslide"
    }
   },
   "source": [
    "A reason to do vectorisation is for code clarity over speed. Julia has a speedy way (both to code and to run) to do that, using syntactic loop fusion."
   ]
  },
  {
   "cell_type": "code",
   "execution_count": 69,
   "metadata": {
    "scrolled": true,
    "slideshow": {
     "slide_type": "fragment"
    }
   },
   "outputs": [
    {
     "data": {
      "text/plain": [
       "f (generic function with 1 method)"
      ]
     },
     "execution_count": 69,
     "metadata": {},
     "output_type": "execute_result"
    }
   ],
   "source": [
    "f(x) = 3x^2 + 5x + 2"
   ]
  },
  {
   "cell_type": "code",
   "execution_count": 147,
   "metadata": {
    "scrolled": true,
    "slideshow": {
     "slide_type": "fragment"
    }
   },
   "outputs": [
    {
     "name": "stdout",
     "output_type": "stream",
     "text": [
      "  0.000004 seconds (4 allocations: 160 bytes)\n"
     ]
    },
    {
     "data": {
      "text/plain": [
       "2.7665013801459013"
      ]
     },
     "execution_count": 147,
     "metadata": {},
     "output_type": "execute_result"
    }
   ],
   "source": [
    "X = collect(0.001:0.002:1.0)\n",
    "function manual_map!(X)\n",
    "    for i in eachindex(X)\n",
    "        X[i] = f(2X[i]^2 + 6X[i]^3 - sqrt(X[i]))\n",
    "    end\n",
    "end\n",
    "manual_map!(X) # First run to compile the function.\n",
    "@time manual_map!(X)\n",
    "sum(1 ./ X)"
   ]
  },
  {
   "cell_type": "code",
   "execution_count": 148,
   "metadata": {
    "scrolled": false,
    "slideshow": {
     "slide_type": "fragment"
    }
   },
   "outputs": [
    {
     "name": "stdout",
     "output_type": "stream",
     "text": [
      "  0.000004 seconds (4 allocations: 160 bytes)\n"
     ]
    },
    {
     "data": {
      "text/plain": [
       "2.7665013801459013"
      ]
     },
     "execution_count": 148,
     "metadata": {},
     "output_type": "execute_result"
    }
   ],
   "source": [
    "X = collect(0.001:0.002:1.0)\n",
    "function vec_map_1!(X)\n",
    "    X .= f.(2 .* X.^2 .+ 6 .* X.^3 .- sqrt.(X))\n",
    "    return\n",
    "end\n",
    "vec_map_1!(X) # First run to compile the function.\n",
    "@time vec_map_1!(X)\n",
    "sum(1 ./ X)"
   ]
  },
  {
   "cell_type": "code",
   "execution_count": 149,
   "metadata": {
    "slideshow": {
     "slide_type": "fragment"
    }
   },
   "outputs": [
    {
     "name": "stdout",
     "output_type": "stream",
     "text": [
      "  0.000004 seconds (4 allocations: 160 bytes)\n"
     ]
    },
    {
     "data": {
      "text/plain": [
       "2.7665013801459013"
      ]
     },
     "execution_count": 149,
     "metadata": {},
     "output_type": "execute_result"
    }
   ],
   "source": [
    "X = collect(0.001:0.002:1.0)\n",
    "function vec_map_2!(X)\n",
    "    @. X = f(2X^2 + 6X^3 - sqrt(X))\n",
    "    return\n",
    "end\n",
    "vec_map_2!(X) # First run to compile the function.\n",
    "@time vec_map_2!(X)\n",
    "sum(1 ./ X)"
   ]
  },
  {
   "cell_type": "code",
   "execution_count": 150,
   "metadata": {
    "slideshow": {
     "slide_type": "fragment"
    }
   },
   "outputs": [
    {
     "name": "stdout",
     "output_type": "stream",
     "text": [
      "  0.000004 seconds (4 allocations: 160 bytes)\n"
     ]
    },
    {
     "data": {
      "text/plain": [
       "2.7665013801459013"
      ]
     },
     "execution_count": 150,
     "metadata": {},
     "output_type": "execute_result"
    }
   ],
   "source": [
    "X = collect(0.001:0.002:1.0)\n",
    "h(x) = 2x^2 + 6x^3 - √x\n",
    "function vec_map_3!(X)\n",
    "    X .= ((f ∘ h).(X))\n",
    "    return\n",
    "end\n",
    "vec_map_3!(X) # First run to compile the function.\n",
    "@time vec_map_3!(X)\n",
    "sum(1 ./ X)"
   ]
  },
  {
   "cell_type": "markdown",
   "metadata": {
    "slideshow": {
     "slide_type": "subslide"
    }
   },
   "source": [
    "Plotting is straightforward using [PLots.jl](https://github.com/JuliaPlots/Plots.jl). We can choose which plotting backend (e.g. matplotlib, GR, PlotlyJS) to use due to Julia's reflection."
   ]
  },
  {
   "cell_type": "code",
   "execution_count": 74,
   "metadata": {
    "collapsed": true,
    "slideshow": {
     "slide_type": "fragment"
    }
   },
   "outputs": [],
   "source": [
    "data = readcsv(\"ex1data1.txt\");"
   ]
  },
  {
   "cell_type": "code",
   "execution_count": 105,
   "metadata": {
    "slideshow": {
     "slide_type": "fragment"
    }
   },
   "outputs": [
    {
     "data": {
      "text/html": [
       "<?xml version=\"1.0\" encoding=\"utf-8\"?>\n",
       "<svg xmlns=\"http://www.w3.org/2000/svg\" xmlns:xlink=\"http://www.w3.org/1999/xlink\" width=\"600\" height=\"400\" viewBox=\"0 0 600 400\">\n",
       "<defs>\n",
       "  <clipPath id=\"clip5900\">\n",
       "    <rect x=\"0\" y=\"0\" width=\"600\" height=\"400\"/>\n",
       "  </clipPath>\n",
       "</defs>\n",
       "<polygon clip-path=\"url(#clip5900)\" points=\"\n",
       "0,400 600,400 600,0 0,0 \n",
       "  \" fill=\"#ffffff\" fill-opacity=\"1\"/>\n",
       "<defs>\n",
       "  <clipPath id=\"clip5901\">\n",
       "    <rect x=\"120\" y=\"0\" width=\"421\" height=\"400\"/>\n",
       "  </clipPath>\n",
       "</defs>\n",
       "<polygon clip-path=\"url(#clip5900)\" points=\"\n",
       "28.9273,375.813 580.315,375.813 580.315,11.811 28.9273,11.811 \n",
       "  \" fill=\"#ffffff\" fill-opacity=\"1\"/>\n",
       "<defs>\n",
       "  <clipPath id=\"clip5902\">\n",
       "    <rect x=\"28\" y=\"11\" width=\"552\" height=\"365\"/>\n",
       "  </clipPath>\n",
       "</defs>\n",
       "<polyline clip-path=\"url(#clip5902)\" style=\"stroke:#000000; stroke-width:0.5; stroke-opacity:0.1; fill:none\" points=\"\n",
       "  43.7179,375.813 43.7179,11.811 \n",
       "  \"/>\n",
       "<polyline clip-path=\"url(#clip5902)\" style=\"stroke:#000000; stroke-width:0.5; stroke-opacity:0.1; fill:none\" points=\"\n",
       "  195.143,375.813 195.143,11.811 \n",
       "  \"/>\n",
       "<polyline clip-path=\"url(#clip5902)\" style=\"stroke:#000000; stroke-width:0.5; stroke-opacity:0.1; fill:none\" points=\"\n",
       "  346.567,375.813 346.567,11.811 \n",
       "  \"/>\n",
       "<polyline clip-path=\"url(#clip5902)\" style=\"stroke:#000000; stroke-width:0.5; stroke-opacity:0.1; fill:none\" points=\"\n",
       "  497.992,375.813 497.992,11.811 \n",
       "  \"/>\n",
       "<polyline clip-path=\"url(#clip5902)\" style=\"stroke:#000000; stroke-width:0.5; stroke-opacity:0.1; fill:none\" points=\"\n",
       "  28.9273,331.198 580.315,331.198 \n",
       "  \"/>\n",
       "<polyline clip-path=\"url(#clip5902)\" style=\"stroke:#000000; stroke-width:0.5; stroke-opacity:0.1; fill:none\" points=\"\n",
       "  28.9273,267.197 580.315,267.197 \n",
       "  \"/>\n",
       "<polyline clip-path=\"url(#clip5902)\" style=\"stroke:#000000; stroke-width:0.5; stroke-opacity:0.1; fill:none\" points=\"\n",
       "  28.9273,203.197 580.315,203.197 \n",
       "  \"/>\n",
       "<polyline clip-path=\"url(#clip5902)\" style=\"stroke:#000000; stroke-width:0.5; stroke-opacity:0.1; fill:none\" points=\"\n",
       "  28.9273,139.196 580.315,139.196 \n",
       "  \"/>\n",
       "<polyline clip-path=\"url(#clip5902)\" style=\"stroke:#000000; stroke-width:0.5; stroke-opacity:0.1; fill:none\" points=\"\n",
       "  28.9273,75.1952 580.315,75.1952 \n",
       "  \"/>\n",
       "<polyline clip-path=\"url(#clip5900)\" style=\"stroke:#000000; stroke-width:1; stroke-opacity:1; fill:none\" points=\"\n",
       "  28.9273,375.813 580.315,375.813 \n",
       "  \"/>\n",
       "<polyline clip-path=\"url(#clip5900)\" style=\"stroke:#000000; stroke-width:1; stroke-opacity:1; fill:none\" points=\"\n",
       "  28.9273,375.813 28.9273,11.811 \n",
       "  \"/>\n",
       "<polyline clip-path=\"url(#clip5900)\" style=\"stroke:#000000; stroke-width:1; stroke-opacity:1; fill:none\" points=\"\n",
       "  43.7179,375.813 43.7179,370.353 \n",
       "  \"/>\n",
       "<polyline clip-path=\"url(#clip5900)\" style=\"stroke:#000000; stroke-width:1; stroke-opacity:1; fill:none\" points=\"\n",
       "  195.143,375.813 195.143,370.353 \n",
       "  \"/>\n",
       "<polyline clip-path=\"url(#clip5900)\" style=\"stroke:#000000; stroke-width:1; stroke-opacity:1; fill:none\" points=\"\n",
       "  346.567,375.813 346.567,370.353 \n",
       "  \"/>\n",
       "<polyline clip-path=\"url(#clip5900)\" style=\"stroke:#000000; stroke-width:1; stroke-opacity:1; fill:none\" points=\"\n",
       "  497.992,375.813 497.992,370.353 \n",
       "  \"/>\n",
       "<polyline clip-path=\"url(#clip5900)\" style=\"stroke:#000000; stroke-width:1; stroke-opacity:1; fill:none\" points=\"\n",
       "  28.9273,331.198 37.1981,331.198 \n",
       "  \"/>\n",
       "<polyline clip-path=\"url(#clip5900)\" style=\"stroke:#000000; stroke-width:1; stroke-opacity:1; fill:none\" points=\"\n",
       "  28.9273,267.197 37.1981,267.197 \n",
       "  \"/>\n",
       "<polyline clip-path=\"url(#clip5900)\" style=\"stroke:#000000; stroke-width:1; stroke-opacity:1; fill:none\" points=\"\n",
       "  28.9273,203.197 37.1981,203.197 \n",
       "  \"/>\n",
       "<polyline clip-path=\"url(#clip5900)\" style=\"stroke:#000000; stroke-width:1; stroke-opacity:1; fill:none\" points=\"\n",
       "  28.9273,139.196 37.1981,139.196 \n",
       "  \"/>\n",
       "<polyline clip-path=\"url(#clip5900)\" style=\"stroke:#000000; stroke-width:1; stroke-opacity:1; fill:none\" points=\"\n",
       "  28.9273,75.1952 37.1981,75.1952 \n",
       "  \"/>\n",
       "<g clip-path=\"url(#clip5900)\">\n",
       "<text style=\"fill:#000000; fill-opacity:1; font-family:Arial,Helvetica Neue,Helvetica,sans-serif; font-size:12; text-anchor:middle;\" transform=\"rotate(0, 43.7179, 389.613)\" x=\"43.7179\" y=\"389.613\">5</text>\n",
       "</g>\n",
       "<g clip-path=\"url(#clip5900)\">\n",
       "<text style=\"fill:#000000; fill-opacity:1; font-family:Arial,Helvetica Neue,Helvetica,sans-serif; font-size:12; text-anchor:middle;\" transform=\"rotate(0, 195.143, 389.613)\" x=\"195.143\" y=\"389.613\">10</text>\n",
       "</g>\n",
       "<g clip-path=\"url(#clip5900)\">\n",
       "<text style=\"fill:#000000; fill-opacity:1; font-family:Arial,Helvetica Neue,Helvetica,sans-serif; font-size:12; text-anchor:middle;\" transform=\"rotate(0, 346.567, 389.613)\" x=\"346.567\" y=\"389.613\">15</text>\n",
       "</g>\n",
       "<g clip-path=\"url(#clip5900)\">\n",
       "<text style=\"fill:#000000; fill-opacity:1; font-family:Arial,Helvetica Neue,Helvetica,sans-serif; font-size:12; text-anchor:middle;\" transform=\"rotate(0, 497.992, 389.613)\" x=\"497.992\" y=\"389.613\">20</text>\n",
       "</g>\n",
       "<g clip-path=\"url(#clip5900)\">\n",
       "<text style=\"fill:#000000; fill-opacity:1; font-family:Arial,Helvetica Neue,Helvetica,sans-serif; font-size:12; text-anchor:end;\" transform=\"rotate(0, 22.9273, 335.698)\" x=\"22.9273\" y=\"335.698\">0</text>\n",
       "</g>\n",
       "<g clip-path=\"url(#clip5900)\">\n",
       "<text style=\"fill:#000000; fill-opacity:1; font-family:Arial,Helvetica Neue,Helvetica,sans-serif; font-size:12; text-anchor:end;\" transform=\"rotate(0, 22.9273, 271.697)\" x=\"22.9273\" y=\"271.697\">5</text>\n",
       "</g>\n",
       "<g clip-path=\"url(#clip5900)\">\n",
       "<text style=\"fill:#000000; fill-opacity:1; font-family:Arial,Helvetica Neue,Helvetica,sans-serif; font-size:12; text-anchor:end;\" transform=\"rotate(0, 22.9273, 207.697)\" x=\"22.9273\" y=\"207.697\">10</text>\n",
       "</g>\n",
       "<g clip-path=\"url(#clip5900)\">\n",
       "<text style=\"fill:#000000; fill-opacity:1; font-family:Arial,Helvetica Neue,Helvetica,sans-serif; font-size:12; text-anchor:end;\" transform=\"rotate(0, 22.9273, 143.696)\" x=\"22.9273\" y=\"143.696\">15</text>\n",
       "</g>\n",
       "<g clip-path=\"url(#clip5900)\">\n",
       "<text style=\"fill:#000000; fill-opacity:1; font-family:Arial,Helvetica Neue,Helvetica,sans-serif; font-size:12; text-anchor:end;\" transform=\"rotate(0, 22.9273, 79.6952)\" x=\"22.9273\" y=\"79.6952\">20</text>\n",
       "</g>\n",
       "<line clip-path=\"url(#clip5902)\" x1=\"77.3372\" y1=\"106.018\" x2=\"77.3372\" y2=\"111.018\" style=\"stroke:#000000; stroke-opacity:1\"/>\n",
       "<line clip-path=\"url(#clip5902)\" x1=\"77.3372\" y1=\"106.018\" x2=\"72.3372\" y2=\"106.018\" style=\"stroke:#000000; stroke-opacity:1\"/>\n",
       "<line clip-path=\"url(#clip5902)\" x1=\"77.3372\" y1=\"106.018\" x2=\"77.3372\" y2=\"101.018\" style=\"stroke:#000000; stroke-opacity:1\"/>\n",
       "<line clip-path=\"url(#clip5902)\" x1=\"77.3372\" y1=\"106.018\" x2=\"82.3372\" y2=\"106.018\" style=\"stroke:#000000; stroke-opacity:1\"/>\n",
       "<line clip-path=\"url(#clip5902)\" x1=\"77.3372\" y1=\"106.018\" x2=\"77.3372\" y2=\"110.018\" style=\"stroke:#ff0000; stroke-opacity:1\"/>\n",
       "<line clip-path=\"url(#clip5902)\" x1=\"77.3372\" y1=\"106.018\" x2=\"73.3372\" y2=\"106.018\" style=\"stroke:#ff0000; stroke-opacity:1\"/>\n",
       "<line clip-path=\"url(#clip5902)\" x1=\"77.3372\" y1=\"106.018\" x2=\"77.3372\" y2=\"102.018\" style=\"stroke:#ff0000; stroke-opacity:1\"/>\n",
       "<line clip-path=\"url(#clip5902)\" x1=\"77.3372\" y1=\"106.018\" x2=\"81.3372\" y2=\"106.018\" style=\"stroke:#ff0000; stroke-opacity:1\"/>\n",
       "<line clip-path=\"url(#clip5902)\" x1=\"59.6993\" y1=\"214.33\" x2=\"59.6993\" y2=\"219.33\" style=\"stroke:#000000; stroke-opacity:1\"/>\n",
       "<line clip-path=\"url(#clip5902)\" x1=\"59.6993\" y1=\"214.33\" x2=\"54.6993\" y2=\"214.33\" style=\"stroke:#000000; stroke-opacity:1\"/>\n",
       "<line clip-path=\"url(#clip5902)\" x1=\"59.6993\" y1=\"214.33\" x2=\"59.6993\" y2=\"209.33\" style=\"stroke:#000000; stroke-opacity:1\"/>\n",
       "<line clip-path=\"url(#clip5902)\" x1=\"59.6993\" y1=\"214.33\" x2=\"64.6993\" y2=\"214.33\" style=\"stroke:#000000; stroke-opacity:1\"/>\n",
       "<line clip-path=\"url(#clip5902)\" x1=\"59.6993\" y1=\"214.33\" x2=\"59.6993\" y2=\"218.33\" style=\"stroke:#ff0000; stroke-opacity:1\"/>\n",
       "<line clip-path=\"url(#clip5902)\" x1=\"59.6993\" y1=\"214.33\" x2=\"55.6993\" y2=\"214.33\" style=\"stroke:#ff0000; stroke-opacity:1\"/>\n",
       "<line clip-path=\"url(#clip5902)\" x1=\"59.6993\" y1=\"214.33\" x2=\"59.6993\" y2=\"210.33\" style=\"stroke:#ff0000; stroke-opacity:1\"/>\n",
       "<line clip-path=\"url(#clip5902)\" x1=\"59.6993\" y1=\"214.33\" x2=\"63.6993\" y2=\"214.33\" style=\"stroke:#ff0000; stroke-opacity:1\"/>\n",
       "<line clip-path=\"url(#clip5902)\" x1=\"150.279\" y1=\"156.323\" x2=\"150.279\" y2=\"161.323\" style=\"stroke:#000000; stroke-opacity:1\"/>\n",
       "<line clip-path=\"url(#clip5902)\" x1=\"150.279\" y1=\"156.323\" x2=\"145.279\" y2=\"156.323\" style=\"stroke:#000000; stroke-opacity:1\"/>\n",
       "<line clip-path=\"url(#clip5902)\" x1=\"150.279\" y1=\"156.323\" x2=\"150.279\" y2=\"151.323\" style=\"stroke:#000000; stroke-opacity:1\"/>\n",
       "<line clip-path=\"url(#clip5902)\" x1=\"150.279\" y1=\"156.323\" x2=\"155.279\" y2=\"156.323\" style=\"stroke:#000000; stroke-opacity:1\"/>\n",
       "<line clip-path=\"url(#clip5902)\" x1=\"150.279\" y1=\"156.323\" x2=\"150.279\" y2=\"160.323\" style=\"stroke:#ff0000; stroke-opacity:1\"/>\n",
       "<line clip-path=\"url(#clip5902)\" x1=\"150.279\" y1=\"156.323\" x2=\"146.279\" y2=\"156.323\" style=\"stroke:#ff0000; stroke-opacity:1\"/>\n",
       "<line clip-path=\"url(#clip5902)\" x1=\"150.279\" y1=\"156.323\" x2=\"150.279\" y2=\"152.323\" style=\"stroke:#ff0000; stroke-opacity:1\"/>\n",
       "<line clip-path=\"url(#clip5902)\" x1=\"150.279\" y1=\"156.323\" x2=\"154.279\" y2=\"156.323\" style=\"stroke:#ff0000; stroke-opacity:1\"/>\n",
       "<line clip-path=\"url(#clip5902)\" x1=\"104.385\" y1=\"179.465\" x2=\"104.385\" y2=\"184.465\" style=\"stroke:#000000; stroke-opacity:1\"/>\n",
       "<line clip-path=\"url(#clip5902)\" x1=\"104.385\" y1=\"179.465\" x2=\"99.3847\" y2=\"179.465\" style=\"stroke:#000000; stroke-opacity:1\"/>\n",
       "<line clip-path=\"url(#clip5902)\" x1=\"104.385\" y1=\"179.465\" x2=\"104.385\" y2=\"174.465\" style=\"stroke:#000000; stroke-opacity:1\"/>\n",
       "<line clip-path=\"url(#clip5902)\" x1=\"104.385\" y1=\"179.465\" x2=\"109.385\" y2=\"179.465\" style=\"stroke:#000000; stroke-opacity:1\"/>\n",
       "<line clip-path=\"url(#clip5902)\" x1=\"104.385\" y1=\"179.465\" x2=\"104.385\" y2=\"183.465\" style=\"stroke:#ff0000; stroke-opacity:1\"/>\n",
       "<line clip-path=\"url(#clip5902)\" x1=\"104.385\" y1=\"179.465\" x2=\"100.385\" y2=\"179.465\" style=\"stroke:#ff0000; stroke-opacity:1\"/>\n",
       "<line clip-path=\"url(#clip5902)\" x1=\"104.385\" y1=\"179.465\" x2=\"104.385\" y2=\"175.465\" style=\"stroke:#ff0000; stroke-opacity:1\"/>\n",
       "<line clip-path=\"url(#clip5902)\" x1=\"104.385\" y1=\"179.465\" x2=\"108.385\" y2=\"179.465\" style=\"stroke:#ff0000; stroke-opacity:1\"/>\n",
       "<line clip-path=\"url(#clip5902)\" x1=\"69.7569\" y1=\"243.859\" x2=\"69.7569\" y2=\"248.859\" style=\"stroke:#000000; stroke-opacity:1\"/>\n",
       "<line clip-path=\"url(#clip5902)\" x1=\"69.7569\" y1=\"243.859\" x2=\"64.7569\" y2=\"243.859\" style=\"stroke:#000000; stroke-opacity:1\"/>\n",
       "<line clip-path=\"url(#clip5902)\" x1=\"69.7569\" y1=\"243.859\" x2=\"69.7569\" y2=\"238.859\" style=\"stroke:#000000; stroke-opacity:1\"/>\n",
       "<line clip-path=\"url(#clip5902)\" x1=\"69.7569\" y1=\"243.859\" x2=\"74.7569\" y2=\"243.859\" style=\"stroke:#000000; stroke-opacity:1\"/>\n",
       "<line clip-path=\"url(#clip5902)\" x1=\"69.7569\" y1=\"243.859\" x2=\"69.7569\" y2=\"247.859\" style=\"stroke:#ff0000; stroke-opacity:1\"/>\n",
       "<line clip-path=\"url(#clip5902)\" x1=\"69.7569\" y1=\"243.859\" x2=\"65.7569\" y2=\"243.859\" style=\"stroke:#ff0000; stroke-opacity:1\"/>\n",
       "<line clip-path=\"url(#clip5902)\" x1=\"69.7569\" y1=\"243.859\" x2=\"69.7569\" y2=\"239.859\" style=\"stroke:#ff0000; stroke-opacity:1\"/>\n",
       "<line clip-path=\"url(#clip5902)\" x1=\"69.7569\" y1=\"243.859\" x2=\"73.7569\" y2=\"243.859\" style=\"stroke:#ff0000; stroke-opacity:1\"/>\n",
       "<line clip-path=\"url(#clip5902)\" x1=\"146.169\" y1=\"179.056\" x2=\"146.169\" y2=\"184.056\" style=\"stroke:#000000; stroke-opacity:1\"/>\n",
       "<line clip-path=\"url(#clip5902)\" x1=\"146.169\" y1=\"179.056\" x2=\"141.169\" y2=\"179.056\" style=\"stroke:#000000; stroke-opacity:1\"/>\n",
       "<line clip-path=\"url(#clip5902)\" x1=\"146.169\" y1=\"179.056\" x2=\"146.169\" y2=\"174.056\" style=\"stroke:#000000; stroke-opacity:1\"/>\n",
       "<line clip-path=\"url(#clip5902)\" x1=\"146.169\" y1=\"179.056\" x2=\"151.169\" y2=\"179.056\" style=\"stroke:#000000; stroke-opacity:1\"/>\n",
       "<line clip-path=\"url(#clip5902)\" x1=\"146.169\" y1=\"179.056\" x2=\"146.169\" y2=\"183.056\" style=\"stroke:#ff0000; stroke-opacity:1\"/>\n",
       "<line clip-path=\"url(#clip5902)\" x1=\"146.169\" y1=\"179.056\" x2=\"142.169\" y2=\"179.056\" style=\"stroke:#ff0000; stroke-opacity:1\"/>\n",
       "<line clip-path=\"url(#clip5902)\" x1=\"146.169\" y1=\"179.056\" x2=\"146.169\" y2=\"175.056\" style=\"stroke:#ff0000; stroke-opacity:1\"/>\n",
       "<line clip-path=\"url(#clip5902)\" x1=\"146.169\" y1=\"179.056\" x2=\"150.169\" y2=\"179.056\" style=\"stroke:#ff0000; stroke-opacity:1\"/>\n",
       "<line clip-path=\"url(#clip5902)\" x1=\"118.716\" y1=\"275.539\" x2=\"118.716\" y2=\"280.539\" style=\"stroke:#000000; stroke-opacity:1\"/>\n",
       "<line clip-path=\"url(#clip5902)\" x1=\"118.716\" y1=\"275.539\" x2=\"113.716\" y2=\"275.539\" style=\"stroke:#000000; stroke-opacity:1\"/>\n",
       "<line clip-path=\"url(#clip5902)\" x1=\"118.716\" y1=\"275.539\" x2=\"118.716\" y2=\"270.539\" style=\"stroke:#000000; stroke-opacity:1\"/>\n",
       "<line clip-path=\"url(#clip5902)\" x1=\"118.716\" y1=\"275.539\" x2=\"123.716\" y2=\"275.539\" style=\"stroke:#000000; stroke-opacity:1\"/>\n",
       "<line clip-path=\"url(#clip5902)\" x1=\"118.716\" y1=\"275.539\" x2=\"118.716\" y2=\"279.539\" style=\"stroke:#ff0000; stroke-opacity:1\"/>\n",
       "<line clip-path=\"url(#clip5902)\" x1=\"118.716\" y1=\"275.539\" x2=\"114.716\" y2=\"275.539\" style=\"stroke:#ff0000; stroke-opacity:1\"/>\n",
       "<line clip-path=\"url(#clip5902)\" x1=\"118.716\" y1=\"275.539\" x2=\"118.716\" y2=\"271.539\" style=\"stroke:#ff0000; stroke-opacity:1\"/>\n",
       "<line clip-path=\"url(#clip5902)\" x1=\"118.716\" y1=\"275.539\" x2=\"122.716\" y2=\"275.539\" style=\"stroke:#ff0000; stroke-opacity:1\"/>\n",
       "<line clip-path=\"url(#clip5902)\" x1=\"152.08\" y1=\"177.596\" x2=\"152.08\" y2=\"182.596\" style=\"stroke:#000000; stroke-opacity:1\"/>\n",
       "<line clip-path=\"url(#clip5902)\" x1=\"152.08\" y1=\"177.596\" x2=\"147.08\" y2=\"177.596\" style=\"stroke:#000000; stroke-opacity:1\"/>\n",
       "<line clip-path=\"url(#clip5902)\" x1=\"152.08\" y1=\"177.596\" x2=\"152.08\" y2=\"172.596\" style=\"stroke:#000000; stroke-opacity:1\"/>\n",
       "<line clip-path=\"url(#clip5902)\" x1=\"152.08\" y1=\"177.596\" x2=\"157.08\" y2=\"177.596\" style=\"stroke:#000000; stroke-opacity:1\"/>\n",
       "<line clip-path=\"url(#clip5902)\" x1=\"152.08\" y1=\"177.596\" x2=\"152.08\" y2=\"181.596\" style=\"stroke:#ff0000; stroke-opacity:1\"/>\n",
       "<line clip-path=\"url(#clip5902)\" x1=\"152.08\" y1=\"177.596\" x2=\"148.08\" y2=\"177.596\" style=\"stroke:#ff0000; stroke-opacity:1\"/>\n",
       "<line clip-path=\"url(#clip5902)\" x1=\"152.08\" y1=\"177.596\" x2=\"152.08\" y2=\"173.596\" style=\"stroke:#ff0000; stroke-opacity:1\"/>\n",
       "<line clip-path=\"url(#clip5902)\" x1=\"152.08\" y1=\"177.596\" x2=\"156.08\" y2=\"177.596\" style=\"stroke:#ff0000; stroke-opacity:1\"/>\n",
       "<line clip-path=\"url(#clip5902)\" x1=\"88.7274\" y1=\"246.734\" x2=\"88.7274\" y2=\"251.734\" style=\"stroke:#000000; stroke-opacity:1\"/>\n",
       "<line clip-path=\"url(#clip5902)\" x1=\"88.7274\" y1=\"246.734\" x2=\"83.7274\" y2=\"246.734\" style=\"stroke:#000000; stroke-opacity:1\"/>\n",
       "<line clip-path=\"url(#clip5902)\" x1=\"88.7274\" y1=\"246.734\" x2=\"88.7274\" y2=\"241.734\" style=\"stroke:#000000; stroke-opacity:1\"/>\n",
       "<line clip-path=\"url(#clip5902)\" x1=\"88.7274\" y1=\"246.734\" x2=\"93.7274\" y2=\"246.734\" style=\"stroke:#000000; stroke-opacity:1\"/>\n",
       "<line clip-path=\"url(#clip5902)\" x1=\"88.7274\" y1=\"246.734\" x2=\"88.7274\" y2=\"250.734\" style=\"stroke:#ff0000; stroke-opacity:1\"/>\n",
       "<line clip-path=\"url(#clip5902)\" x1=\"88.7274\" y1=\"246.734\" x2=\"84.7274\" y2=\"246.734\" style=\"stroke:#ff0000; stroke-opacity:1\"/>\n",
       "<line clip-path=\"url(#clip5902)\" x1=\"88.7274\" y1=\"246.734\" x2=\"88.7274\" y2=\"242.734\" style=\"stroke:#ff0000; stroke-opacity:1\"/>\n",
       "<line clip-path=\"url(#clip5902)\" x1=\"88.7274\" y1=\"246.734\" x2=\"92.7274\" y2=\"246.734\" style=\"stroke:#ff0000; stroke-opacity:1\"/>\n",
       "<line clip-path=\"url(#clip5902)\" x1=\"45.3715\" y1=\"282.345\" x2=\"45.3715\" y2=\"287.345\" style=\"stroke:#000000; stroke-opacity:1\"/>\n",
       "<line clip-path=\"url(#clip5902)\" x1=\"45.3715\" y1=\"282.345\" x2=\"40.3715\" y2=\"282.345\" style=\"stroke:#000000; stroke-opacity:1\"/>\n",
       "<line clip-path=\"url(#clip5902)\" x1=\"45.3715\" y1=\"282.345\" x2=\"45.3715\" y2=\"277.345\" style=\"stroke:#000000; stroke-opacity:1\"/>\n",
       "<line clip-path=\"url(#clip5902)\" x1=\"45.3715\" y1=\"282.345\" x2=\"50.3715\" y2=\"282.345\" style=\"stroke:#000000; stroke-opacity:1\"/>\n",
       "<line clip-path=\"url(#clip5902)\" x1=\"45.3715\" y1=\"282.345\" x2=\"45.3715\" y2=\"286.345\" style=\"stroke:#ff0000; stroke-opacity:1\"/>\n",
       "<line clip-path=\"url(#clip5902)\" x1=\"45.3715\" y1=\"282.345\" x2=\"41.3715\" y2=\"282.345\" style=\"stroke:#ff0000; stroke-opacity:1\"/>\n",
       "<line clip-path=\"url(#clip5902)\" x1=\"45.3715\" y1=\"282.345\" x2=\"45.3715\" y2=\"278.345\" style=\"stroke:#ff0000; stroke-opacity:1\"/>\n",
       "<line clip-path=\"url(#clip5902)\" x1=\"45.3715\" y1=\"282.345\" x2=\"49.3715\" y2=\"282.345\" style=\"stroke:#ff0000; stroke-opacity:1\"/>\n",
       "<line clip-path=\"url(#clip5902)\" x1=\"65.2414\" y1=\"289.569\" x2=\"65.2414\" y2=\"294.569\" style=\"stroke:#000000; stroke-opacity:1\"/>\n",
       "<line clip-path=\"url(#clip5902)\" x1=\"65.2414\" y1=\"289.569\" x2=\"60.2414\" y2=\"289.569\" style=\"stroke:#000000; stroke-opacity:1\"/>\n",
       "<line clip-path=\"url(#clip5902)\" x1=\"65.2414\" y1=\"289.569\" x2=\"65.2414\" y2=\"284.569\" style=\"stroke:#000000; stroke-opacity:1\"/>\n",
       "<line clip-path=\"url(#clip5902)\" x1=\"65.2414\" y1=\"289.569\" x2=\"70.2414\" y2=\"289.569\" style=\"stroke:#000000; stroke-opacity:1\"/>\n",
       "<line clip-path=\"url(#clip5902)\" x1=\"65.2414\" y1=\"289.569\" x2=\"65.2414\" y2=\"293.569\" style=\"stroke:#ff0000; stroke-opacity:1\"/>\n",
       "<line clip-path=\"url(#clip5902)\" x1=\"65.2414\" y1=\"289.569\" x2=\"61.2414\" y2=\"289.569\" style=\"stroke:#ff0000; stroke-opacity:1\"/>\n",
       "<line clip-path=\"url(#clip5902)\" x1=\"65.2414\" y1=\"289.569\" x2=\"65.2414\" y2=\"285.569\" style=\"stroke:#ff0000; stroke-opacity:1\"/>\n",
       "<line clip-path=\"url(#clip5902)\" x1=\"65.2414\" y1=\"289.569\" x2=\"69.2414\" y2=\"289.569\" style=\"stroke:#ff0000; stroke-opacity:1\"/>\n",
       "<line clip-path=\"url(#clip5902)\" x1=\"321.249\" y1=\"132.732\" x2=\"321.249\" y2=\"137.732\" style=\"stroke:#000000; stroke-opacity:1\"/>\n",
       "<line clip-path=\"url(#clip5902)\" x1=\"321.249\" y1=\"132.732\" x2=\"316.249\" y2=\"132.732\" style=\"stroke:#000000; stroke-opacity:1\"/>\n",
       "<line clip-path=\"url(#clip5902)\" x1=\"321.249\" y1=\"132.732\" x2=\"321.249\" y2=\"127.732\" style=\"stroke:#000000; stroke-opacity:1\"/>\n",
       "<line clip-path=\"url(#clip5902)\" x1=\"321.249\" y1=\"132.732\" x2=\"326.249\" y2=\"132.732\" style=\"stroke:#000000; stroke-opacity:1\"/>\n",
       "<line clip-path=\"url(#clip5902)\" x1=\"321.249\" y1=\"132.732\" x2=\"321.249\" y2=\"136.732\" style=\"stroke:#ff0000; stroke-opacity:1\"/>\n",
       "<line clip-path=\"url(#clip5902)\" x1=\"321.249\" y1=\"132.732\" x2=\"317.249\" y2=\"132.732\" style=\"stroke:#ff0000; stroke-opacity:1\"/>\n",
       "<line clip-path=\"url(#clip5902)\" x1=\"321.249\" y1=\"132.732\" x2=\"321.249\" y2=\"128.732\" style=\"stroke:#ff0000; stroke-opacity:1\"/>\n",
       "<line clip-path=\"url(#clip5902)\" x1=\"321.249\" y1=\"132.732\" x2=\"325.249\" y2=\"132.732\" style=\"stroke:#ff0000; stroke-opacity:1\"/>\n",
       "<line clip-path=\"url(#clip5902)\" x1=\"65.9471\" y1=\"290.812\" x2=\"65.9471\" y2=\"295.812\" style=\"stroke:#000000; stroke-opacity:1\"/>\n",
       "<line clip-path=\"url(#clip5902)\" x1=\"65.9471\" y1=\"290.812\" x2=\"60.9471\" y2=\"290.812\" style=\"stroke:#000000; stroke-opacity:1\"/>\n",
       "<line clip-path=\"url(#clip5902)\" x1=\"65.9471\" y1=\"290.812\" x2=\"65.9471\" y2=\"285.812\" style=\"stroke:#000000; stroke-opacity:1\"/>\n",
       "<line clip-path=\"url(#clip5902)\" x1=\"65.9471\" y1=\"290.812\" x2=\"70.9471\" y2=\"290.812\" style=\"stroke:#000000; stroke-opacity:1\"/>\n",
       "<line clip-path=\"url(#clip5902)\" x1=\"65.9471\" y1=\"290.812\" x2=\"65.9471\" y2=\"294.812\" style=\"stroke:#ff0000; stroke-opacity:1\"/>\n",
       "<line clip-path=\"url(#clip5902)\" x1=\"65.9471\" y1=\"290.812\" x2=\"61.9471\" y2=\"290.812\" style=\"stroke:#ff0000; stroke-opacity:1\"/>\n",
       "<line clip-path=\"url(#clip5902)\" x1=\"65.9471\" y1=\"290.812\" x2=\"65.9471\" y2=\"286.812\" style=\"stroke:#ff0000; stroke-opacity:1\"/>\n",
       "<line clip-path=\"url(#clip5902)\" x1=\"65.9471\" y1=\"290.812\" x2=\"69.9471\" y2=\"290.812\" style=\"stroke:#ff0000; stroke-opacity:1\"/>\n",
       "<line clip-path=\"url(#clip5902)\" x1=\"146.941\" y1=\"238.707\" x2=\"146.941\" y2=\"243.707\" style=\"stroke:#000000; stroke-opacity:1\"/>\n",
       "<line clip-path=\"url(#clip5902)\" x1=\"146.941\" y1=\"238.707\" x2=\"141.941\" y2=\"238.707\" style=\"stroke:#000000; stroke-opacity:1\"/>\n",
       "<line clip-path=\"url(#clip5902)\" x1=\"146.941\" y1=\"238.707\" x2=\"146.941\" y2=\"233.707\" style=\"stroke:#000000; stroke-opacity:1\"/>\n",
       "<line clip-path=\"url(#clip5902)\" x1=\"146.941\" y1=\"238.707\" x2=\"151.941\" y2=\"238.707\" style=\"stroke:#000000; stroke-opacity:1\"/>\n",
       "<line clip-path=\"url(#clip5902)\" x1=\"146.941\" y1=\"238.707\" x2=\"146.941\" y2=\"242.707\" style=\"stroke:#ff0000; stroke-opacity:1\"/>\n",
       "<line clip-path=\"url(#clip5902)\" x1=\"146.941\" y1=\"238.707\" x2=\"142.941\" y2=\"238.707\" style=\"stroke:#ff0000; stroke-opacity:1\"/>\n",
       "<line clip-path=\"url(#clip5902)\" x1=\"146.941\" y1=\"238.707\" x2=\"146.941\" y2=\"234.707\" style=\"stroke:#ff0000; stroke-opacity:1\"/>\n",
       "<line clip-path=\"url(#clip5902)\" x1=\"146.941\" y1=\"238.707\" x2=\"150.941\" y2=\"238.707\" style=\"stroke:#ff0000; stroke-opacity:1\"/>\n",
       "<line clip-path=\"url(#clip5902)\" x1=\"63.1215\" y1=\"322.031\" x2=\"63.1215\" y2=\"327.031\" style=\"stroke:#000000; stroke-opacity:1\"/>\n",
       "<line clip-path=\"url(#clip5902)\" x1=\"63.1215\" y1=\"322.031\" x2=\"58.1215\" y2=\"322.031\" style=\"stroke:#000000; stroke-opacity:1\"/>\n",
       "<line clip-path=\"url(#clip5902)\" x1=\"63.1215\" y1=\"322.031\" x2=\"63.1215\" y2=\"317.031\" style=\"stroke:#000000; stroke-opacity:1\"/>\n",
       "<line clip-path=\"url(#clip5902)\" x1=\"63.1215\" y1=\"322.031\" x2=\"68.1215\" y2=\"322.031\" style=\"stroke:#000000; stroke-opacity:1\"/>\n",
       "<line clip-path=\"url(#clip5902)\" x1=\"63.1215\" y1=\"322.031\" x2=\"63.1215\" y2=\"326.031\" style=\"stroke:#ff0000; stroke-opacity:1\"/>\n",
       "<line clip-path=\"url(#clip5902)\" x1=\"63.1215\" y1=\"322.031\" x2=\"59.1215\" y2=\"322.031\" style=\"stroke:#ff0000; stroke-opacity:1\"/>\n",
       "<line clip-path=\"url(#clip5902)\" x1=\"63.1215\" y1=\"322.031\" x2=\"63.1215\" y2=\"318.031\" style=\"stroke:#ff0000; stroke-opacity:1\"/>\n",
       "<line clip-path=\"url(#clip5902)\" x1=\"63.1215\" y1=\"322.031\" x2=\"67.1215\" y2=\"322.031\" style=\"stroke:#ff0000; stroke-opacity:1\"/>\n",
       "<line clip-path=\"url(#clip5902)\" x1=\"55.208\" y1=\"286.233\" x2=\"55.208\" y2=\"291.233\" style=\"stroke:#000000; stroke-opacity:1\"/>\n",
       "<line clip-path=\"url(#clip5902)\" x1=\"55.208\" y1=\"286.233\" x2=\"50.208\" y2=\"286.233\" style=\"stroke:#000000; stroke-opacity:1\"/>\n",
       "<line clip-path=\"url(#clip5902)\" x1=\"55.208\" y1=\"286.233\" x2=\"55.208\" y2=\"281.233\" style=\"stroke:#000000; stroke-opacity:1\"/>\n",
       "<line clip-path=\"url(#clip5902)\" x1=\"55.208\" y1=\"286.233\" x2=\"60.208\" y2=\"286.233\" style=\"stroke:#000000; stroke-opacity:1\"/>\n",
       "<line clip-path=\"url(#clip5902)\" x1=\"55.208\" y1=\"286.233\" x2=\"55.208\" y2=\"290.233\" style=\"stroke:#ff0000; stroke-opacity:1\"/>\n",
       "<line clip-path=\"url(#clip5902)\" x1=\"55.208\" y1=\"286.233\" x2=\"51.208\" y2=\"286.233\" style=\"stroke:#ff0000; stroke-opacity:1\"/>\n",
       "<line clip-path=\"url(#clip5902)\" x1=\"55.208\" y1=\"286.233\" x2=\"55.208\" y2=\"282.233\" style=\"stroke:#ff0000; stroke-opacity:1\"/>\n",
       "<line clip-path=\"url(#clip5902)\" x1=\"55.208\" y1=\"286.233\" x2=\"59.208\" y2=\"286.233\" style=\"stroke:#ff0000; stroke-opacity:1\"/>\n",
       "<line clip-path=\"url(#clip5902)\" x1=\"85.069\" y1=\"263.296\" x2=\"85.069\" y2=\"268.296\" style=\"stroke:#000000; stroke-opacity:1\"/>\n",
       "<line clip-path=\"url(#clip5902)\" x1=\"85.069\" y1=\"263.296\" x2=\"80.069\" y2=\"263.296\" style=\"stroke:#000000; stroke-opacity:1\"/>\n",
       "<line clip-path=\"url(#clip5902)\" x1=\"85.069\" y1=\"263.296\" x2=\"85.069\" y2=\"258.296\" style=\"stroke:#000000; stroke-opacity:1\"/>\n",
       "<line clip-path=\"url(#clip5902)\" x1=\"85.069\" y1=\"263.296\" x2=\"90.069\" y2=\"263.296\" style=\"stroke:#000000; stroke-opacity:1\"/>\n",
       "<line clip-path=\"url(#clip5902)\" x1=\"85.069\" y1=\"263.296\" x2=\"85.069\" y2=\"267.296\" style=\"stroke:#ff0000; stroke-opacity:1\"/>\n",
       "<line clip-path=\"url(#clip5902)\" x1=\"85.069\" y1=\"263.296\" x2=\"81.069\" y2=\"263.296\" style=\"stroke:#ff0000; stroke-opacity:1\"/>\n",
       "<line clip-path=\"url(#clip5902)\" x1=\"85.069\" y1=\"263.296\" x2=\"85.069\" y2=\"259.296\" style=\"stroke:#ff0000; stroke-opacity:1\"/>\n",
       "<line clip-path=\"url(#clip5902)\" x1=\"85.069\" y1=\"263.296\" x2=\"89.069\" y2=\"263.296\" style=\"stroke:#ff0000; stroke-opacity:1\"/>\n",
       "<line clip-path=\"url(#clip5902)\" x1=\"47.658\" y1=\"324.02\" x2=\"47.658\" y2=\"329.02\" style=\"stroke:#000000; stroke-opacity:1\"/>\n",
       "<line clip-path=\"url(#clip5902)\" x1=\"47.658\" y1=\"324.02\" x2=\"42.658\" y2=\"324.02\" style=\"stroke:#000000; stroke-opacity:1\"/>\n",
       "<line clip-path=\"url(#clip5902)\" x1=\"47.658\" y1=\"324.02\" x2=\"47.658\" y2=\"319.02\" style=\"stroke:#000000; stroke-opacity:1\"/>\n",
       "<line clip-path=\"url(#clip5902)\" x1=\"47.658\" y1=\"324.02\" x2=\"52.658\" y2=\"324.02\" style=\"stroke:#000000; stroke-opacity:1\"/>\n",
       "<line clip-path=\"url(#clip5902)\" x1=\"47.658\" y1=\"324.02\" x2=\"47.658\" y2=\"328.02\" style=\"stroke:#ff0000; stroke-opacity:1\"/>\n",
       "<line clip-path=\"url(#clip5902)\" x1=\"47.658\" y1=\"324.02\" x2=\"43.658\" y2=\"324.02\" style=\"stroke:#ff0000; stroke-opacity:1\"/>\n",
       "<line clip-path=\"url(#clip5902)\" x1=\"47.658\" y1=\"324.02\" x2=\"47.658\" y2=\"320.02\" style=\"stroke:#ff0000; stroke-opacity:1\"/>\n",
       "<line clip-path=\"url(#clip5902)\" x1=\"47.658\" y1=\"324.02\" x2=\"51.658\" y2=\"324.02\" style=\"stroke:#ff0000; stroke-opacity:1\"/>\n",
       "<line clip-path=\"url(#clip5902)\" x1=\"87.0133\" y1=\"284.455\" x2=\"87.0133\" y2=\"289.455\" style=\"stroke:#000000; stroke-opacity:1\"/>\n",
       "<line clip-path=\"url(#clip5902)\" x1=\"87.0133\" y1=\"284.455\" x2=\"82.0133\" y2=\"284.455\" style=\"stroke:#000000; stroke-opacity:1\"/>\n",
       "<line clip-path=\"url(#clip5902)\" x1=\"87.0133\" y1=\"284.455\" x2=\"87.0133\" y2=\"279.455\" style=\"stroke:#000000; stroke-opacity:1\"/>\n",
       "<line clip-path=\"url(#clip5902)\" x1=\"87.0133\" y1=\"284.455\" x2=\"92.0133\" y2=\"284.455\" style=\"stroke:#000000; stroke-opacity:1\"/>\n",
       "<line clip-path=\"url(#clip5902)\" x1=\"87.0133\" y1=\"284.455\" x2=\"87.0133\" y2=\"288.455\" style=\"stroke:#ff0000; stroke-opacity:1\"/>\n",
       "<line clip-path=\"url(#clip5902)\" x1=\"87.0133\" y1=\"284.455\" x2=\"83.0133\" y2=\"284.455\" style=\"stroke:#ff0000; stroke-opacity:1\"/>\n",
       "<line clip-path=\"url(#clip5902)\" x1=\"87.0133\" y1=\"284.455\" x2=\"87.0133\" y2=\"280.455\" style=\"stroke:#ff0000; stroke-opacity:1\"/>\n",
       "<line clip-path=\"url(#clip5902)\" x1=\"87.0133\" y1=\"284.455\" x2=\"91.0133\" y2=\"284.455\" style=\"stroke:#ff0000; stroke-opacity:1\"/>\n",
       "<line clip-path=\"url(#clip5902)\" x1=\"106.432\" y1=\"262.214\" x2=\"106.432\" y2=\"267.214\" style=\"stroke:#000000; stroke-opacity:1\"/>\n",
       "<line clip-path=\"url(#clip5902)\" x1=\"106.432\" y1=\"262.214\" x2=\"101.432\" y2=\"262.214\" style=\"stroke:#000000; stroke-opacity:1\"/>\n",
       "<line clip-path=\"url(#clip5902)\" x1=\"106.432\" y1=\"262.214\" x2=\"106.432\" y2=\"257.214\" style=\"stroke:#000000; stroke-opacity:1\"/>\n",
       "<line clip-path=\"url(#clip5902)\" x1=\"106.432\" y1=\"262.214\" x2=\"111.432\" y2=\"262.214\" style=\"stroke:#000000; stroke-opacity:1\"/>\n",
       "<line clip-path=\"url(#clip5902)\" x1=\"106.432\" y1=\"262.214\" x2=\"106.432\" y2=\"266.214\" style=\"stroke:#ff0000; stroke-opacity:1\"/>\n",
       "<line clip-path=\"url(#clip5902)\" x1=\"106.432\" y1=\"262.214\" x2=\"102.432\" y2=\"262.214\" style=\"stroke:#ff0000; stroke-opacity:1\"/>\n",
       "<line clip-path=\"url(#clip5902)\" x1=\"106.432\" y1=\"262.214\" x2=\"106.432\" y2=\"258.214\" style=\"stroke:#ff0000; stroke-opacity:1\"/>\n",
       "<line clip-path=\"url(#clip5902)\" x1=\"106.432\" y1=\"262.214\" x2=\"110.432\" y2=\"262.214\" style=\"stroke:#ff0000; stroke-opacity:1\"/>\n",
       "<line clip-path=\"url(#clip5902)\" x1=\"79.7298\" y1=\"291.024\" x2=\"79.7298\" y2=\"296.024\" style=\"stroke:#000000; stroke-opacity:1\"/>\n",
       "<line clip-path=\"url(#clip5902)\" x1=\"79.7298\" y1=\"291.024\" x2=\"74.7298\" y2=\"291.024\" style=\"stroke:#000000; stroke-opacity:1\"/>\n",
       "<line clip-path=\"url(#clip5902)\" x1=\"79.7298\" y1=\"291.024\" x2=\"79.7298\" y2=\"286.024\" style=\"stroke:#000000; stroke-opacity:1\"/>\n",
       "<line clip-path=\"url(#clip5902)\" x1=\"79.7298\" y1=\"291.024\" x2=\"84.7298\" y2=\"291.024\" style=\"stroke:#000000; stroke-opacity:1\"/>\n",
       "<line clip-path=\"url(#clip5902)\" x1=\"79.7298\" y1=\"291.024\" x2=\"79.7298\" y2=\"295.024\" style=\"stroke:#ff0000; stroke-opacity:1\"/>\n",
       "<line clip-path=\"url(#clip5902)\" x1=\"79.7298\" y1=\"291.024\" x2=\"75.7298\" y2=\"291.024\" style=\"stroke:#ff0000; stroke-opacity:1\"/>\n",
       "<line clip-path=\"url(#clip5902)\" x1=\"79.7298\" y1=\"291.024\" x2=\"79.7298\" y2=\"287.024\" style=\"stroke:#ff0000; stroke-opacity:1\"/>\n",
       "<line clip-path=\"url(#clip5902)\" x1=\"79.7298\" y1=\"291.024\" x2=\"83.7298\" y2=\"291.024\" style=\"stroke:#ff0000; stroke-opacity:1\"/>\n",
       "<line clip-path=\"url(#clip5902)\" x1=\"506.169\" y1=\"52.5773\" x2=\"506.169\" y2=\"57.5773\" style=\"stroke:#000000; stroke-opacity:1\"/>\n",
       "<line clip-path=\"url(#clip5902)\" x1=\"506.169\" y1=\"52.5773\" x2=\"501.169\" y2=\"52.5773\" style=\"stroke:#000000; stroke-opacity:1\"/>\n",
       "<line clip-path=\"url(#clip5902)\" x1=\"506.169\" y1=\"52.5773\" x2=\"506.169\" y2=\"47.5773\" style=\"stroke:#000000; stroke-opacity:1\"/>\n",
       "<line clip-path=\"url(#clip5902)\" x1=\"506.169\" y1=\"52.5773\" x2=\"511.169\" y2=\"52.5773\" style=\"stroke:#000000; stroke-opacity:1\"/>\n",
       "<line clip-path=\"url(#clip5902)\" x1=\"506.169\" y1=\"52.5773\" x2=\"506.169\" y2=\"56.5773\" style=\"stroke:#ff0000; stroke-opacity:1\"/>\n",
       "<line clip-path=\"url(#clip5902)\" x1=\"506.169\" y1=\"52.5773\" x2=\"502.169\" y2=\"52.5773\" style=\"stroke:#ff0000; stroke-opacity:1\"/>\n",
       "<line clip-path=\"url(#clip5902)\" x1=\"506.169\" y1=\"52.5773\" x2=\"506.169\" y2=\"48.5773\" style=\"stroke:#ff0000; stroke-opacity:1\"/>\n",
       "<line clip-path=\"url(#clip5902)\" x1=\"506.169\" y1=\"52.5773\" x2=\"510.169\" y2=\"52.5773\" style=\"stroke:#ff0000; stroke-opacity:1\"/>\n",
       "<line clip-path=\"url(#clip5902)\" x1=\"58.5606\" y1=\"276.631\" x2=\"58.5606\" y2=\"281.631\" style=\"stroke:#000000; stroke-opacity:1\"/>\n",
       "<line clip-path=\"url(#clip5902)\" x1=\"58.5606\" y1=\"276.631\" x2=\"53.5606\" y2=\"276.631\" style=\"stroke:#000000; stroke-opacity:1\"/>\n",
       "<line clip-path=\"url(#clip5902)\" x1=\"58.5606\" y1=\"276.631\" x2=\"58.5606\" y2=\"271.631\" style=\"stroke:#000000; stroke-opacity:1\"/>\n",
       "<line clip-path=\"url(#clip5902)\" x1=\"58.5606\" y1=\"276.631\" x2=\"63.5606\" y2=\"276.631\" style=\"stroke:#000000; stroke-opacity:1\"/>\n",
       "<line clip-path=\"url(#clip5902)\" x1=\"58.5606\" y1=\"276.631\" x2=\"58.5606\" y2=\"280.631\" style=\"stroke:#ff0000; stroke-opacity:1\"/>\n",
       "<line clip-path=\"url(#clip5902)\" x1=\"58.5606\" y1=\"276.631\" x2=\"54.5606\" y2=\"276.631\" style=\"stroke:#ff0000; stroke-opacity:1\"/>\n",
       "<line clip-path=\"url(#clip5902)\" x1=\"58.5606\" y1=\"276.631\" x2=\"58.5606\" y2=\"272.631\" style=\"stroke:#ff0000; stroke-opacity:1\"/>\n",
       "<line clip-path=\"url(#clip5902)\" x1=\"58.5606\" y1=\"276.631\" x2=\"62.5606\" y2=\"276.631\" style=\"stroke:#ff0000; stroke-opacity:1\"/>\n",
       "<line clip-path=\"url(#clip5902)\" x1=\"83.8788\" y1=\"264.797\" x2=\"83.8788\" y2=\"269.797\" style=\"stroke:#000000; stroke-opacity:1\"/>\n",
       "<line clip-path=\"url(#clip5902)\" x1=\"83.8788\" y1=\"264.797\" x2=\"78.8788\" y2=\"264.797\" style=\"stroke:#000000; stroke-opacity:1\"/>\n",
       "<line clip-path=\"url(#clip5902)\" x1=\"83.8788\" y1=\"264.797\" x2=\"83.8788\" y2=\"259.797\" style=\"stroke:#000000; stroke-opacity:1\"/>\n",
       "<line clip-path=\"url(#clip5902)\" x1=\"83.8788\" y1=\"264.797\" x2=\"88.8788\" y2=\"264.797\" style=\"stroke:#000000; stroke-opacity:1\"/>\n",
       "<line clip-path=\"url(#clip5902)\" x1=\"83.8788\" y1=\"264.797\" x2=\"83.8788\" y2=\"268.797\" style=\"stroke:#ff0000; stroke-opacity:1\"/>\n",
       "<line clip-path=\"url(#clip5902)\" x1=\"83.8788\" y1=\"264.797\" x2=\"79.8788\" y2=\"264.797\" style=\"stroke:#ff0000; stroke-opacity:1\"/>\n",
       "<line clip-path=\"url(#clip5902)\" x1=\"83.8788\" y1=\"264.797\" x2=\"83.8788\" y2=\"260.797\" style=\"stroke:#ff0000; stroke-opacity:1\"/>\n",
       "<line clip-path=\"url(#clip5902)\" x1=\"83.8788\" y1=\"264.797\" x2=\"87.8788\" y2=\"264.797\" style=\"stroke:#ff0000; stroke-opacity:1\"/>\n",
       "<line clip-path=\"url(#clip5902)\" x1=\"60.8259\" y1=\"291.742\" x2=\"60.8259\" y2=\"296.742\" style=\"stroke:#000000; stroke-opacity:1\"/>\n",
       "<line clip-path=\"url(#clip5902)\" x1=\"60.8259\" y1=\"291.742\" x2=\"55.8259\" y2=\"291.742\" style=\"stroke:#000000; stroke-opacity:1\"/>\n",
       "<line clip-path=\"url(#clip5902)\" x1=\"60.8259\" y1=\"291.742\" x2=\"60.8259\" y2=\"286.742\" style=\"stroke:#000000; stroke-opacity:1\"/>\n",
       "<line clip-path=\"url(#clip5902)\" x1=\"60.8259\" y1=\"291.742\" x2=\"65.8259\" y2=\"291.742\" style=\"stroke:#000000; stroke-opacity:1\"/>\n",
       "<line clip-path=\"url(#clip5902)\" x1=\"60.8259\" y1=\"291.742\" x2=\"60.8259\" y2=\"295.742\" style=\"stroke:#ff0000; stroke-opacity:1\"/>\n",
       "<line clip-path=\"url(#clip5902)\" x1=\"60.8259\" y1=\"291.742\" x2=\"56.8259\" y2=\"291.742\" style=\"stroke:#ff0000; stroke-opacity:1\"/>\n",
       "<line clip-path=\"url(#clip5902)\" x1=\"60.8259\" y1=\"291.742\" x2=\"60.8259\" y2=\"287.742\" style=\"stroke:#ff0000; stroke-opacity:1\"/>\n",
       "<line clip-path=\"url(#clip5902)\" x1=\"60.8259\" y1=\"291.742\" x2=\"64.8259\" y2=\"291.742\" style=\"stroke:#ff0000; stroke-opacity:1\"/>\n",
       "<line clip-path=\"url(#clip5902)\" x1=\"466.041\" y1=\"41.4284\" x2=\"466.041\" y2=\"46.4284\" style=\"stroke:#000000; stroke-opacity:1\"/>\n",
       "<line clip-path=\"url(#clip5902)\" x1=\"466.041\" y1=\"41.4284\" x2=\"461.041\" y2=\"41.4284\" style=\"stroke:#000000; stroke-opacity:1\"/>\n",
       "<line clip-path=\"url(#clip5902)\" x1=\"466.041\" y1=\"41.4284\" x2=\"466.041\" y2=\"36.4284\" style=\"stroke:#000000; stroke-opacity:1\"/>\n",
       "<line clip-path=\"url(#clip5902)\" x1=\"466.041\" y1=\"41.4284\" x2=\"471.041\" y2=\"41.4284\" style=\"stroke:#000000; stroke-opacity:1\"/>\n",
       "<line clip-path=\"url(#clip5902)\" x1=\"466.041\" y1=\"41.4284\" x2=\"466.041\" y2=\"45.4284\" style=\"stroke:#ff0000; stroke-opacity:1\"/>\n",
       "<line clip-path=\"url(#clip5902)\" x1=\"466.041\" y1=\"41.4284\" x2=\"462.041\" y2=\"41.4284\" style=\"stroke:#ff0000; stroke-opacity:1\"/>\n",
       "<line clip-path=\"url(#clip5902)\" x1=\"466.041\" y1=\"41.4284\" x2=\"466.041\" y2=\"37.4284\" style=\"stroke:#ff0000; stroke-opacity:1\"/>\n",
       "<line clip-path=\"url(#clip5902)\" x1=\"466.041\" y1=\"41.4284\" x2=\"470.041\" y2=\"41.4284\" style=\"stroke:#ff0000; stroke-opacity:1\"/>\n",
       "<line clip-path=\"url(#clip5902)\" x1=\"280.788\" y1=\"158.383\" x2=\"280.788\" y2=\"163.383\" style=\"stroke:#000000; stroke-opacity:1\"/>\n",
       "<line clip-path=\"url(#clip5902)\" x1=\"280.788\" y1=\"158.383\" x2=\"275.788\" y2=\"158.383\" style=\"stroke:#000000; stroke-opacity:1\"/>\n",
       "<line clip-path=\"url(#clip5902)\" x1=\"280.788\" y1=\"158.383\" x2=\"280.788\" y2=\"153.383\" style=\"stroke:#000000; stroke-opacity:1\"/>\n",
       "<line clip-path=\"url(#clip5902)\" x1=\"280.788\" y1=\"158.383\" x2=\"285.788\" y2=\"158.383\" style=\"stroke:#000000; stroke-opacity:1\"/>\n",
       "<line clip-path=\"url(#clip5902)\" x1=\"280.788\" y1=\"158.383\" x2=\"280.788\" y2=\"162.383\" style=\"stroke:#ff0000; stroke-opacity:1\"/>\n",
       "<line clip-path=\"url(#clip5902)\" x1=\"280.788\" y1=\"158.383\" x2=\"276.788\" y2=\"158.383\" style=\"stroke:#ff0000; stroke-opacity:1\"/>\n",
       "<line clip-path=\"url(#clip5902)\" x1=\"280.788\" y1=\"158.383\" x2=\"280.788\" y2=\"154.383\" style=\"stroke:#ff0000; stroke-opacity:1\"/>\n",
       "<line clip-path=\"url(#clip5902)\" x1=\"280.788\" y1=\"158.383\" x2=\"284.788\" y2=\"158.383\" style=\"stroke:#ff0000; stroke-opacity:1\"/>\n",
       "<line clip-path=\"url(#clip5902)\" x1=\"224.125\" y1=\"240.999\" x2=\"224.125\" y2=\"245.999\" style=\"stroke:#000000; stroke-opacity:1\"/>\n",
       "<line clip-path=\"url(#clip5902)\" x1=\"224.125\" y1=\"240.999\" x2=\"219.125\" y2=\"240.999\" style=\"stroke:#000000; stroke-opacity:1\"/>\n",
       "<line clip-path=\"url(#clip5902)\" x1=\"224.125\" y1=\"240.999\" x2=\"224.125\" y2=\"235.999\" style=\"stroke:#000000; stroke-opacity:1\"/>\n",
       "<line clip-path=\"url(#clip5902)\" x1=\"224.125\" y1=\"240.999\" x2=\"229.125\" y2=\"240.999\" style=\"stroke:#000000; stroke-opacity:1\"/>\n",
       "<line clip-path=\"url(#clip5902)\" x1=\"224.125\" y1=\"240.999\" x2=\"224.125\" y2=\"244.999\" style=\"stroke:#ff0000; stroke-opacity:1\"/>\n",
       "<line clip-path=\"url(#clip5902)\" x1=\"224.125\" y1=\"240.999\" x2=\"220.125\" y2=\"240.999\" style=\"stroke:#ff0000; stroke-opacity:1\"/>\n",
       "<line clip-path=\"url(#clip5902)\" x1=\"224.125\" y1=\"240.999\" x2=\"224.125\" y2=\"236.999\" style=\"stroke:#ff0000; stroke-opacity:1\"/>\n",
       "<line clip-path=\"url(#clip5902)\" x1=\"224.125\" y1=\"240.999\" x2=\"228.125\" y2=\"240.999\" style=\"stroke:#ff0000; stroke-opacity:1\"/>\n",
       "<line clip-path=\"url(#clip5902)\" x1=\"291.328\" y1=\"143.138\" x2=\"291.328\" y2=\"148.138\" style=\"stroke:#000000; stroke-opacity:1\"/>\n",
       "<line clip-path=\"url(#clip5902)\" x1=\"291.328\" y1=\"143.138\" x2=\"286.328\" y2=\"143.138\" style=\"stroke:#000000; stroke-opacity:1\"/>\n",
       "<line clip-path=\"url(#clip5902)\" x1=\"291.328\" y1=\"143.138\" x2=\"291.328\" y2=\"138.138\" style=\"stroke:#000000; stroke-opacity:1\"/>\n",
       "<line clip-path=\"url(#clip5902)\" x1=\"291.328\" y1=\"143.138\" x2=\"296.328\" y2=\"143.138\" style=\"stroke:#000000; stroke-opacity:1\"/>\n",
       "<line clip-path=\"url(#clip5902)\" x1=\"291.328\" y1=\"143.138\" x2=\"291.328\" y2=\"147.138\" style=\"stroke:#ff0000; stroke-opacity:1\"/>\n",
       "<line clip-path=\"url(#clip5902)\" x1=\"291.328\" y1=\"143.138\" x2=\"287.328\" y2=\"143.138\" style=\"stroke:#ff0000; stroke-opacity:1\"/>\n",
       "<line clip-path=\"url(#clip5902)\" x1=\"291.328\" y1=\"143.138\" x2=\"291.328\" y2=\"139.138\" style=\"stroke:#ff0000; stroke-opacity:1\"/>\n",
       "<line clip-path=\"url(#clip5902)\" x1=\"291.328\" y1=\"143.138\" x2=\"295.328\" y2=\"143.138\" style=\"stroke:#ff0000; stroke-opacity:1\"/>\n",
       "<line clip-path=\"url(#clip5902)\" x1=\"564.71\" y1=\"22.113\" x2=\"564.71\" y2=\"27.113\" style=\"stroke:#000000; stroke-opacity:1\"/>\n",
       "<line clip-path=\"url(#clip5902)\" x1=\"564.71\" y1=\"22.113\" x2=\"559.71\" y2=\"22.113\" style=\"stroke:#000000; stroke-opacity:1\"/>\n",
       "<line clip-path=\"url(#clip5902)\" x1=\"564.71\" y1=\"22.113\" x2=\"564.71\" y2=\"17.113\" style=\"stroke:#000000; stroke-opacity:1\"/>\n",
       "<line clip-path=\"url(#clip5902)\" x1=\"564.71\" y1=\"22.113\" x2=\"569.71\" y2=\"22.113\" style=\"stroke:#000000; stroke-opacity:1\"/>\n",
       "<line clip-path=\"url(#clip5902)\" x1=\"564.71\" y1=\"22.113\" x2=\"564.71\" y2=\"26.113\" style=\"stroke:#ff0000; stroke-opacity:1\"/>\n",
       "<line clip-path=\"url(#clip5902)\" x1=\"564.71\" y1=\"22.113\" x2=\"560.71\" y2=\"22.113\" style=\"stroke:#ff0000; stroke-opacity:1\"/>\n",
       "<line clip-path=\"url(#clip5902)\" x1=\"564.71\" y1=\"22.113\" x2=\"564.71\" y2=\"18.113\" style=\"stroke:#ff0000; stroke-opacity:1\"/>\n",
       "<line clip-path=\"url(#clip5902)\" x1=\"564.71\" y1=\"22.113\" x2=\"568.71\" y2=\"22.113\" style=\"stroke:#ff0000; stroke-opacity:1\"/>\n",
       "<line clip-path=\"url(#clip5902)\" x1=\"51.3619\" y1=\"346.814\" x2=\"51.3619\" y2=\"351.814\" style=\"stroke:#000000; stroke-opacity:1\"/>\n",
       "<line clip-path=\"url(#clip5902)\" x1=\"51.3619\" y1=\"346.814\" x2=\"46.3619\" y2=\"346.814\" style=\"stroke:#000000; stroke-opacity:1\"/>\n",
       "<line clip-path=\"url(#clip5902)\" x1=\"51.3619\" y1=\"346.814\" x2=\"51.3619\" y2=\"341.814\" style=\"stroke:#000000; stroke-opacity:1\"/>\n",
       "<line clip-path=\"url(#clip5902)\" x1=\"51.3619\" y1=\"346.814\" x2=\"56.3619\" y2=\"346.814\" style=\"stroke:#000000; stroke-opacity:1\"/>\n",
       "<line clip-path=\"url(#clip5902)\" x1=\"51.3619\" y1=\"346.814\" x2=\"51.3619\" y2=\"350.814\" style=\"stroke:#ff0000; stroke-opacity:1\"/>\n",
       "<line clip-path=\"url(#clip5902)\" x1=\"51.3619\" y1=\"346.814\" x2=\"47.3619\" y2=\"346.814\" style=\"stroke:#ff0000; stroke-opacity:1\"/>\n",
       "<line clip-path=\"url(#clip5902)\" x1=\"51.3619\" y1=\"346.814\" x2=\"51.3619\" y2=\"342.814\" style=\"stroke:#ff0000; stroke-opacity:1\"/>\n",
       "<line clip-path=\"url(#clip5902)\" x1=\"51.3619\" y1=\"346.814\" x2=\"55.3619\" y2=\"346.814\" style=\"stroke:#ff0000; stroke-opacity:1\"/>\n",
       "<line clip-path=\"url(#clip5902)\" x1=\"91.8528\" y1=\"254.441\" x2=\"91.8528\" y2=\"259.441\" style=\"stroke:#000000; stroke-opacity:1\"/>\n",
       "<line clip-path=\"url(#clip5902)\" x1=\"91.8528\" y1=\"254.441\" x2=\"86.8528\" y2=\"254.441\" style=\"stroke:#000000; stroke-opacity:1\"/>\n",
       "<line clip-path=\"url(#clip5902)\" x1=\"91.8528\" y1=\"254.441\" x2=\"91.8528\" y2=\"249.441\" style=\"stroke:#000000; stroke-opacity:1\"/>\n",
       "<line clip-path=\"url(#clip5902)\" x1=\"91.8528\" y1=\"254.441\" x2=\"96.8528\" y2=\"254.441\" style=\"stroke:#000000; stroke-opacity:1\"/>\n",
       "<line clip-path=\"url(#clip5902)\" x1=\"91.8528\" y1=\"254.441\" x2=\"91.8528\" y2=\"258.441\" style=\"stroke:#ff0000; stroke-opacity:1\"/>\n",
       "<line clip-path=\"url(#clip5902)\" x1=\"91.8528\" y1=\"254.441\" x2=\"87.8528\" y2=\"254.441\" style=\"stroke:#ff0000; stroke-opacity:1\"/>\n",
       "<line clip-path=\"url(#clip5902)\" x1=\"91.8528\" y1=\"254.441\" x2=\"91.8528\" y2=\"250.441\" style=\"stroke:#ff0000; stroke-opacity:1\"/>\n",
       "<line clip-path=\"url(#clip5902)\" x1=\"91.8528\" y1=\"254.441\" x2=\"95.8528\" y2=\"254.441\" style=\"stroke:#ff0000; stroke-opacity:1\"/>\n",
       "<line clip-path=\"url(#clip5902)\" x1=\"172.374\" y1=\"175.881\" x2=\"172.374\" y2=\"180.881\" style=\"stroke:#000000; stroke-opacity:1\"/>\n",
       "<line clip-path=\"url(#clip5902)\" x1=\"172.374\" y1=\"175.881\" x2=\"167.374\" y2=\"175.881\" style=\"stroke:#000000; stroke-opacity:1\"/>\n",
       "<line clip-path=\"url(#clip5902)\" x1=\"172.374\" y1=\"175.881\" x2=\"172.374\" y2=\"170.881\" style=\"stroke:#000000; stroke-opacity:1\"/>\n",
       "<line clip-path=\"url(#clip5902)\" x1=\"172.374\" y1=\"175.881\" x2=\"177.374\" y2=\"175.881\" style=\"stroke:#000000; stroke-opacity:1\"/>\n",
       "<line clip-path=\"url(#clip5902)\" x1=\"172.374\" y1=\"175.881\" x2=\"172.374\" y2=\"179.881\" style=\"stroke:#ff0000; stroke-opacity:1\"/>\n",
       "<line clip-path=\"url(#clip5902)\" x1=\"172.374\" y1=\"175.881\" x2=\"168.374\" y2=\"175.881\" style=\"stroke:#ff0000; stroke-opacity:1\"/>\n",
       "<line clip-path=\"url(#clip5902)\" x1=\"172.374\" y1=\"175.881\" x2=\"172.374\" y2=\"171.881\" style=\"stroke:#ff0000; stroke-opacity:1\"/>\n",
       "<line clip-path=\"url(#clip5902)\" x1=\"172.374\" y1=\"175.881\" x2=\"176.374\" y2=\"175.881\" style=\"stroke:#ff0000; stroke-opacity:1\"/>\n",
       "<line clip-path=\"url(#clip5902)\" x1=\"70.726\" y1=\"307.524\" x2=\"70.726\" y2=\"312.524\" style=\"stroke:#000000; stroke-opacity:1\"/>\n",
       "<line clip-path=\"url(#clip5902)\" x1=\"70.726\" y1=\"307.524\" x2=\"65.726\" y2=\"307.524\" style=\"stroke:#000000; stroke-opacity:1\"/>\n",
       "<line clip-path=\"url(#clip5902)\" x1=\"70.726\" y1=\"307.524\" x2=\"70.726\" y2=\"302.524\" style=\"stroke:#000000; stroke-opacity:1\"/>\n",
       "<line clip-path=\"url(#clip5902)\" x1=\"70.726\" y1=\"307.524\" x2=\"75.726\" y2=\"307.524\" style=\"stroke:#000000; stroke-opacity:1\"/>\n",
       "<line clip-path=\"url(#clip5902)\" x1=\"70.726\" y1=\"307.524\" x2=\"70.726\" y2=\"311.524\" style=\"stroke:#ff0000; stroke-opacity:1\"/>\n",
       "<line clip-path=\"url(#clip5902)\" x1=\"70.726\" y1=\"307.524\" x2=\"66.726\" y2=\"307.524\" style=\"stroke:#ff0000; stroke-opacity:1\"/>\n",
       "<line clip-path=\"url(#clip5902)\" x1=\"70.726\" y1=\"307.524\" x2=\"70.726\" y2=\"303.524\" style=\"stroke:#ff0000; stroke-opacity:1\"/>\n",
       "<line clip-path=\"url(#clip5902)\" x1=\"70.726\" y1=\"307.524\" x2=\"74.726\" y2=\"307.524\" style=\"stroke:#ff0000; stroke-opacity:1\"/>\n",
       "<line clip-path=\"url(#clip5902)\" x1=\"140.966\" y1=\"247.452\" x2=\"140.966\" y2=\"252.452\" style=\"stroke:#000000; stroke-opacity:1\"/>\n",
       "<line clip-path=\"url(#clip5902)\" x1=\"140.966\" y1=\"247.452\" x2=\"135.966\" y2=\"247.452\" style=\"stroke:#000000; stroke-opacity:1\"/>\n",
       "<line clip-path=\"url(#clip5902)\" x1=\"140.966\" y1=\"247.452\" x2=\"140.966\" y2=\"242.452\" style=\"stroke:#000000; stroke-opacity:1\"/>\n",
       "<line clip-path=\"url(#clip5902)\" x1=\"140.966\" y1=\"247.452\" x2=\"145.966\" y2=\"247.452\" style=\"stroke:#000000; stroke-opacity:1\"/>\n",
       "<line clip-path=\"url(#clip5902)\" x1=\"140.966\" y1=\"247.452\" x2=\"140.966\" y2=\"251.452\" style=\"stroke:#ff0000; stroke-opacity:1\"/>\n",
       "<line clip-path=\"url(#clip5902)\" x1=\"140.966\" y1=\"247.452\" x2=\"136.966\" y2=\"247.452\" style=\"stroke:#ff0000; stroke-opacity:1\"/>\n",
       "<line clip-path=\"url(#clip5902)\" x1=\"140.966\" y1=\"247.452\" x2=\"140.966\" y2=\"243.452\" style=\"stroke:#ff0000; stroke-opacity:1\"/>\n",
       "<line clip-path=\"url(#clip5902)\" x1=\"140.966\" y1=\"247.452\" x2=\"144.966\" y2=\"247.452\" style=\"stroke:#ff0000; stroke-opacity:1\"/>\n",
       "<line clip-path=\"url(#clip5902)\" x1=\"132.556\" y1=\"272.8\" x2=\"132.556\" y2=\"277.8\" style=\"stroke:#000000; stroke-opacity:1\"/>\n",
       "<line clip-path=\"url(#clip5902)\" x1=\"132.556\" y1=\"272.8\" x2=\"127.556\" y2=\"272.8\" style=\"stroke:#000000; stroke-opacity:1\"/>\n",
       "<line clip-path=\"url(#clip5902)\" x1=\"132.556\" y1=\"272.8\" x2=\"132.556\" y2=\"267.8\" style=\"stroke:#000000; stroke-opacity:1\"/>\n",
       "<line clip-path=\"url(#clip5902)\" x1=\"132.556\" y1=\"272.8\" x2=\"137.556\" y2=\"272.8\" style=\"stroke:#000000; stroke-opacity:1\"/>\n",
       "<line clip-path=\"url(#clip5902)\" x1=\"132.556\" y1=\"272.8\" x2=\"132.556\" y2=\"276.8\" style=\"stroke:#ff0000; stroke-opacity:1\"/>\n",
       "<line clip-path=\"url(#clip5902)\" x1=\"132.556\" y1=\"272.8\" x2=\"128.556\" y2=\"272.8\" style=\"stroke:#ff0000; stroke-opacity:1\"/>\n",
       "<line clip-path=\"url(#clip5902)\" x1=\"132.556\" y1=\"272.8\" x2=\"132.556\" y2=\"268.8\" style=\"stroke:#ff0000; stroke-opacity:1\"/>\n",
       "<line clip-path=\"url(#clip5902)\" x1=\"132.556\" y1=\"272.8\" x2=\"136.556\" y2=\"272.8\" style=\"stroke:#ff0000; stroke-opacity:1\"/>\n",
       "<line clip-path=\"url(#clip5902)\" x1=\"137.477\" y1=\"278.508\" x2=\"137.477\" y2=\"283.508\" style=\"stroke:#000000; stroke-opacity:1\"/>\n",
       "<line clip-path=\"url(#clip5902)\" x1=\"137.477\" y1=\"278.508\" x2=\"132.477\" y2=\"278.508\" style=\"stroke:#000000; stroke-opacity:1\"/>\n",
       "<line clip-path=\"url(#clip5902)\" x1=\"137.477\" y1=\"278.508\" x2=\"137.477\" y2=\"273.508\" style=\"stroke:#000000; stroke-opacity:1\"/>\n",
       "<line clip-path=\"url(#clip5902)\" x1=\"137.477\" y1=\"278.508\" x2=\"142.477\" y2=\"278.508\" style=\"stroke:#000000; stroke-opacity:1\"/>\n",
       "<line clip-path=\"url(#clip5902)\" x1=\"137.477\" y1=\"278.508\" x2=\"137.477\" y2=\"282.508\" style=\"stroke:#ff0000; stroke-opacity:1\"/>\n",
       "<line clip-path=\"url(#clip5902)\" x1=\"137.477\" y1=\"278.508\" x2=\"133.477\" y2=\"278.508\" style=\"stroke:#ff0000; stroke-opacity:1\"/>\n",
       "<line clip-path=\"url(#clip5902)\" x1=\"137.477\" y1=\"278.508\" x2=\"137.477\" y2=\"274.508\" style=\"stroke:#ff0000; stroke-opacity:1\"/>\n",
       "<line clip-path=\"url(#clip5902)\" x1=\"137.477\" y1=\"278.508\" x2=\"141.477\" y2=\"278.508\" style=\"stroke:#ff0000; stroke-opacity:1\"/>\n",
       "<line clip-path=\"url(#clip5902)\" x1=\"62.0797\" y1=\"287.77\" x2=\"62.0797\" y2=\"292.77\" style=\"stroke:#000000; stroke-opacity:1\"/>\n",
       "<line clip-path=\"url(#clip5902)\" x1=\"62.0797\" y1=\"287.77\" x2=\"57.0797\" y2=\"287.77\" style=\"stroke:#000000; stroke-opacity:1\"/>\n",
       "<line clip-path=\"url(#clip5902)\" x1=\"62.0797\" y1=\"287.77\" x2=\"62.0797\" y2=\"282.77\" style=\"stroke:#000000; stroke-opacity:1\"/>\n",
       "<line clip-path=\"url(#clip5902)\" x1=\"62.0797\" y1=\"287.77\" x2=\"67.0797\" y2=\"287.77\" style=\"stroke:#000000; stroke-opacity:1\"/>\n",
       "<line clip-path=\"url(#clip5902)\" x1=\"62.0797\" y1=\"287.77\" x2=\"62.0797\" y2=\"291.77\" style=\"stroke:#ff0000; stroke-opacity:1\"/>\n",
       "<line clip-path=\"url(#clip5902)\" x1=\"62.0797\" y1=\"287.77\" x2=\"58.0797\" y2=\"287.77\" style=\"stroke:#ff0000; stroke-opacity:1\"/>\n",
       "<line clip-path=\"url(#clip5902)\" x1=\"62.0797\" y1=\"287.77\" x2=\"62.0797\" y2=\"283.77\" style=\"stroke:#ff0000; stroke-opacity:1\"/>\n",
       "<line clip-path=\"url(#clip5902)\" x1=\"62.0797\" y1=\"287.77\" x2=\"66.0797\" y2=\"287.77\" style=\"stroke:#ff0000; stroke-opacity:1\"/>\n",
       "<line clip-path=\"url(#clip5902)\" x1=\"281.031\" y1=\"201.699\" x2=\"281.031\" y2=\"206.699\" style=\"stroke:#000000; stroke-opacity:1\"/>\n",
       "<line clip-path=\"url(#clip5902)\" x1=\"281.031\" y1=\"201.699\" x2=\"276.031\" y2=\"201.699\" style=\"stroke:#000000; stroke-opacity:1\"/>\n",
       "<line clip-path=\"url(#clip5902)\" x1=\"281.031\" y1=\"201.699\" x2=\"281.031\" y2=\"196.699\" style=\"stroke:#000000; stroke-opacity:1\"/>\n",
       "<line clip-path=\"url(#clip5902)\" x1=\"281.031\" y1=\"201.699\" x2=\"286.031\" y2=\"201.699\" style=\"stroke:#000000; stroke-opacity:1\"/>\n",
       "<line clip-path=\"url(#clip5902)\" x1=\"281.031\" y1=\"201.699\" x2=\"281.031\" y2=\"205.699\" style=\"stroke:#ff0000; stroke-opacity:1\"/>\n",
       "<line clip-path=\"url(#clip5902)\" x1=\"281.031\" y1=\"201.699\" x2=\"277.031\" y2=\"201.699\" style=\"stroke:#ff0000; stroke-opacity:1\"/>\n",
       "<line clip-path=\"url(#clip5902)\" x1=\"281.031\" y1=\"201.699\" x2=\"281.031\" y2=\"197.699\" style=\"stroke:#ff0000; stroke-opacity:1\"/>\n",
       "<line clip-path=\"url(#clip5902)\" x1=\"281.031\" y1=\"201.699\" x2=\"285.031\" y2=\"201.699\" style=\"stroke:#ff0000; stroke-opacity:1\"/>\n",
       "<line clip-path=\"url(#clip5902)\" x1=\"84.7056\" y1=\"260.831\" x2=\"84.7056\" y2=\"265.831\" style=\"stroke:#000000; stroke-opacity:1\"/>\n",
       "<line clip-path=\"url(#clip5902)\" x1=\"84.7056\" y1=\"260.831\" x2=\"79.7056\" y2=\"260.831\" style=\"stroke:#000000; stroke-opacity:1\"/>\n",
       "<line clip-path=\"url(#clip5902)\" x1=\"84.7056\" y1=\"260.831\" x2=\"84.7056\" y2=\"255.831\" style=\"stroke:#000000; stroke-opacity:1\"/>\n",
       "<line clip-path=\"url(#clip5902)\" x1=\"84.7056\" y1=\"260.831\" x2=\"89.7056\" y2=\"260.831\" style=\"stroke:#000000; stroke-opacity:1\"/>\n",
       "<line clip-path=\"url(#clip5902)\" x1=\"84.7056\" y1=\"260.831\" x2=\"84.7056\" y2=\"264.831\" style=\"stroke:#ff0000; stroke-opacity:1\"/>\n",
       "<line clip-path=\"url(#clip5902)\" x1=\"84.7056\" y1=\"260.831\" x2=\"80.7056\" y2=\"260.831\" style=\"stroke:#ff0000; stroke-opacity:1\"/>\n",
       "<line clip-path=\"url(#clip5902)\" x1=\"84.7056\" y1=\"260.831\" x2=\"84.7056\" y2=\"256.831\" style=\"stroke:#ff0000; stroke-opacity:1\"/>\n",
       "<line clip-path=\"url(#clip5902)\" x1=\"84.7056\" y1=\"260.831\" x2=\"88.7056\" y2=\"260.831\" style=\"stroke:#ff0000; stroke-opacity:1\"/>\n",
       "<line clip-path=\"url(#clip5902)\" x1=\"56.0409\" y1=\"324.074\" x2=\"56.0409\" y2=\"329.074\" style=\"stroke:#000000; stroke-opacity:1\"/>\n",
       "<line clip-path=\"url(#clip5902)\" x1=\"56.0409\" y1=\"324.074\" x2=\"51.0409\" y2=\"324.074\" style=\"stroke:#000000; stroke-opacity:1\"/>\n",
       "<line clip-path=\"url(#clip5902)\" x1=\"56.0409\" y1=\"324.074\" x2=\"56.0409\" y2=\"319.074\" style=\"stroke:#000000; stroke-opacity:1\"/>\n",
       "<line clip-path=\"url(#clip5902)\" x1=\"56.0409\" y1=\"324.074\" x2=\"61.0409\" y2=\"324.074\" style=\"stroke:#000000; stroke-opacity:1\"/>\n",
       "<line clip-path=\"url(#clip5902)\" x1=\"56.0409\" y1=\"324.074\" x2=\"56.0409\" y2=\"328.074\" style=\"stroke:#ff0000; stroke-opacity:1\"/>\n",
       "<line clip-path=\"url(#clip5902)\" x1=\"56.0409\" y1=\"324.074\" x2=\"52.0409\" y2=\"324.074\" style=\"stroke:#ff0000; stroke-opacity:1\"/>\n",
       "<line clip-path=\"url(#clip5902)\" x1=\"56.0409\" y1=\"324.074\" x2=\"56.0409\" y2=\"320.074\" style=\"stroke:#ff0000; stroke-opacity:1\"/>\n",
       "<line clip-path=\"url(#clip5902)\" x1=\"56.0409\" y1=\"324.074\" x2=\"60.0409\" y2=\"324.074\" style=\"stroke:#ff0000; stroke-opacity:1\"/>\n",
       "<line clip-path=\"url(#clip5902)\" x1=\"100.729\" y1=\"281.13\" x2=\"100.729\" y2=\"286.13\" style=\"stroke:#000000; stroke-opacity:1\"/>\n",
       "<line clip-path=\"url(#clip5902)\" x1=\"100.729\" y1=\"281.13\" x2=\"95.7293\" y2=\"281.13\" style=\"stroke:#000000; stroke-opacity:1\"/>\n",
       "<line clip-path=\"url(#clip5902)\" x1=\"100.729\" y1=\"281.13\" x2=\"100.729\" y2=\"276.13\" style=\"stroke:#000000; stroke-opacity:1\"/>\n",
       "<line clip-path=\"url(#clip5902)\" x1=\"100.729\" y1=\"281.13\" x2=\"105.729\" y2=\"281.13\" style=\"stroke:#000000; stroke-opacity:1\"/>\n",
       "<line clip-path=\"url(#clip5902)\" x1=\"100.729\" y1=\"281.13\" x2=\"100.729\" y2=\"285.13\" style=\"stroke:#ff0000; stroke-opacity:1\"/>\n",
       "<line clip-path=\"url(#clip5902)\" x1=\"100.729\" y1=\"281.13\" x2=\"96.7293\" y2=\"281.13\" style=\"stroke:#ff0000; stroke-opacity:1\"/>\n",
       "<line clip-path=\"url(#clip5902)\" x1=\"100.729\" y1=\"281.13\" x2=\"100.729\" y2=\"277.13\" style=\"stroke:#ff0000; stroke-opacity:1\"/>\n",
       "<line clip-path=\"url(#clip5902)\" x1=\"100.729\" y1=\"281.13\" x2=\"104.729\" y2=\"281.13\" style=\"stroke:#ff0000; stroke-opacity:1\"/>\n",
       "<line clip-path=\"url(#clip5902)\" x1=\"246.869\" y1=\"262.264\" x2=\"246.869\" y2=\"267.264\" style=\"stroke:#000000; stroke-opacity:1\"/>\n",
       "<line clip-path=\"url(#clip5902)\" x1=\"246.869\" y1=\"262.264\" x2=\"241.869\" y2=\"262.264\" style=\"stroke:#000000; stroke-opacity:1\"/>\n",
       "<line clip-path=\"url(#clip5902)\" x1=\"246.869\" y1=\"262.264\" x2=\"246.869\" y2=\"257.264\" style=\"stroke:#000000; stroke-opacity:1\"/>\n",
       "<line clip-path=\"url(#clip5902)\" x1=\"246.869\" y1=\"262.264\" x2=\"251.869\" y2=\"262.264\" style=\"stroke:#000000; stroke-opacity:1\"/>\n",
       "<line clip-path=\"url(#clip5902)\" x1=\"246.869\" y1=\"262.264\" x2=\"246.869\" y2=\"266.264\" style=\"stroke:#ff0000; stroke-opacity:1\"/>\n",
       "<line clip-path=\"url(#clip5902)\" x1=\"246.869\" y1=\"262.264\" x2=\"242.869\" y2=\"262.264\" style=\"stroke:#ff0000; stroke-opacity:1\"/>\n",
       "<line clip-path=\"url(#clip5902)\" x1=\"246.869\" y1=\"262.264\" x2=\"246.869\" y2=\"258.264\" style=\"stroke:#ff0000; stroke-opacity:1\"/>\n",
       "<line clip-path=\"url(#clip5902)\" x1=\"246.869\" y1=\"262.264\" x2=\"250.869\" y2=\"262.264\" style=\"stroke:#ff0000; stroke-opacity:1\"/>\n",
       "<line clip-path=\"url(#clip5902)\" x1=\"67.1494\" y1=\"299.958\" x2=\"67.1494\" y2=\"304.958\" style=\"stroke:#000000; stroke-opacity:1\"/>\n",
       "<line clip-path=\"url(#clip5902)\" x1=\"67.1494\" y1=\"299.958\" x2=\"62.1494\" y2=\"299.958\" style=\"stroke:#000000; stroke-opacity:1\"/>\n",
       "<line clip-path=\"url(#clip5902)\" x1=\"67.1494\" y1=\"299.958\" x2=\"67.1494\" y2=\"294.958\" style=\"stroke:#000000; stroke-opacity:1\"/>\n",
       "<line clip-path=\"url(#clip5902)\" x1=\"67.1494\" y1=\"299.958\" x2=\"72.1494\" y2=\"299.958\" style=\"stroke:#000000; stroke-opacity:1\"/>\n",
       "<line clip-path=\"url(#clip5902)\" x1=\"67.1494\" y1=\"299.958\" x2=\"67.1494\" y2=\"303.958\" style=\"stroke:#ff0000; stroke-opacity:1\"/>\n",
       "<line clip-path=\"url(#clip5902)\" x1=\"67.1494\" y1=\"299.958\" x2=\"63.1494\" y2=\"299.958\" style=\"stroke:#ff0000; stroke-opacity:1\"/>\n",
       "<line clip-path=\"url(#clip5902)\" x1=\"67.1494\" y1=\"299.958\" x2=\"67.1494\" y2=\"295.958\" style=\"stroke:#ff0000; stroke-opacity:1\"/>\n",
       "<line clip-path=\"url(#clip5902)\" x1=\"67.1494\" y1=\"299.958\" x2=\"71.1494\" y2=\"299.958\" style=\"stroke:#ff0000; stroke-opacity:1\"/>\n",
       "<line clip-path=\"url(#clip5902)\" x1=\"129.264\" y1=\"245.03\" x2=\"129.264\" y2=\"250.03\" style=\"stroke:#000000; stroke-opacity:1\"/>\n",
       "<line clip-path=\"url(#clip5902)\" x1=\"129.264\" y1=\"245.03\" x2=\"124.264\" y2=\"245.03\" style=\"stroke:#000000; stroke-opacity:1\"/>\n",
       "<line clip-path=\"url(#clip5902)\" x1=\"129.264\" y1=\"245.03\" x2=\"129.264\" y2=\"240.03\" style=\"stroke:#000000; stroke-opacity:1\"/>\n",
       "<line clip-path=\"url(#clip5902)\" x1=\"129.264\" y1=\"245.03\" x2=\"134.264\" y2=\"245.03\" style=\"stroke:#000000; stroke-opacity:1\"/>\n",
       "<line clip-path=\"url(#clip5902)\" x1=\"129.264\" y1=\"245.03\" x2=\"129.264\" y2=\"249.03\" style=\"stroke:#ff0000; stroke-opacity:1\"/>\n",
       "<line clip-path=\"url(#clip5902)\" x1=\"129.264\" y1=\"245.03\" x2=\"125.264\" y2=\"245.03\" style=\"stroke:#ff0000; stroke-opacity:1\"/>\n",
       "<line clip-path=\"url(#clip5902)\" x1=\"129.264\" y1=\"245.03\" x2=\"129.264\" y2=\"241.03\" style=\"stroke:#ff0000; stroke-opacity:1\"/>\n",
       "<line clip-path=\"url(#clip5902)\" x1=\"129.264\" y1=\"245.03\" x2=\"133.264\" y2=\"245.03\" style=\"stroke:#ff0000; stroke-opacity:1\"/>\n",
       "<line clip-path=\"url(#clip5902)\" x1=\"107.107\" y1=\"317.805\" x2=\"107.107\" y2=\"322.805\" style=\"stroke:#000000; stroke-opacity:1\"/>\n",
       "<line clip-path=\"url(#clip5902)\" x1=\"107.107\" y1=\"317.805\" x2=\"102.107\" y2=\"317.805\" style=\"stroke:#000000; stroke-opacity:1\"/>\n",
       "<line clip-path=\"url(#clip5902)\" x1=\"107.107\" y1=\"317.805\" x2=\"107.107\" y2=\"312.805\" style=\"stroke:#000000; stroke-opacity:1\"/>\n",
       "<line clip-path=\"url(#clip5902)\" x1=\"107.107\" y1=\"317.805\" x2=\"112.107\" y2=\"317.805\" style=\"stroke:#000000; stroke-opacity:1\"/>\n",
       "<line clip-path=\"url(#clip5902)\" x1=\"107.107\" y1=\"317.805\" x2=\"107.107\" y2=\"321.805\" style=\"stroke:#ff0000; stroke-opacity:1\"/>\n",
       "<line clip-path=\"url(#clip5902)\" x1=\"107.107\" y1=\"317.805\" x2=\"103.107\" y2=\"317.805\" style=\"stroke:#ff0000; stroke-opacity:1\"/>\n",
       "<line clip-path=\"url(#clip5902)\" x1=\"107.107\" y1=\"317.805\" x2=\"107.107\" y2=\"313.805\" style=\"stroke:#ff0000; stroke-opacity:1\"/>\n",
       "<line clip-path=\"url(#clip5902)\" x1=\"107.107\" y1=\"317.805\" x2=\"111.107\" y2=\"317.805\" style=\"stroke:#ff0000; stroke-opacity:1\"/>\n",
       "<line clip-path=\"url(#clip5902)\" x1=\"45.8439\" y1=\"265.486\" x2=\"45.8439\" y2=\"270.486\" style=\"stroke:#000000; stroke-opacity:1\"/>\n",
       "<line clip-path=\"url(#clip5902)\" x1=\"45.8439\" y1=\"265.486\" x2=\"40.8439\" y2=\"265.486\" style=\"stroke:#000000; stroke-opacity:1\"/>\n",
       "<line clip-path=\"url(#clip5902)\" x1=\"45.8439\" y1=\"265.486\" x2=\"45.8439\" y2=\"260.486\" style=\"stroke:#000000; stroke-opacity:1\"/>\n",
       "<line clip-path=\"url(#clip5902)\" x1=\"45.8439\" y1=\"265.486\" x2=\"50.8439\" y2=\"265.486\" style=\"stroke:#000000; stroke-opacity:1\"/>\n",
       "<line clip-path=\"url(#clip5902)\" x1=\"45.8439\" y1=\"265.486\" x2=\"45.8439\" y2=\"269.486\" style=\"stroke:#ff0000; stroke-opacity:1\"/>\n",
       "<line clip-path=\"url(#clip5902)\" x1=\"45.8439\" y1=\"265.486\" x2=\"41.8439\" y2=\"265.486\" style=\"stroke:#ff0000; stroke-opacity:1\"/>\n",
       "<line clip-path=\"url(#clip5902)\" x1=\"45.8439\" y1=\"265.486\" x2=\"45.8439\" y2=\"261.486\" style=\"stroke:#ff0000; stroke-opacity:1\"/>\n",
       "<line clip-path=\"url(#clip5902)\" x1=\"45.8439\" y1=\"265.486\" x2=\"49.8439\" y2=\"265.486\" style=\"stroke:#ff0000; stroke-opacity:1\"/>\n",
       "<line clip-path=\"url(#clip5902)\" x1=\"67.9883\" y1=\"307.595\" x2=\"67.9883\" y2=\"312.595\" style=\"stroke:#000000; stroke-opacity:1\"/>\n",
       "<line clip-path=\"url(#clip5902)\" x1=\"67.9883\" y1=\"307.595\" x2=\"62.9883\" y2=\"307.595\" style=\"stroke:#000000; stroke-opacity:1\"/>\n",
       "<line clip-path=\"url(#clip5902)\" x1=\"67.9883\" y1=\"307.595\" x2=\"67.9883\" y2=\"302.595\" style=\"stroke:#000000; stroke-opacity:1\"/>\n",
       "<line clip-path=\"url(#clip5902)\" x1=\"67.9883\" y1=\"307.595\" x2=\"72.9883\" y2=\"307.595\" style=\"stroke:#000000; stroke-opacity:1\"/>\n",
       "<line clip-path=\"url(#clip5902)\" x1=\"67.9883\" y1=\"307.595\" x2=\"67.9883\" y2=\"311.595\" style=\"stroke:#ff0000; stroke-opacity:1\"/>\n",
       "<line clip-path=\"url(#clip5902)\" x1=\"67.9883\" y1=\"307.595\" x2=\"63.9883\" y2=\"307.595\" style=\"stroke:#ff0000; stroke-opacity:1\"/>\n",
       "<line clip-path=\"url(#clip5902)\" x1=\"67.9883\" y1=\"307.595\" x2=\"67.9883\" y2=\"303.595\" style=\"stroke:#ff0000; stroke-opacity:1\"/>\n",
       "<line clip-path=\"url(#clip5902)\" x1=\"67.9883\" y1=\"307.595\" x2=\"71.9883\" y2=\"307.595\" style=\"stroke:#ff0000; stroke-opacity:1\"/>\n",
       "<line clip-path=\"url(#clip5902)\" x1=\"246.627\" y1=\"228.742\" x2=\"246.627\" y2=\"233.742\" style=\"stroke:#000000; stroke-opacity:1\"/>\n",
       "<line clip-path=\"url(#clip5902)\" x1=\"246.627\" y1=\"228.742\" x2=\"241.627\" y2=\"228.742\" style=\"stroke:#000000; stroke-opacity:1\"/>\n",
       "<line clip-path=\"url(#clip5902)\" x1=\"246.627\" y1=\"228.742\" x2=\"246.627\" y2=\"223.742\" style=\"stroke:#000000; stroke-opacity:1\"/>\n",
       "<line clip-path=\"url(#clip5902)\" x1=\"246.627\" y1=\"228.742\" x2=\"251.627\" y2=\"228.742\" style=\"stroke:#000000; stroke-opacity:1\"/>\n",
       "<line clip-path=\"url(#clip5902)\" x1=\"246.627\" y1=\"228.742\" x2=\"246.627\" y2=\"232.742\" style=\"stroke:#ff0000; stroke-opacity:1\"/>\n",
       "<line clip-path=\"url(#clip5902)\" x1=\"246.627\" y1=\"228.742\" x2=\"242.627\" y2=\"228.742\" style=\"stroke:#ff0000; stroke-opacity:1\"/>\n",
       "<line clip-path=\"url(#clip5902)\" x1=\"246.627\" y1=\"228.742\" x2=\"246.627\" y2=\"224.742\" style=\"stroke:#ff0000; stroke-opacity:1\"/>\n",
       "<line clip-path=\"url(#clip5902)\" x1=\"246.627\" y1=\"228.742\" x2=\"250.627\" y2=\"228.742\" style=\"stroke:#ff0000; stroke-opacity:1\"/>\n",
       "<line clip-path=\"url(#clip5902)\" x1=\"60.1203\" y1=\"318.169\" x2=\"60.1203\" y2=\"323.169\" style=\"stroke:#000000; stroke-opacity:1\"/>\n",
       "<line clip-path=\"url(#clip5902)\" x1=\"60.1203\" y1=\"318.169\" x2=\"55.1203\" y2=\"318.169\" style=\"stroke:#000000; stroke-opacity:1\"/>\n",
       "<line clip-path=\"url(#clip5902)\" x1=\"60.1203\" y1=\"318.169\" x2=\"60.1203\" y2=\"313.169\" style=\"stroke:#000000; stroke-opacity:1\"/>\n",
       "<line clip-path=\"url(#clip5902)\" x1=\"60.1203\" y1=\"318.169\" x2=\"65.1203\" y2=\"318.169\" style=\"stroke:#000000; stroke-opacity:1\"/>\n",
       "<line clip-path=\"url(#clip5902)\" x1=\"60.1203\" y1=\"318.169\" x2=\"60.1203\" y2=\"322.169\" style=\"stroke:#ff0000; stroke-opacity:1\"/>\n",
       "<line clip-path=\"url(#clip5902)\" x1=\"60.1203\" y1=\"318.169\" x2=\"56.1203\" y2=\"318.169\" style=\"stroke:#ff0000; stroke-opacity:1\"/>\n",
       "<line clip-path=\"url(#clip5902)\" x1=\"60.1203\" y1=\"318.169\" x2=\"60.1203\" y2=\"314.169\" style=\"stroke:#ff0000; stroke-opacity:1\"/>\n",
       "<line clip-path=\"url(#clip5902)\" x1=\"60.1203\" y1=\"318.169\" x2=\"64.1203\" y2=\"318.169\" style=\"stroke:#ff0000; stroke-opacity:1\"/>\n",
       "<line clip-path=\"url(#clip5902)\" x1=\"120.648\" y1=\"244.792\" x2=\"120.648\" y2=\"249.792\" style=\"stroke:#000000; stroke-opacity:1\"/>\n",
       "<line clip-path=\"url(#clip5902)\" x1=\"120.648\" y1=\"244.792\" x2=\"115.648\" y2=\"244.792\" style=\"stroke:#000000; stroke-opacity:1\"/>\n",
       "<line clip-path=\"url(#clip5902)\" x1=\"120.648\" y1=\"244.792\" x2=\"120.648\" y2=\"239.792\" style=\"stroke:#000000; stroke-opacity:1\"/>\n",
       "<line clip-path=\"url(#clip5902)\" x1=\"120.648\" y1=\"244.792\" x2=\"125.648\" y2=\"244.792\" style=\"stroke:#000000; stroke-opacity:1\"/>\n",
       "<line clip-path=\"url(#clip5902)\" x1=\"120.648\" y1=\"244.792\" x2=\"120.648\" y2=\"248.792\" style=\"stroke:#ff0000; stroke-opacity:1\"/>\n",
       "<line clip-path=\"url(#clip5902)\" x1=\"120.648\" y1=\"244.792\" x2=\"116.648\" y2=\"244.792\" style=\"stroke:#ff0000; stroke-opacity:1\"/>\n",
       "<line clip-path=\"url(#clip5902)\" x1=\"120.648\" y1=\"244.792\" x2=\"120.648\" y2=\"240.792\" style=\"stroke:#ff0000; stroke-opacity:1\"/>\n",
       "<line clip-path=\"url(#clip5902)\" x1=\"120.648\" y1=\"244.792\" x2=\"124.648\" y2=\"244.792\" style=\"stroke:#ff0000; stroke-opacity:1\"/>\n",
       "<line clip-path=\"url(#clip5902)\" x1=\"53.0366\" y1=\"307.651\" x2=\"53.0366\" y2=\"312.651\" style=\"stroke:#000000; stroke-opacity:1\"/>\n",
       "<line clip-path=\"url(#clip5902)\" x1=\"53.0366\" y1=\"307.651\" x2=\"48.0366\" y2=\"307.651\" style=\"stroke:#000000; stroke-opacity:1\"/>\n",
       "<line clip-path=\"url(#clip5902)\" x1=\"53.0366\" y1=\"307.651\" x2=\"53.0366\" y2=\"302.651\" style=\"stroke:#000000; stroke-opacity:1\"/>\n",
       "<line clip-path=\"url(#clip5902)\" x1=\"53.0366\" y1=\"307.651\" x2=\"58.0366\" y2=\"307.651\" style=\"stroke:#000000; stroke-opacity:1\"/>\n",
       "<line clip-path=\"url(#clip5902)\" x1=\"53.0366\" y1=\"307.651\" x2=\"53.0366\" y2=\"311.651\" style=\"stroke:#ff0000; stroke-opacity:1\"/>\n",
       "<line clip-path=\"url(#clip5902)\" x1=\"53.0366\" y1=\"307.651\" x2=\"49.0366\" y2=\"307.651\" style=\"stroke:#ff0000; stroke-opacity:1\"/>\n",
       "<line clip-path=\"url(#clip5902)\" x1=\"53.0366\" y1=\"307.651\" x2=\"53.0366\" y2=\"303.651\" style=\"stroke:#ff0000; stroke-opacity:1\"/>\n",
       "<line clip-path=\"url(#clip5902)\" x1=\"53.0366\" y1=\"307.651\" x2=\"57.0366\" y2=\"307.651\" style=\"stroke:#ff0000; stroke-opacity:1\"/>\n",
       "<line clip-path=\"url(#clip5902)\" x1=\"117.126\" y1=\"276.305\" x2=\"117.126\" y2=\"281.305\" style=\"stroke:#000000; stroke-opacity:1\"/>\n",
       "<line clip-path=\"url(#clip5902)\" x1=\"117.126\" y1=\"276.305\" x2=\"112.126\" y2=\"276.305\" style=\"stroke:#000000; stroke-opacity:1\"/>\n",
       "<line clip-path=\"url(#clip5902)\" x1=\"117.126\" y1=\"276.305\" x2=\"117.126\" y2=\"271.305\" style=\"stroke:#000000; stroke-opacity:1\"/>\n",
       "<line clip-path=\"url(#clip5902)\" x1=\"117.126\" y1=\"276.305\" x2=\"122.126\" y2=\"276.305\" style=\"stroke:#000000; stroke-opacity:1\"/>\n",
       "<line clip-path=\"url(#clip5902)\" x1=\"117.126\" y1=\"276.305\" x2=\"117.126\" y2=\"280.305\" style=\"stroke:#ff0000; stroke-opacity:1\"/>\n",
       "<line clip-path=\"url(#clip5902)\" x1=\"117.126\" y1=\"276.305\" x2=\"113.126\" y2=\"276.305\" style=\"stroke:#ff0000; stroke-opacity:1\"/>\n",
       "<line clip-path=\"url(#clip5902)\" x1=\"117.126\" y1=\"276.305\" x2=\"117.126\" y2=\"272.305\" style=\"stroke:#ff0000; stroke-opacity:1\"/>\n",
       "<line clip-path=\"url(#clip5902)\" x1=\"117.126\" y1=\"276.305\" x2=\"121.126\" y2=\"276.305\" style=\"stroke:#ff0000; stroke-opacity:1\"/>\n",
       "<line clip-path=\"url(#clip5902)\" x1=\"122.553\" y1=\"267.222\" x2=\"122.553\" y2=\"272.222\" style=\"stroke:#000000; stroke-opacity:1\"/>\n",
       "<line clip-path=\"url(#clip5902)\" x1=\"122.553\" y1=\"267.222\" x2=\"117.553\" y2=\"267.222\" style=\"stroke:#000000; stroke-opacity:1\"/>\n",
       "<line clip-path=\"url(#clip5902)\" x1=\"122.553\" y1=\"267.222\" x2=\"122.553\" y2=\"262.222\" style=\"stroke:#000000; stroke-opacity:1\"/>\n",
       "<line clip-path=\"url(#clip5902)\" x1=\"122.553\" y1=\"267.222\" x2=\"127.553\" y2=\"267.222\" style=\"stroke:#000000; stroke-opacity:1\"/>\n",
       "<line clip-path=\"url(#clip5902)\" x1=\"122.553\" y1=\"267.222\" x2=\"122.553\" y2=\"271.222\" style=\"stroke:#ff0000; stroke-opacity:1\"/>\n",
       "<line clip-path=\"url(#clip5902)\" x1=\"122.553\" y1=\"267.222\" x2=\"118.553\" y2=\"267.222\" style=\"stroke:#ff0000; stroke-opacity:1\"/>\n",
       "<line clip-path=\"url(#clip5902)\" x1=\"122.553\" y1=\"267.222\" x2=\"122.553\" y2=\"263.222\" style=\"stroke:#ff0000; stroke-opacity:1\"/>\n",
       "<line clip-path=\"url(#clip5902)\" x1=\"122.553\" y1=\"267.222\" x2=\"126.553\" y2=\"267.222\" style=\"stroke:#ff0000; stroke-opacity:1\"/>\n",
       "<line clip-path=\"url(#clip5902)\" x1=\"84.0817\" y1=\"312.98\" x2=\"84.0817\" y2=\"317.98\" style=\"stroke:#000000; stroke-opacity:1\"/>\n",
       "<line clip-path=\"url(#clip5902)\" x1=\"84.0817\" y1=\"312.98\" x2=\"79.0817\" y2=\"312.98\" style=\"stroke:#000000; stroke-opacity:1\"/>\n",
       "<line clip-path=\"url(#clip5902)\" x1=\"84.0817\" y1=\"312.98\" x2=\"84.0817\" y2=\"307.98\" style=\"stroke:#000000; stroke-opacity:1\"/>\n",
       "<line clip-path=\"url(#clip5902)\" x1=\"84.0817\" y1=\"312.98\" x2=\"89.0817\" y2=\"312.98\" style=\"stroke:#000000; stroke-opacity:1\"/>\n",
       "<line clip-path=\"url(#clip5902)\" x1=\"84.0817\" y1=\"312.98\" x2=\"84.0817\" y2=\"316.98\" style=\"stroke:#ff0000; stroke-opacity:1\"/>\n",
       "<line clip-path=\"url(#clip5902)\" x1=\"84.0817\" y1=\"312.98\" x2=\"80.0817\" y2=\"312.98\" style=\"stroke:#ff0000; stroke-opacity:1\"/>\n",
       "<line clip-path=\"url(#clip5902)\" x1=\"84.0817\" y1=\"312.98\" x2=\"84.0817\" y2=\"308.98\" style=\"stroke:#ff0000; stroke-opacity:1\"/>\n",
       "<line clip-path=\"url(#clip5902)\" x1=\"84.0817\" y1=\"312.98\" x2=\"88.0817\" y2=\"312.98\" style=\"stroke:#ff0000; stroke-opacity:1\"/>\n",
       "<line clip-path=\"url(#clip5902)\" x1=\"84.8721\" y1=\"349.388\" x2=\"84.8721\" y2=\"354.388\" style=\"stroke:#000000; stroke-opacity:1\"/>\n",
       "<line clip-path=\"url(#clip5902)\" x1=\"84.8721\" y1=\"349.388\" x2=\"79.8721\" y2=\"349.388\" style=\"stroke:#000000; stroke-opacity:1\"/>\n",
       "<line clip-path=\"url(#clip5902)\" x1=\"84.8721\" y1=\"349.388\" x2=\"84.8721\" y2=\"344.388\" style=\"stroke:#000000; stroke-opacity:1\"/>\n",
       "<line clip-path=\"url(#clip5902)\" x1=\"84.8721\" y1=\"349.388\" x2=\"89.8721\" y2=\"349.388\" style=\"stroke:#000000; stroke-opacity:1\"/>\n",
       "<line clip-path=\"url(#clip5902)\" x1=\"84.8721\" y1=\"349.388\" x2=\"84.8721\" y2=\"353.388\" style=\"stroke:#ff0000; stroke-opacity:1\"/>\n",
       "<line clip-path=\"url(#clip5902)\" x1=\"84.8721\" y1=\"349.388\" x2=\"80.8721\" y2=\"349.388\" style=\"stroke:#ff0000; stroke-opacity:1\"/>\n",
       "<line clip-path=\"url(#clip5902)\" x1=\"84.8721\" y1=\"349.388\" x2=\"84.8721\" y2=\"345.388\" style=\"stroke:#ff0000; stroke-opacity:1\"/>\n",
       "<line clip-path=\"url(#clip5902)\" x1=\"84.8721\" y1=\"349.388\" x2=\"88.8721\" y2=\"349.388\" style=\"stroke:#ff0000; stroke-opacity:1\"/>\n",
       "<line clip-path=\"url(#clip5902)\" x1=\"82.307\" y1=\"299.51\" x2=\"82.307\" y2=\"304.51\" style=\"stroke:#000000; stroke-opacity:1\"/>\n",
       "<line clip-path=\"url(#clip5902)\" x1=\"82.307\" y1=\"299.51\" x2=\"77.307\" y2=\"299.51\" style=\"stroke:#000000; stroke-opacity:1\"/>\n",
       "<line clip-path=\"url(#clip5902)\" x1=\"82.307\" y1=\"299.51\" x2=\"82.307\" y2=\"294.51\" style=\"stroke:#000000; stroke-opacity:1\"/>\n",
       "<line clip-path=\"url(#clip5902)\" x1=\"82.307\" y1=\"299.51\" x2=\"87.307\" y2=\"299.51\" style=\"stroke:#000000; stroke-opacity:1\"/>\n",
       "<line clip-path=\"url(#clip5902)\" x1=\"82.307\" y1=\"299.51\" x2=\"82.307\" y2=\"303.51\" style=\"stroke:#ff0000; stroke-opacity:1\"/>\n",
       "<line clip-path=\"url(#clip5902)\" x1=\"82.307\" y1=\"299.51\" x2=\"78.307\" y2=\"299.51\" style=\"stroke:#ff0000; stroke-opacity:1\"/>\n",
       "<line clip-path=\"url(#clip5902)\" x1=\"82.307\" y1=\"299.51\" x2=\"82.307\" y2=\"295.51\" style=\"stroke:#ff0000; stroke-opacity:1\"/>\n",
       "<line clip-path=\"url(#clip5902)\" x1=\"82.307\" y1=\"299.51\" x2=\"86.307\" y2=\"299.51\" style=\"stroke:#ff0000; stroke-opacity:1\"/>\n",
       "<line clip-path=\"url(#clip5902)\" x1=\"63.0912\" y1=\"272.264\" x2=\"63.0912\" y2=\"277.264\" style=\"stroke:#000000; stroke-opacity:1\"/>\n",
       "<line clip-path=\"url(#clip5902)\" x1=\"63.0912\" y1=\"272.264\" x2=\"58.0912\" y2=\"272.264\" style=\"stroke:#000000; stroke-opacity:1\"/>\n",
       "<line clip-path=\"url(#clip5902)\" x1=\"63.0912\" y1=\"272.264\" x2=\"63.0912\" y2=\"267.264\" style=\"stroke:#000000; stroke-opacity:1\"/>\n",
       "<line clip-path=\"url(#clip5902)\" x1=\"63.0912\" y1=\"272.264\" x2=\"68.0912\" y2=\"272.264\" style=\"stroke:#000000; stroke-opacity:1\"/>\n",
       "<line clip-path=\"url(#clip5902)\" x1=\"63.0912\" y1=\"272.264\" x2=\"63.0912\" y2=\"276.264\" style=\"stroke:#ff0000; stroke-opacity:1\"/>\n",
       "<line clip-path=\"url(#clip5902)\" x1=\"63.0912\" y1=\"272.264\" x2=\"59.0912\" y2=\"272.264\" style=\"stroke:#ff0000; stroke-opacity:1\"/>\n",
       "<line clip-path=\"url(#clip5902)\" x1=\"63.0912\" y1=\"272.264\" x2=\"63.0912\" y2=\"268.264\" style=\"stroke:#ff0000; stroke-opacity:1\"/>\n",
       "<line clip-path=\"url(#clip5902)\" x1=\"63.0912\" y1=\"272.264\" x2=\"67.0912\" y2=\"272.264\" style=\"stroke:#ff0000; stroke-opacity:1\"/>\n",
       "<line clip-path=\"url(#clip5902)\" x1=\"174.252\" y1=\"280.479\" x2=\"174.252\" y2=\"285.479\" style=\"stroke:#000000; stroke-opacity:1\"/>\n",
       "<line clip-path=\"url(#clip5902)\" x1=\"174.252\" y1=\"280.479\" x2=\"169.252\" y2=\"280.479\" style=\"stroke:#000000; stroke-opacity:1\"/>\n",
       "<line clip-path=\"url(#clip5902)\" x1=\"174.252\" y1=\"280.479\" x2=\"174.252\" y2=\"275.479\" style=\"stroke:#000000; stroke-opacity:1\"/>\n",
       "<line clip-path=\"url(#clip5902)\" x1=\"174.252\" y1=\"280.479\" x2=\"179.252\" y2=\"280.479\" style=\"stroke:#000000; stroke-opacity:1\"/>\n",
       "<line clip-path=\"url(#clip5902)\" x1=\"174.252\" y1=\"280.479\" x2=\"174.252\" y2=\"284.479\" style=\"stroke:#ff0000; stroke-opacity:1\"/>\n",
       "<line clip-path=\"url(#clip5902)\" x1=\"174.252\" y1=\"280.479\" x2=\"170.252\" y2=\"280.479\" style=\"stroke:#ff0000; stroke-opacity:1\"/>\n",
       "<line clip-path=\"url(#clip5902)\" x1=\"174.252\" y1=\"280.479\" x2=\"174.252\" y2=\"276.479\" style=\"stroke:#ff0000; stroke-opacity:1\"/>\n",
       "<line clip-path=\"url(#clip5902)\" x1=\"174.252\" y1=\"280.479\" x2=\"178.252\" y2=\"280.479\" style=\"stroke:#ff0000; stroke-opacity:1\"/>\n",
       "<line clip-path=\"url(#clip5902)\" x1=\"178.595\" y1=\"261.897\" x2=\"178.595\" y2=\"266.897\" style=\"stroke:#000000; stroke-opacity:1\"/>\n",
       "<line clip-path=\"url(#clip5902)\" x1=\"178.595\" y1=\"261.897\" x2=\"173.595\" y2=\"261.897\" style=\"stroke:#000000; stroke-opacity:1\"/>\n",
       "<line clip-path=\"url(#clip5902)\" x1=\"178.595\" y1=\"261.897\" x2=\"178.595\" y2=\"256.897\" style=\"stroke:#000000; stroke-opacity:1\"/>\n",
       "<line clip-path=\"url(#clip5902)\" x1=\"178.595\" y1=\"261.897\" x2=\"183.595\" y2=\"261.897\" style=\"stroke:#000000; stroke-opacity:1\"/>\n",
       "<line clip-path=\"url(#clip5902)\" x1=\"178.595\" y1=\"261.897\" x2=\"178.595\" y2=\"265.897\" style=\"stroke:#ff0000; stroke-opacity:1\"/>\n",
       "<line clip-path=\"url(#clip5902)\" x1=\"178.595\" y1=\"261.897\" x2=\"174.595\" y2=\"261.897\" style=\"stroke:#ff0000; stroke-opacity:1\"/>\n",
       "<line clip-path=\"url(#clip5902)\" x1=\"178.595\" y1=\"261.897\" x2=\"178.595\" y2=\"257.897\" style=\"stroke:#ff0000; stroke-opacity:1\"/>\n",
       "<line clip-path=\"url(#clip5902)\" x1=\"178.595\" y1=\"261.897\" x2=\"182.595\" y2=\"261.897\" style=\"stroke:#ff0000; stroke-opacity:1\"/>\n",
       "<line clip-path=\"url(#clip5902)\" x1=\"159.57\" y1=\"265.029\" x2=\"159.57\" y2=\"270.029\" style=\"stroke:#000000; stroke-opacity:1\"/>\n",
       "<line clip-path=\"url(#clip5902)\" x1=\"159.57\" y1=\"265.029\" x2=\"154.57\" y2=\"265.029\" style=\"stroke:#000000; stroke-opacity:1\"/>\n",
       "<line clip-path=\"url(#clip5902)\" x1=\"159.57\" y1=\"265.029\" x2=\"159.57\" y2=\"260.029\" style=\"stroke:#000000; stroke-opacity:1\"/>\n",
       "<line clip-path=\"url(#clip5902)\" x1=\"159.57\" y1=\"265.029\" x2=\"164.57\" y2=\"265.029\" style=\"stroke:#000000; stroke-opacity:1\"/>\n",
       "<line clip-path=\"url(#clip5902)\" x1=\"159.57\" y1=\"265.029\" x2=\"159.57\" y2=\"269.029\" style=\"stroke:#ff0000; stroke-opacity:1\"/>\n",
       "<line clip-path=\"url(#clip5902)\" x1=\"159.57\" y1=\"265.029\" x2=\"155.57\" y2=\"265.029\" style=\"stroke:#ff0000; stroke-opacity:1\"/>\n",
       "<line clip-path=\"url(#clip5902)\" x1=\"159.57\" y1=\"265.029\" x2=\"159.57\" y2=\"261.029\" style=\"stroke:#ff0000; stroke-opacity:1\"/>\n",
       "<line clip-path=\"url(#clip5902)\" x1=\"159.57\" y1=\"265.029\" x2=\"163.57\" y2=\"265.029\" style=\"stroke:#ff0000; stroke-opacity:1\"/>\n",
       "<line clip-path=\"url(#clip5902)\" x1=\"49.148\" y1=\"340.706\" x2=\"49.148\" y2=\"345.706\" style=\"stroke:#000000; stroke-opacity:1\"/>\n",
       "<line clip-path=\"url(#clip5902)\" x1=\"49.148\" y1=\"340.706\" x2=\"44.148\" y2=\"340.706\" style=\"stroke:#000000; stroke-opacity:1\"/>\n",
       "<line clip-path=\"url(#clip5902)\" x1=\"49.148\" y1=\"340.706\" x2=\"49.148\" y2=\"335.706\" style=\"stroke:#000000; stroke-opacity:1\"/>\n",
       "<line clip-path=\"url(#clip5902)\" x1=\"49.148\" y1=\"340.706\" x2=\"54.148\" y2=\"340.706\" style=\"stroke:#000000; stroke-opacity:1\"/>\n",
       "<line clip-path=\"url(#clip5902)\" x1=\"49.148\" y1=\"340.706\" x2=\"49.148\" y2=\"344.706\" style=\"stroke:#ff0000; stroke-opacity:1\"/>\n",
       "<line clip-path=\"url(#clip5902)\" x1=\"49.148\" y1=\"340.706\" x2=\"45.148\" y2=\"340.706\" style=\"stroke:#ff0000; stroke-opacity:1\"/>\n",
       "<line clip-path=\"url(#clip5902)\" x1=\"49.148\" y1=\"340.706\" x2=\"49.148\" y2=\"336.706\" style=\"stroke:#ff0000; stroke-opacity:1\"/>\n",
       "<line clip-path=\"url(#clip5902)\" x1=\"49.148\" y1=\"340.706\" x2=\"53.148\" y2=\"340.706\" style=\"stroke:#ff0000; stroke-opacity:1\"/>\n",
       "<line clip-path=\"url(#clip5902)\" x1=\"536.726\" y1=\"101.704\" x2=\"536.726\" y2=\"106.704\" style=\"stroke:#000000; stroke-opacity:1\"/>\n",
       "<line clip-path=\"url(#clip5902)\" x1=\"536.726\" y1=\"101.704\" x2=\"531.726\" y2=\"101.704\" style=\"stroke:#000000; stroke-opacity:1\"/>\n",
       "<line clip-path=\"url(#clip5902)\" x1=\"536.726\" y1=\"101.704\" x2=\"536.726\" y2=\"96.7043\" style=\"stroke:#000000; stroke-opacity:1\"/>\n",
       "<line clip-path=\"url(#clip5902)\" x1=\"536.726\" y1=\"101.704\" x2=\"541.726\" y2=\"101.704\" style=\"stroke:#000000; stroke-opacity:1\"/>\n",
       "<line clip-path=\"url(#clip5902)\" x1=\"536.726\" y1=\"101.704\" x2=\"536.726\" y2=\"105.704\" style=\"stroke:#ff0000; stroke-opacity:1\"/>\n",
       "<line clip-path=\"url(#clip5902)\" x1=\"536.726\" y1=\"101.704\" x2=\"532.726\" y2=\"101.704\" style=\"stroke:#ff0000; stroke-opacity:1\"/>\n",
       "<line clip-path=\"url(#clip5902)\" x1=\"536.726\" y1=\"101.704\" x2=\"536.726\" y2=\"97.7043\" style=\"stroke:#ff0000; stroke-opacity:1\"/>\n",
       "<line clip-path=\"url(#clip5902)\" x1=\"536.726\" y1=\"101.704\" x2=\"540.726\" y2=\"101.704\" style=\"stroke:#ff0000; stroke-opacity:1\"/>\n",
       "<line clip-path=\"url(#clip5902)\" x1=\"343.781\" y1=\"176.905\" x2=\"343.781\" y2=\"181.905\" style=\"stroke:#000000; stroke-opacity:1\"/>\n",
       "<line clip-path=\"url(#clip5902)\" x1=\"343.781\" y1=\"176.905\" x2=\"338.781\" y2=\"176.905\" style=\"stroke:#000000; stroke-opacity:1\"/>\n",
       "<line clip-path=\"url(#clip5902)\" x1=\"343.781\" y1=\"176.905\" x2=\"343.781\" y2=\"171.905\" style=\"stroke:#000000; stroke-opacity:1\"/>\n",
       "<line clip-path=\"url(#clip5902)\" x1=\"343.781\" y1=\"176.905\" x2=\"348.781\" y2=\"176.905\" style=\"stroke:#000000; stroke-opacity:1\"/>\n",
       "<line clip-path=\"url(#clip5902)\" x1=\"343.781\" y1=\"176.905\" x2=\"343.781\" y2=\"180.905\" style=\"stroke:#ff0000; stroke-opacity:1\"/>\n",
       "<line clip-path=\"url(#clip5902)\" x1=\"343.781\" y1=\"176.905\" x2=\"339.781\" y2=\"176.905\" style=\"stroke:#ff0000; stroke-opacity:1\"/>\n",
       "<line clip-path=\"url(#clip5902)\" x1=\"343.781\" y1=\"176.905\" x2=\"343.781\" y2=\"172.905\" style=\"stroke:#ff0000; stroke-opacity:1\"/>\n",
       "<line clip-path=\"url(#clip5902)\" x1=\"343.781\" y1=\"176.905\" x2=\"347.781\" y2=\"176.905\" style=\"stroke:#ff0000; stroke-opacity:1\"/>\n",
       "<line clip-path=\"url(#clip5902)\" x1=\"466.465\" y1=\"112.904\" x2=\"466.465\" y2=\"117.904\" style=\"stroke:#000000; stroke-opacity:1\"/>\n",
       "<line clip-path=\"url(#clip5902)\" x1=\"466.465\" y1=\"112.904\" x2=\"461.465\" y2=\"112.904\" style=\"stroke:#000000; stroke-opacity:1\"/>\n",
       "<line clip-path=\"url(#clip5902)\" x1=\"466.465\" y1=\"112.904\" x2=\"466.465\" y2=\"107.904\" style=\"stroke:#000000; stroke-opacity:1\"/>\n",
       "<line clip-path=\"url(#clip5902)\" x1=\"466.465\" y1=\"112.904\" x2=\"471.465\" y2=\"112.904\" style=\"stroke:#000000; stroke-opacity:1\"/>\n",
       "<line clip-path=\"url(#clip5902)\" x1=\"466.465\" y1=\"112.904\" x2=\"466.465\" y2=\"116.904\" style=\"stroke:#ff0000; stroke-opacity:1\"/>\n",
       "<line clip-path=\"url(#clip5902)\" x1=\"466.465\" y1=\"112.904\" x2=\"462.465\" y2=\"112.904\" style=\"stroke:#ff0000; stroke-opacity:1\"/>\n",
       "<line clip-path=\"url(#clip5902)\" x1=\"466.465\" y1=\"112.904\" x2=\"466.465\" y2=\"108.904\" style=\"stroke:#ff0000; stroke-opacity:1\"/>\n",
       "<line clip-path=\"url(#clip5902)\" x1=\"466.465\" y1=\"112.904\" x2=\"470.465\" y2=\"112.904\" style=\"stroke:#ff0000; stroke-opacity:1\"/>\n",
       "<line clip-path=\"url(#clip5902)\" x1=\"110.896\" y1=\"268.667\" x2=\"110.896\" y2=\"273.667\" style=\"stroke:#000000; stroke-opacity:1\"/>\n",
       "<line clip-path=\"url(#clip5902)\" x1=\"110.896\" y1=\"268.667\" x2=\"105.896\" y2=\"268.667\" style=\"stroke:#000000; stroke-opacity:1\"/>\n",
       "<line clip-path=\"url(#clip5902)\" x1=\"110.896\" y1=\"268.667\" x2=\"110.896\" y2=\"263.667\" style=\"stroke:#000000; stroke-opacity:1\"/>\n",
       "<line clip-path=\"url(#clip5902)\" x1=\"110.896\" y1=\"268.667\" x2=\"115.896\" y2=\"268.667\" style=\"stroke:#000000; stroke-opacity:1\"/>\n",
       "<line clip-path=\"url(#clip5902)\" x1=\"110.896\" y1=\"268.667\" x2=\"110.896\" y2=\"272.667\" style=\"stroke:#ff0000; stroke-opacity:1\"/>\n",
       "<line clip-path=\"url(#clip5902)\" x1=\"110.896\" y1=\"268.667\" x2=\"106.896\" y2=\"268.667\" style=\"stroke:#ff0000; stroke-opacity:1\"/>\n",
       "<line clip-path=\"url(#clip5902)\" x1=\"110.896\" y1=\"268.667\" x2=\"110.896\" y2=\"264.667\" style=\"stroke:#ff0000; stroke-opacity:1\"/>\n",
       "<line clip-path=\"url(#clip5902)\" x1=\"110.896\" y1=\"268.667\" x2=\"114.896\" y2=\"268.667\" style=\"stroke:#ff0000; stroke-opacity:1\"/>\n",
       "<line clip-path=\"url(#clip5902)\" x1=\"143.51\" y1=\"257.672\" x2=\"143.51\" y2=\"262.672\" style=\"stroke:#000000; stroke-opacity:1\"/>\n",
       "<line clip-path=\"url(#clip5902)\" x1=\"143.51\" y1=\"257.672\" x2=\"138.51\" y2=\"257.672\" style=\"stroke:#000000; stroke-opacity:1\"/>\n",
       "<line clip-path=\"url(#clip5902)\" x1=\"143.51\" y1=\"257.672\" x2=\"143.51\" y2=\"252.672\" style=\"stroke:#000000; stroke-opacity:1\"/>\n",
       "<line clip-path=\"url(#clip5902)\" x1=\"143.51\" y1=\"257.672\" x2=\"148.51\" y2=\"257.672\" style=\"stroke:#000000; stroke-opacity:1\"/>\n",
       "<line clip-path=\"url(#clip5902)\" x1=\"143.51\" y1=\"257.672\" x2=\"143.51\" y2=\"261.672\" style=\"stroke:#ff0000; stroke-opacity:1\"/>\n",
       "<line clip-path=\"url(#clip5902)\" x1=\"143.51\" y1=\"257.672\" x2=\"139.51\" y2=\"257.672\" style=\"stroke:#ff0000; stroke-opacity:1\"/>\n",
       "<line clip-path=\"url(#clip5902)\" x1=\"143.51\" y1=\"257.672\" x2=\"143.51\" y2=\"253.672\" style=\"stroke:#ff0000; stroke-opacity:1\"/>\n",
       "<line clip-path=\"url(#clip5902)\" x1=\"143.51\" y1=\"257.672\" x2=\"147.51\" y2=\"257.672\" style=\"stroke:#ff0000; stroke-opacity:1\"/>\n",
       "<line clip-path=\"url(#clip5902)\" x1=\"202.29\" y1=\"231.672\" x2=\"202.29\" y2=\"236.672\" style=\"stroke:#000000; stroke-opacity:1\"/>\n",
       "<line clip-path=\"url(#clip5902)\" x1=\"202.29\" y1=\"231.672\" x2=\"197.29\" y2=\"231.672\" style=\"stroke:#000000; stroke-opacity:1\"/>\n",
       "<line clip-path=\"url(#clip5902)\" x1=\"202.29\" y1=\"231.672\" x2=\"202.29\" y2=\"226.672\" style=\"stroke:#000000; stroke-opacity:1\"/>\n",
       "<line clip-path=\"url(#clip5902)\" x1=\"202.29\" y1=\"231.672\" x2=\"207.29\" y2=\"231.672\" style=\"stroke:#000000; stroke-opacity:1\"/>\n",
       "<line clip-path=\"url(#clip5902)\" x1=\"202.29\" y1=\"231.672\" x2=\"202.29\" y2=\"235.672\" style=\"stroke:#ff0000; stroke-opacity:1\"/>\n",
       "<line clip-path=\"url(#clip5902)\" x1=\"202.29\" y1=\"231.672\" x2=\"198.29\" y2=\"231.672\" style=\"stroke:#ff0000; stroke-opacity:1\"/>\n",
       "<line clip-path=\"url(#clip5902)\" x1=\"202.29\" y1=\"231.672\" x2=\"202.29\" y2=\"227.672\" style=\"stroke:#ff0000; stroke-opacity:1\"/>\n",
       "<line clip-path=\"url(#clip5902)\" x1=\"202.29\" y1=\"231.672\" x2=\"206.29\" y2=\"231.672\" style=\"stroke:#ff0000; stroke-opacity:1\"/>\n",
       "<line clip-path=\"url(#clip5902)\" x1=\"58.8422\" y1=\"318.177\" x2=\"58.8422\" y2=\"323.177\" style=\"stroke:#000000; stroke-opacity:1\"/>\n",
       "<line clip-path=\"url(#clip5902)\" x1=\"58.8422\" y1=\"318.177\" x2=\"53.8422\" y2=\"318.177\" style=\"stroke:#000000; stroke-opacity:1\"/>\n",
       "<line clip-path=\"url(#clip5902)\" x1=\"58.8422\" y1=\"318.177\" x2=\"58.8422\" y2=\"313.177\" style=\"stroke:#000000; stroke-opacity:1\"/>\n",
       "<line clip-path=\"url(#clip5902)\" x1=\"58.8422\" y1=\"318.177\" x2=\"63.8422\" y2=\"318.177\" style=\"stroke:#000000; stroke-opacity:1\"/>\n",
       "<line clip-path=\"url(#clip5902)\" x1=\"58.8422\" y1=\"318.177\" x2=\"58.8422\" y2=\"322.177\" style=\"stroke:#ff0000; stroke-opacity:1\"/>\n",
       "<line clip-path=\"url(#clip5902)\" x1=\"58.8422\" y1=\"318.177\" x2=\"54.8422\" y2=\"318.177\" style=\"stroke:#ff0000; stroke-opacity:1\"/>\n",
       "<line clip-path=\"url(#clip5902)\" x1=\"58.8422\" y1=\"318.177\" x2=\"58.8422\" y2=\"314.177\" style=\"stroke:#ff0000; stroke-opacity:1\"/>\n",
       "<line clip-path=\"url(#clip5902)\" x1=\"58.8422\" y1=\"318.177\" x2=\"62.8422\" y2=\"318.177\" style=\"stroke:#ff0000; stroke-opacity:1\"/>\n",
       "<line clip-path=\"url(#clip5902)\" x1=\"508.319\" y1=\"62.4974\" x2=\"508.319\" y2=\"67.4974\" style=\"stroke:#000000; stroke-opacity:1\"/>\n",
       "<line clip-path=\"url(#clip5902)\" x1=\"508.319\" y1=\"62.4974\" x2=\"503.319\" y2=\"62.4974\" style=\"stroke:#000000; stroke-opacity:1\"/>\n",
       "<line clip-path=\"url(#clip5902)\" x1=\"508.319\" y1=\"62.4974\" x2=\"508.319\" y2=\"57.4974\" style=\"stroke:#000000; stroke-opacity:1\"/>\n",
       "<line clip-path=\"url(#clip5902)\" x1=\"508.319\" y1=\"62.4974\" x2=\"513.319\" y2=\"62.4974\" style=\"stroke:#000000; stroke-opacity:1\"/>\n",
       "<line clip-path=\"url(#clip5902)\" x1=\"508.319\" y1=\"62.4974\" x2=\"508.319\" y2=\"66.4974\" style=\"stroke:#ff0000; stroke-opacity:1\"/>\n",
       "<line clip-path=\"url(#clip5902)\" x1=\"508.319\" y1=\"62.4974\" x2=\"504.319\" y2=\"62.4974\" style=\"stroke:#ff0000; stroke-opacity:1\"/>\n",
       "<line clip-path=\"url(#clip5902)\" x1=\"508.319\" y1=\"62.4974\" x2=\"508.319\" y2=\"58.4974\" style=\"stroke:#ff0000; stroke-opacity:1\"/>\n",
       "<line clip-path=\"url(#clip5902)\" x1=\"508.319\" y1=\"62.4974\" x2=\"512.319\" y2=\"62.4974\" style=\"stroke:#ff0000; stroke-opacity:1\"/>\n",
       "<line clip-path=\"url(#clip5902)\" x1=\"199.261\" y1=\"245.694\" x2=\"199.261\" y2=\"250.694\" style=\"stroke:#000000; stroke-opacity:1\"/>\n",
       "<line clip-path=\"url(#clip5902)\" x1=\"199.261\" y1=\"245.694\" x2=\"194.261\" y2=\"245.694\" style=\"stroke:#000000; stroke-opacity:1\"/>\n",
       "<line clip-path=\"url(#clip5902)\" x1=\"199.261\" y1=\"245.694\" x2=\"199.261\" y2=\"240.694\" style=\"stroke:#000000; stroke-opacity:1\"/>\n",
       "<line clip-path=\"url(#clip5902)\" x1=\"199.261\" y1=\"245.694\" x2=\"204.261\" y2=\"245.694\" style=\"stroke:#000000; stroke-opacity:1\"/>\n",
       "<line clip-path=\"url(#clip5902)\" x1=\"199.261\" y1=\"245.694\" x2=\"199.261\" y2=\"249.694\" style=\"stroke:#ff0000; stroke-opacity:1\"/>\n",
       "<line clip-path=\"url(#clip5902)\" x1=\"199.261\" y1=\"245.694\" x2=\"195.261\" y2=\"245.694\" style=\"stroke:#ff0000; stroke-opacity:1\"/>\n",
       "<line clip-path=\"url(#clip5902)\" x1=\"199.261\" y1=\"245.694\" x2=\"199.261\" y2=\"241.694\" style=\"stroke:#ff0000; stroke-opacity:1\"/>\n",
       "<line clip-path=\"url(#clip5902)\" x1=\"199.261\" y1=\"245.694\" x2=\"203.261\" y2=\"245.694\" style=\"stroke:#ff0000; stroke-opacity:1\"/>\n",
       "<line clip-path=\"url(#clip5902)\" x1=\"114.418\" y1=\"279.666\" x2=\"114.418\" y2=\"284.666\" style=\"stroke:#000000; stroke-opacity:1\"/>\n",
       "<line clip-path=\"url(#clip5902)\" x1=\"114.418\" y1=\"279.666\" x2=\"109.418\" y2=\"279.666\" style=\"stroke:#000000; stroke-opacity:1\"/>\n",
       "<line clip-path=\"url(#clip5902)\" x1=\"114.418\" y1=\"279.666\" x2=\"114.418\" y2=\"274.666\" style=\"stroke:#000000; stroke-opacity:1\"/>\n",
       "<line clip-path=\"url(#clip5902)\" x1=\"114.418\" y1=\"279.666\" x2=\"119.418\" y2=\"279.666\" style=\"stroke:#000000; stroke-opacity:1\"/>\n",
       "<line clip-path=\"url(#clip5902)\" x1=\"114.418\" y1=\"279.666\" x2=\"114.418\" y2=\"283.666\" style=\"stroke:#ff0000; stroke-opacity:1\"/>\n",
       "<line clip-path=\"url(#clip5902)\" x1=\"114.418\" y1=\"279.666\" x2=\"110.418\" y2=\"279.666\" style=\"stroke:#ff0000; stroke-opacity:1\"/>\n",
       "<line clip-path=\"url(#clip5902)\" x1=\"114.418\" y1=\"279.666\" x2=\"114.418\" y2=\"275.666\" style=\"stroke:#ff0000; stroke-opacity:1\"/>\n",
       "<line clip-path=\"url(#clip5902)\" x1=\"114.418\" y1=\"279.666\" x2=\"118.418\" y2=\"279.666\" style=\"stroke:#ff0000; stroke-opacity:1\"/>\n",
       "<line clip-path=\"url(#clip5902)\" x1=\"74.1906\" y1=\"314.834\" x2=\"74.1906\" y2=\"319.834\" style=\"stroke:#000000; stroke-opacity:1\"/>\n",
       "<line clip-path=\"url(#clip5902)\" x1=\"74.1906\" y1=\"314.834\" x2=\"69.1906\" y2=\"314.834\" style=\"stroke:#000000; stroke-opacity:1\"/>\n",
       "<line clip-path=\"url(#clip5902)\" x1=\"74.1906\" y1=\"314.834\" x2=\"74.1906\" y2=\"309.834\" style=\"stroke:#000000; stroke-opacity:1\"/>\n",
       "<line clip-path=\"url(#clip5902)\" x1=\"74.1906\" y1=\"314.834\" x2=\"79.1906\" y2=\"314.834\" style=\"stroke:#000000; stroke-opacity:1\"/>\n",
       "<line clip-path=\"url(#clip5902)\" x1=\"74.1906\" y1=\"314.834\" x2=\"74.1906\" y2=\"318.834\" style=\"stroke:#ff0000; stroke-opacity:1\"/>\n",
       "<line clip-path=\"url(#clip5902)\" x1=\"74.1906\" y1=\"314.834\" x2=\"70.1906\" y2=\"314.834\" style=\"stroke:#ff0000; stroke-opacity:1\"/>\n",
       "<line clip-path=\"url(#clip5902)\" x1=\"74.1906\" y1=\"314.834\" x2=\"74.1906\" y2=\"310.834\" style=\"stroke:#ff0000; stroke-opacity:1\"/>\n",
       "<line clip-path=\"url(#clip5902)\" x1=\"74.1906\" y1=\"314.834\" x2=\"78.1906\" y2=\"314.834\" style=\"stroke:#ff0000; stroke-opacity:1\"/>\n",
       "<line clip-path=\"url(#clip5902)\" x1=\"111.129\" y1=\"288.432\" x2=\"111.129\" y2=\"293.432\" style=\"stroke:#000000; stroke-opacity:1\"/>\n",
       "<line clip-path=\"url(#clip5902)\" x1=\"111.129\" y1=\"288.432\" x2=\"106.129\" y2=\"288.432\" style=\"stroke:#000000; stroke-opacity:1\"/>\n",
       "<line clip-path=\"url(#clip5902)\" x1=\"111.129\" y1=\"288.432\" x2=\"111.129\" y2=\"283.432\" style=\"stroke:#000000; stroke-opacity:1\"/>\n",
       "<line clip-path=\"url(#clip5902)\" x1=\"111.129\" y1=\"288.432\" x2=\"116.129\" y2=\"288.432\" style=\"stroke:#000000; stroke-opacity:1\"/>\n",
       "<line clip-path=\"url(#clip5902)\" x1=\"111.129\" y1=\"288.432\" x2=\"111.129\" y2=\"292.432\" style=\"stroke:#ff0000; stroke-opacity:1\"/>\n",
       "<line clip-path=\"url(#clip5902)\" x1=\"111.129\" y1=\"288.432\" x2=\"107.129\" y2=\"288.432\" style=\"stroke:#ff0000; stroke-opacity:1\"/>\n",
       "<line clip-path=\"url(#clip5902)\" x1=\"111.129\" y1=\"288.432\" x2=\"111.129\" y2=\"284.432\" style=\"stroke:#ff0000; stroke-opacity:1\"/>\n",
       "<line clip-path=\"url(#clip5902)\" x1=\"111.129\" y1=\"288.432\" x2=\"115.129\" y2=\"288.432\" style=\"stroke:#ff0000; stroke-opacity:1\"/>\n",
       "<line clip-path=\"url(#clip5902)\" x1=\"44.5326\" y1=\"365.511\" x2=\"44.5326\" y2=\"370.511\" style=\"stroke:#000000; stroke-opacity:1\"/>\n",
       "<line clip-path=\"url(#clip5902)\" x1=\"44.5326\" y1=\"365.511\" x2=\"39.5326\" y2=\"365.511\" style=\"stroke:#000000; stroke-opacity:1\"/>\n",
       "<line clip-path=\"url(#clip5902)\" x1=\"44.5326\" y1=\"365.511\" x2=\"44.5326\" y2=\"360.511\" style=\"stroke:#000000; stroke-opacity:1\"/>\n",
       "<line clip-path=\"url(#clip5902)\" x1=\"44.5326\" y1=\"365.511\" x2=\"49.5326\" y2=\"365.511\" style=\"stroke:#000000; stroke-opacity:1\"/>\n",
       "<line clip-path=\"url(#clip5902)\" x1=\"44.5326\" y1=\"365.511\" x2=\"44.5326\" y2=\"369.511\" style=\"stroke:#ff0000; stroke-opacity:1\"/>\n",
       "<line clip-path=\"url(#clip5902)\" x1=\"44.5326\" y1=\"365.511\" x2=\"40.5326\" y2=\"365.511\" style=\"stroke:#ff0000; stroke-opacity:1\"/>\n",
       "<line clip-path=\"url(#clip5902)\" x1=\"44.5326\" y1=\"365.511\" x2=\"44.5326\" y2=\"361.511\" style=\"stroke:#ff0000; stroke-opacity:1\"/>\n",
       "<line clip-path=\"url(#clip5902)\" x1=\"44.5326\" y1=\"365.511\" x2=\"48.5326\" y2=\"365.511\" style=\"stroke:#ff0000; stroke-opacity:1\"/>\n",
       "<line clip-path=\"url(#clip5902)\" x1=\"90.596\" y1=\"327.399\" x2=\"90.596\" y2=\"332.399\" style=\"stroke:#000000; stroke-opacity:1\"/>\n",
       "<line clip-path=\"url(#clip5902)\" x1=\"90.596\" y1=\"327.399\" x2=\"85.596\" y2=\"327.399\" style=\"stroke:#000000; stroke-opacity:1\"/>\n",
       "<line clip-path=\"url(#clip5902)\" x1=\"90.596\" y1=\"327.399\" x2=\"90.596\" y2=\"322.399\" style=\"stroke:#000000; stroke-opacity:1\"/>\n",
       "<line clip-path=\"url(#clip5902)\" x1=\"90.596\" y1=\"327.399\" x2=\"95.596\" y2=\"327.399\" style=\"stroke:#000000; stroke-opacity:1\"/>\n",
       "<line clip-path=\"url(#clip5902)\" x1=\"90.596\" y1=\"327.399\" x2=\"90.596\" y2=\"331.399\" style=\"stroke:#ff0000; stroke-opacity:1\"/>\n",
       "<line clip-path=\"url(#clip5902)\" x1=\"90.596\" y1=\"327.399\" x2=\"86.596\" y2=\"327.399\" style=\"stroke:#ff0000; stroke-opacity:1\"/>\n",
       "<line clip-path=\"url(#clip5902)\" x1=\"90.596\" y1=\"327.399\" x2=\"90.596\" y2=\"323.399\" style=\"stroke:#ff0000; stroke-opacity:1\"/>\n",
       "<line clip-path=\"url(#clip5902)\" x1=\"90.596\" y1=\"327.399\" x2=\"94.596\" y2=\"327.399\" style=\"stroke:#ff0000; stroke-opacity:1\"/>\n",
       "<line clip-path=\"url(#clip5902)\" x1=\"120.599\" y1=\"281.476\" x2=\"120.599\" y2=\"286.476\" style=\"stroke:#000000; stroke-opacity:1\"/>\n",
       "<line clip-path=\"url(#clip5902)\" x1=\"120.599\" y1=\"281.476\" x2=\"115.599\" y2=\"281.476\" style=\"stroke:#000000; stroke-opacity:1\"/>\n",
       "<line clip-path=\"url(#clip5902)\" x1=\"120.599\" y1=\"281.476\" x2=\"120.599\" y2=\"276.476\" style=\"stroke:#000000; stroke-opacity:1\"/>\n",
       "<line clip-path=\"url(#clip5902)\" x1=\"120.599\" y1=\"281.476\" x2=\"125.599\" y2=\"281.476\" style=\"stroke:#000000; stroke-opacity:1\"/>\n",
       "<line clip-path=\"url(#clip5902)\" x1=\"120.599\" y1=\"281.476\" x2=\"120.599\" y2=\"285.476\" style=\"stroke:#ff0000; stroke-opacity:1\"/>\n",
       "<line clip-path=\"url(#clip5902)\" x1=\"120.599\" y1=\"281.476\" x2=\"116.599\" y2=\"281.476\" style=\"stroke:#ff0000; stroke-opacity:1\"/>\n",
       "<line clip-path=\"url(#clip5902)\" x1=\"120.599\" y1=\"281.476\" x2=\"120.599\" y2=\"277.476\" style=\"stroke:#ff0000; stroke-opacity:1\"/>\n",
       "<line clip-path=\"url(#clip5902)\" x1=\"120.599\" y1=\"281.476\" x2=\"124.599\" y2=\"281.476\" style=\"stroke:#ff0000; stroke-opacity:1\"/>\n",
       "<line clip-path=\"url(#clip5902)\" x1=\"44.8233\" y1=\"258.219\" x2=\"44.8233\" y2=\"263.219\" style=\"stroke:#000000; stroke-opacity:1\"/>\n",
       "<line clip-path=\"url(#clip5902)\" x1=\"44.8233\" y1=\"258.219\" x2=\"39.8233\" y2=\"258.219\" style=\"stroke:#000000; stroke-opacity:1\"/>\n",
       "<line clip-path=\"url(#clip5902)\" x1=\"44.8233\" y1=\"258.219\" x2=\"44.8233\" y2=\"253.219\" style=\"stroke:#000000; stroke-opacity:1\"/>\n",
       "<line clip-path=\"url(#clip5902)\" x1=\"44.8233\" y1=\"258.219\" x2=\"49.8233\" y2=\"258.219\" style=\"stroke:#000000; stroke-opacity:1\"/>\n",
       "<line clip-path=\"url(#clip5902)\" x1=\"44.8233\" y1=\"258.219\" x2=\"44.8233\" y2=\"262.219\" style=\"stroke:#ff0000; stroke-opacity:1\"/>\n",
       "<line clip-path=\"url(#clip5902)\" x1=\"44.8233\" y1=\"258.219\" x2=\"40.8233\" y2=\"258.219\" style=\"stroke:#ff0000; stroke-opacity:1\"/>\n",
       "<line clip-path=\"url(#clip5902)\" x1=\"44.8233\" y1=\"258.219\" x2=\"44.8233\" y2=\"254.219\" style=\"stroke:#ff0000; stroke-opacity:1\"/>\n",
       "<line clip-path=\"url(#clip5902)\" x1=\"44.8233\" y1=\"258.219\" x2=\"48.8233\" y2=\"258.219\" style=\"stroke:#ff0000; stroke-opacity:1\"/>\n",
       "<line clip-path=\"url(#clip5902)\" x1=\"203.441\" y1=\"244.764\" x2=\"203.441\" y2=\"249.764\" style=\"stroke:#000000; stroke-opacity:1\"/>\n",
       "<line clip-path=\"url(#clip5902)\" x1=\"203.441\" y1=\"244.764\" x2=\"198.441\" y2=\"244.764\" style=\"stroke:#000000; stroke-opacity:1\"/>\n",
       "<line clip-path=\"url(#clip5902)\" x1=\"203.441\" y1=\"244.764\" x2=\"203.441\" y2=\"239.764\" style=\"stroke:#000000; stroke-opacity:1\"/>\n",
       "<line clip-path=\"url(#clip5902)\" x1=\"203.441\" y1=\"244.764\" x2=\"208.441\" y2=\"244.764\" style=\"stroke:#000000; stroke-opacity:1\"/>\n",
       "<line clip-path=\"url(#clip5902)\" x1=\"203.441\" y1=\"244.764\" x2=\"203.441\" y2=\"248.764\" style=\"stroke:#ff0000; stroke-opacity:1\"/>\n",
       "<line clip-path=\"url(#clip5902)\" x1=\"203.441\" y1=\"244.764\" x2=\"199.441\" y2=\"244.764\" style=\"stroke:#ff0000; stroke-opacity:1\"/>\n",
       "<line clip-path=\"url(#clip5902)\" x1=\"203.441\" y1=\"244.764\" x2=\"203.441\" y2=\"240.764\" style=\"stroke:#ff0000; stroke-opacity:1\"/>\n",
       "<line clip-path=\"url(#clip5902)\" x1=\"203.441\" y1=\"244.764\" x2=\"207.441\" y2=\"244.764\" style=\"stroke:#ff0000; stroke-opacity:1\"/>\n",
       "<line clip-path=\"url(#clip5902)\" x1=\"46.9796\" y1=\"304.861\" x2=\"46.9796\" y2=\"309.861\" style=\"stroke:#000000; stroke-opacity:1\"/>\n",
       "<line clip-path=\"url(#clip5902)\" x1=\"46.9796\" y1=\"304.861\" x2=\"41.9796\" y2=\"304.861\" style=\"stroke:#000000; stroke-opacity:1\"/>\n",
       "<line clip-path=\"url(#clip5902)\" x1=\"46.9796\" y1=\"304.861\" x2=\"46.9796\" y2=\"299.861\" style=\"stroke:#000000; stroke-opacity:1\"/>\n",
       "<line clip-path=\"url(#clip5902)\" x1=\"46.9796\" y1=\"304.861\" x2=\"51.9796\" y2=\"304.861\" style=\"stroke:#000000; stroke-opacity:1\"/>\n",
       "<line clip-path=\"url(#clip5902)\" x1=\"46.9796\" y1=\"304.861\" x2=\"46.9796\" y2=\"308.861\" style=\"stroke:#ff0000; stroke-opacity:1\"/>\n",
       "<line clip-path=\"url(#clip5902)\" x1=\"46.9796\" y1=\"304.861\" x2=\"42.9796\" y2=\"304.861\" style=\"stroke:#ff0000; stroke-opacity:1\"/>\n",
       "<line clip-path=\"url(#clip5902)\" x1=\"46.9796\" y1=\"304.861\" x2=\"46.9796\" y2=\"300.861\" style=\"stroke:#ff0000; stroke-opacity:1\"/>\n",
       "<line clip-path=\"url(#clip5902)\" x1=\"46.9796\" y1=\"304.861\" x2=\"50.9796\" y2=\"304.861\" style=\"stroke:#ff0000; stroke-opacity:1\"/>\n",
       "<line clip-path=\"url(#clip5902)\" x1=\"65.8017\" y1=\"325.06\" x2=\"65.8017\" y2=\"330.06\" style=\"stroke:#000000; stroke-opacity:1\"/>\n",
       "<line clip-path=\"url(#clip5902)\" x1=\"65.8017\" y1=\"325.06\" x2=\"60.8017\" y2=\"325.06\" style=\"stroke:#000000; stroke-opacity:1\"/>\n",
       "<line clip-path=\"url(#clip5902)\" x1=\"65.8017\" y1=\"325.06\" x2=\"65.8017\" y2=\"320.06\" style=\"stroke:#000000; stroke-opacity:1\"/>\n",
       "<line clip-path=\"url(#clip5902)\" x1=\"65.8017\" y1=\"325.06\" x2=\"70.8017\" y2=\"325.06\" style=\"stroke:#000000; stroke-opacity:1\"/>\n",
       "<line clip-path=\"url(#clip5902)\" x1=\"65.8017\" y1=\"325.06\" x2=\"65.8017\" y2=\"329.06\" style=\"stroke:#ff0000; stroke-opacity:1\"/>\n",
       "<line clip-path=\"url(#clip5902)\" x1=\"65.8017\" y1=\"325.06\" x2=\"61.8017\" y2=\"325.06\" style=\"stroke:#ff0000; stroke-opacity:1\"/>\n",
       "<line clip-path=\"url(#clip5902)\" x1=\"65.8017\" y1=\"325.06\" x2=\"65.8017\" y2=\"321.06\" style=\"stroke:#ff0000; stroke-opacity:1\"/>\n",
       "<line clip-path=\"url(#clip5902)\" x1=\"65.8017\" y1=\"325.06\" x2=\"69.8017\" y2=\"325.06\" style=\"stroke:#ff0000; stroke-opacity:1\"/>\n",
       "<line clip-path=\"url(#clip5902)\" x1=\"49.4236\" y1=\"328.584\" x2=\"49.4236\" y2=\"333.584\" style=\"stroke:#000000; stroke-opacity:1\"/>\n",
       "<line clip-path=\"url(#clip5902)\" x1=\"49.4236\" y1=\"328.584\" x2=\"44.4236\" y2=\"328.584\" style=\"stroke:#000000; stroke-opacity:1\"/>\n",
       "<line clip-path=\"url(#clip5902)\" x1=\"49.4236\" y1=\"328.584\" x2=\"49.4236\" y2=\"323.584\" style=\"stroke:#000000; stroke-opacity:1\"/>\n",
       "<line clip-path=\"url(#clip5902)\" x1=\"49.4236\" y1=\"328.584\" x2=\"54.4236\" y2=\"328.584\" style=\"stroke:#000000; stroke-opacity:1\"/>\n",
       "<line clip-path=\"url(#clip5902)\" x1=\"49.4236\" y1=\"328.584\" x2=\"49.4236\" y2=\"332.584\" style=\"stroke:#ff0000; stroke-opacity:1\"/>\n",
       "<line clip-path=\"url(#clip5902)\" x1=\"49.4236\" y1=\"328.584\" x2=\"45.4236\" y2=\"328.584\" style=\"stroke:#ff0000; stroke-opacity:1\"/>\n",
       "<line clip-path=\"url(#clip5902)\" x1=\"49.4236\" y1=\"328.584\" x2=\"49.4236\" y2=\"324.584\" style=\"stroke:#ff0000; stroke-opacity:1\"/>\n",
       "<line clip-path=\"url(#clip5902)\" x1=\"49.4236\" y1=\"328.584\" x2=\"53.4236\" y2=\"328.584\" style=\"stroke:#ff0000; stroke-opacity:1\"/>\n",
       "<line clip-path=\"url(#clip5902)\" x1=\"84.7752\" y1=\"322.512\" x2=\"84.7752\" y2=\"327.512\" style=\"stroke:#000000; stroke-opacity:1\"/>\n",
       "<line clip-path=\"url(#clip5902)\" x1=\"84.7752\" y1=\"322.512\" x2=\"79.7752\" y2=\"322.512\" style=\"stroke:#000000; stroke-opacity:1\"/>\n",
       "<line clip-path=\"url(#clip5902)\" x1=\"84.7752\" y1=\"322.512\" x2=\"84.7752\" y2=\"317.512\" style=\"stroke:#000000; stroke-opacity:1\"/>\n",
       "<line clip-path=\"url(#clip5902)\" x1=\"84.7752\" y1=\"322.512\" x2=\"89.7752\" y2=\"322.512\" style=\"stroke:#000000; stroke-opacity:1\"/>\n",
       "<line clip-path=\"url(#clip5902)\" x1=\"84.7752\" y1=\"322.512\" x2=\"84.7752\" y2=\"326.512\" style=\"stroke:#ff0000; stroke-opacity:1\"/>\n",
       "<line clip-path=\"url(#clip5902)\" x1=\"84.7752\" y1=\"322.512\" x2=\"80.7752\" y2=\"322.512\" style=\"stroke:#ff0000; stroke-opacity:1\"/>\n",
       "<line clip-path=\"url(#clip5902)\" x1=\"84.7752\" y1=\"322.512\" x2=\"84.7752\" y2=\"318.512\" style=\"stroke:#ff0000; stroke-opacity:1\"/>\n",
       "<line clip-path=\"url(#clip5902)\" x1=\"84.7752\" y1=\"322.512\" x2=\"88.7752\" y2=\"322.512\" style=\"stroke:#ff0000; stroke-opacity:1\"/>\n",
       "<line clip-path=\"url(#clip5902)\" x1=\"188.138\" y1=\"234.64\" x2=\"188.138\" y2=\"239.64\" style=\"stroke:#000000; stroke-opacity:1\"/>\n",
       "<line clip-path=\"url(#clip5902)\" x1=\"188.138\" y1=\"234.64\" x2=\"183.138\" y2=\"234.64\" style=\"stroke:#000000; stroke-opacity:1\"/>\n",
       "<line clip-path=\"url(#clip5902)\" x1=\"188.138\" y1=\"234.64\" x2=\"188.138\" y2=\"229.64\" style=\"stroke:#000000; stroke-opacity:1\"/>\n",
       "<line clip-path=\"url(#clip5902)\" x1=\"188.138\" y1=\"234.64\" x2=\"193.138\" y2=\"234.64\" style=\"stroke:#000000; stroke-opacity:1\"/>\n",
       "<line clip-path=\"url(#clip5902)\" x1=\"188.138\" y1=\"234.64\" x2=\"188.138\" y2=\"238.64\" style=\"stroke:#ff0000; stroke-opacity:1\"/>\n",
       "<line clip-path=\"url(#clip5902)\" x1=\"188.138\" y1=\"234.64\" x2=\"184.138\" y2=\"234.64\" style=\"stroke:#ff0000; stroke-opacity:1\"/>\n",
       "<line clip-path=\"url(#clip5902)\" x1=\"188.138\" y1=\"234.64\" x2=\"188.138\" y2=\"230.64\" style=\"stroke:#ff0000; stroke-opacity:1\"/>\n",
       "<line clip-path=\"url(#clip5902)\" x1=\"188.138\" y1=\"234.64\" x2=\"192.138\" y2=\"234.64\" style=\"stroke:#ff0000; stroke-opacity:1\"/>\n",
       "<line clip-path=\"url(#clip5902)\" x1=\"89.6269\" y1=\"262.799\" x2=\"89.6269\" y2=\"267.799\" style=\"stroke:#000000; stroke-opacity:1\"/>\n",
       "<line clip-path=\"url(#clip5902)\" x1=\"89.6269\" y1=\"262.799\" x2=\"84.6269\" y2=\"262.799\" style=\"stroke:#000000; stroke-opacity:1\"/>\n",
       "<line clip-path=\"url(#clip5902)\" x1=\"89.6269\" y1=\"262.799\" x2=\"89.6269\" y2=\"257.799\" style=\"stroke:#000000; stroke-opacity:1\"/>\n",
       "<line clip-path=\"url(#clip5902)\" x1=\"89.6269\" y1=\"262.799\" x2=\"94.6269\" y2=\"262.799\" style=\"stroke:#000000; stroke-opacity:1\"/>\n",
       "<line clip-path=\"url(#clip5902)\" x1=\"89.6269\" y1=\"262.799\" x2=\"89.6269\" y2=\"266.799\" style=\"stroke:#ff0000; stroke-opacity:1\"/>\n",
       "<line clip-path=\"url(#clip5902)\" x1=\"89.6269\" y1=\"262.799\" x2=\"85.6269\" y2=\"262.799\" style=\"stroke:#ff0000; stroke-opacity:1\"/>\n",
       "<line clip-path=\"url(#clip5902)\" x1=\"89.6269\" y1=\"262.799\" x2=\"89.6269\" y2=\"258.799\" style=\"stroke:#ff0000; stroke-opacity:1\"/>\n",
       "<line clip-path=\"url(#clip5902)\" x1=\"89.6269\" y1=\"262.799\" x2=\"93.6269\" y2=\"262.799\" style=\"stroke:#ff0000; stroke-opacity:1\"/>\n",
       "<line clip-path=\"url(#clip5902)\" x1=\"150.236\" y1=\"276.906\" x2=\"150.236\" y2=\"281.906\" style=\"stroke:#000000; stroke-opacity:1\"/>\n",
       "<line clip-path=\"url(#clip5902)\" x1=\"150.236\" y1=\"276.906\" x2=\"145.236\" y2=\"276.906\" style=\"stroke:#000000; stroke-opacity:1\"/>\n",
       "<line clip-path=\"url(#clip5902)\" x1=\"150.236\" y1=\"276.906\" x2=\"150.236\" y2=\"271.906\" style=\"stroke:#000000; stroke-opacity:1\"/>\n",
       "<line clip-path=\"url(#clip5902)\" x1=\"150.236\" y1=\"276.906\" x2=\"155.236\" y2=\"276.906\" style=\"stroke:#000000; stroke-opacity:1\"/>\n",
       "<line clip-path=\"url(#clip5902)\" x1=\"150.236\" y1=\"276.906\" x2=\"150.236\" y2=\"280.906\" style=\"stroke:#ff0000; stroke-opacity:1\"/>\n",
       "<line clip-path=\"url(#clip5902)\" x1=\"150.236\" y1=\"276.906\" x2=\"146.236\" y2=\"276.906\" style=\"stroke:#ff0000; stroke-opacity:1\"/>\n",
       "<line clip-path=\"url(#clip5902)\" x1=\"150.236\" y1=\"276.906\" x2=\"150.236\" y2=\"272.906\" style=\"stroke:#ff0000; stroke-opacity:1\"/>\n",
       "<line clip-path=\"url(#clip5902)\" x1=\"150.236\" y1=\"276.906\" x2=\"154.236\" y2=\"276.906\" style=\"stroke:#ff0000; stroke-opacity:1\"/>\n",
       "<line clip-path=\"url(#clip5902)\" x1=\"170.315\" y1=\"244.181\" x2=\"170.315\" y2=\"249.181\" style=\"stroke:#000000; stroke-opacity:1\"/>\n",
       "<line clip-path=\"url(#clip5902)\" x1=\"170.315\" y1=\"244.181\" x2=\"165.315\" y2=\"244.181\" style=\"stroke:#000000; stroke-opacity:1\"/>\n",
       "<line clip-path=\"url(#clip5902)\" x1=\"170.315\" y1=\"244.181\" x2=\"170.315\" y2=\"239.181\" style=\"stroke:#000000; stroke-opacity:1\"/>\n",
       "<line clip-path=\"url(#clip5902)\" x1=\"170.315\" y1=\"244.181\" x2=\"175.315\" y2=\"244.181\" style=\"stroke:#000000; stroke-opacity:1\"/>\n",
       "<line clip-path=\"url(#clip5902)\" x1=\"170.315\" y1=\"244.181\" x2=\"170.315\" y2=\"248.181\" style=\"stroke:#ff0000; stroke-opacity:1\"/>\n",
       "<line clip-path=\"url(#clip5902)\" x1=\"170.315\" y1=\"244.181\" x2=\"166.315\" y2=\"244.181\" style=\"stroke:#ff0000; stroke-opacity:1\"/>\n",
       "<line clip-path=\"url(#clip5902)\" x1=\"170.315\" y1=\"244.181\" x2=\"170.315\" y2=\"240.181\" style=\"stroke:#ff0000; stroke-opacity:1\"/>\n",
       "<line clip-path=\"url(#clip5902)\" x1=\"170.315\" y1=\"244.181\" x2=\"174.315\" y2=\"244.181\" style=\"stroke:#ff0000; stroke-opacity:1\"/>\n",
       "<line clip-path=\"url(#clip5902)\" x1=\"74.0634\" y1=\"319.333\" x2=\"74.0634\" y2=\"324.333\" style=\"stroke:#000000; stroke-opacity:1\"/>\n",
       "<line clip-path=\"url(#clip5902)\" x1=\"74.0634\" y1=\"319.333\" x2=\"69.0634\" y2=\"319.333\" style=\"stroke:#000000; stroke-opacity:1\"/>\n",
       "<line clip-path=\"url(#clip5902)\" x1=\"74.0634\" y1=\"319.333\" x2=\"74.0634\" y2=\"314.333\" style=\"stroke:#000000; stroke-opacity:1\"/>\n",
       "<line clip-path=\"url(#clip5902)\" x1=\"74.0634\" y1=\"319.333\" x2=\"79.0634\" y2=\"319.333\" style=\"stroke:#000000; stroke-opacity:1\"/>\n",
       "<line clip-path=\"url(#clip5902)\" x1=\"74.0634\" y1=\"319.333\" x2=\"74.0634\" y2=\"323.333\" style=\"stroke:#ff0000; stroke-opacity:1\"/>\n",
       "<line clip-path=\"url(#clip5902)\" x1=\"74.0634\" y1=\"319.333\" x2=\"70.0634\" y2=\"319.333\" style=\"stroke:#ff0000; stroke-opacity:1\"/>\n",
       "<line clip-path=\"url(#clip5902)\" x1=\"74.0634\" y1=\"319.333\" x2=\"74.0634\" y2=\"315.333\" style=\"stroke:#ff0000; stroke-opacity:1\"/>\n",
       "<line clip-path=\"url(#clip5902)\" x1=\"74.0634\" y1=\"319.333\" x2=\"78.0634\" y2=\"319.333\" style=\"stroke:#ff0000; stroke-opacity:1\"/>\n",
       "<line clip-path=\"url(#clip5902)\" x1=\"59.4782\" y1=\"329.253\" x2=\"59.4782\" y2=\"334.253\" style=\"stroke:#000000; stroke-opacity:1\"/>\n",
       "<line clip-path=\"url(#clip5902)\" x1=\"59.4782\" y1=\"329.253\" x2=\"54.4782\" y2=\"329.253\" style=\"stroke:#000000; stroke-opacity:1\"/>\n",
       "<line clip-path=\"url(#clip5902)\" x1=\"59.4782\" y1=\"329.253\" x2=\"59.4782\" y2=\"324.253\" style=\"stroke:#000000; stroke-opacity:1\"/>\n",
       "<line clip-path=\"url(#clip5902)\" x1=\"59.4782\" y1=\"329.253\" x2=\"64.4782\" y2=\"329.253\" style=\"stroke:#000000; stroke-opacity:1\"/>\n",
       "<line clip-path=\"url(#clip5902)\" x1=\"59.4782\" y1=\"329.253\" x2=\"59.4782\" y2=\"333.253\" style=\"stroke:#ff0000; stroke-opacity:1\"/>\n",
       "<line clip-path=\"url(#clip5902)\" x1=\"59.4782\" y1=\"329.253\" x2=\"55.4782\" y2=\"329.253\" style=\"stroke:#ff0000; stroke-opacity:1\"/>\n",
       "<line clip-path=\"url(#clip5902)\" x1=\"59.4782\" y1=\"329.253\" x2=\"59.4782\" y2=\"325.253\" style=\"stroke:#ff0000; stroke-opacity:1\"/>\n",
       "<line clip-path=\"url(#clip5902)\" x1=\"59.4782\" y1=\"329.253\" x2=\"63.4782\" y2=\"329.253\" style=\"stroke:#ff0000; stroke-opacity:1\"/>\n",
       "<line clip-path=\"url(#clip5902)\" x1=\"45.5169\" y1=\"295.084\" x2=\"45.5169\" y2=\"300.084\" style=\"stroke:#000000; stroke-opacity:1\"/>\n",
       "<line clip-path=\"url(#clip5902)\" x1=\"45.5169\" y1=\"295.084\" x2=\"40.5169\" y2=\"295.084\" style=\"stroke:#000000; stroke-opacity:1\"/>\n",
       "<line clip-path=\"url(#clip5902)\" x1=\"45.5169\" y1=\"295.084\" x2=\"45.5169\" y2=\"290.084\" style=\"stroke:#000000; stroke-opacity:1\"/>\n",
       "<line clip-path=\"url(#clip5902)\" x1=\"45.5169\" y1=\"295.084\" x2=\"50.5169\" y2=\"295.084\" style=\"stroke:#000000; stroke-opacity:1\"/>\n",
       "<line clip-path=\"url(#clip5902)\" x1=\"45.5169\" y1=\"295.084\" x2=\"45.5169\" y2=\"299.084\" style=\"stroke:#ff0000; stroke-opacity:1\"/>\n",
       "<line clip-path=\"url(#clip5902)\" x1=\"45.5169\" y1=\"295.084\" x2=\"41.5169\" y2=\"295.084\" style=\"stroke:#ff0000; stroke-opacity:1\"/>\n",
       "<line clip-path=\"url(#clip5902)\" x1=\"45.5169\" y1=\"295.084\" x2=\"45.5169\" y2=\"291.084\" style=\"stroke:#ff0000; stroke-opacity:1\"/>\n",
       "<line clip-path=\"url(#clip5902)\" x1=\"45.5169\" y1=\"295.084\" x2=\"49.5169\" y2=\"295.084\" style=\"stroke:#ff0000; stroke-opacity:1\"/>\n",
       "<line clip-path=\"url(#clip5902)\" x1=\"65.1506\" y1=\"307.581\" x2=\"65.1506\" y2=\"312.581\" style=\"stroke:#000000; stroke-opacity:1\"/>\n",
       "<line clip-path=\"url(#clip5902)\" x1=\"65.1506\" y1=\"307.581\" x2=\"60.1506\" y2=\"307.581\" style=\"stroke:#000000; stroke-opacity:1\"/>\n",
       "<line clip-path=\"url(#clip5902)\" x1=\"65.1506\" y1=\"307.581\" x2=\"65.1506\" y2=\"302.581\" style=\"stroke:#000000; stroke-opacity:1\"/>\n",
       "<line clip-path=\"url(#clip5902)\" x1=\"65.1506\" y1=\"307.581\" x2=\"70.1506\" y2=\"307.581\" style=\"stroke:#000000; stroke-opacity:1\"/>\n",
       "<line clip-path=\"url(#clip5902)\" x1=\"65.1506\" y1=\"307.581\" x2=\"65.1506\" y2=\"311.581\" style=\"stroke:#ff0000; stroke-opacity:1\"/>\n",
       "<line clip-path=\"url(#clip5902)\" x1=\"65.1506\" y1=\"307.581\" x2=\"61.1506\" y2=\"307.581\" style=\"stroke:#ff0000; stroke-opacity:1\"/>\n",
       "<line clip-path=\"url(#clip5902)\" x1=\"65.1506\" y1=\"307.581\" x2=\"65.1506\" y2=\"303.581\" style=\"stroke:#ff0000; stroke-opacity:1\"/>\n",
       "<line clip-path=\"url(#clip5902)\" x1=\"65.1506\" y1=\"307.581\" x2=\"69.1506\" y2=\"307.581\" style=\"stroke:#ff0000; stroke-opacity:1\"/>\n",
       "<line clip-path=\"url(#clip5902)\" x1=\"123.567\" y1=\"276.21\" x2=\"123.567\" y2=\"281.21\" style=\"stroke:#000000; stroke-opacity:1\"/>\n",
       "<line clip-path=\"url(#clip5902)\" x1=\"123.567\" y1=\"276.21\" x2=\"118.567\" y2=\"276.21\" style=\"stroke:#000000; stroke-opacity:1\"/>\n",
       "<line clip-path=\"url(#clip5902)\" x1=\"123.567\" y1=\"276.21\" x2=\"123.567\" y2=\"271.21\" style=\"stroke:#000000; stroke-opacity:1\"/>\n",
       "<line clip-path=\"url(#clip5902)\" x1=\"123.567\" y1=\"276.21\" x2=\"128.567\" y2=\"276.21\" style=\"stroke:#000000; stroke-opacity:1\"/>\n",
       "<line clip-path=\"url(#clip5902)\" x1=\"123.567\" y1=\"276.21\" x2=\"123.567\" y2=\"280.21\" style=\"stroke:#ff0000; stroke-opacity:1\"/>\n",
       "<line clip-path=\"url(#clip5902)\" x1=\"123.567\" y1=\"276.21\" x2=\"119.567\" y2=\"276.21\" style=\"stroke:#ff0000; stroke-opacity:1\"/>\n",
       "<line clip-path=\"url(#clip5902)\" x1=\"123.567\" y1=\"276.21\" x2=\"123.567\" y2=\"272.21\" style=\"stroke:#ff0000; stroke-opacity:1\"/>\n",
       "<line clip-path=\"url(#clip5902)\" x1=\"123.567\" y1=\"276.21\" x2=\"127.567\" y2=\"276.21\" style=\"stroke:#ff0000; stroke-opacity:1\"/>\n",
       "<line clip-path=\"url(#clip5902)\" x1=\"70.087\" y1=\"239\" x2=\"70.087\" y2=\"244\" style=\"stroke:#000000; stroke-opacity:1\"/>\n",
       "<line clip-path=\"url(#clip5902)\" x1=\"70.087\" y1=\"239\" x2=\"65.087\" y2=\"239\" style=\"stroke:#000000; stroke-opacity:1\"/>\n",
       "<line clip-path=\"url(#clip5902)\" x1=\"70.087\" y1=\"239\" x2=\"70.087\" y2=\"234\" style=\"stroke:#000000; stroke-opacity:1\"/>\n",
       "<line clip-path=\"url(#clip5902)\" x1=\"70.087\" y1=\"239\" x2=\"75.087\" y2=\"239\" style=\"stroke:#000000; stroke-opacity:1\"/>\n",
       "<line clip-path=\"url(#clip5902)\" x1=\"70.087\" y1=\"239\" x2=\"70.087\" y2=\"243\" style=\"stroke:#ff0000; stroke-opacity:1\"/>\n",
       "<line clip-path=\"url(#clip5902)\" x1=\"70.087\" y1=\"239\" x2=\"66.087\" y2=\"239\" style=\"stroke:#ff0000; stroke-opacity:1\"/>\n",
       "<line clip-path=\"url(#clip5902)\" x1=\"70.087\" y1=\"239\" x2=\"70.087\" y2=\"235\" style=\"stroke:#ff0000; stroke-opacity:1\"/>\n",
       "<line clip-path=\"url(#clip5902)\" x1=\"70.087\" y1=\"239\" x2=\"74.087\" y2=\"239\" style=\"stroke:#ff0000; stroke-opacity:1\"/>\n",
       "<line clip-path=\"url(#clip5902)\" x1=\"52.967\" y1=\"305.766\" x2=\"52.967\" y2=\"310.766\" style=\"stroke:#000000; stroke-opacity:1\"/>\n",
       "<line clip-path=\"url(#clip5902)\" x1=\"52.967\" y1=\"305.766\" x2=\"47.967\" y2=\"305.766\" style=\"stroke:#000000; stroke-opacity:1\"/>\n",
       "<line clip-path=\"url(#clip5902)\" x1=\"52.967\" y1=\"305.766\" x2=\"52.967\" y2=\"300.766\" style=\"stroke:#000000; stroke-opacity:1\"/>\n",
       "<line clip-path=\"url(#clip5902)\" x1=\"52.967\" y1=\"305.766\" x2=\"57.967\" y2=\"305.766\" style=\"stroke:#000000; stroke-opacity:1\"/>\n",
       "<line clip-path=\"url(#clip5902)\" x1=\"52.967\" y1=\"305.766\" x2=\"52.967\" y2=\"309.766\" style=\"stroke:#ff0000; stroke-opacity:1\"/>\n",
       "<line clip-path=\"url(#clip5902)\" x1=\"52.967\" y1=\"305.766\" x2=\"48.967\" y2=\"305.766\" style=\"stroke:#ff0000; stroke-opacity:1\"/>\n",
       "<line clip-path=\"url(#clip5902)\" x1=\"52.967\" y1=\"305.766\" x2=\"52.967\" y2=\"301.766\" style=\"stroke:#ff0000; stroke-opacity:1\"/>\n",
       "<line clip-path=\"url(#clip5902)\" x1=\"52.967\" y1=\"305.766\" x2=\"56.967\" y2=\"305.766\" style=\"stroke:#ff0000; stroke-opacity:1\"/>\n",
       "<line clip-path=\"url(#clip5902)\" x1=\"143.458\" y1=\"329.348\" x2=\"143.458\" y2=\"334.348\" style=\"stroke:#000000; stroke-opacity:1\"/>\n",
       "<line clip-path=\"url(#clip5902)\" x1=\"143.458\" y1=\"329.348\" x2=\"138.458\" y2=\"329.348\" style=\"stroke:#000000; stroke-opacity:1\"/>\n",
       "<line clip-path=\"url(#clip5902)\" x1=\"143.458\" y1=\"329.348\" x2=\"143.458\" y2=\"324.348\" style=\"stroke:#000000; stroke-opacity:1\"/>\n",
       "<line clip-path=\"url(#clip5902)\" x1=\"143.458\" y1=\"329.348\" x2=\"148.458\" y2=\"329.348\" style=\"stroke:#000000; stroke-opacity:1\"/>\n",
       "<line clip-path=\"url(#clip5902)\" x1=\"143.458\" y1=\"329.348\" x2=\"143.458\" y2=\"333.348\" style=\"stroke:#ff0000; stroke-opacity:1\"/>\n",
       "<line clip-path=\"url(#clip5902)\" x1=\"143.458\" y1=\"329.348\" x2=\"139.458\" y2=\"329.348\" style=\"stroke:#ff0000; stroke-opacity:1\"/>\n",
       "<line clip-path=\"url(#clip5902)\" x1=\"143.458\" y1=\"329.348\" x2=\"143.458\" y2=\"325.348\" style=\"stroke:#ff0000; stroke-opacity:1\"/>\n",
       "<line clip-path=\"url(#clip5902)\" x1=\"143.458\" y1=\"329.348\" x2=\"147.458\" y2=\"329.348\" style=\"stroke:#ff0000; stroke-opacity:1\"/>\n",
       "<line clip-path=\"url(#clip5902)\" x1=\"297.93\" y1=\"215.292\" x2=\"297.93\" y2=\"220.292\" style=\"stroke:#000000; stroke-opacity:1\"/>\n",
       "<line clip-path=\"url(#clip5902)\" x1=\"297.93\" y1=\"215.292\" x2=\"292.93\" y2=\"215.292\" style=\"stroke:#000000; stroke-opacity:1\"/>\n",
       "<line clip-path=\"url(#clip5902)\" x1=\"297.93\" y1=\"215.292\" x2=\"297.93\" y2=\"210.292\" style=\"stroke:#000000; stroke-opacity:1\"/>\n",
       "<line clip-path=\"url(#clip5902)\" x1=\"297.93\" y1=\"215.292\" x2=\"302.93\" y2=\"215.292\" style=\"stroke:#000000; stroke-opacity:1\"/>\n",
       "<line clip-path=\"url(#clip5902)\" x1=\"297.93\" y1=\"215.292\" x2=\"297.93\" y2=\"219.292\" style=\"stroke:#ff0000; stroke-opacity:1\"/>\n",
       "<line clip-path=\"url(#clip5902)\" x1=\"297.93\" y1=\"215.292\" x2=\"293.93\" y2=\"215.292\" style=\"stroke:#ff0000; stroke-opacity:1\"/>\n",
       "<line clip-path=\"url(#clip5902)\" x1=\"297.93\" y1=\"215.292\" x2=\"297.93\" y2=\"211.292\" style=\"stroke:#ff0000; stroke-opacity:1\"/>\n",
       "<line clip-path=\"url(#clip5902)\" x1=\"297.93\" y1=\"215.292\" x2=\"301.93\" y2=\"215.292\" style=\"stroke:#ff0000; stroke-opacity:1\"/>\n",
       "<line clip-path=\"url(#clip5902)\" x1=\"56.9494\" y1=\"323.3\" x2=\"56.9494\" y2=\"328.3\" style=\"stroke:#000000; stroke-opacity:1\"/>\n",
       "<line clip-path=\"url(#clip5902)\" x1=\"56.9494\" y1=\"323.3\" x2=\"51.9494\" y2=\"323.3\" style=\"stroke:#000000; stroke-opacity:1\"/>\n",
       "<line clip-path=\"url(#clip5902)\" x1=\"56.9494\" y1=\"323.3\" x2=\"56.9494\" y2=\"318.3\" style=\"stroke:#000000; stroke-opacity:1\"/>\n",
       "<line clip-path=\"url(#clip5902)\" x1=\"56.9494\" y1=\"323.3\" x2=\"61.9494\" y2=\"323.3\" style=\"stroke:#000000; stroke-opacity:1\"/>\n",
       "<line clip-path=\"url(#clip5902)\" x1=\"56.9494\" y1=\"323.3\" x2=\"56.9494\" y2=\"327.3\" style=\"stroke:#ff0000; stroke-opacity:1\"/>\n",
       "<line clip-path=\"url(#clip5902)\" x1=\"56.9494\" y1=\"323.3\" x2=\"52.9494\" y2=\"323.3\" style=\"stroke:#ff0000; stroke-opacity:1\"/>\n",
       "<line clip-path=\"url(#clip5902)\" x1=\"56.9494\" y1=\"323.3\" x2=\"56.9494\" y2=\"319.3\" style=\"stroke:#ff0000; stroke-opacity:1\"/>\n",
       "<line clip-path=\"url(#clip5902)\" x1=\"56.9494\" y1=\"323.3\" x2=\"60.9494\" y2=\"323.3\" style=\"stroke:#ff0000; stroke-opacity:1\"/>\n",
       "<polygon clip-path=\"url(#clip5900)\" points=\"\n",
       "489.799,62.931 562.315,62.931 562.315,32.691 489.799,32.691 \n",
       "  \" fill=\"#ffffff\" fill-opacity=\"1\"/>\n",
       "<polyline clip-path=\"url(#clip5900)\" style=\"stroke:#000000; stroke-width:1; stroke-opacity:1; fill:none\" points=\"\n",
       "  489.799,62.931 562.315,62.931 562.315,32.691 489.799,32.691 489.799,62.931 \n",
       "  \"/>\n",
       "<line clip-path=\"url(#clip5900)\" x1=\"516.799\" y1=\"47.811\" x2=\"516.799\" y2=\"54.811\" style=\"stroke:#000000; stroke-opacity:1\"/>\n",
       "<line clip-path=\"url(#clip5900)\" x1=\"516.799\" y1=\"47.811\" x2=\"509.799\" y2=\"47.811\" style=\"stroke:#000000; stroke-opacity:1\"/>\n",
       "<line clip-path=\"url(#clip5900)\" x1=\"516.799\" y1=\"47.811\" x2=\"516.799\" y2=\"40.811\" style=\"stroke:#000000; stroke-opacity:1\"/>\n",
       "<line clip-path=\"url(#clip5900)\" x1=\"516.799\" y1=\"47.811\" x2=\"523.799\" y2=\"47.811\" style=\"stroke:#000000; stroke-opacity:1\"/>\n",
       "<line clip-path=\"url(#clip5900)\" x1=\"516.799\" y1=\"47.811\" x2=\"516.799\" y2=\"53.811\" style=\"stroke:#ff0000; stroke-opacity:1\"/>\n",
       "<line clip-path=\"url(#clip5900)\" x1=\"516.799\" y1=\"47.811\" x2=\"510.799\" y2=\"47.811\" style=\"stroke:#ff0000; stroke-opacity:1\"/>\n",
       "<line clip-path=\"url(#clip5900)\" x1=\"516.799\" y1=\"47.811\" x2=\"516.799\" y2=\"41.811\" style=\"stroke:#ff0000; stroke-opacity:1\"/>\n",
       "<line clip-path=\"url(#clip5900)\" x1=\"516.799\" y1=\"47.811\" x2=\"522.799\" y2=\"47.811\" style=\"stroke:#ff0000; stroke-opacity:1\"/>\n",
       "<g clip-path=\"url(#clip5900)\">\n",
       "<text style=\"fill:#000000; fill-opacity:1; font-family:Arial,Helvetica Neue,Helvetica,sans-serif; font-size:12; text-anchor:start;\" transform=\"rotate(0, 537.799, 52.311)\" x=\"537.799\" y=\"52.311\">y1</text>\n",
       "</g>\n",
       "</svg>\n"
      ]
     },
     "execution_count": 105,
     "metadata": {},
     "output_type": "execute_result"
    }
   ],
   "source": [
    "using Plots\n",
    "gr() # Use the GR plotting library instead\n",
    "\n",
    "function plot_data(X, y)\n",
    "    scatter(X, y, marker = (:cross, :red))\n",
    "end\n",
    "\n",
    "X = data[:, 1]; y = data[:, 2];\n",
    "m = length(y);\n",
    "plot_data(X, y)"
   ]
  },
  {
   "cell_type": "markdown",
   "metadata": {
    "slideshow": {
     "slide_type": "subslide"
    }
   },
   "source": [
    "We can easily convert mathematical equations into code, which is a daily challenge for data scientist."
   ]
  },
  {
   "cell_type": "markdown",
   "metadata": {
    "slideshow": {
     "slide_type": "fragment"
    }
   },
   "source": [
    "Say, we have $y \\in \\mathbb{R}_m$, $X \\in \\mathbb{R}_{m, n}$\n",
    "\n",
    "Firstly, prepend the intercept column to $X$, i.e. $X \\rightarrow [0_m \\ X]$\n",
    "\n",
    "Cost function: $J_{X, y}(\\theta) = \\dfrac{1}{2m} (X \\theta - y)^T (X \\theta - y) = \\dfrac{1}{2m} (X \\theta - y) \\cdot (X \\theta - y)$\n",
    "\n",
    "Cost gradient: $\\partial J_{X, y} (\\theta) = \\dfrac{1}{m} X^T (X \\theta - y)$\n",
    "\n",
    "For a given $\\alpha$ and $\\theta$, run $\\theta \\rightarrow \\theta - \\alpha \\ \\partial J_{X, y}(\\theta) = \\theta - \\dfrac{\\alpha}{m} X^T (X \\theta - y)$ for given number of iterations to approach optimal $\\theta$."
   ]
  },
  {
   "cell_type": "code",
   "execution_count": 76,
   "metadata": {
    "slideshow": {
     "slide_type": "fragment"
    }
   },
   "outputs": [
    {
     "data": {
      "text/plain": [
       "prepend_intercept (generic function with 1 method)"
      ]
     },
     "execution_count": 76,
     "metadata": {},
     "output_type": "execute_result"
    }
   ],
   "source": [
    "prepend_intercept(A) = [ones(eltype(A), size(A, 1)) A]"
   ]
  },
  {
   "cell_type": "code",
   "execution_count": 77,
   "metadata": {
    "slideshow": {
     "slide_type": "fragment"
    }
   },
   "outputs": [
    {
     "data": {
      "text/plain": [
       "make_cost_functions (generic function with 1 method)"
      ]
     },
     "execution_count": 77,
     "metadata": {},
     "output_type": "execute_result"
    }
   ],
   "source": [
    "function make_cost_functions(X, y)\n",
    "    m = length(y)\n",
    "    \n",
    "    function J(θ)\n",
    "        δ = X * θ .- y\n",
    "        return (δ ⋅ δ) / (2m)\n",
    "    end\n",
    "    \n",
    "    function ∂J(θ)\n",
    "        δ = X * θ .- y\n",
    "        return (X' * δ) / m\n",
    "    end\n",
    "    return J, ∂J\n",
    "end"
   ]
  },
  {
   "cell_type": "code",
   "execution_count": 78,
   "metadata": {
    "slideshow": {
     "slide_type": "fragment"
    }
   },
   "outputs": [
    {
     "data": {
      "text/plain": [
       "run_gradient_descent (generic function with 1 method)"
      ]
     },
     "execution_count": 78,
     "metadata": {},
     "output_type": "execute_result"
    }
   ],
   "source": [
    "function run_gradient_descent(X, y, θ, α, iterations)\n",
    "    X = prepend_intercept(X)\n",
    "\n",
    "    J, ∂J = make_cost_functions(X, y)\n",
    "    \n",
    "    println(\"Initial: θ = $θ; Cost == $(J(θ))\")\n",
    "    for i in 1:iterations\n",
    "        θ = θ - α * ∂J(θ)\n",
    "        println(\"Iteration $i: θ = $θ; Cost == $(J(θ)).\")\n",
    "    end\n",
    "    \n",
    "    return θ\n",
    "end"
   ]
  },
  {
   "cell_type": "code",
   "execution_count": 79,
   "metadata": {
    "scrolled": true,
    "slideshow": {
     "slide_type": "fragment"
    }
   },
   "outputs": [
    {
     "name": "stdout",
     "output_type": "stream",
     "text": [
      "Initial: θ = [0, 0]; Cost == 32.072733877455676\n",
      "Iteration 1: θ = [0.0583914, 0.653288]; Cost == 6.737190464870009.\n",
      "Iteration 2: θ = [0.0628918, 0.77001]; Cost == 5.931593568604956.\n",
      "Iteration 3: θ = [0.0578229, 0.791348]; Cost == 5.901154707081388.\n",
      "Iteration 4: θ = [0.0510636, 0.79573]; Cost == 5.895228586444221.\n",
      "Iteration 5: θ = [0.0440144, 0.797096]; Cost == 5.890094943117332.\n",
      "Iteration 6: θ = [0.0369241, 0.797925]; Cost == 5.885004158443646.\n",
      "Iteration 7: θ = [0.0298371, 0.798658]; Cost == 5.8799324804914175.\n",
      "Iteration 8: θ = [0.0227612, 0.799373]; Cost == 5.874879094762575.\n",
      "Iteration 9: θ = [0.0156977, 0.800083]; Cost == 5.869843911806386.\n",
      "Iteration 10: θ = [0.0086469, 0.800791]; Cost == 5.864826865312929.\n",
      "Iteration 11: θ = [0.00160879, 0.801499]; Cost == 5.859827889932181.\n",
      "Iteration 12: θ = [-0.00541662, 0.802204]; Cost == 5.85484692057229.\n",
      "Iteration 13: θ = [-0.0124294, 0.802909]; Cost == 5.849883892376587.\n",
      "Iteration 14: θ = [-0.0194295, 0.803612]; Cost == 5.844938740722034.\n",
      "Iteration 15: θ = [-0.026417, 0.804314]; Cost == 5.840011401218361.\n",
      "Iteration 16: θ = [-0.0333919, 0.805015]; Cost == 5.835101809707226.\n",
      "Iteration 17: θ = [-0.0403542, 0.805714]; Cost == 5.830209902261388.\n",
      "Iteration 18: θ = [-0.047304, 0.806412]; Cost == 5.825335615183862.\n",
      "Iteration 19: θ = [-0.0542412, 0.807109]; Cost == 5.820478885007099.\n",
      "Iteration 20: θ = [-0.061166, 0.807805]; Cost == 5.815639648492152.\n",
      "Iteration 21: θ = [-0.0680782, 0.808499]; Cost == 5.810817842627869.\n",
      "Iteration 22: θ = [-0.074978, 0.809193]; Cost == 5.806013404630044.\n",
      "Iteration 23: θ = [-0.0818654, 0.809884]; Cost == 5.801226271940628.\n",
      "Iteration 24: θ = [-0.0887404, 0.810575]; Cost == 5.796456382226899.\n",
      "Iteration 25: θ = [-0.0956029, 0.811265]; Cost == 5.7917036733806535.\n",
      "Iteration 26: θ = [-0.102453, 0.811953]; Cost == 5.786968083517396.\n",
      "Iteration 27: θ = [-0.109291, 0.81264]; Cost == 5.782249550975539.\n",
      "Iteration 28: θ = [-0.116116, 0.813325]; Cost == 5.777548014315596.\n",
      "Iteration 29: θ = [-0.12293, 0.81401]; Cost == 5.772863412319381.\n",
      "Iteration 30: θ = [-0.129731, 0.814693]; Cost == 5.768195683989212.\n",
      "Iteration 31: θ = [-0.136519, 0.815375]; Cost == 5.76354476854712.\n",
      "Iteration 32: θ = [-0.143296, 0.816056]; Cost == 5.758910605434047.\n",
      "Iteration 33: θ = [-0.15006, 0.816735]; Cost == 5.7542931343090755.\n",
      "Iteration 34: θ = [-0.156812, 0.817414]; Cost == 5.749692295048629.\n",
      "Iteration 35: θ = [-0.163552, 0.818091]; Cost == 5.745108027745684.\n",
      "Iteration 36: θ = [-0.170279, 0.818767]; Cost == 5.740540272709014.\n",
      "Iteration 37: θ = [-0.176995, 0.819441]; Cost == 5.735988970462381.\n",
      "Iteration 38: θ = [-0.183698, 0.820115]; Cost == 5.731454061743792.\n",
      "Iteration 39: θ = [-0.19039, 0.820787]; Cost == 5.726935487504702.\n",
      "Iteration 40: θ = [-0.197069, 0.821458]; Cost == 5.722433188909257.\n",
      "Iteration 41: θ = [-0.203736, 0.822128]; Cost == 5.717947107333529.\n",
      "Iteration 42: θ = [-0.210392, 0.822796]; Cost == 5.713477184364749.\n",
      "Iteration 43: θ = [-0.217035, 0.823464]; Cost == 5.709023361800549.\n",
      "Iteration 44: θ = [-0.223666, 0.82413]; Cost == 5.704585581648199.\n",
      "Iteration 45: θ = [-0.230286, 0.824795]; Cost == 5.700163786123856.\n",
      "Iteration 46: θ = [-0.236893, 0.825459]; Cost == 5.695757917651815.\n",
      "Iteration 47: θ = [-0.243489, 0.826121]; Cost == 5.691367918863752.\n",
      "Iteration 48: θ = [-0.250072, 0.826783]; Cost == 5.686993732597982.\n",
      "Iteration 49: θ = [-0.256644, 0.827443]; Cost == 5.682635301898707.\n",
      "Iteration 50: θ = [-0.263204, 0.828102]; Cost == 5.678292570015291.\n",
      "Iteration 51: θ = [-0.269752, 0.82876]; Cost == 5.673965480401506.\n",
      "Iteration 52: θ = [-0.276288, 0.829416]; Cost == 5.669653976714796.\n",
      "Iteration 53: θ = [-0.282813, 0.830072]; Cost == 5.665358002815553.\n",
      "Iteration 54: θ = [-0.289325, 0.830726]; Cost == 5.661077502766381.\n",
      "Iteration 55: θ = [-0.295826, 0.831379]; Cost == 5.656812420831359.\n",
      "Iteration 56: θ = [-0.302316, 0.832031]; Cost == 5.6525627014753335.\n",
      "Iteration 57: θ = [-0.308793, 0.832682]; Cost == 5.648328289363181.\n",
      "Iteration 58: θ = [-0.315259, 0.833331]; Cost == 5.644109129359092.\n",
      "Iteration 59: θ = [-0.321713, 0.83398]; Cost == 5.639905166525856.\n",
      "Iteration 60: θ = [-0.328156, 0.834627]; Cost == 5.635716346124135.\n",
      "Iteration 61: θ = [-0.334587, 0.835273]; Cost == 5.631542613611772.\n",
      "Iteration 62: θ = [-0.341006, 0.835918]; Cost == 5.627383914643055.\n",
      "Iteration 63: θ = [-0.347414, 0.836562]; Cost == 5.623240195068026.\n",
      "Iteration 64: θ = [-0.35381, 0.837204]; Cost == 5.619111400931778.\n",
      "Iteration 65: θ = [-0.360195, 0.837846]; Cost == 5.61499747847374.\n",
      "Iteration 66: θ = [-0.366568, 0.838486]; Cost == 5.610898374126984.\n",
      "Iteration 67: θ = [-0.37293, 0.839125]; Cost == 5.606814034517532.\n",
      "Iteration 68: θ = [-0.37928, 0.839763]; Cost == 5.602744406463646.\n",
      "Iteration 69: θ = [-0.385619, 0.8404]; Cost == 5.598689436975159.\n",
      "Iteration 70: θ = [-0.391947, 0.841035]; Cost == 5.59464907325276.\n",
      "Iteration 71: θ = [-0.398263, 0.84167]; Cost == 5.590623262687323.\n",
      "Iteration 72: θ = [-0.404567, 0.842303]; Cost == 5.586611952859217.\n",
      "Iteration 73: θ = [-0.41086, 0.842936]; Cost == 5.5826150915376225.\n",
      "Iteration 74: θ = [-0.417142, 0.843567]; Cost == 5.578632626679853.\n",
      "Iteration 75: θ = [-0.423413, 0.844197]; Cost == 5.574664506430678.\n",
      "Iteration 76: θ = [-0.429672, 0.844825]; Cost == 5.570710679121643.\n",
      "Iteration 77: θ = [-0.43592, 0.845453]; Cost == 5.566771093270403.\n",
      "Iteration 78: θ = [-0.442157, 0.84608]; Cost == 5.562845697580051.\n",
      "Iteration 79: θ = [-0.448382, 0.846705]; Cost == 5.558934440938442.\n",
      "Iteration 80: θ = [-0.454597, 0.847329]; Cost == 5.555037272417544.\n",
      "Iteration 81: θ = [-0.4608, 0.847953]; Cost == 5.551154141272755.\n",
      "Iteration 82: θ = [-0.466992, 0.848575]; Cost == 5.547284996942256.\n",
      "Iteration 83: θ = [-0.473172, 0.849195]; Cost == 5.543429789046352.\n",
      "Iteration 84: θ = [-0.479342, 0.849815]; Cost == 5.539588467386808.\n",
      "Iteration 85: θ = [-0.4855, 0.850434]; Cost == 5.535760981946204.\n",
      "Iteration 86: θ = [-0.491648, 0.851052]; Cost == 5.531947282887275.\n",
      "Iteration 87: θ = [-0.497784, 0.851668]; Cost == 5.528147320552271.\n",
      "Iteration 88: θ = [-0.503909, 0.852283]; Cost == 5.524361045462306.\n",
      "Iteration 89: θ = [-0.510023, 0.852898]; Cost == 5.520588408316713.\n",
      "Iteration 90: θ = [-0.516127, 0.853511]; Cost == 5.5168293599924025.\n",
      "Iteration 91: θ = [-0.522219, 0.854123]; Cost == 5.513083851543225.\n",
      "Iteration 92: θ = [-0.5283, 0.854734]; Cost == 5.5093518341993315.\n",
      "Iteration 93: θ = [-0.53437, 0.855343]; Cost == 5.5056332593665385.\n",
      "Iteration 94: θ = [-0.540429, 0.855952]; Cost == 5.501928078625699.\n",
      "Iteration 95: θ = [-0.546478, 0.85656]; Cost == 5.498236243732065.\n",
      "Iteration 96: θ = [-0.552515, 0.857166]; Cost == 5.494557706614666.\n",
      "Iteration 97: θ = [-0.558542, 0.857772]; Cost == 5.490892419375678.\n",
      "Iteration 98: θ = [-0.564557, 0.858376]; Cost == 5.487240334289805.\n",
      "Iteration 99: θ = [-0.570562, 0.858979]; Cost == 5.483601403803651.\n",
      "Iteration 100: θ = [-0.576556, 0.859582]; Cost == 5.479975580535112.\n",
      "Iteration 101: θ = [-0.582539, 0.860183]; Cost == 5.476362817272741.\n",
      "Iteration 102: θ = [-0.588512, 0.860783]; Cost == 5.472763066975153.\n",
      "Iteration 103: θ = [-0.594474, 0.861382]; Cost == 5.469176282770399.\n",
      "Iteration 104: θ = [-0.600424, 0.861979]; Cost == 5.46560241795536.\n",
      "Iteration 105: θ = [-0.606365, 0.862576]; Cost == 5.462041425995138.\n",
      "Iteration 106: θ = [-0.612294, 0.863172]; Cost == 5.4584932605224585.\n",
      "Iteration 107: θ = [-0.618213, 0.863766]; Cost == 5.454957875337048.\n",
      "Iteration 108: θ = [-0.624121, 0.86436]; Cost == 5.451435224405051.\n",
      "Iteration 109: θ = [-0.630019, 0.864952]; Cost == 5.4479252618584235.\n",
      "Iteration 110: θ = [-0.635905, 0.865544]; Cost == 5.444427941994333.\n",
      "Iteration 111: θ = [-0.641782, 0.866134]; Cost == 5.4409432192745655.\n",
      "Iteration 112: θ = [-0.647647, 0.866723]; Cost == 5.437471048324933.\n",
      "Iteration 113: θ = [-0.653502, 0.867312]; Cost == 5.4340113839346875.\n",
      "Iteration 114: θ = [-0.659347, 0.867899]; Cost == 5.430564181055919.\n",
      "Iteration 115: θ = [-0.665181, 0.868485]; Cost == 5.427129394802987.\n",
      "Iteration 116: θ = [-0.671004, 0.86907]; Cost == 5.423706980451917.\n",
      "Iteration 117: θ = [-0.676817, 0.869654]; Cost == 5.420296893439839.\n",
      "Iteration 118: θ = [-0.68262, 0.870237]; Cost == 5.4168990893643825.\n",
      "Iteration 119: θ = [-0.688412, 0.870819]; Cost == 5.413513523983123.\n",
      "Iteration 120: θ = [-0.694193, 0.871399]; Cost == 5.410140153212988.\n",
      "Iteration 121: θ = [-0.699965, 0.871979]; Cost == 5.406778933129694.\n",
      "Iteration 122: θ = [-0.705725, 0.872558]; Cost == 5.403429819967165.\n",
      "Iteration 123: θ = [-0.711476, 0.873136]; Cost == 5.400092770116975.\n",
      "Iteration 124: θ = [-0.717216, 0.873712]; Cost == 5.396767740127768.\n",
      "Iteration 125: θ = [-0.722945, 0.874288]; Cost == 5.393454686704697.\n",
      "Iteration 126: θ = [-0.728665, 0.874862]; Cost == 5.390153566708862.\n",
      "Iteration 127: θ = [-0.734374, 0.875436]; Cost == 5.386864337156747.\n",
      "Iteration 128: θ = [-0.740073, 0.876009]; Cost == 5.383586955219661.\n",
      "Iteration 129: θ = [-0.745761, 0.87658]; Cost == 5.380321378223178.\n",
      "Iteration 130: θ = [-0.751439, 0.87715]; Cost == 5.377067563646582.\n",
      "Iteration 131: θ = [-0.757107, 0.87772]; Cost == 5.373825469122317.\n",
      "Iteration 132: θ = [-0.762765, 0.878288]; Cost == 5.370595052435429.\n",
      "Iteration 133: θ = [-0.768413, 0.878856]; Cost == 5.367376271523024.\n",
      "Iteration 134: θ = [-0.77405, 0.879422]; Cost == 5.364169084473712.\n",
      "Iteration 135: θ = [-0.779677, 0.879987]; Cost == 5.360973449527067.\n",
      "Iteration 136: θ = [-0.785294, 0.880552]; Cost == 5.357789325073084.\n",
      "Iteration 137: θ = [-0.790901, 0.881115]; Cost == 5.354616669651632.\n",
      "Iteration 138: θ = [-0.796498, 0.881677]; Cost == 5.3514554419519165.\n",
      "Iteration 139: θ = [-0.802085, 0.882238]; Cost == 5.348305600811943.\n",
      "Iteration 140: θ = [-0.807661, 0.882799]; Cost == 5.34516710521798.\n",
      "Iteration 141: θ = [-0.813228, 0.883358]; Cost == 5.342039914304029.\n",
      "Iteration 142: θ = [-0.818785, 0.883916]; Cost == 5.338923987351282.\n",
      "Iteration 143: θ = [-0.824331, 0.884473]; Cost == 5.335819283787603.\n",
      "Iteration 144: θ = [-0.829868, 0.885029]; Cost == 5.332725763186989.\n",
      "Iteration 145: θ = [-0.835394, 0.885585]; Cost == 5.329643385269053.\n",
      "Iteration 146: θ = [-0.840911, 0.886139]; Cost == 5.326572109898499.\n",
      "Iteration 147: θ = [-0.846418, 0.886692]; Cost == 5.323511897084587.\n",
      "Iteration 148: θ = [-0.851915, 0.887244]; Cost == 5.32046270698063.\n",
      "Iteration 149: θ = [-0.857401, 0.887795]; Cost == 5.317424499883461.\n",
      "Iteration 150: θ = [-0.862878, 0.888346]; Cost == 5.3143972362329235.\n"
     ]
    },
    {
     "name": "stdout",
     "output_type": "stream",
     "text": [
      "Iteration 151: θ = [-0.868345, 0.888895]; Cost == 5.311380876611356.\n",
      "Iteration 152: θ = [-0.873803, 0.889443]; Cost == 5.3083753817430726.\n",
      "Iteration 153: θ = [-0.87925, 0.88999]; Cost == 5.305380712493861.\n",
      "Iteration 154: θ = [-0.884688, 0.890537]; Cost == 5.302396829870465.\n",
      "Iteration 155: θ = [-0.890115, 0.891082]; Cost == 5.2994236950200815.\n",
      "Iteration 156: θ = [-0.895533, 0.891626]; Cost == 5.296461269229852.\n",
      "Iteration 157: θ = [-0.900942, 0.89217]; Cost == 5.29350951392636.\n",
      "Iteration 158: θ = [-0.90634, 0.892712]; Cost == 5.290568390675129.\n",
      "Iteration 159: θ = [-0.911729, 0.893253]; Cost == 5.287637861180118.\n",
      "Iteration 160: θ = [-0.917108, 0.893794]; Cost == 5.284717887283231.\n",
      "Iteration 161: θ = [-0.922477, 0.894333]; Cost == 5.281808430963812.\n",
      "Iteration 162: θ = [-0.927837, 0.894871]; Cost == 5.278909454338152.\n",
      "Iteration 163: θ = [-0.933187, 0.895409]; Cost == 5.276020919659.\n",
      "Iteration 164: θ = [-0.938527, 0.895945]; Cost == 5.27314278931507.\n",
      "Iteration 165: θ = [-0.943858, 0.896481]; Cost == 5.270275025830543.\n",
      "Iteration 166: θ = [-0.949179, 0.897016]; Cost == 5.267417591864592.\n",
      "Iteration 167: θ = [-0.954491, 0.897549]; Cost == 5.264570450210885.\n",
      "Iteration 168: θ = [-0.959793, 0.898082]; Cost == 5.26173356379711.\n",
      "Iteration 169: θ = [-0.965085, 0.898613]; Cost == 5.2589068956844836.\n",
      "Iteration 170: θ = [-0.970368, 0.899144]; Cost == 5.256090409067274.\n",
      "Iteration 171: θ = [-0.975641, 0.899674]; Cost == 5.253284067272322.\n",
      "Iteration 172: θ = [-0.980905, 0.900203]; Cost == 5.250487833758565.\n",
      "Iteration 173: θ = [-0.986159, 0.900731]; Cost == 5.2477016721165555.\n",
      "Iteration 174: θ = [-0.991404, 0.901258]; Cost == 5.244925546067993.\n",
      "Iteration 175: θ = [-0.99664, 0.901783]; Cost == 5.242159419465253.\n",
      "Iteration 176: θ = [-1.00187, 0.902308]; Cost == 5.239403256290902.\n",
      "Iteration 177: θ = [-1.00708, 0.902833]; Cost == 5.236657020657251.\n",
      "Iteration 178: θ = [-1.01229, 0.903356]; Cost == 5.2339206768058695.\n",
      "Iteration 179: θ = [-1.01749, 0.903878]; Cost == 5.2311941891071285.\n",
      "Iteration 180: θ = [-1.02268, 0.904399]; Cost == 5.228477522059736.\n",
      "Iteration 181: θ = [-1.02785, 0.904919]; Cost == 5.225770640290271.\n",
      "Iteration 182: θ = [-1.03302, 0.905439]; Cost == 5.223073508552729.\n",
      "Iteration 183: θ = [-1.03818, 0.905957]; Cost == 5.220386091728056.\n",
      "Iteration 184: θ = [-1.04334, 0.906475]; Cost == 5.217708354823697.\n",
      "Iteration 185: θ = [-1.04848, 0.906991]; Cost == 5.215040262973137.\n",
      "Iteration 186: θ = [-1.05361, 0.907507]; Cost == 5.21238178143545.\n",
      "Iteration 187: θ = [-1.05873, 0.908021]; Cost == 5.209732875594843.\n",
      "Iteration 188: θ = [-1.06385, 0.908535]; Cost == 5.207093510960208.\n",
      "Iteration 189: θ = [-1.06895, 0.909048]; Cost == 5.204463653164672.\n",
      "Iteration 190: θ = [-1.07405, 0.90956]; Cost == 5.20184326796515.\n",
      "Iteration 191: θ = [-1.07913, 0.910071]; Cost == 5.199232321241896.\n",
      "Iteration 192: θ = [-1.08421, 0.910581]; Cost == 5.1966307789980615.\n",
      "Iteration 193: θ = [-1.08928, 0.91109]; Cost == 5.19403860735926.\n",
      "Iteration 194: θ = [-1.09434, 0.911598]; Cost == 5.191455772573107.\n",
      "Iteration 195: θ = [-1.09939, 0.912106]; Cost == 5.188882241008802.\n",
      "Iteration 196: θ = [-1.10443, 0.912612]; Cost == 5.186317979156676.\n",
      "Iteration 197: θ = [-1.10946, 0.913118]; Cost == 5.183762953627759.\n",
      "Iteration 198: θ = [-1.11448, 0.913622]; Cost == 5.181217131153349.\n",
      "Iteration 199: θ = [-1.1195, 0.914126]; Cost == 5.1786804785845755.\n",
      "Iteration 200: θ = [-1.1245, 0.914629]; Cost == 5.176152962891967.\n",
      "Iteration 201: θ = [-1.1295, 0.91513]; Cost == 5.173634551165023.\n",
      "Iteration 202: θ = [-1.13448, 0.915631]; Cost == 5.171125210611782.\n",
      "Iteration 203: θ = [-1.13946, 0.916131]; Cost == 5.168624908558403.\n",
      "Iteration 204: θ = [-1.14443, 0.916631]; Cost == 5.166133612448731.\n",
      "Iteration 205: θ = [-1.14939, 0.917129]; Cost == 5.163651289843874.\n",
      "Iteration 206: θ = [-1.15434, 0.917626]; Cost == 5.161177908421789.\n",
      "Iteration 207: θ = [-1.15928, 0.918123]; Cost == 5.15871343597685.\n",
      "Iteration 208: θ = [-1.16421, 0.918618]; Cost == 5.156257840419433.\n",
      "Iteration 209: θ = [-1.16914, 0.919113]; Cost == 5.1538110897755045.\n",
      "Iteration 210: θ = [-1.17405, 0.919607]; Cost == 5.151373152186197.\n",
      "Iteration 211: θ = [-1.17896, 0.920099]; Cost == 5.148943995907395.\n",
      "Iteration 212: θ = [-1.18386, 0.920591]; Cost == 5.146523589309324.\n",
      "Iteration 213: θ = [-1.18875, 0.921083]; Cost == 5.144111900876139.\n",
      "Iteration 214: θ = [-1.19363, 0.921573]; Cost == 5.141708899205515.\n",
      "Iteration 215: θ = [-1.1985, 0.922062]; Cost == 5.1393145530082345.\n",
      "Iteration 216: θ = [-1.20336, 0.922551]; Cost == 5.136928831107777.\n",
      "Iteration 217: θ = [-1.20821, 0.923038]; Cost == 5.134551702439931.\n",
      "Iteration 218: θ = [-1.21306, 0.923525]; Cost == 5.132183136052364.\n",
      "Iteration 219: θ = [-1.21789, 0.924011]; Cost == 5.129823101104237.\n",
      "Iteration 220: θ = [-1.22272, 0.924496]; Cost == 5.127471566865799.\n",
      "Iteration 221: θ = [-1.22754, 0.92498]; Cost == 5.12512850271798.\n",
      "Iteration 222: θ = [-1.23235, 0.925463]; Cost == 5.122793878152007.\n",
      "Iteration 223: θ = [-1.23715, 0.925945]; Cost == 5.120467662768992.\n",
      "Iteration 224: θ = [-1.24194, 0.926427]; Cost == 5.118149826279543.\n",
      "Iteration 225: θ = [-1.24672, 0.926907]; Cost == 5.115840338503368.\n",
      "Iteration 226: θ = [-1.2515, 0.927387]; Cost == 5.113539169368884.\n",
      "Iteration 227: θ = [-1.25627, 0.927866]; Cost == 5.111246288912825.\n",
      "Iteration 228: θ = [-1.26102, 0.928344]; Cost == 5.108961667279847.\n",
      "Iteration 229: θ = [-1.26577, 0.928821]; Cost == 5.10668527472215.\n",
      "Iteration 230: θ = [-1.27051, 0.929297]; Cost == 5.104417081599077.\n",
      "Iteration 231: θ = [-1.27525, 0.929773]; Cost == 5.1021570583767355.\n",
      "Iteration 232: θ = [-1.27997, 0.930247]; Cost == 5.099905175627619.\n",
      "Iteration 233: θ = [-1.28469, 0.930721]; Cost == 5.097661404030211.\n",
      "Iteration 234: θ = [-1.28939, 0.931194]; Cost == 5.095425714368609.\n",
      "Iteration 235: θ = [-1.29409, 0.931666]; Cost == 5.09319807753215.\n",
      "Iteration 236: θ = [-1.29878, 0.932137]; Cost == 5.090978464515022.\n",
      "Iteration 237: θ = [-1.30346, 0.932607]; Cost == 5.088766846415887.\n",
      "Iteration 238: θ = [-1.30814, 0.933077]; Cost == 5.086563194437517.\n",
      "Iteration 239: θ = [-1.3128, 0.933545]; Cost == 5.0843674798864.\n",
      "Iteration 240: θ = [-1.31746, 0.934013]; Cost == 5.082179674172386.\n",
      "Iteration 241: θ = [-1.3221, 0.93448]; Cost == 5.079999748808297.\n",
      "Iteration 242: θ = [-1.32674, 0.934946]; Cost == 5.0778276754095675.\n",
      "Iteration 243: θ = [-1.33137, 0.935411]; Cost == 5.075663425693872.\n",
      "Iteration 244: θ = [-1.336, 0.935875]; Cost == 5.073506971480756.\n",
      "Iteration 245: θ = [-1.34061, 0.936339]; Cost == 5.071358284691268.\n",
      "Iteration 246: θ = [-1.34522, 0.936802]; Cost == 5.069217337347596.\n",
      "Iteration 247: θ = [-1.34981, 0.937264]; Cost == 5.067084101572705.\n",
      "Iteration 248: θ = [-1.3544, 0.937725]; Cost == 5.064958549589969.\n",
      "Iteration 249: θ = [-1.35898, 0.938185]; Cost == 5.062840653722809.\n",
      "Iteration 250: θ = [-1.36356, 0.938644]; Cost == 5.060730386394342.\n",
      "Iteration 251: θ = [-1.36812, 0.939103]; Cost == 5.05862772012701.\n",
      "Iteration 252: θ = [-1.37268, 0.939561]; Cost == 5.056532627542231.\n",
      "Iteration 253: θ = [-1.37723, 0.940018]; Cost == 5.054445081360036.\n",
      "Iteration 254: θ = [-1.38177, 0.940474]; Cost == 5.052365054398719.\n",
      "Iteration 255: θ = [-1.3863, 0.940929]; Cost == 5.050292519574479.\n",
      "Iteration 256: θ = [-1.39082, 0.941383]; Cost == 5.0482274499010735.\n",
      "Iteration 257: θ = [-1.39534, 0.941837]; Cost == 5.046169818489457.\n",
      "Iteration 258: θ = [-1.39984, 0.94229]; Cost == 5.044119598547441.\n",
      "Iteration 259: θ = [-1.40434, 0.942742]; Cost == 5.042076763379341.\n",
      "Iteration 260: θ = [-1.40883, 0.943193]; Cost == 5.040041286385627.\n",
      "Iteration 261: θ = [-1.41332, 0.943643]; Cost == 5.038013141062576.\n",
      "Iteration 262: θ = [-1.41779, 0.944093]; Cost == 5.035992301001939.\n",
      "Iteration 263: θ = [-1.42226, 0.944542]; Cost == 5.033978739890578.\n",
      "Iteration 264: θ = [-1.42672, 0.944989]; Cost == 5.031972431510141.\n",
      "Iteration 265: θ = [-1.43117, 0.945437]; Cost == 5.029973349736706.\n",
      "Iteration 266: θ = [-1.43561, 0.945883]; Cost == 5.027981468540455.\n",
      "Iteration 267: θ = [-1.44005, 0.946328]; Cost == 5.025996761985323.\n",
      "Iteration 268: θ = [-1.44447, 0.946773]; Cost == 5.024019204228667.\n",
      "Iteration 269: θ = [-1.44889, 0.947217]; Cost == 5.022048769520928.\n",
      "Iteration 270: θ = [-1.4533, 0.94766]; Cost == 5.020085432205293.\n",
      "Iteration 271: θ = [-1.4577, 0.948102]; Cost == 5.018129166717368.\n",
      "Iteration 272: θ = [-1.4621, 0.948544]; Cost == 5.016179947584834.\n",
      "Iteration 273: θ = [-1.46649, 0.948985]; Cost == 5.014237749427129.\n",
      "Iteration 274: θ = [-1.47087, 0.949425]; Cost == 5.012302546955106.\n",
      "Iteration 275: θ = [-1.47524, 0.949864]; Cost == 5.010374314970709.\n",
      "Iteration 276: θ = [-1.4796, 0.950302]; Cost == 5.008453028366643.\n",
      "Iteration 277: θ = [-1.48396, 0.95074]; Cost == 5.006538662126047.\n",
      "Iteration 278: θ = [-1.4883, 0.951176]; Cost == 5.004631191322175.\n",
      "Iteration 279: θ = [-1.49264, 0.951612]; Cost == 5.002730591118061.\n",
      "Iteration 280: θ = [-1.49697, 0.952048]; Cost == 5.000836836766199.\n",
      "Iteration 281: θ = [-1.5013, 0.952482]; Cost == 4.998949903608226.\n",
      "Iteration 282: θ = [-1.50562, 0.952916]; Cost == 4.997069767074594.\n",
      "Iteration 283: θ = [-1.50992, 0.953348]; Cost == 4.995196402684257.\n",
      "Iteration 284: θ = [-1.51422, 0.95378]; Cost == 4.9933297860443435.\n",
      "Iteration 285: θ = [-1.51852, 0.954212]; Cost == 4.991469892849845.\n",
      "Iteration 286: θ = [-1.5228, 0.954642]; Cost == 4.989616698883301.\n",
      "Iteration 287: θ = [-1.52708, 0.955072]; Cost == 4.987770180014478.\n",
      "Iteration 288: θ = [-1.53135, 0.955501]; Cost == 4.98593031220006.\n",
      "Iteration 289: θ = [-1.53561, 0.955929]; Cost == 4.984097071483333.\n",
      "Iteration 290: θ = [-1.53987, 0.956356]; Cost == 4.982270433993871.\n",
      "Iteration 291: θ = [-1.54411, 0.956783]; Cost == 4.980450375947234.\n",
      "Iteration 292: θ = [-1.54835, 0.957209]; Cost == 4.978636873644648.\n",
      "Iteration 293: θ = [-1.55258, 0.957634]; Cost == 4.976829903472699.\n",
      "Iteration 294: θ = [-1.55681, 0.958058]; Cost == 4.975029441903032.\n",
      "Iteration 295: θ = [-1.56102, 0.958482]; Cost == 4.973235465492034.\n",
      "Iteration 296: θ = [-1.56523, 0.958905]; Cost == 4.97144795088054.\n",
      "Iteration 297: θ = [-1.56943, 0.959327]; Cost == 4.969666874793521.\n",
      "Iteration 298: θ = [-1.57363, 0.959748]; Cost == 4.967892214039784.\n",
      "Iteration 299: θ = [-1.57781, 0.960169]; Cost == 4.966123945511668.\n"
     ]
    },
    {
     "name": "stdout",
     "output_type": "stream",
     "text": [
      "Iteration 300: θ = [-1.58199, 0.960588]; Cost == 4.964362046184744.\n",
      "Iteration 301: θ = [-1.58616, 0.961007]; Cost == 4.962606493117519.\n",
      "Iteration 302: θ = [-1.59033, 0.961426]; Cost == 4.96085726345113.\n",
      "Iteration 303: θ = [-1.59448, 0.961843]; Cost == 4.959114334409053.\n",
      "Iteration 304: θ = [-1.59863, 0.96226]; Cost == 4.957377683296804.\n",
      "Iteration 305: θ = [-1.60277, 0.962676]; Cost == 4.955647287501639.\n",
      "Iteration 306: θ = [-1.6069, 0.963091]; Cost == 4.95392312449227.\n",
      "Iteration 307: θ = [-1.61103, 0.963506]; Cost == 4.95220517181856.\n",
      "Iteration 308: θ = [-1.61515, 0.963919]; Cost == 4.95049340711124.\n",
      "Iteration 309: θ = [-1.61926, 0.964332]; Cost == 4.94878780808161.\n",
      "Iteration 310: θ = [-1.62336, 0.964745]; Cost == 4.947088352521258.\n",
      "Iteration 311: θ = [-1.62746, 0.965156]; Cost == 4.94539501830176.\n",
      "Iteration 312: θ = [-1.63155, 0.965567]; Cost == 4.943707783374398.\n",
      "Iteration 313: θ = [-1.63563, 0.965977]; Cost == 4.942026625769877.\n",
      "Iteration 314: θ = [-1.6397, 0.966386]; Cost == 4.9403515235980295.\n",
      "Iteration 315: θ = [-1.64377, 0.966795]; Cost == 4.938682455047537.\n",
      "Iteration 316: θ = [-1.64783, 0.967203]; Cost == 4.937019398385641.\n",
      "Iteration 317: θ = [-1.65188, 0.96761]; Cost == 4.935362331957869.\n",
      "Iteration 318: θ = [-1.65593, 0.968016]; Cost == 4.933711234187743.\n",
      "Iteration 319: θ = [-1.65996, 0.968422]; Cost == 4.932066083576499.\n",
      "Iteration 320: θ = [-1.66399, 0.968827]; Cost == 4.930426858702819.\n",
      "Iteration 321: θ = [-1.66802, 0.969231]; Cost == 4.928793538222535.\n",
      "Iteration 322: θ = [-1.67203, 0.969634]; Cost == 4.927166100868363.\n",
      "Iteration 323: θ = [-1.67604, 0.970037]; Cost == 4.925544525449623.\n",
      "Iteration 324: θ = [-1.68004, 0.970439]; Cost == 4.923928790851962.\n",
      "Iteration 325: θ = [-1.68404, 0.97084]; Cost == 4.922318876037079.\n",
      "Iteration 326: θ = [-1.68802, 0.971241]; Cost == 4.920714760042453.\n",
      "Iteration 327: θ = [-1.692, 0.97164]; Cost == 4.919116421981068.\n",
      "Iteration 328: θ = [-1.69598, 0.972039]; Cost == 4.91752384104114.\n",
      "Iteration 329: θ = [-1.69994, 0.972438]; Cost == 4.915936996485852.\n",
      "Iteration 330: θ = [-1.7039, 0.972835]; Cost == 4.914355867653076.\n",
      "Iteration 331: θ = [-1.70785, 0.973232]; Cost == 4.912780433955112.\n",
      "Iteration 332: θ = [-1.71179, 0.973629]; Cost == 4.911210674878409.\n",
      "Iteration 333: θ = [-1.71573, 0.974024]; Cost == 4.9096465699833125.\n",
      "Iteration 334: θ = [-1.71966, 0.974419]; Cost == 4.908088098903784.\n",
      "Iteration 335: θ = [-1.72358, 0.974813]; Cost == 4.9065352413471475.\n",
      "Iteration 336: θ = [-1.7275, 0.975206]; Cost == 4.904987977093815.\n",
      "Iteration 337: θ = [-1.73141, 0.975599]; Cost == 4.903446285997032.\n",
      "Iteration 338: θ = [-1.73531, 0.975991]; Cost == 4.90191014798261.\n",
      "Iteration 339: θ = [-1.7392, 0.976382]; Cost == 4.9003795430486665.\n",
      "Iteration 340: θ = [-1.74309, 0.976773]; Cost == 4.898854451265366.\n",
      "Iteration 341: θ = [-1.74697, 0.977163]; Cost == 4.897334852774656.\n",
      "Iteration 342: θ = [-1.75085, 0.977552]; Cost == 4.895820727790016.\n",
      "Iteration 343: θ = [-1.75471, 0.97794]; Cost == 4.894312056596192.\n",
      "Iteration 344: θ = [-1.75857, 0.978328]; Cost == 4.892808819548943.\n",
      "Iteration 345: θ = [-1.76242, 0.978715]; Cost == 4.89131099707479.\n",
      "Iteration 346: θ = [-1.76627, 0.979101]; Cost == 4.889818569670748.\n",
      "Iteration 347: θ = [-1.77011, 0.979487]; Cost == 4.888331517904091.\n",
      "Iteration 348: θ = [-1.77394, 0.979872]; Cost == 4.8868498224120795.\n",
      "Iteration 349: θ = [-1.77776, 0.980256]; Cost == 4.8853734639017246.\n",
      "Iteration 350: θ = [-1.78158, 0.98064]; Cost == 4.883902423149524.\n",
      "Iteration 351: θ = [-1.78539, 0.981022]; Cost == 4.88243668100122.\n",
      "Iteration 352: θ = [-1.7892, 0.981405]; Cost == 4.880976218371548.\n",
      "Iteration 353: θ = [-1.793, 0.981786]; Cost == 4.879521016243985.\n",
      "Iteration 354: θ = [-1.79679, 0.982167]; Cost == 4.8780710556705085.\n",
      "Iteration 355: θ = [-1.80057, 0.982547]; Cost == 4.876626317771341.\n",
      "Iteration 356: θ = [-1.80435, 0.982926]; Cost == 4.875186783734714.\n",
      "Iteration 357: θ = [-1.80812, 0.983305]; Cost == 4.87375243481661.\n",
      "Iteration 358: θ = [-1.81188, 0.983683]; Cost == 4.872323252340535.\n",
      "Iteration 359: θ = [-1.81564, 0.984061]; Cost == 4.870899217697262.\n",
      "Iteration 360: θ = [-1.81939, 0.984437]; Cost == 4.869480312344594.\n",
      "Iteration 361: θ = [-1.82313, 0.984813]; Cost == 4.868066517807122.\n",
      "Iteration 362: θ = [-1.82686, 0.985189]; Cost == 4.866657815675986.\n",
      "Iteration 363: θ = [-1.83059, 0.985563]; Cost == 4.865254187608633.\n",
      "Iteration 364: θ = [-1.83432, 0.985937]; Cost == 4.863855615328574.\n",
      "Iteration 365: θ = [-1.83803, 0.986311]; Cost == 4.862462080625159.\n",
      "Iteration 366: θ = [-1.84174, 0.986683]; Cost == 4.861073565353324.\n",
      "Iteration 367: θ = [-1.84544, 0.987055]; Cost == 4.859690051433372.\n",
      "Iteration 368: θ = [-1.84914, 0.987426]; Cost == 4.858311520850715.\n",
      "Iteration 369: θ = [-1.85283, 0.987797]; Cost == 4.856937955655664.\n",
      "Iteration 370: θ = [-1.85651, 0.988167]; Cost == 4.855569337963178.\n",
      "Iteration 371: θ = [-1.86019, 0.988536]; Cost == 4.854205649952639.\n",
      "Iteration 372: θ = [-1.86386, 0.988905]; Cost == 4.852846873867616.\n",
      "Iteration 373: θ = [-1.86752, 0.989273]; Cost == 4.85149299201564.\n",
      "Iteration 374: θ = [-1.87118, 0.98964]; Cost == 4.850143986767962.\n",
      "Iteration 375: θ = [-1.87483, 0.990007]; Cost == 4.8487998405593355.\n",
      "Iteration 376: θ = [-1.87847, 0.990373]; Cost == 4.847460535887785.\n",
      "Iteration 377: θ = [-1.88211, 0.990738]; Cost == 4.84612605531437.\n",
      "Iteration 378: θ = [-1.88574, 0.991103]; Cost == 4.8447963814629675.\n",
      "Iteration 379: θ = [-1.88936, 0.991467]; Cost == 4.843471497020046.\n",
      "Iteration 380: θ = [-1.89298, 0.99183]; Cost == 4.842151384734428.\n",
      "Iteration 381: θ = [-1.89659, 0.992193]; Cost == 4.8408360274170805.\n",
      "Iteration 382: θ = [-1.90019, 0.992555]; Cost == 4.839525407940883.\n",
      "Iteration 383: θ = [-1.90379, 0.992916]; Cost == 4.838219509240405.\n",
      "Iteration 384: θ = [-1.90738, 0.993277]; Cost == 4.836918314311682.\n",
      "Iteration 385: θ = [-1.91096, 0.993637]; Cost == 4.8356218062120035.\n",
      "Iteration 386: θ = [-1.91454, 0.993996]; Cost == 4.834329968059677.\n",
      "Iteration 387: θ = [-1.91811, 0.994355]; Cost == 4.833042783033826.\n",
      "Iteration 388: θ = [-1.92168, 0.994713]; Cost == 4.8317602343741575.\n",
      "Iteration 389: θ = [-1.92523, 0.995071]; Cost == 4.830482305380745.\n",
      "Iteration 390: θ = [-1.92879, 0.995428]; Cost == 4.829208979413817.\n",
      "Iteration 391: θ = [-1.93233, 0.995784]; Cost == 4.8279402398935405.\n",
      "Iteration 392: θ = [-1.93587, 0.996139]; Cost == 4.826676070299799.\n",
      "Iteration 393: θ = [-1.9394, 0.996494]; Cost == 4.825416454171979.\n",
      "Iteration 394: θ = [-1.94293, 0.996849]; Cost == 4.824161375108761.\n",
      "Iteration 395: θ = [-1.94645, 0.997202]; Cost == 4.822910816767899.\n",
      "Iteration 396: θ = [-1.94996, 0.997555]; Cost == 4.821664762866012.\n",
      "Iteration 397: θ = [-1.95347, 0.997908]; Cost == 4.8204231971783695.\n",
      "Iteration 398: θ = [-1.95697, 0.998259]; Cost == 4.819186103538688.\n",
      "Iteration 399: θ = [-1.96047, 0.998611]; Cost == 4.817953465838902.\n",
      "Iteration 400: θ = [-1.96396, 0.998961]; Cost == 4.816725268028978.\n",
      "Iteration 401: θ = [-1.96744, 0.999311]; Cost == 4.815501494116686.\n",
      "Iteration 402: θ = [-1.97092, 0.99966]; Cost == 4.814282128167403.\n",
      "Iteration 403: θ = [-1.97439, 1.00001]; Cost == 4.813067154303901.\n",
      "Iteration 404: θ = [-1.97785, 1.00036]; Cost == 4.811856556706141.\n",
      "Iteration 405: θ = [-1.98131, 1.0007]; Cost == 4.810650319611066.\n",
      "Iteration 406: θ = [-1.98476, 1.00105]; Cost == 4.809448427312395.\n",
      "Iteration 407: θ = [-1.9882, 1.0014]; Cost == 4.808250864160425.\n",
      "Iteration 408: θ = [-1.99164, 1.00174]; Cost == 4.807057614561818.\n",
      "Iteration 409: θ = [-1.99507, 1.00209]; Cost == 4.805868662979403.\n",
      "Iteration 410: θ = [-1.9985, 1.00243]; Cost == 4.804683993931976.\n",
      "Iteration 411: θ = [-2.00192, 1.00277]; Cost == 4.80350359199409.\n",
      "Iteration 412: θ = [-2.00533, 1.00312]; Cost == 4.802327441795867.\n",
      "Iteration 413: θ = [-2.00874, 1.00346]; Cost == 4.80115552802278.\n",
      "Iteration 414: θ = [-2.01214, 1.0038]; Cost == 4.799987835415475.\n",
      "Iteration 415: θ = [-2.01554, 1.00414]; Cost == 4.798824348769555.\n",
      "Iteration 416: θ = [-2.01893, 1.00448]; Cost == 4.7976650529353915.\n",
      "Iteration 417: θ = [-2.02231, 1.00482]; Cost == 4.796509932817919.\n",
      "Iteration 418: θ = [-2.02569, 1.00516]; Cost == 4.795358973376449.\n",
      "Iteration 419: θ = [-2.02906, 1.0055]; Cost == 4.7942121596244665.\n",
      "Iteration 420: θ = [-2.03242, 1.00584]; Cost == 4.793069476629436.\n",
      "Iteration 421: θ = [-2.03578, 1.00618]; Cost == 4.791930909512612.\n",
      "Iteration 422: θ = [-2.03913, 1.00651]; Cost == 4.790796443448836.\n",
      "Iteration 423: θ = [-2.04248, 1.00685]; Cost == 4.789666063666354.\n",
      "Iteration 424: θ = [-2.04582, 1.00719]; Cost == 4.788539755446615.\n",
      "Iteration 425: θ = [-2.04916, 1.00752]; Cost == 4.787417504124084.\n",
      "Iteration 426: θ = [-2.05249, 1.00785]; Cost == 4.786299295086054.\n",
      "Iteration 427: θ = [-2.05581, 1.00819]; Cost == 4.785185113772448.\n",
      "Iteration 428: θ = [-2.05913, 1.00852]; Cost == 4.784074945675635.\n",
      "Iteration 429: θ = [-2.06244, 1.00885]; Cost == 4.7829687763402395.\n",
      "Iteration 430: θ = [-2.06574, 1.00919]; Cost == 4.781866591362954.\n",
      "Iteration 431: θ = [-2.06904, 1.00952]; Cost == 4.78076837639235.\n",
      "Iteration 432: θ = [-2.07233, 1.00985]; Cost == 4.779674117128697.\n",
      "Iteration 433: θ = [-2.07562, 1.01018]; Cost == 4.778583799323759.\n",
      "Iteration 434: θ = [-2.0789, 1.01051]; Cost == 4.777497408780635.\n",
      "Iteration 435: θ = [-2.08218, 1.01084]; Cost == 4.7764149313535516.\n",
      "Iteration 436: θ = [-2.08544, 1.01117]; Cost == 4.775336352947692.\n",
      "Iteration 437: θ = [-2.08871, 1.01149]; Cost == 4.774261659519006.\n",
      "Iteration 438: θ = [-2.09197, 1.01182]; Cost == 4.773190837074031.\n",
      "Iteration 439: θ = [-2.09522, 1.01215]; Cost == 4.772123871669708.\n",
      "Iteration 440: θ = [-2.09846, 1.01247]; Cost == 4.771060749413196.\n",
      "Iteration 441: θ = [-2.1017, 1.0128]; Cost == 4.770001456461701.\n",
      "Iteration 442: θ = [-2.10494, 1.01312]; Cost == 4.768945979022287.\n",
      "Iteration 443: θ = [-2.10816, 1.01345]; Cost == 4.767894303351698.\n",
      "Iteration 444: θ = [-2.11139, 1.01377]; Cost == 4.766846415756183.\n",
      "Iteration 445: θ = [-2.1146, 1.0141]; Cost == 4.765802302591315.\n",
      "Iteration 446: θ = [-2.11781, 1.01442]; Cost == 4.764761950261812.\n",
      "Iteration 447: θ = [-2.12102, 1.01474]; Cost == 4.763725345221363.\n",
      "Iteration 448: θ = [-2.12422, 1.01506]; Cost == 4.762692473972447.\n",
      "Iteration 449: θ = [-2.12741, 1.01538]; Cost == 4.761663323066164.\n"
     ]
    },
    {
     "name": "stdout",
     "output_type": "stream",
     "text": [
      "Iteration 450: θ = [-2.1306, 1.0157]; Cost == 4.760637879102053.\n",
      "Iteration 451: θ = [-2.13378, 1.01602]; Cost == 4.7596161287279255.\n",
      "Iteration 452: θ = [-2.13696, 1.01634]; Cost == 4.75859805863968.\n",
      "Iteration 453: θ = [-2.14013, 1.01666]; Cost == 4.757583655581141.\n",
      "Iteration 454: θ = [-2.14329, 1.01698]; Cost == 4.7565729063438775.\n",
      "Iteration 455: θ = [-2.14645, 1.01729]; Cost == 4.755565797767038.\n",
      "Iteration 456: θ = [-2.14961, 1.01761]; Cost == 4.7545623167371724.\n",
      "Iteration 457: θ = [-2.15275, 1.01793]; Cost == 4.753562450188067.\n",
      "Iteration 458: θ = [-2.15589, 1.01824]; Cost == 4.75256618510057.\n",
      "Iteration 459: θ = [-2.15903, 1.01856]; Cost == 4.751573508502425.\n",
      "Iteration 460: θ = [-2.16216, 1.01887]; Cost == 4.750584407468098.\n",
      "Iteration 461: θ = [-2.16529, 1.01919]; Cost == 4.7495988691186195.\n",
      "Iteration 462: θ = [-2.16841, 1.0195]; Cost == 4.7486168806214.\n",
      "Iteration 463: θ = [-2.17152, 1.01981]; Cost == 4.747638429190077.\n",
      "Iteration 464: θ = [-2.17463, 1.02013]; Cost == 4.746663502084345.\n",
      "Iteration 465: θ = [-2.17773, 1.02044]; Cost == 4.745692086609786.\n",
      "Iteration 466: θ = [-2.18083, 1.02075]; Cost == 4.744724170117706.\n",
      "Iteration 467: θ = [-2.18392, 1.02106]; Cost == 4.743759740004973.\n",
      "Iteration 468: θ = [-2.187, 1.02137]; Cost == 4.742798783713851.\n",
      "Iteration 469: θ = [-2.19009, 1.02168]; Cost == 4.741841288731832.\n",
      "Iteration 470: θ = [-2.19316, 1.02199]; Cost == 4.740887242591483.\n",
      "Iteration 471: θ = [-2.19623, 1.0223]; Cost == 4.739936632870274.\n",
      "Iteration 472: θ = [-2.19929, 1.0226]; Cost == 4.738989447190423.\n",
      "Iteration 473: θ = [-2.20235, 1.02291]; Cost == 4.7380456732187275.\n",
      "Iteration 474: θ = [-2.2054, 1.02322]; Cost == 4.737105298666416.\n",
      "Iteration 475: θ = [-2.20845, 1.02352]; Cost == 4.736168311288972.\n",
      "Iteration 476: θ = [-2.21149, 1.02383]; Cost == 4.735234698885989.\n",
      "Iteration 477: θ = [-2.21453, 1.02413]; Cost == 4.734304449301005.\n",
      "Iteration 478: θ = [-2.21756, 1.02444]; Cost == 4.733377550421341.\n",
      "Iteration 479: θ = [-2.22058, 1.02474]; Cost == 4.732453990177952.\n",
      "Iteration 480: θ = [-2.2236, 1.02505]; Cost == 4.731533756545262.\n",
      "Iteration 481: θ = [-2.22662, 1.02535]; Cost == 4.73061683754101.\n",
      "Iteration 482: θ = [-2.22963, 1.02565]; Cost == 4.7297032212260985.\n",
      "Iteration 483: θ = [-2.23263, 1.02595]; Cost == 4.728792895704427.\n",
      "Iteration 484: θ = [-2.23563, 1.02625]; Cost == 4.727885849122751.\n",
      "Iteration 485: θ = [-2.23862, 1.02655]; Cost == 4.726982069670518.\n",
      "Iteration 486: θ = [-2.24161, 1.02685]; Cost == 4.726081545579717.\n",
      "Iteration 487: θ = [-2.24459, 1.02715]; Cost == 4.725184265124721.\n",
      "Iteration 488: θ = [-2.24757, 1.02745]; Cost == 4.724290216622143.\n",
      "Iteration 489: θ = [-2.25054, 1.02775]; Cost == 4.7233993884306775.\n",
      "Iteration 490: θ = [-2.2535, 1.02805]; Cost == 4.722511768950947.\n",
      "Iteration 491: θ = [-2.25646, 1.02835]; Cost == 4.721627346625359.\n",
      "Iteration 492: θ = [-2.25942, 1.02864]; Cost == 4.7207461099379495.\n",
      "Iteration 493: θ = [-2.26237, 1.02894]; Cost == 4.7198680474142325.\n",
      "Iteration 494: θ = [-2.26531, 1.02924]; Cost == 4.718993147621053.\n",
      "Iteration 495: θ = [-2.26825, 1.02953]; Cost == 4.7181213991664395.\n",
      "Iteration 496: θ = [-2.27118, 1.02983]; Cost == 4.717252790699452.\n",
      "Iteration 497: θ = [-2.27411, 1.03012]; Cost == 4.716387310910036.\n",
      "Iteration 498: θ = [-2.27704, 1.03041]; Cost == 4.715524948528874.\n",
      "Iteration 499: θ = [-2.27995, 1.03071]; Cost == 4.7146656923272445.\n",
      "Iteration 500: θ = [-2.28287, 1.031]; Cost == 4.713809531116866.\n",
      "Iteration 501: θ = [-2.28577, 1.03129]; Cost == 4.712956453749759.\n",
      "Iteration 502: θ = [-2.28868, 1.03158]; Cost == 4.712106449118099.\n",
      "Iteration 503: θ = [-2.29157, 1.03187]; Cost == 4.711259506154067.\n",
      "Iteration 504: θ = [-2.29447, 1.03216]; Cost == 4.710415613829716.\n",
      "Iteration 505: θ = [-2.29735, 1.03245]; Cost == 4.709574761156817.\n",
      "Iteration 506: θ = [-2.30023, 1.03274]; Cost == 4.708736937186721.\n",
      "Iteration 507: θ = [-2.30311, 1.03303]; Cost == 4.707902131010216.\n",
      "Iteration 508: θ = [-2.30598, 1.03332]; Cost == 4.707070331757381.\n",
      "Iteration 509: θ = [-2.30885, 1.03361]; Cost == 4.706241528597454.\n",
      "Iteration 510: θ = [-2.31171, 1.0339]; Cost == 4.70541571073868.\n",
      "Iteration 511: θ = [-2.31456, 1.03418]; Cost == 4.704592867428175.\n",
      "Iteration 512: θ = [-2.31741, 1.03447]; Cost == 4.7037729879517896.\n",
      "Iteration 513: θ = [-2.32026, 1.03476]; Cost == 4.702956061633963.\n",
      "Iteration 514: θ = [-2.3231, 1.03504]; Cost == 4.70214207783759.\n",
      "Iteration 515: θ = [-2.32593, 1.03533]; Cost == 4.701331025963877.\n",
      "Iteration 516: θ = [-2.32876, 1.03561]; Cost == 4.700522895452208.\n",
      "Iteration 517: θ = [-2.33159, 1.03589]; Cost == 4.699717675780005.\n",
      "Iteration 518: θ = [-2.33441, 1.03618]; Cost == 4.698915356462592.\n",
      "Iteration 519: θ = [-2.33722, 1.03646]; Cost == 4.6981159270530615.\n",
      "Iteration 520: θ = [-2.34003, 1.03674]; Cost == 4.6973193771421275.\n",
      "Iteration 521: θ = [-2.34284, 1.03702]; Cost == 4.696525696358006.\n",
      "Iteration 522: θ = [-2.34563, 1.0373]; Cost == 4.695734874366266.\n",
      "Iteration 523: θ = [-2.34843, 1.03759]; Cost == 4.694946900869703.\n",
      "Iteration 524: θ = [-2.35122, 1.03787]; Cost == 4.694161765608201.\n",
      "Iteration 525: θ = [-2.354, 1.03815]; Cost == 4.6933794583586.\n",
      "Iteration 526: θ = [-2.35678, 1.03842]; Cost == 4.692599968934568.\n",
      "Iteration 527: θ = [-2.35956, 1.0387]; Cost == 4.691823287186457.\n",
      "Iteration 528: θ = [-2.36232, 1.03898]; Cost == 4.691049403001181.\n",
      "Iteration 529: θ = [-2.36509, 1.03926]; Cost == 4.690278306302081.\n",
      "Iteration 530: θ = [-2.36785, 1.03954]; Cost == 4.689509987048791.\n",
      "Iteration 531: θ = [-2.3706, 1.03981]; Cost == 4.688744435237113.\n",
      "Iteration 532: θ = [-2.37335, 1.04009]; Cost == 4.687981640898881.\n",
      "Iteration 533: θ = [-2.3761, 1.04036]; Cost == 4.6872215941018345.\n",
      "Iteration 534: θ = [-2.37884, 1.04064]; Cost == 4.686464284949491.\n",
      "Iteration 535: θ = [-2.38157, 1.04091]; Cost == 4.685709703581008.\n",
      "Iteration 536: θ = [-2.3843, 1.04119]; Cost == 4.684957840171069.\n",
      "Iteration 537: θ = [-2.38702, 1.04146]; Cost == 4.684208684929745.\n",
      "Iteration 538: θ = [-2.38974, 1.04174]; Cost == 4.683462228102367.\n",
      "Iteration 539: θ = [-2.39246, 1.04201]; Cost == 4.682718459969402.\n",
      "Iteration 540: θ = [-2.39517, 1.04228]; Cost == 4.68197737084633.\n",
      "Iteration 541: θ = [-2.39787, 1.04255]; Cost == 4.681238951083514.\n",
      "Iteration 542: θ = [-2.40057, 1.04282]; Cost == 4.680503191066069.\n",
      "Iteration 543: θ = [-2.40327, 1.04309]; Cost == 4.6797700812137455.\n",
      "Iteration 544: θ = [-2.40596, 1.04336]; Cost == 4.679039611980803.\n",
      "Iteration 545: θ = [-2.40864, 1.04363]; Cost == 4.678311773855884.\n",
      "Iteration 546: θ = [-2.41133, 1.0439]; Cost == 4.677586557361888.\n",
      "Iteration 547: θ = [-2.414, 1.04417]; Cost == 4.676863953055851.\n",
      "Iteration 548: θ = [-2.41667, 1.04444]; Cost == 4.676143951528824.\n",
      "Iteration 549: θ = [-2.41934, 1.04471]; Cost == 4.675426543405747.\n",
      "Iteration 550: θ = [-2.422, 1.04498]; Cost == 4.674711719345328.\n",
      "Iteration 551: θ = [-2.42466, 1.04524]; Cost == 4.673999470039924.\n",
      "Iteration 552: θ = [-2.42731, 1.04551]; Cost == 4.673289786215414.\n",
      "Iteration 553: θ = [-2.42996, 1.04578]; Cost == 4.672582658631083.\n",
      "Iteration 554: θ = [-2.4326, 1.04604]; Cost == 4.671878078079505.\n",
      "Iteration 555: θ = [-2.43524, 1.04631]; Cost == 4.671176035386412.\n",
      "Iteration 556: θ = [-2.43787, 1.04657]; Cost == 4.670476521410587.\n",
      "Iteration 557: θ = [-2.4405, 1.04683]; Cost == 4.669779527043733.\n",
      "Iteration 558: θ = [-2.44312, 1.0471]; Cost == 4.669085043210366.\n",
      "Iteration 559: θ = [-2.44574, 1.04736]; Cost == 4.668393060867689.\n",
      "Iteration 560: θ = [-2.44835, 1.04762]; Cost == 4.667703571005477.\n",
      "Iteration 561: θ = [-2.45096, 1.04789]; Cost == 4.667016564645958.\n",
      "Iteration 562: θ = [-2.45357, 1.04815]; Cost == 4.666332032843698.\n",
      "Iteration 563: θ = [-2.45617, 1.04841]; Cost == 4.665649966685488.\n",
      "Iteration 564: θ = [-2.45876, 1.04867]; Cost == 4.664970357290219.\n",
      "Iteration 565: θ = [-2.46135, 1.04893]; Cost == 4.664293195808771.\n",
      "Iteration 566: θ = [-2.46394, 1.04919]; Cost == 4.6636184734239015.\n",
      "Iteration 567: θ = [-2.46652, 1.04945]; Cost == 4.662946181350124.\n",
      "Iteration 568: θ = [-2.46909, 1.04971]; Cost == 4.662276310833599.\n",
      "Iteration 569: θ = [-2.47167, 1.04997]; Cost == 4.661608853152018.\n",
      "Iteration 570: θ = [-2.47423, 1.05022]; Cost == 4.660943799614486.\n",
      "Iteration 571: θ = [-2.4768, 1.05048]; Cost == 4.660281141561417.\n",
      "Iteration 572: θ = [-2.47935, 1.05074]; Cost == 4.659620870364415.\n",
      "Iteration 573: θ = [-2.48191, 1.05099]; Cost == 4.658962977426159.\n",
      "Iteration 574: θ = [-2.48445, 1.05125]; Cost == 4.658307454180303.\n",
      "Iteration 575: θ = [-2.487, 1.05151]; Cost == 4.657654292091347.\n",
      "Iteration 576: θ = [-2.48954, 1.05176]; Cost == 4.657003482654542.\n",
      "Iteration 577: θ = [-2.49207, 1.05202]; Cost == 4.656355017395771.\n",
      "Iteration 578: θ = [-2.4946, 1.05227]; Cost == 4.655708887871441.\n",
      "Iteration 579: θ = [-2.49713, 1.05252]; Cost == 4.655065085668366.\n",
      "Iteration 580: θ = [-2.49965, 1.05278]; Cost == 4.654423602403678.\n",
      "Iteration 581: θ = [-2.50217, 1.05303]; Cost == 4.653784429724688.\n",
      "Iteration 582: θ = [-2.50468, 1.05328]; Cost == 4.6531475593088025.\n",
      "Iteration 583: θ = [-2.50719, 1.05353]; Cost == 4.6525129828634.\n",
      "Iteration 584: θ = [-2.50969, 1.05379]; Cost == 4.651880692125735.\n",
      "Iteration 585: θ = [-2.51219, 1.05404]; Cost == 4.651250678862817.\n",
      "Iteration 586: θ = [-2.51468, 1.05429]; Cost == 4.650622934871315.\n",
      "Iteration 587: θ = [-2.51717, 1.05454]; Cost == 4.649997451977443.\n",
      "Iteration 588: θ = [-2.51966, 1.05479]; Cost == 4.649374222036858.\n",
      "Iteration 589: θ = [-2.52214, 1.05504]; Cost == 4.648753236934556.\n",
      "Iteration 590: θ = [-2.52461, 1.05529]; Cost == 4.648134488584754.\n",
      "Iteration 591: θ = [-2.52709, 1.05553]; Cost == 4.6475179689308.\n",
      "Iteration 592: θ = [-2.52955, 1.05578]; Cost == 4.646903669945063.\n",
      "Iteration 593: θ = [-2.53202, 1.05603]; Cost == 4.64629158362882.\n",
      "Iteration 594: θ = [-2.53447, 1.05628]; Cost == 4.6456817020121655.\n",
      "Iteration 595: θ = [-2.53693, 1.05652]; Cost == 4.6450740171539.\n",
      "Iteration 596: θ = [-2.53938, 1.05677]; Cost == 4.644468521141423.\n",
      "Iteration 597: θ = [-2.54182, 1.05701]; Cost == 4.6438652060906405.\n",
      "Iteration 598: θ = [-2.54426, 1.05726]; Cost == 4.643264064145854.\n",
      "Iteration 599: θ = [-2.5467, 1.0575]; Cost == 4.642665087479663.\n",
      "Iteration 600: θ = [-2.54913, 1.05775]; Cost == 4.642068268292856.\n",
      "Iteration 601: θ = [-2.55156, 1.05799]; Cost == 4.6414735988143185.\n"
     ]
    },
    {
     "name": "stdout",
     "output_type": "stream",
     "text": [
      "Iteration 602: θ = [-2.55398, 1.05824]; Cost == 4.6408810713009245.\n",
      "Iteration 603: θ = [-2.5564, 1.05848]; Cost == 4.64029067803744.\n",
      "Iteration 604: θ = [-2.55881, 1.05872]; Cost == 4.63970241133642.\n",
      "Iteration 605: θ = [-2.56122, 1.05896]; Cost == 4.6391162635381065.\n",
      "Iteration 606: θ = [-2.56363, 1.0592]; Cost == 4.638532227010338.\n",
      "Iteration 607: θ = [-2.56603, 1.05945]; Cost == 4.637950294148439.\n",
      "Iteration 608: θ = [-2.56843, 1.05969]; Cost == 4.637370457375125.\n",
      "Iteration 609: θ = [-2.57082, 1.05993]; Cost == 4.636792709140407.\n",
      "Iteration 610: θ = [-2.57321, 1.06017]; Cost == 4.636217041921488.\n",
      "Iteration 611: θ = [-2.57559, 1.06041]; Cost == 4.635643448222671.\n",
      "Iteration 612: θ = [-2.57797, 1.06065]; Cost == 4.635071920575256.\n",
      "Iteration 613: θ = [-2.58035, 1.06088]; Cost == 4.634502451537443.\n",
      "Iteration 614: θ = [-2.58272, 1.06112]; Cost == 4.633935033694242.\n",
      "Iteration 615: θ = [-2.58509, 1.06136]; Cost == 4.633369659657366.\n",
      "Iteration 616: θ = [-2.58745, 1.0616]; Cost == 4.632806322065145.\n",
      "Iteration 617: θ = [-2.58981, 1.06183]; Cost == 4.632245013582422.\n",
      "Iteration 618: θ = [-2.59216, 1.06207]; Cost == 4.631685726900461.\n",
      "Iteration 619: θ = [-2.59451, 1.06231]; Cost == 4.631128454736849.\n",
      "Iteration 620: θ = [-2.59686, 1.06254]; Cost == 4.630573189835415.\n",
      "Iteration 621: θ = [-2.5992, 1.06278]; Cost == 4.630019924966111.\n",
      "Iteration 622: θ = [-2.60154, 1.06301]; Cost == 4.6294686529249365.\n",
      "Iteration 623: θ = [-2.60387, 1.06325]; Cost == 4.628919366533843.\n",
      "Iteration 624: θ = [-2.6062, 1.06348]; Cost == 4.62837205864063.\n",
      "Iteration 625: θ = [-2.60852, 1.06371]; Cost == 4.627826722118864.\n",
      "Iteration 626: θ = [-2.61084, 1.06395]; Cost == 4.627283349867778.\n",
      "Iteration 627: θ = [-2.61316, 1.06418]; Cost == 4.626741934812184.\n",
      "Iteration 628: θ = [-2.61547, 1.06441]; Cost == 4.626202469902373.\n",
      "Iteration 629: θ = [-2.61778, 1.06464]; Cost == 4.625664948114038.\n",
      "Iteration 630: θ = [-2.62008, 1.06488]; Cost == 4.625129362448163.\n",
      "Iteration 631: θ = [-2.62238, 1.06511]; Cost == 4.62459570593095.\n",
      "Iteration 632: θ = [-2.62468, 1.06534]; Cost == 4.624063971613714.\n",
      "Iteration 633: θ = [-2.62697, 1.06557]; Cost == 4.6235341525728035.\n",
      "Iteration 634: θ = [-2.62926, 1.0658]; Cost == 4.623006241909502.\n",
      "Iteration 635: θ = [-2.63154, 1.06603]; Cost == 4.622480232749945.\n",
      "Iteration 636: θ = [-2.63382, 1.06626]; Cost == 4.621956118245025.\n",
      "Iteration 637: θ = [-2.63609, 1.06648]; Cost == 4.621433891570306.\n",
      "Iteration 638: θ = [-2.63836, 1.06671]; Cost == 4.620913545925932.\n",
      "Iteration 639: θ = [-2.64063, 1.06694]; Cost == 4.62039507453654.\n",
      "Iteration 640: θ = [-2.64289, 1.06717]; Cost == 4.619878470651173.\n",
      "Iteration 641: θ = [-2.64515, 1.06739]; Cost == 4.619363727543187.\n",
      "Iteration 642: θ = [-2.64741, 1.06762]; Cost == 4.618850838510172.\n",
      "Iteration 643: θ = [-2.64966, 1.06785]; Cost == 4.6183397968738555.\n",
      "Iteration 644: θ = [-2.6519, 1.06807]; Cost == 4.6178305959800205.\n",
      "Iteration 645: θ = [-2.65414, 1.0683]; Cost == 4.617323229198418.\n",
      "Iteration 646: θ = [-2.65638, 1.06852]; Cost == 4.616817689922686.\n",
      "Iteration 647: θ = [-2.65862, 1.06875]; Cost == 4.61631397157025.\n",
      "Iteration 648: θ = [-2.66085, 1.06897]; Cost == 4.61581206758225.\n",
      "Iteration 649: θ = [-2.66307, 1.06919]; Cost == 4.61531197142345.\n",
      "Iteration 650: θ = [-2.6653, 1.06942]; Cost == 4.6148136765821555.\n",
      "Iteration 651: θ = [-2.66751, 1.06964]; Cost == 4.614317176570122.\n",
      "Iteration 652: θ = [-2.66973, 1.06986]; Cost == 4.613822464922479.\n",
      "Iteration 653: θ = [-2.67194, 1.07009]; Cost == 4.613329535197642.\n",
      "Iteration 654: θ = [-2.67414, 1.07031]; Cost == 4.6128383809772275.\n",
      "Iteration 655: θ = [-2.67635, 1.07053]; Cost == 4.612348995865971.\n",
      "Iteration 656: θ = [-2.67854, 1.07075]; Cost == 4.611861373491642.\n",
      "Iteration 657: θ = [-2.68074, 1.07097]; Cost == 4.611375507504967.\n",
      "Iteration 658: θ = [-2.68293, 1.07119]; Cost == 4.6108913915795355.\n",
      "Iteration 659: θ = [-2.68511, 1.07141]; Cost == 4.61040901941173.\n",
      "Iteration 660: θ = [-2.6873, 1.07163]; Cost == 4.609928384720636.\n",
      "Iteration 661: θ = [-2.68948, 1.07185]; Cost == 4.609449481247963.\n",
      "Iteration 662: θ = [-2.69165, 1.07207]; Cost == 4.6089723027579605.\n",
      "Iteration 663: θ = [-2.69382, 1.07228]; Cost == 4.608496843037341.\n",
      "Iteration 664: θ = [-2.69599, 1.0725]; Cost == 4.608023095895198.\n",
      "Iteration 665: θ = [-2.69815, 1.07272]; Cost == 4.60755105516292.\n",
      "Iteration 666: θ = [-2.70031, 1.07294]; Cost == 4.60708071469412.\n",
      "Iteration 667: θ = [-2.70246, 1.07315]; Cost == 4.606612068364545.\n",
      "Iteration 668: θ = [-2.70461, 1.07337]; Cost == 4.606145110072004.\n",
      "Iteration 669: θ = [-2.70676, 1.07358]; Cost == 4.605679833736286.\n",
      "Iteration 670: θ = [-2.70891, 1.0738]; Cost == 4.6052162332990765.\n",
      "Iteration 671: θ = [-2.71104, 1.07401]; Cost == 4.60475430272389.\n",
      "Iteration 672: θ = [-2.71318, 1.07423]; Cost == 4.604294035995977.\n",
      "Iteration 673: θ = [-2.71531, 1.07444]; Cost == 4.603835427122255.\n",
      "Iteration 674: θ = [-2.71744, 1.07466]; Cost == 4.603378470131233.\n",
      "Iteration 675: θ = [-2.71956, 1.07487]; Cost == 4.60292315907292.\n",
      "Iteration 676: θ = [-2.72168, 1.07508]; Cost == 4.602469488018764.\n",
      "Iteration 677: θ = [-2.7238, 1.0753]; Cost == 4.602017451061565.\n",
      "Iteration 678: θ = [-2.72591, 1.07551]; Cost == 4.601567042315397.\n",
      "Iteration 679: θ = [-2.72802, 1.07572]; Cost == 4.601118255915543.\n",
      "Iteration 680: θ = [-2.73013, 1.07593]; Cost == 4.6006710860184.\n",
      "Iteration 681: θ = [-2.73223, 1.07614]; Cost == 4.600225526801421.\n",
      "Iteration 682: θ = [-2.73433, 1.07635]; Cost == 4.599781572463029.\n",
      "Iteration 683: θ = [-2.73642, 1.07656]; Cost == 4.599339217222544.\n",
      "Iteration 684: θ = [-2.73851, 1.07677]; Cost == 4.598898455320107.\n",
      "Iteration 685: θ = [-2.7406, 1.07698]; Cost == 4.598459281016607.\n",
      "Iteration 686: θ = [-2.74268, 1.07719]; Cost == 4.598021688593604.\n",
      "Iteration 687: θ = [-2.74476, 1.0774]; Cost == 4.597585672353254.\n",
      "Iteration 688: θ = [-2.74683, 1.07761]; Cost == 4.597151226618241.\n",
      "Iteration 689: θ = [-2.7489, 1.07782]; Cost == 4.596718345731694.\n",
      "Iteration 690: θ = [-2.75097, 1.07802]; Cost == 4.596287024057119.\n",
      "Iteration 691: θ = [-2.75303, 1.07823]; Cost == 4.595857255978325.\n",
      "Iteration 692: θ = [-2.75509, 1.07844]; Cost == 4.5954290358993495.\n",
      "Iteration 693: θ = [-2.75715, 1.07865]; Cost == 4.595002358244385.\n",
      "Iteration 694: θ = [-2.7592, 1.07885]; Cost == 4.594577217457711.\n",
      "Iteration 695: θ = [-2.76125, 1.07906]; Cost == 4.594153608003618.\n",
      "Iteration 696: θ = [-2.7633, 1.07926]; Cost == 4.59373152436633.\n",
      "Iteration 697: θ = [-2.76534, 1.07947]; Cost == 4.593310961049945.\n",
      "Iteration 698: θ = [-2.76737, 1.07967]; Cost == 4.592891912578358.\n",
      "Iteration 699: θ = [-2.76941, 1.07988]; Cost == 4.592474373495181.\n",
      "Iteration 700: θ = [-2.77144, 1.08008]; Cost == 4.592058338363686.\n",
      "Iteration 701: θ = [-2.77347, 1.08028]; Cost == 4.591643801766726.\n",
      "Iteration 702: θ = [-2.77549, 1.08049]; Cost == 4.591230758306667.\n",
      "Iteration 703: θ = [-2.77751, 1.08069]; Cost == 4.590819202605312.\n",
      "Iteration 704: θ = [-2.77952, 1.08089]; Cost == 4.590409129303844.\n",
      "Iteration 705: θ = [-2.78154, 1.0811]; Cost == 4.590000533062744.\n",
      "Iteration 706: θ = [-2.78354, 1.0813]; Cost == 4.589593408561723.\n",
      "Iteration 707: θ = [-2.78555, 1.0815]; Cost == 4.5891877504996605.\n",
      "Iteration 708: θ = [-2.78755, 1.0817]; Cost == 4.588783553594528.\n",
      "Iteration 709: θ = [-2.78955, 1.0819]; Cost == 4.5883808125833205.\n",
      "Iteration 710: θ = [-2.79154, 1.0821]; Cost == 4.587979522221996.\n",
      "Iteration 711: θ = [-2.79353, 1.0823]; Cost == 4.587579677285394.\n",
      "Iteration 712: θ = [-2.79552, 1.0825]; Cost == 4.587181272567177.\n",
      "Iteration 713: θ = [-2.7975, 1.0827]; Cost == 4.5867843028797655.\n",
      "Iteration 714: θ = [-2.79948, 1.0829]; Cost == 4.586388763054259.\n",
      "Iteration 715: θ = [-2.80146, 1.0831]; Cost == 4.585994647940377.\n",
      "Iteration 716: θ = [-2.80343, 1.0833]; Cost == 4.5856019524063925.\n",
      "Iteration 717: θ = [-2.8054, 1.08349]; Cost == 4.585210671339057.\n",
      "Iteration 718: θ = [-2.80737, 1.08369]; Cost == 4.5848207996435475.\n",
      "Iteration 719: θ = [-2.80933, 1.08389]; Cost == 4.584432332243385.\n",
      "Iteration 720: θ = [-2.81129, 1.08408]; Cost == 4.584045264080381.\n",
      "Iteration 721: θ = [-2.81324, 1.08428]; Cost == 4.583659590114562.\n",
      "Iteration 722: θ = [-2.81519, 1.08448]; Cost == 4.58327530532411.\n",
      "Iteration 723: θ = [-2.81714, 1.08467]; Cost == 4.582892404705298.\n",
      "Iteration 724: θ = [-2.81909, 1.08487]; Cost == 4.582510883272418.\n",
      "Iteration 725: θ = [-2.82103, 1.08506]; Cost == 4.582130736057722.\n",
      "Iteration 726: θ = [-2.82296, 1.08526]; Cost == 4.581751958111354.\n",
      "Iteration 727: θ = [-2.8249, 1.08545]; Cost == 4.581374544501292.\n",
      "Iteration 728: θ = [-2.82683, 1.08565]; Cost == 4.580998490313272.\n",
      "Iteration 729: θ = [-2.82875, 1.08584]; Cost == 4.580623790650735.\n",
      "Iteration 730: θ = [-2.83068, 1.08603]; Cost == 4.580250440634761.\n",
      "Iteration 731: θ = [-2.8326, 1.08623]; Cost == 4.579878435403997.\n",
      "Iteration 732: θ = [-2.83451, 1.08642]; Cost == 4.579507770114606.\n",
      "Iteration 733: θ = [-2.83643, 1.08661]; Cost == 4.5791384399401975.\n",
      "Iteration 734: θ = [-2.83834, 1.0868]; Cost == 4.578770440071763.\n",
      "Iteration 735: θ = [-2.84024, 1.08699]; Cost == 4.578403765717618.\n",
      "Iteration 736: θ = [-2.84215, 1.08718]; Cost == 4.578038412103336.\n",
      "Iteration 737: θ = [-2.84405, 1.08738]; Cost == 4.577674374471689.\n",
      "Iteration 738: θ = [-2.84594, 1.08757]; Cost == 4.577311648082583.\n",
      "Iteration 739: θ = [-2.84783, 1.08776]; Cost == 4.576950228212997.\n",
      "Iteration 740: θ = [-2.84972, 1.08795]; Cost == 4.576590110156924.\n",
      "Iteration 741: θ = [-2.85161, 1.08814]; Cost == 4.5762312892253085.\n",
      "Iteration 742: θ = [-2.85349, 1.08832]; Cost == 4.575873760745979.\n",
      "Iteration 743: θ = [-2.85537, 1.08851]; Cost == 4.575517520063601.\n",
      "Iteration 744: θ = [-2.85724, 1.0887]; Cost == 4.575162562539603.\n",
      "Iteration 745: θ = [-2.85912, 1.08889]; Cost == 4.57480888355212.\n",
      "Iteration 746: θ = [-2.86099, 1.08908]; Cost == 4.574456478495942.\n",
      "Iteration 747: θ = [-2.86285, 1.08926]; Cost == 4.574105342782437.\n",
      "Iteration 748: θ = [-2.86471, 1.08945]; Cost == 4.573755471839511.\n",
      "Iteration 749: θ = [-2.86657, 1.08964]; Cost == 4.573406861111529.\n",
      "Iteration 750: θ = [-2.86843, 1.08982]; Cost == 4.573059506059271.\n",
      "Iteration 751: θ = [-2.87028, 1.09001]; Cost == 4.5727134021598665.\n",
      "Iteration 752: θ = [-2.87213, 1.0902]; Cost == 4.572368544906734.\n",
      "Iteration 753: θ = [-2.87397, 1.09038]; Cost == 4.572024929809526.\n"
     ]
    },
    {
     "name": "stdout",
     "output_type": "stream",
     "text": [
      "Iteration 754: θ = [-2.87581, 1.09057]; Cost == 4.571682552394068.\n",
      "Iteration 755: θ = [-2.87765, 1.09075]; Cost == 4.5713414082023025.\n",
      "Iteration 756: θ = [-2.87949, 1.09094]; Cost == 4.571001492792228.\n",
      "Iteration 757: θ = [-2.88132, 1.09112]; Cost == 4.5706628017378454.\n",
      "Iteration 758: θ = [-2.88315, 1.0913]; Cost == 4.570325330629095.\n",
      "Iteration 759: θ = [-2.88497, 1.09149]; Cost == 4.569989075071803.\n",
      "Iteration 760: θ = [-2.8868, 1.09167]; Cost == 4.569654030687624.\n",
      "Iteration 761: θ = [-2.88862, 1.09185]; Cost == 4.56932019311398.\n",
      "Iteration 762: θ = [-2.89043, 1.09204]; Cost == 4.568987558004012.\n",
      "Iteration 763: θ = [-2.89224, 1.09222]; Cost == 4.568656121026514.\n",
      "Iteration 764: θ = [-2.89405, 1.0924]; Cost == 4.568325877865882.\n",
      "Iteration 765: θ = [-2.89586, 1.09258]; Cost == 4.567996824222056.\n",
      "Iteration 766: θ = [-2.89766, 1.09276]; Cost == 4.567668955810466.\n",
      "Iteration 767: θ = [-2.89946, 1.09294]; Cost == 4.567342268361973.\n",
      "Iteration 768: θ = [-2.90126, 1.09312]; Cost == 4.567016757622818.\n",
      "Iteration 769: θ = [-2.90305, 1.0933]; Cost == 4.56669241935456.\n",
      "Iteration 770: θ = [-2.90484, 1.09348]; Cost == 4.566369249334026.\n",
      "Iteration 771: θ = [-2.90662, 1.09366]; Cost == 4.566047243353257.\n",
      "Iteration 772: θ = [-2.90841, 1.09384]; Cost == 4.565726397219448.\n",
      "Iteration 773: θ = [-2.91019, 1.09402]; Cost == 4.565406706754898.\n",
      "Iteration 774: θ = [-2.91196, 1.0942]; Cost == 4.56508816779695.\n",
      "Iteration 775: θ = [-2.91374, 1.09438]; Cost == 4.564770776197949.\n",
      "Iteration 776: θ = [-2.91551, 1.09455]; Cost == 4.564454527825168.\n",
      "Iteration 777: θ = [-2.91727, 1.09473]; Cost == 4.564139418560778.\n",
      "Iteration 778: θ = [-2.91904, 1.09491]; Cost == 4.563825444301772.\n",
      "Iteration 779: θ = [-2.9208, 1.09509]; Cost == 4.563512600959929.\n",
      "Iteration 780: θ = [-2.92256, 1.09526]; Cost == 4.563200884461748.\n",
      "Iteration 781: θ = [-2.92431, 1.09544]; Cost == 4.562890290748406.\n",
      "Iteration 782: θ = [-2.92606, 1.09561]; Cost == 4.562580815775695.\n",
      "Iteration 783: θ = [-2.92781, 1.09579]; Cost == 4.562272455513976.\n",
      "Iteration 784: θ = [-2.92955, 1.09597]; Cost == 4.561965205948124.\n",
      "Iteration 785: θ = [-2.9313, 1.09614]; Cost == 4.561659063077478.\n",
      "Iteration 786: θ = [-2.93303, 1.09632]; Cost == 4.561354022915784.\n",
      "Iteration 787: θ = [-2.93477, 1.09649]; Cost == 4.561050081491149.\n",
      "Iteration 788: θ = [-2.9365, 1.09666]; Cost == 4.560747234845985.\n",
      "Iteration 789: θ = [-2.93823, 1.09684]; Cost == 4.560445479036962.\n",
      "Iteration 790: θ = [-2.93996, 1.09701]; Cost == 4.560144810134947.\n",
      "Iteration 791: θ = [-2.94168, 1.09718]; Cost == 4.559845224224966.\n",
      "Iteration 792: θ = [-2.9434, 1.09736]; Cost == 4.559546717406144.\n",
      "Iteration 793: θ = [-2.94512, 1.09753]; Cost == 4.559249285791658.\n",
      "Iteration 794: θ = [-2.94683, 1.0977]; Cost == 4.558952925508681.\n",
      "Iteration 795: θ = [-2.94854, 1.09787]; Cost == 4.558657632698341.\n",
      "Iteration 796: θ = [-2.95025, 1.09804]; Cost == 4.558363403515664.\n",
      "Iteration 797: θ = [-2.95195, 1.09822]; Cost == 4.558070234129523.\n",
      "Iteration 798: θ = [-2.95365, 1.09839]; Cost == 4.557778120722592.\n",
      "Iteration 799: θ = [-2.95535, 1.09856]; Cost == 4.5574870594912955.\n",
      "Iteration 800: θ = [-2.95705, 1.09873]; Cost == 4.557197046645756.\n",
      "Iteration 801: θ = [-2.95874, 1.0989]; Cost == 4.556908078409751.\n",
      "Iteration 802: θ = [-2.96043, 1.09907]; Cost == 4.556620151020655.\n",
      "Iteration 803: θ = [-2.96212, 1.09924]; Cost == 4.556333260729399.\n",
      "Iteration 804: θ = [-2.9638, 1.09941]; Cost == 4.556047403800417.\n",
      "Iteration 805: θ = [-2.96548, 1.09957]; Cost == 4.5557625765115946.\n",
      "Iteration 806: θ = [-2.96716, 1.09974]; Cost == 4.555478775154231.\n",
      "Iteration 807: θ = [-2.96883, 1.09991]; Cost == 4.555195996032978.\n",
      "Iteration 808: θ = [-2.9705, 1.10008]; Cost == 4.554914235465802.\n",
      "Iteration 809: θ = [-2.97217, 1.10025]; Cost == 4.554633489783928.\n",
      "Iteration 810: θ = [-2.97383, 1.10041]; Cost == 4.554353755331798.\n",
      "Iteration 811: θ = [-2.9755, 1.10058]; Cost == 4.554075028467021.\n",
      "Iteration 812: θ = [-2.97715, 1.10075]; Cost == 4.553797305560327.\n",
      "Iteration 813: θ = [-2.97881, 1.10091]; Cost == 4.553520582995516.\n",
      "Iteration 814: θ = [-2.98046, 1.10108]; Cost == 4.553244857169412.\n",
      "Iteration 815: θ = [-2.98211, 1.10125]; Cost == 4.552970124491824.\n",
      "Iteration 816: θ = [-2.98376, 1.10141]; Cost == 4.552696381385485.\n",
      "Iteration 817: θ = [-2.9854, 1.10158]; Cost == 4.552423624286018.\n",
      "Iteration 818: θ = [-2.98704, 1.10174]; Cost == 4.5521518496418825.\n",
      "Iteration 819: θ = [-2.98868, 1.10191]; Cost == 4.551881053914331.\n",
      "Iteration 820: θ = [-2.99032, 1.10207]; Cost == 4.551611233577362.\n",
      "Iteration 821: θ = [-2.99195, 1.10223]; Cost == 4.551342385117678.\n",
      "Iteration 822: θ = [-2.99358, 1.1024]; Cost == 4.551074505034629.\n",
      "Iteration 823: θ = [-2.99521, 1.10256]; Cost == 4.550807589840181.\n",
      "Iteration 824: θ = [-2.99683, 1.10272]; Cost == 4.55054163605886.\n",
      "Iteration 825: θ = [-2.99845, 1.10289]; Cost == 4.55027664022771.\n",
      "Iteration 826: θ = [-3.00007, 1.10305]; Cost == 4.550012598896253.\n",
      "Iteration 827: θ = [-3.00168, 1.10321]; Cost == 4.549749508626434.\n",
      "Iteration 828: θ = [-3.00329, 1.10337]; Cost == 4.549487365992583.\n",
      "Iteration 829: θ = [-3.0049, 1.10354]; Cost == 4.549226167581372.\n",
      "Iteration 830: θ = [-3.00651, 1.1037]; Cost == 4.548965909991764.\n",
      "Iteration 831: θ = [-3.00811, 1.10386]; Cost == 4.548706589834976.\n",
      "Iteration 832: θ = [-3.00971, 1.10402]; Cost == 4.548448203734426.\n",
      "Iteration 833: θ = [-3.01131, 1.10418]; Cost == 4.548190748325698.\n",
      "Iteration 834: θ = [-3.0129, 1.10434]; Cost == 4.547934220256497.\n",
      "Iteration 835: θ = [-3.01449, 1.1045]; Cost == 4.547678616186596.\n",
      "Iteration 836: θ = [-3.01608, 1.10466]; Cost == 4.547423932787805.\n",
      "Iteration 837: θ = [-3.01767, 1.10482]; Cost == 4.547170166743919.\n",
      "Iteration 838: θ = [-3.01925, 1.10498]; Cost == 4.546917314750677.\n",
      "Iteration 839: θ = [-3.02083, 1.10514]; Cost == 4.546665373515724.\n",
      "Iteration 840: θ = [-3.02241, 1.10529]; Cost == 4.54641433975856.\n",
      "Iteration 841: θ = [-3.02398, 1.10545]; Cost == 4.546164210210502.\n",
      "Iteration 842: θ = [-3.02555, 1.10561]; Cost == 4.545914981614642.\n",
      "Iteration 843: θ = [-3.02712, 1.10577]; Cost == 4.545666650725801.\n",
      "Iteration 844: θ = [-3.02869, 1.10592]; Cost == 4.545419214310491.\n",
      "Iteration 845: θ = [-3.03025, 1.10608]; Cost == 4.545172669146869.\n",
      "Iteration 846: θ = [-3.03181, 1.10624]; Cost == 4.544927012024698.\n",
      "Iteration 847: θ = [-3.03337, 1.1064]; Cost == 4.544682239745306.\n",
      "Iteration 848: θ = [-3.03492, 1.10655]; Cost == 4.544438349121538.\n",
      "Iteration 849: θ = [-3.03648, 1.10671]; Cost == 4.544195336977722.\n",
      "Iteration 850: θ = [-3.03802, 1.10686]; Cost == 4.543953200149624.\n",
      "Iteration 851: θ = [-3.03957, 1.10702]; Cost == 4.543711935484407.\n",
      "Iteration 852: θ = [-3.04111, 1.10717]; Cost == 4.543471539840591.\n",
      "Iteration 853: θ = [-3.04266, 1.10733]; Cost == 4.543232010088012.\n",
      "Iteration 854: θ = [-3.04419, 1.10748]; Cost == 4.542993343107778.\n",
      "Iteration 855: θ = [-3.04573, 1.10764]; Cost == 4.542755535792233.\n",
      "Iteration 856: θ = [-3.04726, 1.10779]; Cost == 4.542518585044917.\n",
      "Iteration 857: θ = [-3.04879, 1.10794]; Cost == 4.5422824877805175.\n",
      "Iteration 858: θ = [-3.05032, 1.1081]; Cost == 4.5420472409248385.\n",
      "Iteration 859: θ = [-3.05184, 1.10825]; Cost == 4.541812841414758.\n",
      "Iteration 860: θ = [-3.05336, 1.1084]; Cost == 4.5415792861981865.\n",
      "Iteration 861: θ = [-3.05488, 1.10856]; Cost == 4.541346572234026.\n",
      "Iteration 862: θ = [-3.0564, 1.10871]; Cost == 4.541114696492135.\n",
      "Iteration 863: θ = [-3.05791, 1.10886]; Cost == 4.5408836559532855.\n",
      "Iteration 864: θ = [-3.05942, 1.10901]; Cost == 4.540653447609125.\n",
      "Iteration 865: θ = [-3.06093, 1.10916]; Cost == 4.540424068462133.\n",
      "Iteration 866: θ = [-3.06243, 1.10931]; Cost == 4.540195515525591.\n",
      "Iteration 867: θ = [-3.06393, 1.10947]; Cost == 4.539967785823538.\n",
      "Iteration 868: θ = [-3.06543, 1.10962]; Cost == 4.53974087639073.\n",
      "Iteration 869: θ = [-3.06693, 1.10977]; Cost == 4.539514784272603.\n",
      "Iteration 870: θ = [-3.06842, 1.10992]; Cost == 4.539289506525238.\n",
      "Iteration 871: θ = [-3.06992, 1.11007]; Cost == 4.53906504021532.\n",
      "Iteration 872: θ = [-3.0714, 1.11022]; Cost == 4.538841382420095.\n",
      "Iteration 873: θ = [-3.07289, 1.11037]; Cost == 4.5386185302273425.\n",
      "Iteration 874: θ = [-3.07437, 1.11051]; Cost == 4.538396480735327.\n",
      "Iteration 875: θ = [-3.07585, 1.11066]; Cost == 4.538175231052766.\n",
      "Iteration 876: θ = [-3.07733, 1.11081]; Cost == 4.537954778298796.\n",
      "Iteration 877: θ = [-3.07881, 1.11096]; Cost == 4.537735119602922.\n",
      "Iteration 878: θ = [-3.08028, 1.11111]; Cost == 4.537516252104996.\n",
      "Iteration 879: θ = [-3.08175, 1.11126]; Cost == 4.537298172955166.\n",
      "Iteration 880: θ = [-3.08322, 1.1114]; Cost == 4.537080879313848.\n",
      "Iteration 881: θ = [-3.08468, 1.11155]; Cost == 4.5368643683516865.\n",
      "Iteration 882: θ = [-3.08615, 1.1117]; Cost == 4.536648637249516.\n",
      "Iteration 883: θ = [-3.0876, 1.11184]; Cost == 4.536433683198326.\n",
      "Iteration 884: θ = [-3.08906, 1.11199]; Cost == 4.536219503399224.\n",
      "Iteration 885: θ = [-3.09052, 1.11214]; Cost == 4.536006095063398.\n",
      "Iteration 886: θ = [-3.09197, 1.11228]; Cost == 4.5357934554120805.\n",
      "Iteration 887: θ = [-3.09342, 1.11243]; Cost == 4.535581581676517.\n",
      "Iteration 888: θ = [-3.09486, 1.11257]; Cost == 4.535370471097923.\n",
      "Iteration 889: θ = [-3.09631, 1.11272]; Cost == 4.535160120927448.\n",
      "Iteration 890: θ = [-3.09775, 1.11286]; Cost == 4.53495052842615.\n",
      "Iteration 891: θ = [-3.09919, 1.11301]; Cost == 4.534741690864945.\n",
      "Iteration 892: θ = [-3.10062, 1.11315]; Cost == 4.534533605524584.\n",
      "Iteration 893: θ = [-3.10206, 1.1133]; Cost == 4.534326269695611.\n",
      "Iteration 894: θ = [-3.10349, 1.11344]; Cost == 4.534119680678328.\n",
      "Iteration 895: θ = [-3.10491, 1.11358]; Cost == 4.533913835782763.\n",
      "Iteration 896: θ = [-3.10634, 1.11373]; Cost == 4.533708732328634.\n",
      "Iteration 897: θ = [-3.10776, 1.11387]; Cost == 4.5335043676453095.\n",
      "Iteration 898: θ = [-3.10918, 1.11401]; Cost == 4.533300739071781.\n",
      "Iteration 899: θ = [-3.1106, 1.11415]; Cost == 4.533097843956624.\n",
      "Iteration 900: θ = [-3.11202, 1.1143]; Cost == 4.532895679657961.\n",
      "Iteration 901: θ = [-3.11343, 1.11444]; Cost == 4.532694243543436.\n",
      "Iteration 902: θ = [-3.11484, 1.11458]; Cost == 4.532493532990172.\n",
      "Iteration 903: θ = [-3.11625, 1.11472]; Cost == 4.532293545384737.\n",
      "Iteration 904: θ = [-3.11765, 1.11486]; Cost == 4.532094278123115.\n",
      "Iteration 905: θ = [-3.11906, 1.115]; Cost == 4.53189572861067.\n",
      "Iteration 906: θ = [-3.12046, 1.11514]; Cost == 4.531697894262111.\n",
      "Iteration 907: θ = [-3.12185, 1.11528]; Cost == 4.531500772501458.\n",
      "Iteration 908: θ = [-3.12325, 1.11542]; Cost == 4.531304360762012.\n",
      "Iteration 909: θ = [-3.12464, 1.11556]; Cost == 4.531108656486318.\n",
      "Iteration 910: θ = [-3.12603, 1.1157]; Cost == 4.5309136571261295.\n",
      "Iteration 911: θ = [-3.12742, 1.11584]; Cost == 4.530719360142383.\n",
      "Iteration 912: θ = [-3.1288, 1.11598]; Cost == 4.53052576300516.\n",
      "Iteration 913: θ = [-3.13019, 1.11612]; Cost == 4.530332863193653.\n",
      "Iteration 914: θ = [-3.13157, 1.11626]; Cost == 4.530140658196134.\n",
      "Iteration 915: θ = [-3.13294, 1.1164]; Cost == 4.529949145509925.\n",
      "Iteration 916: θ = [-3.13432, 1.11654]; Cost == 4.529758322641359.\n",
      "Iteration 917: θ = [-3.13569, 1.11667]; Cost == 4.529568187105754.\n",
      "Iteration 918: θ = [-3.13706, 1.11681]; Cost == 4.529378736427375.\n",
      "Iteration 919: θ = [-3.13843, 1.11695]; Cost == 4.529189968139407.\n",
      "Iteration 920: θ = [-3.13979, 1.11709]; Cost == 4.5290018797839195.\n"
     ]
    },
    {
     "name": "stdout",
     "output_type": "stream",
     "text": [
      "Iteration 921: θ = [-3.14116, 1.11722]; Cost == 4.5288144689118335.\n",
      "Iteration 922: θ = [-3.14252, 1.11736]; Cost == 4.528627733082892.\n",
      "Iteration 923: θ = [-3.14387, 1.1175]; Cost == 4.528441669865631.\n",
      "Iteration 924: θ = [-3.14523, 1.11763]; Cost == 4.528256276837342.\n",
      "Iteration 925: θ = [-3.14658, 1.11777]; Cost == 4.52807155158404.\n",
      "Iteration 926: θ = [-3.14793, 1.1179]; Cost == 4.527887491700442.\n",
      "Iteration 927: θ = [-3.14928, 1.11804]; Cost == 4.527704094789922.\n",
      "Iteration 928: θ = [-3.15063, 1.11817]; Cost == 4.527521358464489.\n",
      "Iteration 929: θ = [-3.15197, 1.11831]; Cost == 4.527339280344757.\n",
      "Iteration 930: θ = [-3.15331, 1.11844]; Cost == 4.527157858059904.\n",
      "Iteration 931: θ = [-3.15465, 1.11858]; Cost == 4.52697708924765.\n",
      "Iteration 932: θ = [-3.15599, 1.11871]; Cost == 4.5267969715542264.\n",
      "Iteration 933: θ = [-3.15732, 1.11885]; Cost == 4.52661750263434.\n",
      "Iteration 934: θ = [-3.15865, 1.11898]; Cost == 4.526438680151146.\n",
      "Iteration 935: θ = [-3.15998, 1.11911]; Cost == 4.526260501776217.\n",
      "Iteration 936: θ = [-3.16131, 1.11925]; Cost == 4.526082965189512.\n",
      "Iteration 937: θ = [-3.16263, 1.11938]; Cost == 4.5259060680793475.\n",
      "Iteration 938: θ = [-3.16395, 1.11951]; Cost == 4.525729808142365.\n",
      "Iteration 939: θ = [-3.16527, 1.11965]; Cost == 4.525554183083503.\n",
      "Iteration 940: θ = [-3.16659, 1.11978]; Cost == 4.525379190615969.\n",
      "Iteration 941: θ = [-3.1679, 1.11991]; Cost == 4.525204828461203.\n",
      "Iteration 942: θ = [-3.16921, 1.12004]; Cost == 4.525031094348856.\n",
      "Iteration 943: θ = [-3.17052, 1.12017]; Cost == 4.524857986016756.\n",
      "Iteration 944: θ = [-3.17183, 1.1203]; Cost == 4.524685501210879.\n",
      "Iteration 945: θ = [-3.17314, 1.12044]; Cost == 4.524513637685319.\n",
      "Iteration 946: θ = [-3.17444, 1.12057]; Cost == 4.524342393202259.\n",
      "Iteration 947: θ = [-3.17574, 1.1207]; Cost == 4.524171765531945.\n",
      "Iteration 948: θ = [-3.17704, 1.12083]; Cost == 4.524001752452654.\n",
      "Iteration 949: θ = [-3.17833, 1.12096]; Cost == 4.523832351750661.\n",
      "Iteration 950: θ = [-3.17963, 1.12109]; Cost == 4.523663561220221.\n",
      "Iteration 951: θ = [-3.18092, 1.12122]; Cost == 4.523495378663532.\n",
      "Iteration 952: θ = [-3.1822, 1.12135]; Cost == 4.523327801890707.\n",
      "Iteration 953: θ = [-3.18349, 1.12148]; Cost == 4.523160828719746.\n",
      "Iteration 954: θ = [-3.18478, 1.12161]; Cost == 4.5229944569765115.\n",
      "Iteration 955: θ = [-3.18606, 1.12173]; Cost == 4.522828684494693.\n",
      "Iteration 956: θ = [-3.18734, 1.12186]; Cost == 4.52266350911579.\n",
      "Iteration 957: θ = [-3.18861, 1.12199]; Cost == 4.522498928689068.\n",
      "Iteration 958: θ = [-3.18989, 1.12212]; Cost == 4.522334941071547.\n",
      "Iteration 959: θ = [-3.19116, 1.12225]; Cost == 4.52217154412796.\n",
      "Iteration 960: θ = [-3.19243, 1.12237]; Cost == 4.522008735730734.\n",
      "Iteration 961: θ = [-3.1937, 1.1225]; Cost == 4.521846513759959.\n",
      "Iteration 962: θ = [-3.19496, 1.12263]; Cost == 4.521684876103361.\n",
      "Iteration 963: θ = [-3.19623, 1.12276]; Cost == 4.521523820656275.\n",
      "Iteration 964: θ = [-3.19749, 1.12288]; Cost == 4.521363345321613.\n",
      "Iteration 965: θ = [-3.19875, 1.12301]; Cost == 4.521203448009848.\n",
      "Iteration 966: θ = [-3.2, 1.12314]; Cost == 4.521044126638971.\n",
      "Iteration 967: θ = [-3.20126, 1.12326]; Cost == 4.520885379134479.\n",
      "Iteration 968: θ = [-3.20251, 1.12339]; Cost == 4.520727203429336.\n",
      "Iteration 969: θ = [-3.20376, 1.12351]; Cost == 4.520569597463956.\n",
      "Iteration 970: θ = [-3.20501, 1.12364]; Cost == 4.520412559186166.\n",
      "Iteration 971: θ = [-3.20625, 1.12376]; Cost == 4.52025608655119.\n",
      "Iteration 972: θ = [-3.20749, 1.12389]; Cost == 4.520100177521617.\n",
      "Iteration 973: θ = [-3.20874, 1.12401]; Cost == 4.51994483006737.\n",
      "Iteration 974: θ = [-3.20997, 1.12414]; Cost == 4.519790042165688.\n",
      "Iteration 975: θ = [-3.21121, 1.12426]; Cost == 4.5196358118010975.\n",
      "Iteration 976: θ = [-3.21244, 1.12439]; Cost == 4.519482136965378.\n",
      "Iteration 977: θ = [-3.21368, 1.12451]; Cost == 4.519329015657548.\n",
      "Iteration 978: θ = [-3.21491, 1.12463]; Cost == 4.519176445883832.\n",
      "Iteration 979: θ = [-3.21613, 1.12476]; Cost == 4.519024425657637.\n",
      "Iteration 980: θ = [-3.21736, 1.12488]; Cost == 4.518872952999524.\n",
      "Iteration 981: θ = [-3.21858, 1.125]; Cost == 4.518722025937183.\n",
      "Iteration 982: θ = [-3.2198, 1.12512]; Cost == 4.518571642505414.\n",
      "Iteration 983: θ = [-3.22102, 1.12525]; Cost == 4.518421800746085.\n",
      "Iteration 984: θ = [-3.22224, 1.12537]; Cost == 4.518272498708125.\n",
      "Iteration 985: θ = [-3.22345, 1.12549]; Cost == 4.518123734447491.\n",
      "Iteration 986: θ = [-3.22466, 1.12561]; Cost == 4.517975506027138.\n",
      "Iteration 987: θ = [-3.22587, 1.12573]; Cost == 4.5178278115170025.\n",
      "Iteration 988: θ = [-3.22708, 1.12586]; Cost == 4.517680648993969.\n",
      "Iteration 989: θ = [-3.22829, 1.12598]; Cost == 4.51753401654185.\n",
      "Iteration 990: θ = [-3.22949, 1.1261]; Cost == 4.517387912251361.\n",
      "Iteration 991: θ = [-3.23069, 1.12622]; Cost == 4.517242334220096.\n",
      "Iteration 992: θ = [-3.23189, 1.12634]; Cost == 4.517097280552497.\n",
      "Iteration 993: θ = [-3.23309, 1.12646]; Cost == 4.51695274935984.\n",
      "Iteration 994: θ = [-3.23428, 1.12658]; Cost == 4.516808738760195.\n",
      "Iteration 995: θ = [-3.23547, 1.1267]; Cost == 4.516665246878423.\n",
      "Iteration 996: θ = [-3.23666, 1.12682]; Cost == 4.516522271846125.\n",
      "Iteration 997: θ = [-3.23785, 1.12694]; Cost == 4.516379811801644.\n",
      "Iteration 998: θ = [-3.23904, 1.12706]; Cost == 4.516237864890022.\n",
      "Iteration 999: θ = [-3.24022, 1.12718]; Cost == 4.516096429262984.\n",
      "Iteration 1000: θ = [-3.2414, 1.12729]; Cost == 4.515955503078913.\n",
      "Iteration 1001: θ = [-3.24258, 1.12741]; Cost == 4.515815084502823.\n",
      "Iteration 1002: θ = [-3.24376, 1.12753]; Cost == 4.515675171706342.\n",
      "Iteration 1003: θ = [-3.24493, 1.12765]; Cost == 4.515535762867679.\n",
      "Iteration 1004: θ = [-3.24611, 1.12777]; Cost == 4.5153968561716065.\n",
      "Iteration 1005: θ = [-3.24728, 1.12788]; Cost == 4.51525844980944.\n",
      "Iteration 1006: θ = [-3.24845, 1.128]; Cost == 4.515120541979001.\n",
      "Iteration 1007: θ = [-3.24961, 1.12812]; Cost == 4.514983130884608.\n",
      "Iteration 1008: θ = [-3.25078, 1.12824]; Cost == 4.514846214737048.\n",
      "Iteration 1009: θ = [-3.25194, 1.12835]; Cost == 4.51470979175355.\n",
      "Iteration 1010: θ = [-3.2531, 1.12847]; Cost == 4.514573860157765.\n",
      "Iteration 1011: θ = [-3.25426, 1.12859]; Cost == 4.514438418179744.\n",
      "Iteration 1012: θ = [-3.25542, 1.1287]; Cost == 4.514303464055913.\n",
      "Iteration 1013: θ = [-3.25657, 1.12882]; Cost == 4.514168996029047.\n",
      "Iteration 1014: θ = [-3.25772, 1.12893]; Cost == 4.514035012348253.\n",
      "Iteration 1015: θ = [-3.25887, 1.12905]; Cost == 4.513901511268945.\n",
      "Iteration 1016: θ = [-3.26002, 1.12916]; Cost == 4.513768491052822.\n",
      "Iteration 1017: θ = [-3.26117, 1.12928]; Cost == 4.51363594996784.\n",
      "Iteration 1018: θ = [-3.26231, 1.12939]; Cost == 4.513503886288198.\n",
      "Iteration 1019: θ = [-3.26345, 1.12951]; Cost == 4.513372298294308.\n",
      "Iteration 1020: θ = [-3.26459, 1.12962]; Cost == 4.513241184272778.\n",
      "Iteration 1021: θ = [-3.26573, 1.12974]; Cost == 4.5131105425163875.\n",
      "Iteration 1022: θ = [-3.26687, 1.12985]; Cost == 4.512980371324065.\n",
      "Iteration 1023: θ = [-3.268, 1.12997]; Cost == 4.512850669000864.\n",
      "Iteration 1024: θ = [-3.26913, 1.13008]; Cost == 4.512721433857947.\n",
      "Iteration 1025: θ = [-3.27026, 1.13019]; Cost == 4.512592664212556.\n",
      "Iteration 1026: θ = [-3.27139, 1.13031]; Cost == 4.512464358387996.\n",
      "Iteration 1027: θ = [-3.27252, 1.13042]; Cost == 4.5123365147136125.\n",
      "Iteration 1028: θ = [-3.27364, 1.13053]; Cost == 4.5122091315247665.\n",
      "Iteration 1029: θ = [-3.27476, 1.13065]; Cost == 4.512082207162816.\n",
      "Iteration 1030: θ = [-3.27588, 1.13076]; Cost == 4.511955739975092.\n",
      "Iteration 1031: θ = [-3.277, 1.13087]; Cost == 4.511829728314881.\n",
      "Iteration 1032: θ = [-3.27811, 1.13098]; Cost == 4.511704170541395.\n",
      "Iteration 1033: θ = [-3.27923, 1.13109]; Cost == 4.511579065019766.\n",
      "Iteration 1034: θ = [-3.28034, 1.13121]; Cost == 4.511454410121006.\n",
      "Iteration 1035: θ = [-3.28145, 1.13132]; Cost == 4.511330204221998.\n",
      "Iteration 1036: θ = [-3.28255, 1.13143]; Cost == 4.511206445705469.\n",
      "Iteration 1037: θ = [-3.28366, 1.13154]; Cost == 4.511083132959974.\n",
      "Iteration 1038: θ = [-3.28476, 1.13165]; Cost == 4.510960264379873.\n",
      "Iteration 1039: θ = [-3.28586, 1.13176]; Cost == 4.510837838365307.\n",
      "Iteration 1040: θ = [-3.28696, 1.13187]; Cost == 4.51071585332218.\n",
      "Iteration 1041: θ = [-3.28806, 1.13198]; Cost == 4.5105943076621395.\n",
      "Iteration 1042: θ = [-3.28916, 1.13209]; Cost == 4.510473199802552.\n",
      "Iteration 1043: θ = [-3.29025, 1.1322]; Cost == 4.510352528166485.\n",
      "Iteration 1044: θ = [-3.29134, 1.13231]; Cost == 4.510232291182688.\n",
      "Iteration 1045: θ = [-3.29243, 1.13242]; Cost == 4.510112487285568.\n",
      "Iteration 1046: θ = [-3.29352, 1.13253]; Cost == 4.50999311491517.\n",
      "Iteration 1047: θ = [-3.2946, 1.13264]; Cost == 4.509874172517163.\n",
      "Iteration 1048: θ = [-3.29569, 1.13275]; Cost == 4.509755658542809.\n",
      "Iteration 1049: θ = [-3.29677, 1.13286]; Cost == 4.509637571448952.\n",
      "Iteration 1050: θ = [-3.29785, 1.13297]; Cost == 4.509519909697992.\n",
      "Iteration 1051: θ = [-3.29893, 1.13307]; Cost == 4.509402671757866.\n",
      "Iteration 1052: θ = [-3.3, 1.13318]; Cost == 4.509285856102039.\n",
      "Iteration 1053: θ = [-3.30108, 1.13329]; Cost == 4.509169461209461.\n",
      "Iteration 1054: θ = [-3.30215, 1.1334]; Cost == 4.509053485564568.\n",
      "Iteration 1055: θ = [-3.30322, 1.1335]; Cost == 4.508937927657256.\n",
      "Iteration 1056: θ = [-3.30429, 1.13361]; Cost == 4.508822785982859.\n",
      "Iteration 1057: θ = [-3.30535, 1.13372]; Cost == 4.508708059042127.\n",
      "Iteration 1058: θ = [-3.30642, 1.13383]; Cost == 4.508593745341215.\n",
      "Iteration 1059: θ = [-3.30748, 1.13393]; Cost == 4.508479843391656.\n",
      "Iteration 1060: θ = [-3.30854, 1.13404]; Cost == 4.508366351710347.\n",
      "Iteration 1061: θ = [-3.3096, 1.13415]; Cost == 4.508253268819525.\n",
      "Iteration 1062: θ = [-3.31066, 1.13425]; Cost == 4.508140593246748.\n",
      "Iteration 1063: θ = [-3.31171, 1.13436]; Cost == 4.508028323524884.\n",
      "Iteration 1064: θ = [-3.31276, 1.13446]; Cost == 4.507916458192077.\n",
      "Iteration 1065: θ = [-3.31381, 1.13457]; Cost == 4.507804995791744.\n",
      "Iteration 1066: θ = [-3.31486, 1.13467]; Cost == 4.507693934872544.\n",
      "Iteration 1067: θ = [-3.31591, 1.13478]; Cost == 4.507583273988367.\n",
      "Iteration 1068: θ = [-3.31696, 1.13488]; Cost == 4.507473011698309.\n",
      "Iteration 1069: θ = [-3.318, 1.13499]; Cost == 4.5073631465666555.\n",
      "Iteration 1070: θ = [-3.31904, 1.13509]; Cost == 4.507253677162865.\n",
      "Iteration 1071: θ = [-3.32008, 1.1352]; Cost == 4.507144602061552.\n"
     ]
    },
    {
     "name": "stdout",
     "output_type": "stream",
     "text": [
      "Iteration 1072: θ = [-3.32112, 1.1353]; Cost == 4.507035919842457.\n",
      "Iteration 1073: θ = [-3.32215, 1.13541]; Cost == 4.506927629090445.\n",
      "Iteration 1074: θ = [-3.32319, 1.13551]; Cost == 4.506819728395472.\n",
      "Iteration 1075: θ = [-3.32422, 1.13561]; Cost == 4.506712216352576.\n",
      "Iteration 1076: θ = [-3.32525, 1.13572]; Cost == 4.506605091561853.\n",
      "Iteration 1077: θ = [-3.32628, 1.13582]; Cost == 4.5064983526284434.\n",
      "Iteration 1078: θ = [-3.32731, 1.13592]; Cost == 4.506391998162513.\n",
      "Iteration 1079: θ = [-3.32833, 1.13603]; Cost == 4.506286026779232.\n",
      "Iteration 1080: θ = [-3.32935, 1.13613]; Cost == 4.506180437098759.\n",
      "Iteration 1081: θ = [-3.33037, 1.13623]; Cost == 4.506075227746218.\n",
      "Iteration 1082: θ = [-3.33139, 1.13633]; Cost == 4.505970397351695.\n",
      "Iteration 1083: θ = [-3.33241, 1.13644]; Cost == 4.505865944550205.\n",
      "Iteration 1084: θ = [-3.33343, 1.13654]; Cost == 4.505761867981676.\n",
      "Iteration 1085: θ = [-3.33444, 1.13664]; Cost == 4.505658166290941.\n",
      "Iteration 1086: θ = [-3.33545, 1.13674]; Cost == 4.505554838127713.\n",
      "Iteration 1087: θ = [-3.33646, 1.13684]; Cost == 4.5054518821465654.\n",
      "Iteration 1088: θ = [-3.33747, 1.13695]; Cost == 4.505349297006919.\n",
      "Iteration 1089: θ = [-3.33848, 1.13705]; Cost == 4.505247081373027.\n",
      "Iteration 1090: θ = [-3.33948, 1.13715]; Cost == 4.505145233913949.\n",
      "Iteration 1091: θ = [-3.34048, 1.13725]; Cost == 4.505043753303542.\n",
      "Iteration 1092: θ = [-3.34149, 1.13735]; Cost == 4.504942638220435.\n",
      "Iteration 1093: θ = [-3.34248, 1.13745]; Cost == 4.504841887348024.\n",
      "Iteration 1094: θ = [-3.34348, 1.13755]; Cost == 4.504741499374441.\n",
      "Iteration 1095: θ = [-3.34448, 1.13765]; Cost == 4.504641472992545.\n",
      "Iteration 1096: θ = [-3.34547, 1.13775]; Cost == 4.504541806899904.\n",
      "Iteration 1097: θ = [-3.34646, 1.13785]; Cost == 4.504442499798778.\n",
      "Iteration 1098: θ = [-3.34745, 1.13795]; Cost == 4.504343550396099.\n",
      "Iteration 1099: θ = [-3.34844, 1.13805]; Cost == 4.504244957403458.\n",
      "Iteration 1100: θ = [-3.34943, 1.13815]; Cost == 4.504146719537086.\n",
      "Iteration 1101: θ = [-3.35041, 1.13825]; Cost == 4.504048835517841.\n",
      "Iteration 1102: θ = [-3.3514, 1.13834]; Cost == 4.503951304071183.\n",
      "Iteration 1103: θ = [-3.35238, 1.13844]; Cost == 4.5038541239271686.\n",
      "Iteration 1104: θ = [-3.35336, 1.13854]; Cost == 4.503757293820424.\n",
      "Iteration 1105: θ = [-3.35434, 1.13864]; Cost == 4.5036608124901365.\n",
      "Iteration 1106: θ = [-3.35531, 1.13874]; Cost == 4.503564678680033.\n",
      "Iteration 1107: θ = [-3.35629, 1.13884]; Cost == 4.503468891138365.\n",
      "Iteration 1108: θ = [-3.35726, 1.13893]; Cost == 4.503373448617894.\n",
      "Iteration 1109: θ = [-3.35823, 1.13903]; Cost == 4.503278349875875.\n",
      "Iteration 1110: θ = [-3.3592, 1.13913]; Cost == 4.503183593674036.\n",
      "Iteration 1111: θ = [-3.36016, 1.13923]; Cost == 4.503089178778567.\n",
      "Iteration 1112: θ = [-3.36113, 1.13932]; Cost == 4.502995103960105.\n",
      "Iteration 1113: θ = [-3.36209, 1.13942]; Cost == 4.50290136799371.\n",
      "Iteration 1114: θ = [-3.36306, 1.13952]; Cost == 4.502807969658853.\n",
      "Iteration 1115: θ = [-3.36402, 1.13961]; Cost == 4.502714907739411.\n",
      "Iteration 1116: θ = [-3.36497, 1.13971]; Cost == 4.502622181023632.\n",
      "Iteration 1117: θ = [-3.36593, 1.1398]; Cost == 4.502529788304131.\n",
      "Iteration 1118: θ = [-3.36689, 1.1399]; Cost == 4.502437728377875.\n",
      "Iteration 1119: θ = [-3.36784, 1.14]; Cost == 4.5023460000461615.\n",
      "Iteration 1120: θ = [-3.36879, 1.14009]; Cost == 4.502254602114603.\n",
      "Iteration 1121: θ = [-3.36974, 1.14019]; Cost == 4.502163533393122.\n",
      "Iteration 1122: θ = [-3.37069, 1.14028]; Cost == 4.502072792695919.\n",
      "Iteration 1123: θ = [-3.37164, 1.14038]; Cost == 4.50198237884147.\n",
      "Iteration 1124: θ = [-3.37258, 1.14047]; Cost == 4.501892290652507.\n",
      "Iteration 1125: θ = [-3.37352, 1.14057]; Cost == 4.501802526956003.\n",
      "Iteration 1126: θ = [-3.37447, 1.14066]; Cost == 4.501713086583154.\n",
      "Iteration 1127: θ = [-3.37541, 1.14076]; Cost == 4.5016239683693655.\n",
      "Iteration 1128: θ = [-3.37634, 1.14085]; Cost == 4.50153517115424.\n",
      "Iteration 1129: θ = [-3.37728, 1.14094]; Cost == 4.501446693781557.\n",
      "Iteration 1130: θ = [-3.37821, 1.14104]; Cost == 4.501358535099269.\n",
      "Iteration 1131: θ = [-3.37915, 1.14113]; Cost == 4.501270693959464.\n",
      "Iteration 1132: θ = [-3.38008, 1.14123]; Cost == 4.501183169218376.\n",
      "Iteration 1133: θ = [-3.38101, 1.14132]; Cost == 4.501095959736355.\n",
      "Iteration 1134: θ = [-3.38194, 1.14141]; Cost == 4.501009064377854.\n",
      "Iteration 1135: θ = [-3.38286, 1.14151]; Cost == 4.500922482011421.\n",
      "Iteration 1136: θ = [-3.38379, 1.1416]; Cost == 4.500836211509674.\n",
      "Iteration 1137: θ = [-3.38471, 1.14169]; Cost == 4.500750251749296.\n",
      "Iteration 1138: θ = [-3.38563, 1.14178]; Cost == 4.500664601611016.\n",
      "Iteration 1139: θ = [-3.38655, 1.14188]; Cost == 4.50057925997959.\n",
      "Iteration 1140: θ = [-3.38747, 1.14197]; Cost == 4.500494225743796.\n",
      "Iteration 1141: θ = [-3.38839, 1.14206]; Cost == 4.500409497796411.\n",
      "Iteration 1142: θ = [-3.3893, 1.14215]; Cost == 4.500325075034204.\n",
      "Iteration 1143: θ = [-3.39021, 1.14224]; Cost == 4.500240956357913.\n",
      "Iteration 1144: θ = [-3.39112, 1.14234]; Cost == 4.500157140672242.\n",
      "Iteration 1145: θ = [-3.39203, 1.14243]; Cost == 4.500073626885831.\n",
      "Iteration 1146: θ = [-3.39294, 1.14252]; Cost == 4.499990413911261.\n",
      "Iteration 1147: θ = [-3.39385, 1.14261]; Cost == 4.499907500665023.\n",
      "Iteration 1148: θ = [-3.39475, 1.1427]; Cost == 4.499824886067513.\n",
      "Iteration 1149: θ = [-3.39566, 1.14279]; Cost == 4.499742569043016.\n",
      "Iteration 1150: θ = [-3.39656, 1.14288]; Cost == 4.49966054851969.\n",
      "Iteration 1151: θ = [-3.39746, 1.14297]; Cost == 4.499578823429556.\n",
      "Iteration 1152: θ = [-3.39836, 1.14306]; Cost == 4.49949739270848.\n",
      "Iteration 1153: θ = [-3.39925, 1.14315]; Cost == 4.499416255296163.\n",
      "Iteration 1154: θ = [-3.40015, 1.14324]; Cost == 4.499335410136121.\n",
      "Iteration 1155: θ = [-3.40104, 1.14333]; Cost == 4.499254856175683.\n",
      "Iteration 1156: θ = [-3.40193, 1.14342]; Cost == 4.49917459236596.\n",
      "Iteration 1157: θ = [-3.40282, 1.14351]; Cost == 4.4990946176618465.\n",
      "Iteration 1158: θ = [-3.40371, 1.1436]; Cost == 4.499014931022003.\n",
      "Iteration 1159: θ = [-3.4046, 1.14369]; Cost == 4.498935531408838.\n",
      "Iteration 1160: θ = [-3.40548, 1.14378]; Cost == 4.498856417788498.\n",
      "Iteration 1161: θ = [-3.40637, 1.14387]; Cost == 4.498777589130852.\n",
      "Iteration 1162: θ = [-3.40725, 1.14396]; Cost == 4.498699044409482.\n",
      "Iteration 1163: θ = [-3.40813, 1.14404]; Cost == 4.498620782601665.\n",
      "Iteration 1164: θ = [-3.40901, 1.14413]; Cost == 4.498542802688363.\n",
      "Iteration 1165: θ = [-3.40989, 1.14422]; Cost == 4.49846510365421.\n",
      "Iteration 1166: θ = [-3.41076, 1.14431]; Cost == 4.498387684487494.\n",
      "Iteration 1167: θ = [-3.41164, 1.1444]; Cost == 4.498310544180148.\n",
      "Iteration 1168: θ = [-3.41251, 1.14448]; Cost == 4.498233681727737.\n",
      "Iteration 1169: θ = [-3.41338, 1.14457]; Cost == 4.498157096129445.\n",
      "Iteration 1170: θ = [-3.41425, 1.14466]; Cost == 4.4980807863880585.\n",
      "Iteration 1171: θ = [-3.41512, 1.14475]; Cost == 4.4980047515099555.\n",
      "Iteration 1172: θ = [-3.41599, 1.14483]; Cost == 4.497928990505096.\n",
      "Iteration 1173: θ = [-3.41685, 1.14492]; Cost == 4.497853502387004.\n",
      "Iteration 1174: θ = [-3.41771, 1.14501]; Cost == 4.497778286172758.\n",
      "Iteration 1175: θ = [-3.41858, 1.14509]; Cost == 4.497703340882973.\n",
      "Iteration 1176: θ = [-3.41944, 1.14518]; Cost == 4.497628665541797.\n",
      "Iteration 1177: θ = [-3.42029, 1.14527]; Cost == 4.497554259176892.\n",
      "Iteration 1178: θ = [-3.42115, 1.14535]; Cost == 4.497480120819419.\n",
      "Iteration 1179: θ = [-3.42201, 1.14544]; Cost == 4.497406249504031.\n",
      "Iteration 1180: θ = [-3.42286, 1.14552]; Cost == 4.497332644268858.\n",
      "Iteration 1181: θ = [-3.42371, 1.14561]; Cost == 4.497259304155494.\n",
      "Iteration 1182: θ = [-3.42456, 1.14569]; Cost == 4.497186228208986.\n",
      "Iteration 1183: θ = [-3.42541, 1.14578]; Cost == 4.497113415477821.\n",
      "Iteration 1184: θ = [-3.42626, 1.14587]; Cost == 4.497040865013911.\n",
      "Iteration 1185: θ = [-3.42711, 1.14595]; Cost == 4.496968575872586.\n",
      "Iteration 1186: θ = [-3.42795, 1.14604]; Cost == 4.496896547112575.\n",
      "Iteration 1187: θ = [-3.4288, 1.14612]; Cost == 4.496824777796001.\n",
      "Iteration 1188: θ = [-3.42964, 1.1462]; Cost == 4.496753266988365.\n",
      "Iteration 1189: θ = [-3.43048, 1.14629]; Cost == 4.49668201375853.\n",
      "Iteration 1190: θ = [-3.43132, 1.14637]; Cost == 4.496611017178717.\n",
      "Iteration 1191: θ = [-3.43215, 1.14646]; Cost == 4.496540276324488.\n",
      "Iteration 1192: θ = [-3.43299, 1.14654]; Cost == 4.496469790274732.\n",
      "Iteration 1193: θ = [-3.43382, 1.14663]; Cost == 4.496399558111661.\n",
      "Iteration 1194: θ = [-3.43466, 1.14671]; Cost == 4.496329578920789.\n",
      "Iteration 1195: θ = [-3.43549, 1.14679]; Cost == 4.496259851790923.\n",
      "Iteration 1196: θ = [-3.43632, 1.14688]; Cost == 4.496190375814155.\n",
      "Iteration 1197: θ = [-3.43715, 1.14696]; Cost == 4.496121150085845.\n",
      "Iteration 1198: θ = [-3.43797, 1.14704]; Cost == 4.496052173704615.\n",
      "Iteration 1199: θ = [-3.4388, 1.14712]; Cost == 4.49598344577233.\n",
      "Iteration 1200: θ = [-3.43962, 1.14721]; Cost == 4.495914965394088.\n",
      "Iteration 1201: θ = [-3.44044, 1.14729]; Cost == 4.495846731678218.\n",
      "Iteration 1202: θ = [-3.44126, 1.14737]; Cost == 4.495778743736255.\n",
      "Iteration 1203: θ = [-3.44208, 1.14745]; Cost == 4.495711000682937.\n",
      "Iteration 1204: θ = [-3.4429, 1.14754]; Cost == 4.495643501636185.\n",
      "Iteration 1205: θ = [-3.44372, 1.14762]; Cost == 4.495576245717105.\n",
      "Iteration 1206: θ = [-3.44453, 1.1477]; Cost == 4.495509232049965.\n",
      "Iteration 1207: θ = [-3.44535, 1.14778]; Cost == 4.495442459762188.\n",
      "Iteration 1208: θ = [-3.44616, 1.14786]; Cost == 4.495375927984336.\n",
      "Iteration 1209: θ = [-3.44697, 1.14795]; Cost == 4.495309635850108.\n",
      "Iteration 1210: θ = [-3.44778, 1.14803]; Cost == 4.495243582496323.\n",
      "Iteration 1211: θ = [-3.44859, 1.14811]; Cost == 4.495177767062907.\n",
      "Iteration 1212: θ = [-3.44939, 1.14819]; Cost == 4.495112188692882.\n",
      "Iteration 1213: θ = [-3.4502, 1.14827]; Cost == 4.495046846532363.\n",
      "Iteration 1214: θ = [-3.451, 1.14835]; Cost == 4.494981739730536.\n",
      "Iteration 1215: θ = [-3.4518, 1.14843]; Cost == 4.49491686743965.\n",
      "Iteration 1216: θ = [-3.4526, 1.14851]; Cost == 4.494852228815013.\n",
      "Iteration 1217: θ = [-3.4534, 1.14859]; Cost == 4.4947878230149705.\n",
      "Iteration 1218: θ = [-3.4542, 1.14867]; Cost == 4.494723649200905.\n",
      "Iteration 1219: θ = [-3.45499, 1.14875]; Cost == 4.494659706537213.\n",
      "Iteration 1220: θ = [-3.45579, 1.14883]; Cost == 4.494595994191306.\n"
     ]
    },
    {
     "name": "stdout",
     "output_type": "stream",
     "text": [
      "Iteration 1221: θ = [-3.45658, 1.14891]; Cost == 4.494532511333592.\n",
      "Iteration 1222: θ = [-3.45737, 1.14899]; Cost == 4.494469257137467.\n",
      "Iteration 1223: θ = [-3.45816, 1.14907]; Cost == 4.494406230779307.\n",
      "Iteration 1224: θ = [-3.45895, 1.14915]; Cost == 4.494343431438454.\n",
      "Iteration 1225: θ = [-3.45974, 1.14923]; Cost == 4.494280858297201.\n",
      "Iteration 1226: θ = [-3.46053, 1.14931]; Cost == 4.49421851054079.\n",
      "Iteration 1227: θ = [-3.46131, 1.14939]; Cost == 4.4941563873574015.\n",
      "Iteration 1228: θ = [-3.46209, 1.14947]; Cost == 4.494094487938134.\n",
      "Iteration 1229: θ = [-3.46288, 1.14954]; Cost == 4.494032811477003.\n",
      "Iteration 1230: θ = [-3.46366, 1.14962]; Cost == 4.493971357170926.\n",
      "Iteration 1231: θ = [-3.46443, 1.1497]; Cost == 4.493910124219711.\n",
      "Iteration 1232: θ = [-3.46521, 1.14978]; Cost == 4.493849111826053.\n",
      "Iteration 1233: θ = [-3.46599, 1.14986]; Cost == 4.4937883191955175.\n",
      "Iteration 1234: θ = [-3.46676, 1.14993]; Cost == 4.493727745536528.\n",
      "Iteration 1235: θ = [-3.46754, 1.15001]; Cost == 4.493667390060364.\n",
      "Iteration 1236: θ = [-3.46831, 1.15009]; Cost == 4.493607251981141.\n",
      "Iteration 1237: θ = [-3.46908, 1.15017]; Cost == 4.493547330515808.\n",
      "Iteration 1238: θ = [-3.46985, 1.15024]; Cost == 4.4934876248841364.\n",
      "Iteration 1239: θ = [-3.47062, 1.15032]; Cost == 4.493428134308703.\n",
      "Iteration 1240: θ = [-3.47138, 1.1504]; Cost == 4.4933688580148905.\n",
      "Iteration 1241: θ = [-3.47215, 1.15048]; Cost == 4.493309795230867.\n",
      "Iteration 1242: θ = [-3.47291, 1.15055]; Cost == 4.493250945187583.\n",
      "Iteration 1243: θ = [-3.47367, 1.15063]; Cost == 4.493192307118759.\n",
      "Iteration 1244: θ = [-3.47443, 1.1507]; Cost == 4.493133880260875.\n",
      "Iteration 1245: θ = [-3.47519, 1.15078]; Cost == 4.493075663853161.\n",
      "Iteration 1246: θ = [-3.47595, 1.15086]; Cost == 4.493017657137588.\n",
      "Iteration 1247: θ = [-3.47671, 1.15093]; Cost == 4.492959859358858.\n",
      "Iteration 1248: θ = [-3.47746, 1.15101]; Cost == 4.49290226976439.\n",
      "Iteration 1249: θ = [-3.47822, 1.15108]; Cost == 4.492844887604319.\n",
      "Iteration 1250: θ = [-3.47897, 1.15116]; Cost == 4.492787712131476.\n",
      "Iteration 1251: θ = [-3.47972, 1.15124]; Cost == 4.492730742601387.\n",
      "Iteration 1252: θ = [-3.48047, 1.15131]; Cost == 4.492673978272259.\n",
      "Iteration 1253: θ = [-3.48122, 1.15139]; Cost == 4.492617418404968.\n",
      "Iteration 1254: θ = [-3.48197, 1.15146]; Cost == 4.4925610622630545.\n",
      "Iteration 1255: θ = [-3.48271, 1.15154]; Cost == 4.492504909112712.\n",
      "Iteration 1256: θ = [-3.48346, 1.15161]; Cost == 4.492448958222776.\n",
      "Iteration 1257: θ = [-3.4842, 1.15169]; Cost == 4.492393208864718.\n",
      "Iteration 1258: θ = [-3.48494, 1.15176]; Cost == 4.4923376603126295.\n",
      "Iteration 1259: θ = [-3.48568, 1.15183]; Cost == 4.49228231184322.\n",
      "Iteration 1260: θ = [-3.48642, 1.15191]; Cost == 4.492227162735803.\n",
      "Iteration 1261: θ = [-3.48716, 1.15198]; Cost == 4.49217221227229.\n",
      "Iteration 1262: θ = [-3.4879, 1.15206]; Cost == 4.492117459737173.\n",
      "Iteration 1263: θ = [-3.48863, 1.15213]; Cost == 4.492062904417529.\n",
      "Iteration 1264: θ = [-3.48937, 1.1522]; Cost == 4.492008545602999.\n",
      "Iteration 1265: θ = [-3.4901, 1.15228]; Cost == 4.491954382585779.\n",
      "Iteration 1266: θ = [-3.49083, 1.15235]; Cost == 4.491900414660624.\n",
      "Iteration 1267: θ = [-3.49156, 1.15243]; Cost == 4.491846641124821.\n",
      "Iteration 1268: θ = [-3.49229, 1.1525]; Cost == 4.491793061278189.\n",
      "Iteration 1269: θ = [-3.49302, 1.15257]; Cost == 4.491739674423075.\n",
      "Iteration 1270: θ = [-3.49374, 1.15264]; Cost == 4.491686479864329.\n",
      "Iteration 1271: θ = [-3.49447, 1.15272]; Cost == 4.491633476909316.\n",
      "Iteration 1272: θ = [-3.49519, 1.15279]; Cost == 4.491580664867888.\n",
      "Iteration 1273: θ = [-3.49591, 1.15286]; Cost == 4.491528043052385.\n",
      "Iteration 1274: θ = [-3.49663, 1.15294]; Cost == 4.491475610777624.\n",
      "Iteration 1275: θ = [-3.49735, 1.15301]; Cost == 4.491423367360892.\n",
      "Iteration 1276: θ = [-3.49807, 1.15308]; Cost == 4.491371312121932.\n",
      "Iteration 1277: θ = [-3.49879, 1.15315]; Cost == 4.491319444382939.\n",
      "Iteration 1278: θ = [-3.4995, 1.15322]; Cost == 4.491267763468548.\n",
      "Iteration 1279: θ = [-3.50022, 1.1533]; Cost == 4.491216268705828.\n",
      "Iteration 1280: θ = [-3.50093, 1.15337]; Cost == 4.491164959424272.\n",
      "Iteration 1281: θ = [-3.50164, 1.15344]; Cost == 4.4911138349557875.\n",
      "Iteration 1282: θ = [-3.50235, 1.15351]; Cost == 4.491062894634687.\n",
      "Iteration 1283: θ = [-3.50306, 1.15358]; Cost == 4.491012137797684.\n",
      "Iteration 1284: θ = [-3.50377, 1.15365]; Cost == 4.49096156378388.\n",
      "Iteration 1285: θ = [-3.50448, 1.15372]; Cost == 4.490911171934753.\n",
      "Iteration 1286: θ = [-3.50518, 1.15379]; Cost == 4.49086096159416.\n",
      "Iteration 1287: θ = [-3.50589, 1.15386]; Cost == 4.490810932108316.\n",
      "Iteration 1288: θ = [-3.50659, 1.15394]; Cost == 4.490761082825792.\n",
      "Iteration 1289: θ = [-3.50729, 1.15401]; Cost == 4.490711413097507.\n",
      "Iteration 1290: θ = [-3.50799, 1.15408]; Cost == 4.4906619222767175.\n",
      "Iteration 1291: θ = [-3.50869, 1.15415]; Cost == 4.490612609719008.\n",
      "Iteration 1292: θ = [-3.50939, 1.15422]; Cost == 4.490563474782287.\n",
      "Iteration 1293: θ = [-3.51009, 1.15429]; Cost == 4.490514516826772.\n",
      "Iteration 1294: θ = [-3.51078, 1.15436]; Cost == 4.490465735214985.\n",
      "Iteration 1295: θ = [-3.51147, 1.15443]; Cost == 4.490417129311751.\n",
      "Iteration 1296: θ = [-3.51217, 1.1545]; Cost == 4.4903686984841755.\n",
      "Iteration 1297: θ = [-3.51286, 1.15456]; Cost == 4.490320442101645.\n",
      "Iteration 1298: θ = [-3.51355, 1.15463]; Cost == 4.49027235953582.\n",
      "Iteration 1299: θ = [-3.51424, 1.1547]; Cost == 4.490224450160622.\n",
      "Iteration 1300: θ = [-3.51493, 1.15477]; Cost == 4.490176713352229.\n",
      "Iteration 1301: θ = [-3.51561, 1.15484]; Cost == 4.490129148489064.\n",
      "Iteration 1302: θ = [-3.5163, 1.15491]; Cost == 4.490081754951793.\n",
      "Iteration 1303: θ = [-3.51698, 1.15498]; Cost == 4.490034532123307.\n",
      "Iteration 1304: θ = [-3.51766, 1.15505]; Cost == 4.4899874793887244.\n",
      "Iteration 1305: θ = [-3.51835, 1.15512]; Cost == 4.489940596135375.\n",
      "Iteration 1306: θ = [-3.51903, 1.15518]; Cost == 4.489893881752801.\n",
      "Iteration 1307: θ = [-3.51971, 1.15525]; Cost == 4.489847335632735.\n",
      "Iteration 1308: θ = [-3.52038, 1.15532]; Cost == 4.489800957169108.\n",
      "Iteration 1309: θ = [-3.52106, 1.15539]; Cost == 4.489754745758031.\n",
      "Iteration 1310: θ = [-3.52174, 1.15546]; Cost == 4.489708700797791.\n",
      "Iteration 1311: θ = [-3.52241, 1.15552]; Cost == 4.489662821688839.\n",
      "Iteration 1312: θ = [-3.52308, 1.15559]; Cost == 4.48961710783379.\n",
      "Iteration 1313: θ = [-3.52375, 1.15566]; Cost == 4.489571558637409.\n",
      "Iteration 1314: θ = [-3.52443, 1.15573]; Cost == 4.489526173506604.\n",
      "Iteration 1315: θ = [-3.52509, 1.15579]; Cost == 4.489480951850422.\n",
      "Iteration 1316: θ = [-3.52576, 1.15586]; Cost == 4.489435893080034.\n",
      "Iteration 1317: θ = [-3.52643, 1.15593]; Cost == 4.48939099660874.\n",
      "Iteration 1318: θ = [-3.5271, 1.156]; Cost == 4.489346261851942.\n",
      "Iteration 1319: θ = [-3.52776, 1.15606]; Cost == 4.489301688227157.\n",
      "Iteration 1320: θ = [-3.52842, 1.15613]; Cost == 4.489257275153998.\n",
      "Iteration 1321: θ = [-3.52909, 1.1562]; Cost == 4.489213022054162.\n",
      "Iteration 1322: θ = [-3.52975, 1.15626]; Cost == 4.48916892835144.\n",
      "Iteration 1323: θ = [-3.53041, 1.15633]; Cost == 4.489124993471691.\n",
      "Iteration 1324: θ = [-3.53107, 1.15639]; Cost == 4.489081216842843.\n",
      "Iteration 1325: θ = [-3.53172, 1.15646]; Cost == 4.489037597894885.\n",
      "Iteration 1326: θ = [-3.53238, 1.15653]; Cost == 4.488994136059861.\n",
      "Iteration 1327: θ = [-3.53303, 1.15659]; Cost == 4.488950830771858.\n",
      "Iteration 1328: θ = [-3.53369, 1.15666]; Cost == 4.488907681467004.\n",
      "Iteration 1329: θ = [-3.53434, 1.15672]; Cost == 4.4888646875834555.\n",
      "Iteration 1330: θ = [-3.53499, 1.15679]; Cost == 4.488821848561395.\n",
      "Iteration 1331: θ = [-3.53564, 1.15685]; Cost == 4.488779163843019.\n",
      "Iteration 1332: θ = [-3.53629, 1.15692]; Cost == 4.488736632872537.\n",
      "Iteration 1333: θ = [-3.53694, 1.15698]; Cost == 4.488694255096154.\n",
      "Iteration 1334: θ = [-3.53759, 1.15705]; Cost == 4.488652029962077.\n",
      "Iteration 1335: θ = [-3.53823, 1.15711]; Cost == 4.488609956920497.\n",
      "Iteration 1336: θ = [-3.53888, 1.15718]; Cost == 4.488568035423583.\n",
      "Iteration 1337: θ = [-3.53952, 1.15724]; Cost == 4.488526264925483.\n",
      "Iteration 1338: θ = [-3.54016, 1.15731]; Cost == 4.488484644882306.\n",
      "Iteration 1339: θ = [-3.5408, 1.15737]; Cost == 4.488443174752122.\n",
      "Iteration 1340: θ = [-3.54144, 1.15744]; Cost == 4.4884018539949535.\n",
      "Iteration 1341: θ = [-3.54208, 1.1575]; Cost == 4.48836068207277.\n",
      "Iteration 1342: θ = [-3.54272, 1.15756]; Cost == 4.4883196584494724.\n",
      "Iteration 1343: θ = [-3.54336, 1.15763]; Cost == 4.488278782590899.\n",
      "Iteration 1344: θ = [-3.54399, 1.15769]; Cost == 4.4882380539648095.\n",
      "Iteration 1345: θ = [-3.54463, 1.15776]; Cost == 4.4881974720408815.\n",
      "Iteration 1346: θ = [-3.54526, 1.15782]; Cost == 4.4881570362906995.\n",
      "Iteration 1347: θ = [-3.54589, 1.15788]; Cost == 4.488116746187757.\n",
      "Iteration 1348: θ = [-3.54652, 1.15795]; Cost == 4.488076601207441.\n",
      "Iteration 1349: θ = [-3.54715, 1.15801]; Cost == 4.4880366008270265.\n",
      "Iteration 1350: θ = [-3.54778, 1.15807]; Cost == 4.487996744525673.\n",
      "Iteration 1351: θ = [-3.54841, 1.15814]; Cost == 4.487957031784418.\n",
      "Iteration 1352: θ = [-3.54903, 1.1582]; Cost == 4.487917462086166.\n",
      "Iteration 1353: θ = [-3.54966, 1.15826]; Cost == 4.487878034915683.\n",
      "Iteration 1354: θ = [-3.55028, 1.15832]; Cost == 4.487838749759593.\n",
      "Iteration 1355: θ = [-3.5509, 1.15839]; Cost == 4.487799606106367.\n",
      "Iteration 1356: θ = [-3.55153, 1.15845]; Cost == 4.487760603446322.\n",
      "Iteration 1357: θ = [-3.55215, 1.15851]; Cost == 4.487721741271608.\n",
      "Iteration 1358: θ = [-3.55277, 1.15857]; Cost == 4.487683019076203.\n",
      "Iteration 1359: θ = [-3.55338, 1.15864]; Cost == 4.487644436355913.\n",
      "Iteration 1360: θ = [-3.554, 1.1587]; Cost == 4.487605992608354.\n",
      "Iteration 1361: θ = [-3.55462, 1.15876]; Cost == 4.487567687332955.\n",
      "Iteration 1362: θ = [-3.55523, 1.15882]; Cost == 4.4875295200309475.\n",
      "Iteration 1363: θ = [-3.55585, 1.15888]; Cost == 4.48749149020536.\n",
      "Iteration 1364: θ = [-3.55646, 1.15895]; Cost == 4.487453597361009.\n",
      "Iteration 1365: θ = [-3.55707, 1.15901]; Cost == 4.4874158410044975.\n",
      "Iteration 1366: θ = [-3.55768, 1.15907]; Cost == 4.487378220644202.\n",
      "Iteration 1367: θ = [-3.55829, 1.15913]; Cost == 4.487340735790274.\n",
      "Iteration 1368: θ = [-3.5589, 1.15919]; Cost == 4.487303385954625.\n",
      "Iteration 1369: θ = [-3.55951, 1.15925]; Cost == 4.48726617065093.\n"
     ]
    },
    {
     "name": "stdout",
     "output_type": "stream",
     "text": [
      "Iteration 1370: θ = [-3.56011, 1.15931]; Cost == 4.487229089394611.\n",
      "Iteration 1371: θ = [-3.56072, 1.15937]; Cost == 4.487192141702837.\n",
      "Iteration 1372: θ = [-3.56132, 1.15943]; Cost == 4.487155327094518.\n",
      "Iteration 1373: θ = [-3.56192, 1.15949]; Cost == 4.487118645090292.\n",
      "Iteration 1374: θ = [-3.56253, 1.15955]; Cost == 4.487082095212529.\n",
      "Iteration 1375: θ = [-3.56313, 1.15961]; Cost == 4.487045676985317.\n",
      "Iteration 1376: θ = [-3.56373, 1.15968]; Cost == 4.487009389934457.\n",
      "Iteration 1377: θ = [-3.56433, 1.15974]; Cost == 4.486973233587461.\n",
      "Iteration 1378: θ = [-3.56492, 1.1598]; Cost == 4.486937207473539.\n",
      "Iteration 1379: θ = [-3.56552, 1.15986]; Cost == 4.486901311123601.\n",
      "Iteration 1380: θ = [-3.56611, 1.15992]; Cost == 4.486865544070243.\n",
      "Iteration 1381: θ = [-3.56671, 1.15997]; Cost == 4.486829905847748.\n",
      "Iteration 1382: θ = [-3.5673, 1.16003]; Cost == 4.486794395992074.\n",
      "Iteration 1383: θ = [-3.56789, 1.16009]; Cost == 4.486759014040852.\n",
      "Iteration 1384: θ = [-3.56848, 1.16015]; Cost == 4.486723759533374.\n",
      "Iteration 1385: θ = [-3.56907, 1.16021]; Cost == 4.4866886320105985.\n",
      "Iteration 1386: θ = [-3.56966, 1.16027]; Cost == 4.486653631015133.\n",
      "Iteration 1387: θ = [-3.57025, 1.16033]; Cost == 4.486618756091232.\n",
      "Iteration 1388: θ = [-3.57084, 1.16039]; Cost == 4.486584006784796.\n",
      "Iteration 1389: θ = [-3.57142, 1.16045]; Cost == 4.486549382643356.\n",
      "Iteration 1390: θ = [-3.57201, 1.16051]; Cost == 4.486514883216076.\n",
      "Iteration 1391: θ = [-3.57259, 1.16057]; Cost == 4.4864805080537415.\n",
      "Iteration 1392: θ = [-3.57318, 1.16062]; Cost == 4.486446256708757.\n",
      "Iteration 1393: θ = [-3.57376, 1.16068]; Cost == 4.486412128735142.\n",
      "Iteration 1394: θ = [-3.57434, 1.16074]; Cost == 4.486378123688517.\n",
      "Iteration 1395: θ = [-3.57492, 1.1608]; Cost == 4.486344241126109.\n",
      "Iteration 1396: θ = [-3.57549, 1.16086]; Cost == 4.486310480606735.\n",
      "Iteration 1397: θ = [-3.57607, 1.16092]; Cost == 4.486276841690803.\n",
      "Iteration 1398: θ = [-3.57665, 1.16097]; Cost == 4.486243323940307.\n",
      "Iteration 1399: θ = [-3.57722, 1.16103]; Cost == 4.486209926918811.\n",
      "Iteration 1400: θ = [-3.5778, 1.16109]; Cost == 4.48617665019146.\n",
      "Iteration 1401: θ = [-3.57837, 1.16115]; Cost == 4.486143493324961.\n",
      "Iteration 1402: θ = [-3.57894, 1.1612]; Cost == 4.486110455887581.\n",
      "Iteration 1403: θ = [-3.57951, 1.16126]; Cost == 4.4860775374491455.\n",
      "Iteration 1404: θ = [-3.58008, 1.16132]; Cost == 4.4860447375810235.\n",
      "Iteration 1405: θ = [-3.58065, 1.16138]; Cost == 4.486012055856135.\n",
      "Iteration 1406: θ = [-3.58122, 1.16143]; Cost == 4.4859794918489335.\n",
      "Iteration 1407: θ = [-3.58179, 1.16149]; Cost == 4.485947045135406.\n",
      "Iteration 1408: θ = [-3.58235, 1.16155]; Cost == 4.4859147152930685.\n",
      "Iteration 1409: θ = [-3.58292, 1.1616]; Cost == 4.485882501900957.\n",
      "Iteration 1410: θ = [-3.58348, 1.16166]; Cost == 4.485850404539626.\n",
      "Iteration 1411: θ = [-3.58405, 1.16172]; Cost == 4.485818422791137.\n",
      "Iteration 1412: θ = [-3.58461, 1.16177]; Cost == 4.485786556239061.\n",
      "Iteration 1413: θ = [-3.58517, 1.16183]; Cost == 4.485754804468467.\n",
      "Iteration 1414: θ = [-3.58573, 1.16189]; Cost == 4.485723167065918.\n",
      "Iteration 1415: θ = [-3.58629, 1.16194]; Cost == 4.485691643619467.\n",
      "Iteration 1416: θ = [-3.58685, 1.162]; Cost == 4.48566023371865.\n",
      "Iteration 1417: θ = [-3.5874, 1.16205]; Cost == 4.485628936954484.\n",
      "Iteration 1418: θ = [-3.58796, 1.16211]; Cost == 4.485597752919457.\n",
      "Iteration 1419: θ = [-3.58851, 1.16217]; Cost == 4.4855666812075246.\n",
      "Iteration 1420: θ = [-3.58907, 1.16222]; Cost == 4.485535721414104.\n",
      "Iteration 1421: θ = [-3.58962, 1.16228]; Cost == 4.485504873136073.\n",
      "Iteration 1422: θ = [-3.59017, 1.16233]; Cost == 4.485474135971761.\n",
      "Iteration 1423: θ = [-3.59072, 1.16239]; Cost == 4.485443509520939.\n",
      "Iteration 1424: θ = [-3.59127, 1.16244]; Cost == 4.485412993384826.\n",
      "Iteration 1425: θ = [-3.59182, 1.1625]; Cost == 4.485382587166075.\n",
      "Iteration 1426: θ = [-3.59237, 1.16255]; Cost == 4.485352290468769.\n",
      "Iteration 1427: θ = [-3.59292, 1.16261]; Cost == 4.485322102898418.\n",
      "Iteration 1428: θ = [-3.59346, 1.16266]; Cost == 4.485292024061954.\n",
      "Iteration 1429: θ = [-3.59401, 1.16272]; Cost == 4.4852620535677215.\n",
      "Iteration 1430: θ = [-3.59455, 1.16277]; Cost == 4.485232191025481.\n",
      "Iteration 1431: θ = [-3.59509, 1.16283]; Cost == 4.485202436046394.\n",
      "Iteration 1432: θ = [-3.59564, 1.16288]; Cost == 4.485172788243023.\n",
      "Iteration 1433: θ = [-3.59618, 1.16294]; Cost == 4.485143247229331.\n",
      "Iteration 1434: θ = [-3.59672, 1.16299]; Cost == 4.485113812620665.\n",
      "Iteration 1435: θ = [-3.59726, 1.16304]; Cost == 4.48508448403376.\n",
      "Iteration 1436: θ = [-3.5978, 1.1631]; Cost == 4.485055261086734.\n",
      "Iteration 1437: θ = [-3.59833, 1.16315]; Cost == 4.485026143399075.\n",
      "Iteration 1438: θ = [-3.59887, 1.16321]; Cost == 4.484997130591647.\n",
      "Iteration 1439: θ = [-3.5994, 1.16326]; Cost == 4.484968222286677.\n",
      "Iteration 1440: θ = [-3.59994, 1.16331]; Cost == 4.484939418107754.\n",
      "Iteration 1441: θ = [-3.60047, 1.16337]; Cost == 4.484910717679822.\n",
      "Iteration 1442: θ = [-3.601, 1.16342]; Cost == 4.484882120629173.\n",
      "Iteration 1443: θ = [-3.60153, 1.16347]; Cost == 4.484853626583452.\n",
      "Iteration 1444: θ = [-3.60207, 1.16353]; Cost == 4.4848252351716384.\n",
      "Iteration 1445: θ = [-3.60259, 1.16358]; Cost == 4.484796946024051.\n",
      "Iteration 1446: θ = [-3.60312, 1.16363]; Cost == 4.484768758772342.\n",
      "Iteration 1447: θ = [-3.60365, 1.16369]; Cost == 4.484740673049487.\n",
      "Iteration 1448: θ = [-3.60418, 1.16374]; Cost == 4.4847126884897826.\n",
      "Iteration 1449: θ = [-3.6047, 1.16379]; Cost == 4.48468480472885.\n",
      "Iteration 1450: θ = [-3.60523, 1.16384]; Cost == 4.484657021403614.\n",
      "Iteration 1451: θ = [-3.60575, 1.1639]; Cost == 4.484629338152313.\n",
      "Iteration 1452: θ = [-3.60627, 1.16395]; Cost == 4.484601754614484.\n",
      "Iteration 1453: θ = [-3.6068, 1.164]; Cost == 4.484574270430969.\n",
      "Iteration 1454: θ = [-3.60732, 1.16405]; Cost == 4.484546885243894.\n",
      "Iteration 1455: θ = [-3.60784, 1.16411]; Cost == 4.484519598696684.\n",
      "Iteration 1456: θ = [-3.60836, 1.16416]; Cost == 4.484492410434043.\n",
      "Iteration 1457: θ = [-3.60887, 1.16421]; Cost == 4.484465320101954.\n",
      "Iteration 1458: θ = [-3.60939, 1.16426]; Cost == 4.484438327347678.\n",
      "Iteration 1459: θ = [-3.60991, 1.16431]; Cost == 4.484411431819744.\n",
      "Iteration 1460: θ = [-3.61042, 1.16437]; Cost == 4.484384633167951.\n",
      "Iteration 1461: θ = [-3.61094, 1.16442]; Cost == 4.4843579310433554.\n",
      "Iteration 1462: θ = [-3.61145, 1.16447]; Cost == 4.484331325098271.\n",
      "Iteration 1463: θ = [-3.61196, 1.16452]; Cost == 4.484304814986266.\n",
      "Iteration 1464: θ = [-3.61248, 1.16457]; Cost == 4.484278400362154.\n",
      "Iteration 1465: θ = [-3.61299, 1.16462]; Cost == 4.484252080881994.\n",
      "Iteration 1466: θ = [-3.6135, 1.16468]; Cost == 4.484225856203081.\n",
      "Iteration 1467: θ = [-3.614, 1.16473]; Cost == 4.4841997259839514.\n",
      "Iteration 1468: θ = [-3.61451, 1.16478]; Cost == 4.4841736898843605.\n",
      "Iteration 1469: θ = [-3.61502, 1.16483]; Cost == 4.484147747565299.\n",
      "Iteration 1470: θ = [-3.61553, 1.16488]; Cost == 4.484121898688972.\n",
      "Iteration 1471: θ = [-3.61603, 1.16493]; Cost == 4.484096142918807.\n",
      "Iteration 1472: θ = [-3.61653, 1.16498]; Cost == 4.484070479919441.\n",
      "Iteration 1473: θ = [-3.61704, 1.16503]; Cost == 4.484044909356716.\n",
      "Iteration 1474: θ = [-3.61754, 1.16508]; Cost == 4.484019430897683.\n",
      "Iteration 1475: θ = [-3.61804, 1.16513]; Cost == 4.483994044210589.\n",
      "Iteration 1476: θ = [-3.61854, 1.16518]; Cost == 4.483968748964877.\n",
      "Iteration 1477: θ = [-3.61904, 1.16523]; Cost == 4.483943544831179.\n",
      "Iteration 1478: θ = [-3.61954, 1.16528]; Cost == 4.483918431481317.\n",
      "Iteration 1479: θ = [-3.62004, 1.16533]; Cost == 4.483893408588292.\n",
      "Iteration 1480: θ = [-3.62054, 1.16538]; Cost == 4.483868475826284.\n",
      "Iteration 1481: θ = [-3.62103, 1.16543]; Cost == 4.483843632870646.\n",
      "Iteration 1482: θ = [-3.62153, 1.16548]; Cost == 4.483818879397901.\n",
      "Iteration 1483: θ = [-3.62202, 1.16553]; Cost == 4.483794215085735.\n",
      "Iteration 1484: θ = [-3.62252, 1.16558]; Cost == 4.483769639612999.\n",
      "Iteration 1485: θ = [-3.62301, 1.16563]; Cost == 4.483745152659696.\n",
      "Iteration 1486: θ = [-3.6235, 1.16568]; Cost == 4.483720753906987.\n",
      "Iteration 1487: θ = [-3.62399, 1.16573]; Cost == 4.483696443037179.\n",
      "Iteration 1488: θ = [-3.62448, 1.16578]; Cost == 4.483672219733718.\n",
      "Iteration 1489: θ = [-3.62497, 1.16583]; Cost == 4.483648083681199.\n",
      "Iteration 1490: θ = [-3.62546, 1.16588]; Cost == 4.483624034565349.\n",
      "Iteration 1491: θ = [-3.62595, 1.16593]; Cost == 4.483600072073026.\n",
      "Iteration 1492: θ = [-3.62643, 1.16597]; Cost == 4.4835761958922165.\n",
      "Iteration 1493: θ = [-3.62692, 1.16602]; Cost == 4.483552405712033.\n",
      "Iteration 1494: θ = [-3.6274, 1.16607]; Cost == 4.483528701222708.\n",
      "Iteration 1495: θ = [-3.62789, 1.16612]; Cost == 4.483505082115583.\n",
      "Iteration 1496: θ = [-3.62837, 1.16617]; Cost == 4.48348154808312.\n",
      "Iteration 1497: θ = [-3.62885, 1.16622]; Cost == 4.483458098818883.\n",
      "Iteration 1498: θ = [-3.62933, 1.16627]; Cost == 4.483434734017543.\n",
      "Iteration 1499: θ = [-3.62981, 1.16631]; Cost == 4.4834114533748695.\n",
      "Iteration 1500: θ = [-3.63029, 1.16636]; Cost == 4.483388256587726.\n",
      "θ = [-3.63029, 1.16636]\n"
     ]
    }
   ],
   "source": [
    "α = 0.01\n",
    "θ = [0, 0]\n",
    "iterations = 1500\n",
    "θ = run_gradient_descent(X, y, θ, α, iterations)\n",
    "\n",
    "@show θ; # Expected θ ≈ [-3.6303, 1.1664]"
   ]
  },
  {
   "cell_type": "markdown",
   "metadata": {
    "slideshow": {
     "slide_type": "subslide"
    }
   },
   "source": [
    "Ending this section, a new v0.7 feature that I find interesting and further simplify representation for data science."
   ]
  },
  {
   "cell_type": "code",
   "execution_count": 80,
   "metadata": {
    "slideshow": {
     "slide_type": "fragment"
    }
   },
   "outputs": [
    {
     "ename": "LoadError",
     "evalue": "\u001b[91msyntax: \"(x₁,y₁)\" is not a valid function argument name\u001b[39m",
     "output_type": "error",
     "traceback": [
      "\u001b[91msyntax: \"(x₁,y₁)\" is not a valid function argument name\u001b[39m",
      "",
      "Stacktrace:",
      " [1] \u001b[1minclude_string\u001b[22m\u001b[22m\u001b[1m(\u001b[22m\u001b[22m::String, ::String\u001b[1m)\u001b[22m\u001b[22m at \u001b[1m./loading.jl:522\u001b[22m\u001b[22m"
     ]
    }
   ],
   "source": [
    "# Coming in v0.7\n",
    "distance((x₁, y₁), (x₂, y₂)) = √((y₂ - y₁)^2 + (x₂, x₁)^2)\n",
    "\n",
    "distance((0, 3), (4, 0)) # will returns 5.0"
   ]
  },
  {
   "cell_type": "code",
   "execution_count": 81,
   "metadata": {
    "slideshow": {
     "slide_type": "fragment"
    }
   },
   "outputs": [
    {
     "data": {
      "text/plain": [
       "Tuple{Int64,Int64,String}"
      ]
     },
     "execution_count": 81,
     "metadata": {},
     "output_type": "execute_result"
    }
   ],
   "source": [
    "typeof((1, 2, \"3\"))"
   ]
  },
  {
   "cell_type": "markdown",
   "metadata": {
    "slideshow": {
     "slide_type": "slide"
    }
   },
   "source": [
    "## Meta-programming"
   ]
  },
  {
   "cell_type": "markdown",
   "metadata": {
    "cell_style": "center",
    "slideshow": {
     "slide_type": "subslide"
    }
   },
   "source": [
    "Like Lisp, we can write macros like functions, which takes in S-expressions as arguments instead."
   ]
  },
  {
   "cell_type": "code",
   "execution_count": 82,
   "metadata": {
    "slideshow": {
     "slide_type": "fragment"
    }
   },
   "outputs": [
    {
     "data": {
      "text/plain": [
       ":(2 + 3 == 4 + 1)"
      ]
     },
     "execution_count": 82,
     "metadata": {},
     "output_type": "execute_result"
    }
   ],
   "source": [
    "expr = :(2 + 3 == 4 + 1)"
   ]
  },
  {
   "cell_type": "code",
   "execution_count": 151,
   "metadata": {
    "slideshow": {
     "slide_type": "fragment"
    }
   },
   "outputs": [
    {
     "name": "stdout",
     "output_type": "stream",
     "text": [
      "typeof(expr) = Expr\n",
      "expr.head = :call\n",
      "expr.args = Any[:(==), :(2 + 3), :(4 + 1)]\n"
     ]
    }
   ],
   "source": [
    "@show typeof(expr) expr.head expr.args;"
   ]
  },
  {
   "cell_type": "markdown",
   "metadata": {
    "slideshow": {
     "slide_type": "subslide"
    }
   },
   "source": [
    "The syntax for creating our own macro is straightforward."
   ]
  },
  {
   "cell_type": "code",
   "execution_count": 152,
   "metadata": {
    "slideshow": {
     "slide_type": "fragment"
    }
   },
   "outputs": [
    {
     "data": {
      "text/plain": [
       "@myassert (macro with 1 method)"
      ]
     },
     "execution_count": 152,
     "metadata": {},
     "output_type": "execute_result"
    }
   ],
   "source": [
    "macro myassert(expr)\n",
    "    if typeof(expr) == Expr && expr.head == :call && expr.args[1] == :(==)\n",
    "        return :(println(\"$(expr) is $($(expr))\"))\n",
    "    else\n",
    "        return :(println(\"mai la\"))\n",
    "    end\n",
    "end"
   ]
  },
  {
   "cell_type": "code",
   "execution_count": 153,
   "metadata": {
    "slideshow": {
     "slide_type": "fragment"
    }
   },
   "outputs": [
    {
     "name": "stdout",
     "output_type": "stream",
     "text": [
      "2 + 3 == 4 + 1 is true\n"
     ]
    }
   ],
   "source": [
    "@myassert 2 + 3 == 1 + 4"
   ]
  },
  {
   "cell_type": "code",
   "execution_count": 154,
   "metadata": {
    "slideshow": {
     "slide_type": "fragment"
    }
   },
   "outputs": [
    {
     "name": "stdout",
     "output_type": "stream",
     "text": [
      "mai la\n"
     ]
    }
   ],
   "source": [
    "@myassert \"I luv prata\""
   ]
  },
  {
   "cell_type": "code",
   "execution_count": 155,
   "metadata": {
    "slideshow": {
     "slide_type": "fragment"
    }
   },
   "outputs": [
    {
     "name": "stdout",
     "output_type": "stream",
     "text": [
      "mai la\n"
     ]
    }
   ],
   "source": [
    "@myassert 4 < 5"
   ]
  },
  {
   "cell_type": "markdown",
   "metadata": {
    "slideshow": {
     "slide_type": "slide"
    }
   },
   "source": [
    "## Straightforward concurrency and parallelism"
   ]
  },
  {
   "cell_type": "markdown",
   "metadata": {
    "slideshow": {
     "slide_type": "subslide"
    }
   },
   "source": [
    "What's better to show existence of concurrency than sleep sort?"
   ]
  },
  {
   "cell_type": "code",
   "execution_count": 89,
   "metadata": {
    "collapsed": true,
    "slideshow": {
     "slide_type": "fragment"
    }
   },
   "outputs": [],
   "source": [
    "array = [2, 4, 3, 2, 3, 1, 1, 4];"
   ]
  },
  {
   "cell_type": "code",
   "execution_count": 90,
   "metadata": {
    "slideshow": {
     "slide_type": "fragment"
    }
   },
   "outputs": [
    {
     "data": {
      "text/plain": [
       "8-element Array{Int64,1}:\n",
       " 1\n",
       " 1\n",
       " 2\n",
       " 2\n",
       " 3\n",
       " 3\n",
       " 4\n",
       " 4"
      ]
     },
     "execution_count": 90,
     "metadata": {},
     "output_type": "execute_result"
    }
   ],
   "source": [
    "c = Channel{Int}(0)\n",
    "\n",
    "for value in array\n",
    "    @schedule (sleep(value * 0.1); put!(c, value))\n",
    "end\n",
    "\n",
    "[take!(c) for _ in array]"
   ]
  },
  {
   "cell_type": "markdown",
   "metadata": {
    "slideshow": {
     "slide_type": "subslide"
    }
   },
   "source": [
    "Also for the bigger parallelizable problems there is true parallelization."
   ]
  },
  {
   "cell_type": "code",
   "execution_count": 91,
   "metadata": {
    "slideshow": {
     "slide_type": "fragment"
    }
   },
   "outputs": [
    {
     "name": "stdout",
     "output_type": "stream",
     "text": [
      "nprocs() = 1\n",
      "nworkers() = 1\n",
      "nprocs() = 4\n",
      "nworkers() = 3\n"
     ]
    }
   ],
   "source": [
    "@show nprocs() nworkers();\n",
    "addprocs(3)\n",
    "@show nprocs() nworkers();"
   ]
  },
  {
   "cell_type": "code",
   "execution_count": 92,
   "metadata": {
    "collapsed": true,
    "scrolled": true,
    "slideshow": {
     "slide_type": "fragment"
    }
   },
   "outputs": [],
   "source": [
    "@everywhere using Primes"
   ]
  },
  {
   "cell_type": "code",
   "execution_count": 93,
   "metadata": {
    "scrolled": true,
    "slideshow": {
     "slide_type": "fragment"
    }
   },
   "outputs": [
    {
     "name": "stdout",
     "output_type": "stream",
     "text": [
      "  4.087993 seconds (5.92 M allocations: 90.339 MiB, 0.19% gc time)\n"
     ]
    },
    {
     "data": {
      "text/plain": [
       "38645211"
      ]
     },
     "execution_count": 93,
     "metadata": {},
     "output_type": "execute_result"
    }
   ],
   "source": [
    "sum(prime(i) for i in 1:3000)\n",
    "@time sum(prime(i) for i in 1:3000)"
   ]
  },
  {
   "cell_type": "code",
   "execution_count": 94,
   "metadata": {
    "slideshow": {
     "slide_type": "-"
    }
   },
   "outputs": [
    {
     "name": "stdout",
     "output_type": "stream",
     "text": [
      "  2.479221 seconds (3.17 k allocations: 185.472 KiB)\n"
     ]
    },
    {
     "data": {
      "text/plain": [
       "38645211"
      ]
     },
     "execution_count": 94,
     "metadata": {},
     "output_type": "execute_result"
    }
   ],
   "source": [
    "@parallel (+) for i in 1:3000\n",
    "    prime(i)\n",
    "end\n",
    "\n",
    "@time @parallel (+) for i in 1:3000\n",
    "    prime(i)\n",
    "end"
   ]
  },
  {
   "cell_type": "markdown",
   "metadata": {
    "slideshow": {
     "slide_type": "slide"
    }
   },
   "source": [
    "## Demo"
   ]
  },
  {
   "cell_type": "markdown",
   "metadata": {
    "slideshow": {
     "slide_type": "subslide"
    }
   },
   "source": [
    "Did this little program one afternoon by the pool brogramming with wife =P\n",
    "\n",
    "It converts between various bitstrings of various bitsizes as fast as possible for crypto use. To achieve that, I can either write many simple almost-repetitive functions (if I have $n$ bitsizes, I will write $O(n^2)$ functions), or make use of reflection to reduce code.\n",
    "\n",
    "Compile languages aims to be slim and seldom have the reflection required to write this tersely. Dynamic languages tend to lack type consciousness to generate efficient code from the reflection done. I first wrote it in C++ years ago and it was madness.\n",
    "\n",
    "Let's see how Julia deals with the struggles."
   ]
  },
  {
   "cell_type": "code",
   "execution_count": 95,
   "metadata": {
    "slideshow": {
     "slide_type": "subslide"
    }
   },
   "outputs": [
    {
     "data": {
      "text/plain": [
       "Union{UInt16, UInt32, UInt64, UInt8}"
      ]
     },
     "execution_count": 95,
     "metadata": {},
     "output_type": "execute_result"
    }
   ],
   "source": [
    "Word = Union{UInt8, UInt16, UInt32, UInt64}"
   ]
  },
  {
   "cell_type": "markdown",
   "metadata": {
    "slideshow": {
     "slide_type": "fragment"
    }
   },
   "source": [
    "I want an easy way to read in a word(which is a hexadecimal strings). It will be nice if I can do something as simple as\n",
    "\n",
    "```\n",
    "value = 0x0123456789abcdef0011223344556677  # cannot read in directly if system is not 128-bit\n",
    "```\n",
    "\n",
    "compared to the natural way to read\n",
    "\n",
    "```\n",
    "value = [0x01, 0x23, 0x45, 0x67, 0x89, 0xab, 0xcd, 0xef, 0x00, 0x11, 0x22, 0x33, 0x44, 0x55, 0x66, 0x77]\n",
    "```\n",
    "\n",
    "so that the crypto test vectors (usually 256-bit, 512-bit, or even longer) can be easily read in code."
   ]
  },
  {
   "cell_type": "code",
   "execution_count": 156,
   "metadata": {
    "scrolled": false,
    "slideshow": {
     "slide_type": "fragment"
    }
   },
   "outputs": [
    {
     "data": {
      "text/plain": [
       "16-element Array{UInt8,1}:\n",
       " 0x01\n",
       " 0x23\n",
       " 0x45\n",
       " 0x67\n",
       " 0x89\n",
       " 0xab\n",
       " 0xcd\n",
       " 0xef\n",
       " 0x00\n",
       " 0x11\n",
       " 0x22\n",
       " 0x33\n",
       " 0x44\n",
       " 0x55\n",
       " 0x66\n",
       " 0x77"
      ]
     },
     "execution_count": 156,
     "metadata": {},
     "output_type": "execute_result"
    }
   ],
   "source": [
    "hex2bytes(\"0123456789abcdef0011223344556677\")"
   ]
  },
  {
   "cell_type": "code",
   "execution_count": 96,
   "metadata": {
    "slideshow": {
     "slide_type": "fragment"
    }
   },
   "outputs": [
    {
     "data": {
      "text/plain": [
       "@x_str (macro with 1 method)"
      ]
     },
     "execution_count": 96,
     "metadata": {},
     "output_type": "execute_result"
    }
   ],
   "source": [
    "macro x_str(str)\n",
    "    return hex2bytes(str)\n",
    "end"
   ]
  },
  {
   "cell_type": "code",
   "execution_count": 160,
   "metadata": {
    "scrolled": true,
    "slideshow": {
     "slide_type": "fragment"
    }
   },
   "outputs": [
    {
     "data": {
      "text/plain": [
       "16-element Array{UInt8,1}:\n",
       " 0x01\n",
       " 0x23\n",
       " 0x45\n",
       " 0x67\n",
       " 0x89\n",
       " 0xab\n",
       " 0xcd\n",
       " 0xef\n",
       " 0x00\n",
       " 0x11\n",
       " 0x22\n",
       " 0x33\n",
       " 0x44\n",
       " 0x55\n",
       " 0x66\n",
       " 0x77"
      ]
     },
     "execution_count": 160,
     "metadata": {},
     "output_type": "execute_result"
    }
   ],
   "source": [
    "# Example\n",
    "value = x\"0123456789abcdef0011223344556677\""
   ]
  },
  {
   "cell_type": "code",
   "execution_count": 98,
   "metadata": {
    "slideshow": {
     "slide_type": "fragment"
    }
   },
   "outputs": [
    {
     "data": {
      "text/plain": [
       "mask (generic function with 4 methods)"
      ]
     },
     "execution_count": 98,
     "metadata": {},
     "output_type": "execute_result"
    }
   ],
   "source": [
    "num_bytes(::Type{UInt8}) = 1\n",
    "num_bytes(::Type{UInt16}) = 2\n",
    "num_bytes(::Type{UInt32}) = 4\n",
    "num_bytes(::Type{UInt64}) = 8\n",
    "\n",
    "num_bits(::Type{UInt8}) = 8\n",
    "num_bits(::Type{UInt16}) = 16\n",
    "num_bits(::Type{UInt32}) = 32\n",
    "num_bits(::Type{UInt64}) = 64\n",
    "\n",
    "mask(::Type{UInt8}) = 0xff\n",
    "mask(::Type{UInt16}) = 0xffff\n",
    "mask(::Type{UInt32}) = 0xffffffff\n",
    "mask(::Type{UInt64}) = 0xffffffffffffffff"
   ]
  },
  {
   "cell_type": "code",
   "execution_count": 99,
   "metadata": {
    "slideshow": {
     "slide_type": "fragment"
    }
   },
   "outputs": [
    {
     "data": {
      "text/plain": [
       "unpack (generic function with 1 method)"
      ]
     },
     "execution_count": 99,
     "metadata": {},
     "output_type": "execute_result"
    }
   ],
   "source": [
    "@generated function Base.convert(::Type{Vector{T1}}, v::Vector{T2}) where T1 <: Word where T2 <: Word\n",
    "    if num_bytes(T1) > num_bytes(T2)\n",
    "        return :(pack(Vector{T1}, v))\n",
    "    elseif num_bytes(T1) < num_bytes(T2)\n",
    "        return :(unpack(Vector{T1}, v))\n",
    "    else\n",
    "        return :(v)\n",
    "    end\n",
    "end\n",
    "\n",
    "\n",
    "function pack(::Type{Vector{T1}}, v::Vector{T2}) where T1 <: Word where T2 <: Word\n",
    "    width_result = num_bytes(T1) ÷ num_bytes(T2)\n",
    "    length_result = length(v) ÷ width_result\n",
    "\n",
    "    result = zeros(T1, length_result)\n",
    "\n",
    "    k = 1\n",
    "    for i in 1:length_result\n",
    "        value = zero(T1)\n",
    "        for j in 1:width_result\n",
    "            value <<= num_bits(T2)\n",
    "            value |= v[k]\n",
    "            k += 1\n",
    "        end\n",
    "        result[i] = value\n",
    "    end\n",
    "\n",
    "    return result\n",
    "end\n",
    "\n",
    "function unpack(::Type{Vector{T1}}, v::Vector{T2}) where T1 <: Word where T2 <: Word\n",
    "    width_source = num_bytes(T2) ÷ num_bytes(T1)\n",
    "    length_result = length(v) * width_source\n",
    "\n",
    "    result = zeros(T1, length_result)\n",
    "\n",
    "    i = length_result\n",
    "    k = length(v)\n",
    "    while i > 0\n",
    "        value = v[k]\n",
    "        for j in 1:width_source\n",
    "            result[i] = value & mask(T1)\n",
    "            value >>= num_bits(T1)\n",
    "            i -= 1\n",
    "        end\n",
    "        k -= 1\n",
    "    end\n",
    "\n",
    "    return result\n",
    "end"
   ]
  },
  {
   "cell_type": "code",
   "execution_count": 161,
   "metadata": {
    "scrolled": true,
    "slideshow": {
     "slide_type": "fragment"
    }
   },
   "outputs": [
    {
     "data": {
      "text/plain": [
       "4-element Array{UInt32,1}:\n",
       " 0x01234567\n",
       " 0x89abcdef\n",
       " 0x00112233\n",
       " 0x44556677"
      ]
     },
     "execution_count": 161,
     "metadata": {},
     "output_type": "execute_result"
    }
   ],
   "source": [
    "s = convert(Vector{UInt32}, x\"0123456789abcdef0011223344556677\")"
   ]
  },
  {
   "cell_type": "code",
   "execution_count": 162,
   "metadata": {
    "slideshow": {
     "slide_type": "fragment"
    }
   },
   "outputs": [
    {
     "data": {
      "text/plain": [
       "16-element Array{UInt8,1}:\n",
       " 0x01\n",
       " 0x23\n",
       " 0x45\n",
       " 0x67\n",
       " 0x89\n",
       " 0xab\n",
       " 0xcd\n",
       " 0xef\n",
       " 0x00\n",
       " 0x11\n",
       " 0x22\n",
       " 0x33\n",
       " 0x44\n",
       " 0x55\n",
       " 0x66\n",
       " 0x77"
      ]
     },
     "execution_count": 162,
     "metadata": {},
     "output_type": "execute_result"
    }
   ],
   "source": [
    "convert(Vector{UInt8}, s)"
   ]
  },
  {
   "cell_type": "code",
   "execution_count": 163,
   "metadata": {
    "slideshow": {
     "slide_type": "fragment"
    }
   },
   "outputs": [
    {
     "name": "stdout",
     "output_type": "stream",
     "text": [
      "\n",
      "define i8** @julia_convert_66537(i8**, i8** dereferenceable(40)) #0 !dbg !5 {\n",
      "top:\n",
      "  ret i8** %1\n",
      "}\n"
     ]
    }
   ],
   "source": [
    "@code_llvm convert(Vector{UInt8}, x\"0123456789abcdef\")"
   ]
  },
  {
   "cell_type": "code",
   "execution_count": 164,
   "metadata": {
    "slideshow": {
     "slide_type": "-"
    }
   },
   "outputs": [
    {
     "name": "stdout",
     "output_type": "stream",
     "text": [
      "\n",
      "define i8** @julia_convert_65847(i8**, i8** dereferenceable(40)) #0 !dbg !5 {\n",
      "top:\n",
      "  %2 = call i8** @julia_pack_65848(i8** inttoptr (i64 4491752688 to i8**), i8** nonnull %1)\n",
      "  ret i8** %2\n",
      "}\n"
     ]
    }
   ],
   "source": [
    "@code_llvm convert(Vector{UInt32}, x\"0123456789abcdef\")"
   ]
  }
 ],
 "metadata": {
  "celltoolbar": "Slideshow",
  "hide_input": false,
  "kernelspec": {
   "display_name": "Julia 0.6.2",
   "language": "julia",
   "name": "julia-0.6"
  },
  "language_info": {
   "file_extension": ".jl",
   "mimetype": "application/julia",
   "name": "julia",
   "version": "0.6.2"
  },
  "livereveal": {
   "auto_select": "code",
   "auto_select_fragment": true,
   "autolaunch": false,
   "scroll": true,
   "transition": "zoom"
  },
  "toc": {
   "nav_menu": {},
   "number_sections": true,
   "sideBar": true,
   "skip_h1_title": false,
   "title_cell": "Table of Contents",
   "title_sidebar": "Contents",
   "toc_cell": false,
   "toc_position": {},
   "toc_section_display": true,
   "toc_window_display": false
  }
 },
 "nbformat": 4,
 "nbformat_minor": 2
}
